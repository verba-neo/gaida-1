{
 "cells": [
  {
   "cell_type": "markdown",
   "id": "fd534c20",
   "metadata": {},
   "source": [
    "# 2d list"
   ]
  },
  {
   "cell_type": "code",
   "execution_count": null,
   "id": "a340444c",
   "metadata": {},
   "outputs": [],
   "source": [
    "N, M = 5, 3\n",
    "\n",
    "# 5 * 5 판에서 2 * 2 부분사각형의 요소 총합 최대값을 구하시오. (49 가 나와야함)\n",
    "# 무식하게 모두 비교한다.\n",
    "board = [\n",
    "    [1, 3, 3, 6, 7],\n",
    "    [8, 13, 9, 12, 8],\n",
    "    [4, 16, 11, 12, 6],\n",
    "    [2, 4, 1, 23, 2],\n",
    "    [9, 13, 4, 7, 3]\n",
    "]"
   ]
  },
  {
   "cell_type": "code",
   "execution_count": null,
   "id": "691576d2",
   "metadata": {},
   "outputs": [],
   "source": [
    "def sum_flies(r, c):\n",
    "    # 시작 idx 기준으로 M*M 의 총합\n",
    "    total = 0\n",
    "    for i in range(M):\n",
    "        for j in range(M):\n",
    "            total += board[r+i][c+j]\n",
    "    return total"
   ]
  },
  {
   "cell_type": "code",
   "execution_count": 14,
   "id": "55465e09",
   "metadata": {},
   "outputs": [
    {
     "name": "stdout",
     "output_type": "stream",
     "text": [
      "49\n"
     ]
    }
   ],
   "source": [
    "# 파리채의 시작(좌-상)index 만 골라줌\n",
    "maximum = 0\n",
    "for row in range(N-M+1):\n",
    "    for col in range(N-M+1):\n",
    "        total = sum_flies(row, col)\n",
    "        if maximum < total:\n",
    "            maximum = total\n",
    "print(maximum)\n",
    "        "
   ]
  }
 ],
 "metadata": {
  "kernelspec": {
   "display_name": "Python 3",
   "language": "python",
   "name": "python3"
  },
  "language_info": {
   "codemirror_mode": {
    "name": "ipython",
    "version": 3
   },
   "file_extension": ".py",
   "mimetype": "text/x-python",
   "name": "python",
   "nbconvert_exporter": "python",
   "pygments_lexer": "ipython3",
   "version": "3.13.2"
  }
 },
 "nbformat": 4,
 "nbformat_minor": 5
}
