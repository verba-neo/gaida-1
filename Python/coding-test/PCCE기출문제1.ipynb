{
 "cells": [
  {
   "cell_type": "markdown",
   "metadata": {
    "id": "qddk5E8dnmQe"
   },
   "source": [
    "1"
   ]
  },
  {
   "cell_type": "code",
   "execution_count": null,
   "metadata": {
    "id": "Voo0GdVSnPQw"
   },
   "outputs": [],
   "source": [
    "string_msg = 'Spring is beginning'\n",
    "\n",
    "int_val = 3\n",
    "\n",
    "string_val = '3'\n",
    "\n",
    "\n",
    "print(string_msg)\n",
    "print(int_val + 10)\n",
    "print(string_val + \"10\")"
   ]
  },
  {
   "cell_type": "markdown",
   "metadata": {
    "id": "YQxmqsnJnpHr"
   },
   "source": [
    "2"
   ]
  },
  {
   "cell_type": "code",
   "execution_count": null,
   "metadata": {
    "id": "BJOlsIUUnP5q"
   },
   "outputs": [],
   "source": [
    "a = int(input())\n",
    "c = int(input())\n",
    "\n",
    "b_square = c**2 - a**2\n",
    "print(b_square)"
   ]
  },
  {
   "cell_type": "markdown",
   "metadata": {
    "id": "JciJVEnHnrRy"
   },
   "source": [
    "3"
   ]
  },
  {
   "cell_type": "code",
   "execution_count": null,
   "metadata": {
    "id": "g3vY7IQjnra0"
   },
   "outputs": [],
   "source": [
    "year = int(input())\n",
    "age_type = input()\n",
    "\n",
    "if age_type == 'Korea':\n",
    "    answer = 2030 - year + 1\n",
    "\n",
    "elif age_type == \"Year\":\n",
    "    answer = 2030 - year\n",
    "\n",
    "\n",
    "print(answer)"
   ]
  },
  {
   "cell_type": "markdown",
   "metadata": {
    "id": "nUJg0e51nsx7"
   },
   "source": [
    "4"
   ]
  },
  {
   "cell_type": "code",
   "execution_count": null,
   "metadata": {
    "id": "y6wA3wyEnti_"
   },
   "outputs": [],
   "source": [
    "start = int(input())\n",
    "before = int(input())\n",
    "after = int(input())\n",
    "\n",
    "money = start\n",
    "month = 1\n",
    "\n",
    "while money < 70:\n",
    "    money += before\n",
    "    month += 1\n",
    "\n",
    "while money < 100:\n",
    "    money += after\n",
    "    month += 1\n",
    "\n",
    "print(month)"
   ]
  },
  {
   "cell_type": "markdown",
   "metadata": {
    "id": "4a6pFPcuntyw"
   },
   "source": [
    "5"
   ]
  },
  {
   "cell_type": "code",
   "execution_count": null,
   "metadata": {
    "id": "lILqJkZHnuaG"
   },
   "outputs": [],
   "source": [
    "def solution(route):\n",
    "    east = 0\n",
    "    north = 0\n",
    "    for i in route:\n",
    "        if i == \"N\":\n",
    "            north += 1\n",
    "        elif i == \"S\":\n",
    "            north -= 1\n",
    "        elif i == \"E\":\n",
    "            east += 1\n",
    "        elif i == 'W':\n",
    "            east -= 1\n",
    "\n",
    "    return [east, north]"
   ]
  },
  {
   "cell_type": "markdown",
   "metadata": {
    "id": "WRlvARlXnuoE"
   },
   "source": [
    "6"
   ]
  },
  {
   "cell_type": "code",
   "execution_count": null,
   "metadata": {
    "id": "U3IHrshJnvDj"
   },
   "outputs": [],
   "source": [
    "def solution(numbers, our_score, score_list):\n",
    "    answer = []\n",
    "    for i in range(len(numbers)):\n",
    "        if our_score[i] == score_list[numbers[i] - 1]:\n",
    "            answer.append(\"Same\")\n",
    "        else:\n",
    "            answer.append(\"Different\")\n",
    "\n",
    "    return answer"
   ]
  },
  {
   "cell_type": "markdown",
   "metadata": {
    "id": "qEFytR45nvPa"
   },
   "source": [
    "7"
   ]
  },
  {
   "cell_type": "code",
   "execution_count": null,
   "metadata": {
    "id": "Mr3DG3HVnvkx"
   },
   "outputs": [],
   "source": [
    "def func1(humidity, val_set):\n",
    "    if humidity < val_set:\n",
    "        return 3\n",
    "    return 1\n",
    "\n",
    "def func2(humidity):\n",
    "    if humidity >= 50:\n",
    "        return 0\n",
    "    elif humidity >= 40:\n",
    "        return 1\n",
    "    elif humidity >= 30:\n",
    "        return 2\n",
    "    elif humidity >= 20:\n",
    "        return 3\n",
    "    elif humidity >= 10:\n",
    "        return 4\n",
    "    elif humidity >= 0:\n",
    "        return 5\n",
    "\n",
    "\n",
    "def func3(humidity, val_set):\n",
    "    if humidity < val_set:\n",
    "        return 1\n",
    "    return 0\n",
    "\n",
    "\n",
    "def solution(mode_type, humidity, val_set):\n",
    "    answer = 0\n",
    "    if mode_type == \"auto\":\n",
    "        answer = func2(humidity)\n",
    "\n",
    "    elif mode_type == \"target\":\n",
    "        answer = func1(humidity, val_set)\n",
    "\n",
    "    elif mode_type == \"minimum\":\n",
    "        answer = func3(humidity, val_set)\n",
    "\n",
    "    return answer"
   ]
  },
  {
   "cell_type": "markdown",
   "metadata": {
    "id": "eJKHqUT3nv5l"
   },
   "source": [
    "8"
   ]
  },
  {
   "cell_type": "code",
   "execution_count": null,
   "metadata": {
    "id": "TuNLyLaanwOv"
   },
   "outputs": [],
   "source": [
    "def solution(storage, num):\n",
    "    clean_storage = []\n",
    "    clean_num = []\n",
    "    for i in range(len(storage)):\n",
    "        if storage[i] in clean_storage:\n",
    "            pos = clean_storage.index(storage[i])\n",
    "            clean_num[pos] += num[i]\n",
    "        else:\n",
    "            clean_storage.append(storage[i])  # 수정\n",
    "            clean_num.append(num[i])\n",
    "\n",
    "    # 아래 코드에는 틀린 부분이 없습니다.\n",
    "\n",
    "    max_num = max(clean_num)\n",
    "    answer = clean_storage[clean_num.index(max_num)]\n",
    "    return answer"
   ]
  },
  {
   "cell_type": "markdown",
   "metadata": {
    "id": "LmYbH-pinwXz"
   },
   "source": [
    "9"
   ]
  },
  {
   "cell_type": "code",
   "execution_count": null,
   "metadata": {
    "id": "OF3MCMVWnwtE"
   },
   "outputs": [],
   "source": [
    "def solution(board, h, w):\n",
    "    row, col = h, w\n",
    "    N, M = len(board), len(board[0])\n",
    "\n",
    "    dr = [1, -1, 0, 0]\n",
    "    dc = [0, 0, 1, -1]\n",
    "\n",
    "    current = board[row][col]\n",
    "    answer = 0\n",
    "    for idx in range(4):\n",
    "        new_r, new_c = row + dr[idx], col + dc[idx]\n",
    "        if 0 <= new_r < N and 0 <= new_c < M:\n",
    "            if board[new_r][new_c] == current:\n",
    "                answer += 1\n",
    "\n",
    "    return answer"
   ]
  },
  {
   "cell_type": "markdown",
   "metadata": {
    "id": "W6HV6kB_nw0v"
   },
   "source": [
    "10"
   ]
  },
  {
   "cell_type": "code",
   "execution_count": null,
   "metadata": {
    "id": "t-vGFrnenx6T"
   },
   "outputs": [],
   "source": [
    "def get_index(keyword):\n",
    "    if keyword == 'code':\n",
    "        idx = 0\n",
    "    elif keyword == 'date':\n",
    "        idx = 1\n",
    "    elif keyword == 'maximum':\n",
    "        idx = 2\n",
    "    elif keyword == 'remain':\n",
    "        idx = 3\n",
    "    return idx\n",
    "\n",
    "\n",
    "def solution(data, ext, val_ext, sort_by):\n",
    "    # data에서 ext 값이 val_ext보다 작은 데이터만 뽑은 후, sort_by에 해당하는 값을 기준으로 오름차순으로 정렬\n",
    "    answer = []\n",
    "    for row in data:\n",
    "        if row[get_index(ext)] < val_ext:\n",
    "            answer.append(row)\n",
    "    answer.sort(key=lambda row: row[get_index(sort_by)])\n",
    "    return answer\n",
    "\n",
    "\n",
    "def solution(data, ext, val_ext, sort_by):\n",
    "    # filter 함수 쓰기\n",
    "    answer = list(filter(lambda row: val_ext > row[get_index(ext)], data))\n",
    "    answer.sort(key=lambda row: row[get_index(sort_by)])\n",
    "    return answer"
   ]
  }
 ],
 "metadata": {
  "colab": {
   "authorship_tag": "ABX9TyM92UjvDFAM03m2LMzRUjtp",
   "provenance": []
  },
  "kernelspec": {
   "display_name": "Python 3",
   "name": "python3"
  },
  "language_info": {
   "name": "python"
  }
 },
 "nbformat": 4,
 "nbformat_minor": 0
}
