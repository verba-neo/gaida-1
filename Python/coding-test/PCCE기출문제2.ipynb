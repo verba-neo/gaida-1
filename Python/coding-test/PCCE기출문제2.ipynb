{
 "cells": [
  {
   "cell_type": "markdown",
   "metadata": {
    "id": "qddk5E8dnmQe"
   },
   "source": [
    "1"
   ]
  },
  {
   "cell_type": "code",
   "execution_count": null,
   "metadata": {
    "id": "Voo0GdVSnPQw"
   },
   "outputs": [],
   "source": [
    "message = \"Let's go!\"\n",
    "\n",
    "print(\"3\\n2\\n1\")\n",
    "print(message)\n"
   ]
  },
  {
   "cell_type": "markdown",
   "metadata": {
    "id": "YQxmqsnJnpHr"
   },
   "source": [
    "2"
   ]
  },
  {
   "cell_type": "code",
   "execution_count": null,
   "metadata": {
    "id": "BJOlsIUUnP5q"
   },
   "outputs": [],
   "source": [
    "angle1 = int(input())\n",
    "angle2 = int(input())\n",
    "\n",
    "sum_angle = (angle1 + angle2) % 360 ##\n",
    "print(sum_angle)"
   ]
  },
  {
   "cell_type": "markdown",
   "metadata": {
    "id": "JciJVEnHnrRy"
   },
   "source": [
    "3"
   ]
  },
  {
   "cell_type": "code",
   "execution_count": null,
   "metadata": {
    "id": "g3vY7IQjnra0"
   },
   "outputs": [],
   "source": [
    "number = int(input())\n",
    "\n",
    "answer = 0\n",
    "\n",
    "for i in range(len(str(number)) // 2):\n",
    "    answer += number % 100\n",
    "    number //= 100\n",
    "\n",
    "print(answer)"
   ]
  },
  {
   "cell_type": "markdown",
   "metadata": {
    "id": "nUJg0e51nsx7"
   },
   "source": [
    "4"
   ]
  },
  {
   "cell_type": "code",
   "execution_count": null,
   "metadata": {
    "id": "y6wA3wyEnti_"
   },
   "outputs": [],
   "source": [
    "code = input()\n",
    "last_four_words = code[-4:]\n",
    "\n",
    "if last_four_words == '_eye':\n",
    "    print(\"Ophthalmologyc\")\n",
    "elif last_four_words == 'head':\n",
    "    print(\"Neurosurgery\")\n",
    "elif last_four_words == 'infl':\n",
    "    print(\"Orthopedics\")\n",
    "elif last_four_words == 'skin':\n",
    "    print(\"Dermatology\")\n",
    "else:\n",
    "    print(\"direct recommendation\")"
   ]
  },
  {
   "cell_type": "markdown",
   "metadata": {
    "id": "4a6pFPcuntyw"
   },
   "source": [
    "5"
   ]
  },
  {
   "cell_type": "code",
   "execution_count": null,
   "metadata": {
    "id": "lILqJkZHnuaG"
   },
   "outputs": [],
   "source": [
    "def solution(cpr):\n",
    "    answer = []\n",
    "    basic_order = [\"check\", \"call\", \"pressure\", \"respiration\", \"repeat\"]\n",
    "    for action in cpr:\n",
    "        for i in range(len(basic_order)):\n",
    "            if action == basic_order[i]:\n",
    "                answer.append(i+1)\n",
    "    return answer"
   ]
  },
  {
   "cell_type": "markdown",
   "metadata": {
    "id": "WRlvARlXnuoE"
   },
   "source": [
    "6"
   ]
  },
  {
   "cell_type": "code",
   "execution_count": null,
   "metadata": {
    "id": "U3IHrshJnvDj"
   },
   "outputs": [],
   "source": [
    "def solution(storage, usage, change):\n",
    "    total_usage = 0\n",
    "    for i in range(len(change)):\n",
    "        usage += usage * change[i]/100\n",
    "        total_usage += usage\n",
    "        if total_usage > storage:\n",
    "            return i\n",
    "\n",
    "    return -1"
   ]
  },
  {
   "cell_type": "markdown",
   "metadata": {
    "id": "qEFytR45nvPa"
   },
   "source": [
    "7"
   ]
  },
  {
   "cell_type": "code",
   "execution_count": null,
   "metadata": {
    "id": "Mr3DG3HVnvkx"
   },
   "outputs": [],
   "source": [
    "def solution(storage, usage, change):\n",
    "    total_usage = 0\n",
    "    for i in range(len(change)):\n",
    "        usage += usage * change[i]/100\n",
    "        total_usage += usage\n",
    "        if total_usage > storage:\n",
    "            return i\n",
    "\n",
    "    return -1"
   ]
  },
  {
   "cell_type": "markdown",
   "metadata": {
    "id": "eJKHqUT3nv5l"
   },
   "source": [
    "8"
   ]
  },
  {
   "cell_type": "code",
   "execution_count": null,
   "metadata": {
    "id": "TuNLyLaanwOv"
   },
   "outputs": [],
   "source": [
    "def solution(nickname):\n",
    "    answer = \"\"\n",
    "    for letter in nickname:\n",
    "        if letter == \"l\":\n",
    "            answer += \"I\"\n",
    "        elif letter == \"w\":\n",
    "            answer += \"vv\"\n",
    "        elif letter == \"W\":\n",
    "            answer += \"VV\"\n",
    "        elif letter == \"O\":\n",
    "            answer += \"0\"\n",
    "        else:\n",
    "            answer += letter\n",
    "    if len(answer) < 3:\n",
    "        answer += \"o\" * (4 - len(answer))\n",
    "    if len(answer) > 8:\n",
    "        answer = answer[:8]\n",
    "    return answer"
   ]
  },
  {
   "cell_type": "markdown",
   "metadata": {
    "id": "LmYbH-pinwXz"
   },
   "source": [
    "9"
   ]
  },
  {
   "cell_type": "code",
   "execution_count": null,
   "metadata": {
    "id": "OF3MCMVWnwtE"
   },
   "outputs": [],
   "source": [
    "def solution(wallet, bill):\n",
    "    answer = 0\n",
    "\n",
    "    # 지갑의 큰 쪽과 작은 쪽 결정\n",
    "    if wallet[0] > wallet[1]:\n",
    "        wallet_big, wallet_small = wallet[0], wallet[1]\n",
    "    else:\n",
    "        wallet_big, wallet_small = wallet[1], wallet[0]\n",
    "\n",
    "    # 지폐의 큰 쪽과 작은 쪽 결정\n",
    "    if bill[0] > bill[1]:\n",
    "        bill_big, bill_small = bill[0], bill[1]\n",
    "    else:\n",
    "        bill_big, bill_small = bill[1], bill[0]\n",
    "\n",
    "    # 지폐가 더 크면 계속 반복\n",
    "    while wallet_big < bill_big or wallet_small < bill_small:\n",
    "        # 지폐 큰 쪽을 반으로 접고\n",
    "        bill_big //= 2\n",
    "        # 지폐의 큰쪽과 작은쪽 다시 판단\n",
    "        if bill_big < bill_small:\n",
    "            bill_big, bill_small = bill_small, bill_big\n",
    "\n",
    "        answer += 1\n",
    "\n",
    "    return answer"
   ]
  },
  {
   "cell_type": "markdown",
   "metadata": {
    "id": "W6HV6kB_nw0v"
   },
   "source": [
    "10"
   ]
  },
  {
   "cell_type": "code",
   "execution_count": null,
   "metadata": {
    "id": "t-vGFrnenx6T"
   },
   "outputs": [],
   "source": [
    "def solution(mats, park):\n",
    "    answer = 0\n",
    "\n",
    "    N = len(park)\n",
    "    M = len(park[0])\n",
    "\n",
    "    # 모든 칸을 한칸씩 확인\n",
    "    for row in range(N):\n",
    "        for col in range(M):\n",
    "            # 돗자리를 둘 수 있을 경우\n",
    "            if park[row][col] == '-1':\n",
    "\n",
    "                # 큰 사이즈 돗자리부터 시작\n",
    "                for mat in mats:\n",
    "                    ok = True\n",
    "                    # 현재 위치에서 돗자리 크기만큼 가로로 진행\n",
    "                    for i in range(mat):\n",
    "\n",
    "                        if not ok:\n",
    "                            break\n",
    "\n",
    "                        new_row = row + i\n",
    "                        # 현재 위치에서 돗자리 크기만큼 세로로 진행\n",
    "                        for j in range(mat):\n",
    "                            new_col = col + j\n",
    "                            # 진행하며 아무 문제 없을경우\n",
    "                            if 0 <= new_row < N and 0 <= new_col < M and park[new_row][new_col] == '-1':\n",
    "                                # 계속 진행\n",
    "                                continue\n",
    "                            # 안되면 여기서 멈춤\n",
    "                            else:\n",
    "                                ok = False\n",
    "                                break\n",
    "                    # 매트 하나를 다 둘 수 있을 경우 가장 큰 사이즈로 답을 갱신\n",
    "                    if ok and mat > answer:\n",
    "                        answer = mat\n",
    "                        break\n",
    "    if answer == 0:\n",
    "        return -1\n",
    "    \n",
    "    return answer"
   ]
  }
 ],
 "metadata": {
  "colab": {
   "authorship_tag": "ABX9TyO6CB7O8N0uGcxE3OmMeCFY",
   "provenance": []
  },
  "kernelspec": {
   "display_name": "Python 3",
   "name": "python3"
  },
  "language_info": {
   "name": "python"
  }
 },
 "nbformat": 4,
 "nbformat_minor": 0
}
