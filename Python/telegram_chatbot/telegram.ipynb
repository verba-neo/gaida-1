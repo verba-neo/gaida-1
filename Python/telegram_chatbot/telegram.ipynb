{
 "cells": [
  {
   "cell_type": "markdown",
   "id": "946da81a",
   "metadata": {},
   "source": [
    "# `telegram.ipynb`"
   ]
  },
  {
   "cell_type": "code",
   "execution_count": null,
   "id": "b13db105",
   "metadata": {},
   "outputs": [],
   "source": [
    "# Bot 의 주민번호. 이게 있어야 어떤 봇을 컨트롤 하는지 알 수 있다.\n",
    "bot_token = '8094231169:AAGEmcVeMvUSbhpbHmJPT0dgKx7NjstQtQ8'"
   ]
  },
  {
   "cell_type": "code",
   "execution_count": null,
   "id": "e7281ede",
   "metadata": {},
   "outputs": [],
   "source": [
    "# 고정된 URL. 뒤에 붙는 말에따라 다른 요청이 됨\n",
    "URL = f'https://api.telegram.org/bot{bot_token}'"
   ]
  },
  {
   "cell_type": "code",
   "execution_count": null,
   "id": "bcbf6e11",
   "metadata": {},
   "outputs": [],
   "source": [
    "# Bot 에 대한 정보\n",
    "print(URL + '/getMe')"
   ]
  },
  {
   "cell_type": "code",
   "execution_count": null,
   "id": "2247be4b",
   "metadata": {},
   "outputs": [],
   "source": [
    "# Bot의 모든 업데이트\n",
    "print(URL + '/getUpdates')"
   ]
  },
  {
   "cell_type": "code",
   "execution_count": null,
   "id": "d9a7648f",
   "metadata": {},
   "outputs": [],
   "source": [
    "# 답장을 위한 상대방 id\n",
    "my_id = '765946187'\n",
    "# 메세지\n",
    "message = '응애봇'\n",
    "\n",
    "print(URL + '/sendMessage')"
   ]
  },
  {
   "cell_type": "code",
   "execution_count": 67,
   "id": "e61d03ab",
   "metadata": {},
   "outputs": [
    {
     "name": "stdout",
     "output_type": "stream",
     "text": [
      "야 근데 넌 자동답변이 맞냐? 765946187\n"
     ]
    }
   ],
   "source": [
    "# 봇 업데이트 받아서, 마지막 메세지 & 유저 받아오기\n",
    "\n",
    "import requests\n",
    "# /getUpates 로 요청 보내고 -> 응답 JSON 받아서 저장 (실행할때마다 갱신)\n",
    "data = requests.get(URL + '/getUpdates').json()\n",
    "\n",
    "# 데이터 안에 마지막 메세지의 text(내용)을 뽑아라.\n",
    "input_msg = data[\"result\"][-1][\"message\"][\"text\"]\n",
    "# 마지막 메시지의 보낸사람 id 뽑기\n",
    "sender_id = data[\"result\"][-1][\"message\"][\"from\"]['id']\n",
    "\n",
    "print(input_msg, sender_id)"
   ]
  },
  {
   "cell_type": "code",
   "execution_count": 61,
   "id": "dde9dd9b",
   "metadata": {},
   "outputs": [
    {
     "name": "stdout",
     "output_type": "stream",
     "text": [
      "아직은 그런건 몰루\n"
     ]
    }
   ],
   "source": [
    "import random\n",
    "# 메세지가 '로또'면, 로또번호 6개 만들어서 보내기\n",
    "if input_msg in ('로또', 'lotto', '가즈아'):\n",
    "    output_msg = str(random.sample(range(1, 46), 6))\n",
    "elif input_msg == '안녕':\n",
    "    output_msg = '오냐'\n",
    "else:\n",
    "    output_msg = '아직은 그런건 몰루'\n",
    "\n",
    "print(output_msg)"
   ]
  },
  {
   "cell_type": "code",
   "execution_count": null,
   "id": "e5d336d0",
   "metadata": {},
   "outputs": [
    {
     "data": {
      "text/plain": [
       "<Response [400]>"
      ]
     },
     "execution_count": 69,
     "metadata": {},
     "output_type": "execute_result"
    }
   ],
   "source": [
    "# 메세지 만들어서 전송\n",
    "body = {\n",
    "    # 누구한테\n",
    "    'chat_id': sender_id,\n",
    "    # 답변메세지\n",
    "    'text': output_msg, \n",
    "}\n",
    "\n",
    "requests.get(URL + '/sendMessage', body)"
   ]
  },
  {
   "cell_type": "code",
   "execution_count": null,
   "id": "2b6f78ed",
   "metadata": {},
   "outputs": [],
   "source": []
  },
  {
   "cell_type": "code",
   "execution_count": null,
   "id": "2b65b6f7",
   "metadata": {},
   "outputs": [],
   "source": []
  }
 ],
 "metadata": {
  "kernelspec": {
   "display_name": "Python 3",
   "language": "python",
   "name": "python3"
  },
  "language_info": {
   "codemirror_mode": {
    "name": "ipython",
    "version": 3
   },
   "file_extension": ".py",
   "mimetype": "text/x-python",
   "name": "python",
   "nbconvert_exporter": "python",
   "pygments_lexer": "ipython3",
   "version": "3.13.2"
  }
 },
 "nbformat": 4,
 "nbformat_minor": 5
}
