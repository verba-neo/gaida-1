{
 "cells": [
  {
   "cell_type": "markdown",
   "id": "946da81a",
   "metadata": {},
   "source": [
    "# `telegram.ipynb`"
   ]
  },
  {
   "cell_type": "code",
   "execution_count": null,
   "id": "b13db105",
   "metadata": {},
   "outputs": [],
   "source": [
    "# Bot 의 주민번호. 이게 있어야 어떤 봇을 컨트롤 하는지 알 수 있다.\n",
    "bot_token = '8094231169:AAGEmcVeMvUSbhpbHmJPT0dgKx7NjstQtQ8'"
   ]
  },
  {
   "cell_type": "code",
   "execution_count": null,
   "id": "e7281ede",
   "metadata": {},
   "outputs": [],
   "source": [
    "# 고정된 URL. 뒤에 붙는 말에따라 다른 요청이 됨\n",
    "URL = f'https://api.telegram.org/bot{bot_token}'"
   ]
  },
  {
   "cell_type": "code",
   "execution_count": null,
   "id": "bcbf6e11",
   "metadata": {},
   "outputs": [],
   "source": [
    "# Bot 에 대한 정보\n",
    "print(URL + '/getMe')"
   ]
  },
  {
   "cell_type": "code",
   "execution_count": null,
   "id": "2247be4b",
   "metadata": {},
   "outputs": [],
   "source": [
    "# Bot의 모든 업데이트\n",
    "print(URL + '/getUpdates')"
   ]
  },
  {
   "cell_type": "code",
   "execution_count": null,
   "id": "d9a7648f",
   "metadata": {},
   "outputs": [],
   "source": [
    "# 답장을 위한 상대방 id\n",
    "my_id = '765946187'\n",
    "# 메세지\n",
    "message = '응애봇'\n",
    "\n",
    "print(URL + '/sendMessage')"
   ]
  },
  {
   "cell_type": "code",
   "execution_count": null,
   "id": "e61d03ab",
   "metadata": {},
   "outputs": [],
   "source": [
    "import requests\n",
    "# /getUpates 로 요청 보내고 -> 응답 JSON 받아서 저장 (실행할때마다 갱신)\n",
    "data = requests.get(URL + '/getUpdates').json()"
   ]
  },
  {
   "cell_type": "code",
   "execution_count": null,
   "id": "e5d336d0",
   "metadata": {},
   "outputs": [],
   "source": [
    "# 데이터 안에 마지막 메세지의 text(내용)을 뽑아라.\n",
    "last_text = data[\"result\"][-1][\"message\"][\"text\"]\n",
    "# 마지막 메시지의 보낸사람 id 뽑기\n",
    "last_chat_id = data[\"result\"][-1][\"message\"][\"from\"]['id']\n",
    "print(last_text, last_chat_id)"
   ]
  },
  {
   "cell_type": "code",
   "execution_count": null,
   "id": "2b6f78ed",
   "metadata": {},
   "outputs": [],
   "source": [
    "body = {\n",
    "    'chat_id': last_chat_id,\n",
    "    'text': last_text, \n",
    "}\n",
    "\n",
    "requests.get(URL + '/sendMessage', body).json()"
   ]
  },
  {
   "cell_type": "code",
   "execution_count": null,
   "id": "2b65b6f7",
   "metadata": {},
   "outputs": [],
   "source": []
  }
 ],
 "metadata": {
  "kernelspec": {
   "display_name": "Python 3",
   "language": "python",
   "name": "python3"
  },
  "language_info": {
   "codemirror_mode": {
    "name": "ipython",
    "version": 3
   },
   "file_extension": ".py",
   "mimetype": "text/x-python",
   "name": "python",
   "nbconvert_exporter": "python",
   "pygments_lexer": "ipython3",
   "version": "3.13.2"
  }
 },
 "nbformat": 4,
 "nbformat_minor": 5
}
