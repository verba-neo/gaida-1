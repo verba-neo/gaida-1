{
 "cells": [
  {
   "cell_type": "markdown",
   "id": "fe9d7a02",
   "metadata": {},
   "source": [
    "# `lotto.ipynb`"
   ]
  },
  {
   "cell_type": "code",
   "execution_count": null,
   "id": "2b253b70",
   "metadata": {},
   "outputs": [],
   "source": [
    "# URL URI -> 요청을 보낸다. -> 응답"
   ]
  },
  {
   "cell_type": "code",
   "execution_count": null,
   "id": "a55cafbf",
   "metadata": {},
   "outputs": [],
   "source": [
    "import requests\n",
    "URL = 'https://www.dhlottery.co.kr/common.do?method=getLottoNumber&drwNo=1181'\n",
    "res = requests.get(URL)"
   ]
  },
  {
   "cell_type": "code",
   "execution_count": null,
   "id": "f20421d4",
   "metadata": {},
   "outputs": [],
   "source": [
    "data = res.json()\n",
    "data['firstWinamnt']"
   ]
  },
  {
   "cell_type": "code",
   "execution_count": null,
   "id": "e820cf24",
   "metadata": {},
   "outputs": [],
   "source": [
    "import random\n",
    "my_numbers = random.sample(range(1, 46), 6)\n",
    "print(my_numbers)"
   ]
  },
  {
   "cell_type": "code",
   "execution_count": null,
   "id": "fec41ad6",
   "metadata": {},
   "outputs": [],
   "source": [
    "# 1. data 에서 real_numbers 를 뽑느다.\n",
    "real_numbers = [data[f'drwtNo{i}'] for i in range(1, 7)]\n",
    "# 필요하면 real_numbers.sort() 진행\n",
    "bonus = data['bnusNo']\n",
    "print(real_numbers, bonus)"
   ]
  },
  {
   "cell_type": "code",
   "execution_count": null,
   "id": "269eeee5",
   "metadata": {},
   "outputs": [],
   "source": [
    "# 2. real_numbers + 보너스 와 my_numbers 를 비교해서 등수 확인\n",
    "'''\n",
    "1등 6개 같음\n",
    "2등 5개가 같고, 나머지 한개가 보너스번호\n",
    "3등 5개 같음\n",
    "4등 4개 같음\n",
    "5등 3개 같음\n",
    "꽝\n",
    "'''\n",
    "# 맞는 숫자의 개수\n",
    "match_cnt = len(set(real_numbers) & set(my_numbers))\n",
    "if match_cnt == 6:\n",
    "    print(1)\n",
    "elif match_cnt == 5 and bonus in my_numbers:\n",
    "    print(2)\n",
    "elif match_cnt == 5:\n",
    "    print(3)\n",
    "elif match_cnt == 4:\n",
    "    print(4)\n",
    "elif match_cnt == 3:\n",
    "    print(5)\n",
    "else:\n",
    "    print(False)"
   ]
  },
  {
   "cell_type": "code",
   "execution_count": null,
   "id": "00461508",
   "metadata": {},
   "outputs": [],
   "source": [
    "# 3. 등수를 뽑아주는 함수를 만들어 보자.\n",
    "def check_luck(my_numbers, real_numbers, bonus):\n",
    "    match_cnt = len(set(real_numbers) & set(my_numbers))\n",
    "    if match_cnt == 6:\n",
    "        result = 1\n",
    "    elif match_cnt == 5 and bonus in my_numbers:\n",
    "        result = 2\n",
    "    elif match_cnt == 5:\n",
    "        result = 3\n",
    "    elif match_cnt == 4:\n",
    "        result = 4\n",
    "    elif match_cnt == 3:\n",
    "        result = 5\n",
    "    else:\n",
    "        result = False\n",
    "\n",
    "    return result\n",
    "\n",
    "check_luck([1,2,3,4,5,6], [1,2,3,4,5,7], 6)"
   ]
  },
  {
   "cell_type": "code",
   "execution_count": null,
   "id": "f114d33d",
   "metadata": {},
   "outputs": [],
   "source": [
    "# 얼마를 써야 1등이 나오는가\n",
    "\n",
    "cnt = 1\n",
    "real_numbers = [data[f'drwtNo{i}'] for i in range(1, 7)]\n",
    "bonus = data['bnusNo']\n",
    "\n",
    "while True:\n",
    "    cnt += 1\n",
    "    result = check_luck(random.sample(range(1, 46), 6), real_numbers, bonus)\n",
    "    \n",
    "    if result:\n",
    "        print(result)\n",
    "\n",
    "    if result == 1:\n",
    "        break\n",
    "\n",
    "print(cnt * 1000)  # 13,270,013,000  1,593,643,500\n"
   ]
  }
 ],
 "metadata": {
  "kernelspec": {
   "display_name": "Python 3",
   "language": "python",
   "name": "python3"
  },
  "language_info": {
   "codemirror_mode": {
    "name": "ipython",
    "version": 3
   },
   "file_extension": ".py",
   "mimetype": "text/x-python",
   "name": "python",
   "nbconvert_exporter": "python",
   "pygments_lexer": "ipython3",
   "version": "3.13.2"
  }
 },
 "nbformat": 4,
 "nbformat_minor": 5
}
