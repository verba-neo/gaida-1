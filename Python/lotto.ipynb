{
 "cells": [
  {
   "cell_type": "markdown",
   "id": "fe9d7a02",
   "metadata": {},
   "source": [
    "# `lotto.ipynb`"
   ]
  },
  {
   "cell_type": "code",
   "execution_count": 13,
   "id": "2b253b70",
   "metadata": {},
   "outputs": [],
   "source": [
    "# URL URI -> 요청을 보낸다. -> 응답\n",
    "import random\n",
    "my_numbers = random.sample(range(1, 46), 6)"
   ]
  },
  {
   "cell_type": "code",
   "execution_count": null,
   "id": "a55cafbf",
   "metadata": {},
   "outputs": [
    {
     "data": {
      "text/plain": [
       "<Response [200]>"
      ]
     },
     "execution_count": 5,
     "metadata": {},
     "output_type": "execute_result"
    }
   ],
   "source": [
    "import requests\n",
    "URL = 'https://www.dhlottery.co.kr/common.do?method=getLottoNumber&drwNo=1181'\n",
    "res = requests.get(URL)"
   ]
  },
  {
   "cell_type": "code",
   "execution_count": 11,
   "id": "f20421d4",
   "metadata": {},
   "outputs": [],
   "source": [
    "data = res.json()"
   ]
  },
  {
   "cell_type": "code",
   "execution_count": null,
   "id": "e820cf24",
   "metadata": {},
   "outputs": [
    {
     "data": {
      "text/plain": [
       "{'totSellamnt': 113802682000,\n",
       " 'returnValue': 'success',\n",
       " 'drwNoDate': '2025-07-19',\n",
       " 'firstWinamnt': 1593643500,\n",
       " 'drwtNo6': 41,\n",
       " 'drwtNo4': 20,\n",
       " 'firstPrzwnerCo': 17,\n",
       " 'drwtNo5': 33,\n",
       " 'bnusNo': 28,\n",
       " 'firstAccumamnt': 27091939500,\n",
       " 'drwNo': 1181,\n",
       " 'drwtNo2': 10,\n",
       " 'drwtNo3': 14,\n",
       " 'drwtNo1': 8}"
      ]
     },
     "execution_count": 18,
     "metadata": {},
     "output_type": "execute_result"
    }
   ],
   "source": [
    "my_numbers\n",
    "\n",
    "\n",
    "# 1. data 에서 real_numbers 를 뽑느다.\n",
    "real_numbers = [\n",
    "    data['drwtNo1'],\n",
    "    data['drwtNo2'],\n",
    "    data['drwtNo3'],\n",
    "    # 더 좋은 방법없나..?\n",
    "]\n",
    "bonus = data['bnusNo']\n",
    "\n",
    "# 2. real_numbers + 보너스 와 my_numbers 를 비교해서 등수 확인\n",
    "'''\n",
    "1등 6개 같음\n",
    "2등 5개가 같고, 나머지 한개가 보너스번호\n",
    "3등 5개 같음\n",
    "4등 4개 같음\n",
    "5등 3개 같음\n",
    "꽝\n",
    "\n",
    "'''"
   ]
  }
 ],
 "metadata": {
  "kernelspec": {
   "display_name": "Python 3",
   "language": "python",
   "name": "python3"
  },
  "language_info": {
   "codemirror_mode": {
    "name": "ipython",
    "version": 3
   },
   "file_extension": ".py",
   "mimetype": "text/x-python",
   "name": "python",
   "nbconvert_exporter": "python",
   "pygments_lexer": "ipython3",
   "version": "3.13.2"
  }
 },
 "nbformat": 4,
 "nbformat_minor": 5
}
