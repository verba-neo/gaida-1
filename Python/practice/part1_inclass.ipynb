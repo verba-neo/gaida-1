{
 "cells": [
  {
   "cell_type": "markdown",
   "id": "f5169dd8",
   "metadata": {},
   "source": [
    "### 1번 문제\n",
    "사용자로부터 두 개의 숫자를 입력받아 더한 결과를 출력하는 프로그램을 작성하세요."
   ]
  },
  {
   "cell_type": "code",
   "execution_count": 1,
   "id": "548dcc86",
   "metadata": {},
   "outputs": [
    {
     "name": "stdout",
     "output_type": "stream",
     "text": [
      "4\n"
     ]
    }
   ],
   "source": [
    "num1 = int(input())\n",
    "num2 = int(input())\n",
    "\n",
    "result = num1 + num2\n",
    "\n",
    "print(result)"
   ]
  },
  {
   "cell_type": "markdown",
   "id": "6fe6a717",
   "metadata": {},
   "source": [
    "### 2번 문제\n",
    "다음 변수들의 타입을 출력하세요: a = 10, b = 3.14, c = \"hello\", d = True"
   ]
  },
  {
   "cell_type": "code",
   "execution_count": 4,
   "id": "663605e7",
   "metadata": {},
   "outputs": [
    {
     "name": "stdout",
     "output_type": "stream",
     "text": [
      "<class 'int'>\n",
      "<class 'float'>\n",
      "<class 'str'>\n",
      "<class 'bool'>\n",
      "---------\n",
      "<class 'int'>\n",
      "<class 'float'>\n",
      "<class 'str'>\n",
      "<class 'bool'>\n"
     ]
    }
   ],
   "source": [
    "a = 10 # 정수 \n",
    "b = 3.14 # 실수\n",
    "c = \"hello\" # 문자열\n",
    "d = True # 불리언\n",
    "\n",
    "print(type(a))\n",
    "print(type(b))\n",
    "print(type(c))\n",
    "print(type(d))\n",
    "print(\"---------\")\n",
    "for x in [a, b, c, d]:\n",
    "    print(type(x))\n"
   ]
  },
  {
   "cell_type": "markdown",
   "id": "3d54c52e",
   "metadata": {},
   "source": [
    "### 3번 문제\n",
    "두 문자열을 결합하고, 결합된 문자열의 길이를 출력하세요."
   ]
  },
  {
   "cell_type": "code",
   "execution_count": null,
   "id": "b465aa3e",
   "metadata": {},
   "outputs": [
    {
     "ename": "TypeError",
     "evalue": "'str' object does not support item assignment",
     "output_type": "error",
     "traceback": [
      "\u001b[31m---------------------------------------------------------------------------\u001b[39m",
      "\u001b[31mTypeError\u001b[39m                                 Traceback (most recent call last)",
      "\u001b[36mCell\u001b[39m\u001b[36m \u001b[39m\u001b[32mIn[7]\u001b[39m\u001b[32m, line 3\u001b[39m\n\u001b[32m      1\u001b[39m str1 = \u001b[33m\"\u001b[39m\u001b[33mHello\u001b[39m\u001b[33m\"\u001b[39m\n\u001b[32m      2\u001b[39m str2 = \u001b[33m\"\u001b[39m\u001b[33mWorld\u001b[39m\u001b[33m\"\u001b[39m\n\u001b[32m----> \u001b[39m\u001b[32m3\u001b[39m \u001b[43mstr1\u001b[49m\u001b[43m[\u001b[49m\u001b[32;43m0\u001b[39;49m\u001b[43m]\u001b[49m = \u001b[33m\"\u001b[39m\u001b[33mD\u001b[39m\u001b[33m\"\u001b[39m\n\u001b[32m      4\u001b[39m \u001b[38;5;28mprint\u001b[39m(str1[\u001b[32m0\u001b[39m])\n\u001b[32m      6\u001b[39m \u001b[38;5;66;03m# str3 = str1 + str2\u001b[39;00m\n\u001b[32m      7\u001b[39m \u001b[38;5;66;03m# print(len(str3))\u001b[39;00m\n",
      "\u001b[31mTypeError\u001b[39m: 'str' object does not support item assignment"
     ]
    }
   ],
   "source": [
    "str1 = \"Hello\"\n",
    "str2 = \"World\"\n",
    "\n",
    "str3 = str1 + str2\n",
    "print(len(str3))\n",
    "\n",
    "\n"
   ]
  },
  {
   "cell_type": "code",
   "execution_count": 8,
   "id": "fcc8e667",
   "metadata": {},
   "outputs": [
    {
     "name": "stdout",
     "output_type": "stream",
     "text": [
      "39\n"
     ]
    }
   ],
   "source": [
    "str1 = \"Helloasdaqwdsvgdsafgadfhgetsarhsryjhsry\"\n",
    "result = 0\n",
    "for el in str1:\n",
    "    result += 1\n",
    "\n",
    "print(result)\n"
   ]
  },
  {
   "cell_type": "code",
   "execution_count": null,
   "id": "ef553d82",
   "metadata": {},
   "outputs": [
    {
     "name": "stdout",
     "output_type": "stream",
     "text": [
      "1\n"
     ]
    }
   ],
   "source": [
    "lst = [3, 8, 5, 2, 7, 1]\n",
    "\n",
    "if lst == []:\n",
    "    print('비어있음 안됨!')\n",
    "else:\n",
    "\n",
    "    num = min(lst)\n",
    "\n",
    "    print(num)\n",
    "    # 첫번째 숫자랑 비교했을 때 버려지는 숫자.\n",
    "    # 첫번째 숫자랑 비교했을 때 결과가 첫번째가 되는 숫자.\n",
    "    min_num = lst[0]\n",
    "    min_num = float('inf')\n",
    "\n",
    "    for num in lst:\n",
    "        # 외부의 어떤 숫자 vs 나\n",
    "        # min_num vs num\n",
    "\n",
    "        # 작은거를 가지고 갈꺼야ㅣ\n",
    "        if min_num > num:\n",
    "            min_num = num\n",
    "\n"
   ]
  },
  {
   "cell_type": "markdown",
   "id": "46d99a44",
   "metadata": {},
   "source": [
    "### 4번 문제\n",
    "10을 3으로 나눈 몫과 나머지를 각각 구하세요."
   ]
  },
  {
   "cell_type": "code",
   "execution_count": 11,
   "id": "0de1751f",
   "metadata": {},
   "outputs": [
    {
     "name": "stdout",
     "output_type": "stream",
     "text": [
      "몫 :  3\n",
      "나머지 :  1\n"
     ]
    }
   ],
   "source": [
    "a = 10\n",
    "b = 3\n",
    "\n",
    "print(\"몫 : \", a // b)\n",
    "print(\"나머지 : \", a % b)"
   ]
  },
  {
   "cell_type": "markdown",
   "id": "a4e7cdb2",
   "metadata": {},
   "source": [
    "### 5번 문제\n",
    "주어진 숫자가 짝수인지 홀수인지 판별하는 프로그램을 작성하세요."
   ]
  },
  {
   "cell_type": "code",
   "execution_count": null,
   "id": "5e22ad9d",
   "metadata": {},
   "outputs": [],
   "source": [
    "num = int(input(\"숫자를 입력하세요: \"))\n",
    "# 짝수 : 2로 나누었을 때 나머지가 0인 녀석들.\n",
    "# 홀수 : 2로 나누었을 때 나머지가 1인 녀석들.\n",
    "\n",
    "# if num이 짝수야:\n",
    "# if num을 2로 나누었을 때 나머지가 0:\n",
    "if num % 2 == 0:\n",
    "    print('짝수')\n",
    "if num % 2 == 1:\n",
    "# else:\n",
    "    print('홀수')"
   ]
  },
  {
   "cell_type": "markdown",
   "id": "09c0ed1e",
   "metadata": {},
   "source": [
    "### 6번 문제\n",
    "문자열 \"Python Programming\"에서 \"Python\"만 추출하여 출력하세요."
   ]
  },
  {
   "cell_type": "code",
   "execution_count": null,
   "id": "97ef8621",
   "metadata": {},
   "outputs": [
    {
     "name": "stdout",
     "output_type": "stream",
     "text": [
      "Python\n",
      "Python\n"
     ]
    }
   ],
   "source": [
    "text = \"Python Programming\"\n",
    "\n",
    "print(text[:6])\n",
    "print(text.split()[0])\n",
    "\n",
    "time = \"07:30\"\n",
    "hour = time[:2]\n",
    "hour = time.split(\":\")[0]"
   ]
  },
  {
   "cell_type": "markdown",
   "id": "993cd02d",
   "metadata": {},
   "source": [
    "### 7번 문제\n",
    "세 개의 숫자 중 가장 큰 수를 찾는 프로그램을 작성하세요."
   ]
  },
  {
   "cell_type": "code",
   "execution_count": null,
   "id": "ef281b68",
   "metadata": {},
   "outputs": [],
   "source": [
    "a = int(input(\"첫 번째 숫자: \"))\n",
    "b = int(input(\"두 번째 숫자: \"))\n",
    "c = int(input(\"세 번째 숫자: \"))\n"
   ]
  },
  {
   "cell_type": "markdown",
   "id": "92223519",
   "metadata": {},
   "source": [
    "### 8번 문제\n",
    "사용자의 나이를 입력받아 미성년자/성인을 판별하는 프로그램을 작성하세요."
   ]
  },
  {
   "cell_type": "code",
   "execution_count": null,
   "id": "8f868b3a",
   "metadata": {},
   "outputs": [],
   "source": [
    "age = int(input(\"나이를 입력하세요: \"))\n",
    "gijun = 20\n",
    "\n",
    "if age > gijun:\n",
    "    print('성인')\n",
    "if age < gijun:\n",
    "    print(\"미성년자야.\")\n",
    "if age == gijun:\n",
    "    print(\"미성년자\")\n",
    "\n",
    "\n",
    "if age > gijun:\n",
    "    print('성인')\n",
    "else:\n",
    "    print(\"미성년자야.\")"
   ]
  },
  {
   "cell_type": "markdown",
   "id": "be3bbbc0",
   "metadata": {},
   "source": [
    "### 9번 문제\n",
    "문자열을 입력받아 모든 문자를 대문자로 변환하여 출력하세요."
   ]
  },
  {
   "cell_type": "code",
   "execution_count": null,
   "id": "baee4c0e",
   "metadata": {},
   "outputs": [
    {
     "name": "stdout",
     "output_type": "stream",
     "text": [
      "ABCDE\n"
     ]
    }
   ],
   "source": [
    "text = input(\"문자열을 입력하세요: \")\n",
    "print(text.upper())\n",
    "\n"
   ]
  },
  {
   "cell_type": "code",
   "execution_count": null,
   "id": "2d250a99",
   "metadata": {},
   "outputs": [
    {
     "name": "stdout",
     "output_type": "stream",
     "text": [
      "97\n",
      "65\n",
      "98\n",
      "66\n"
     ]
    }
   ],
   "source": [
    "print(ord(\"a\"))\n",
    "print(ord(\"A\"))\n",
    "\n",
    "print(ord(\"b\"))\n",
    "print(ord(\"B\"))\n",
    "\n",
    "# ord() 문자열 -> 아스키코드\n",
    "# chr() 아스키코드 -> 문자열\n",
    "\n",
    "# .upper 직접 구현해보기...?"
   ]
  },
  {
   "cell_type": "markdown",
   "id": "794c984c",
   "metadata": {},
   "source": [
    "print(ord(\"a\"))\n",
    "print(ord(\"A\"))"
   ]
  },
  {
   "cell_type": "markdown",
   "id": "1ca09f2e",
   "metadata": {},
   "source": [
    "### 10번 문제\n",
    "두 숫자의 차이의 절댓값을 구하는 프로그램을 작성하세요."
   ]
  },
  {
   "cell_type": "code",
   "execution_count": null,
   "id": "c38a658e",
   "metadata": {},
   "outputs": [
    {
     "name": "stdout",
     "output_type": "stream",
     "text": [
      "10\n"
     ]
    }
   ],
   "source": [
    "a = 32\n",
    "b = 22\n",
    "\n",
    "print(abs(a-b))\n",
    "\n",
    "diff = a - b\n",
    "\n",
    "if diff >= 0:\n",
    "    pass\n",
    "else:\n",
    "    diff = -diff"
   ]
  }
 ],
 "metadata": {
  "kernelspec": {
   "display_name": "Python 3",
   "language": "python",
   "name": "python3"
  },
  "language_info": {
   "codemirror_mode": {
    "name": "ipython",
    "version": 3
   },
   "file_extension": ".py",
   "mimetype": "text/x-python",
   "name": "python",
   "nbconvert_exporter": "python",
   "pygments_lexer": "ipython3",
   "version": "3.13.2"
  }
 },
 "nbformat": 4,
 "nbformat_minor": 5
}
