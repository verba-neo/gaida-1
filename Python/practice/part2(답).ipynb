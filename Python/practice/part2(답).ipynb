{
 "cells": [
  {
   "cell_type": "markdown",
   "id": "61fa5f2f",
   "metadata": {},
   "source": [
    "### 11번. 1부터 100까지 숫자 중 5의 배수만 리스트에 저장하여 출력하세요.\n",
    "\n",
    "리스트 내포(List Comprehension)를 사용해도 좋습니다.\n",
    "\n",
    "📌 출력 예시:\n",
    "```\n",
    "[5, 10, 15, ..., 100]\n",
    "```"
   ]
  },
  {
   "cell_type": "code",
   "execution_count": null,
   "id": "c3411c0d",
   "metadata": {},
   "outputs": [],
   "source": [
    "multiples_of_5 = [i for i in range(1, 101) if i % 5 == 0]\n",
    "print(multiples_of_5)"
   ]
  },
  {
   "cell_type": "markdown",
   "id": "91ab613e",
   "metadata": {},
   "source": [
    "### 12번. 짝수만 필터링하여 새로운 리스트 만들기\n",
    "\n",
    "다음 리스트에서 짝수만 골라 새로운 리스트로 만드세요:\n",
    "```python\n",
    "nums = [1,2,3,4,5,6,7,8,9,10]\n",
    "```\n",
    "📌 출력 예시:\n",
    "```\n",
    "[2, 4, 6, 8, 10]\n",
    "```"
   ]
  },
  {
   "cell_type": "code",
   "execution_count": null,
   "id": "97dbac20",
   "metadata": {},
   "outputs": [],
   "source": [
    "nums = [1,2,3,4,5,6,7,8,9,10]\n",
    "even_nums = [n for n in nums if n % 2 == 0]\n",
    "print(even_nums)"
   ]
  },
  {
   "cell_type": "markdown",
   "id": "f4750fde",
   "metadata": {},
   "source": [
    "### 13번. 딕셔너리에서 가장 비싼 과일 찾기\n",
    "\n",
    "다음 딕셔너리에서 가격이 가장 높은 과일과 그 가격을 출력하세요:\n",
    "```python\n",
    "fruits = {'apple': 1000, 'banana': 500, 'orange': 800}\n",
    "```"
   ]
  },
  {
   "cell_type": "code",
   "execution_count": null,
   "id": "4440c679",
   "metadata": {},
   "outputs": [],
   "source": [
    "fruits = {'apple': 1000, 'banana': 500, 'orange': 800}\n",
    "max_fruit = max(fruits.items(), key=lambda x: x[1])\n",
    "print(f\"가장 비싼 과일: {max_fruit[0]} ({max_fruit[1]}원)\")"
   ]
  },
  {
   "cell_type": "markdown",
   "id": "f63a58ef",
   "metadata": {},
   "source": [
    "### 14번. 구구단 3단 출력하기\n",
    "\n",
    "for문을 사용하여 구구단 3단을 출력하세요.\n",
    "\n",
    "📌 출력 예시:\n",
    "```\n",
    "3 x 1 = 3\n",
    "3 x 2 = 6\n",
    "...\n",
    "3 x 9 = 27\n",
    "```"
   ]
  },
  {
   "cell_type": "code",
   "execution_count": null,
   "id": "82376bb6",
   "metadata": {},
   "outputs": [],
   "source": [
    "for i in range(1, 10):\n",
    "    print(f\"3 x {i} = {3 * i}\")"
   ]
  },
  {
   "cell_type": "markdown",
   "id": "1a498a46",
   "metadata": {},
   "source": [
    "### 15번. 문자열에서 각 문자 개수 세기\n",
    "\n",
    "사용자로부터 문자열을 입력받아, 각 문자가 몇 번 나오는지 딕셔너리 형태로 출력하세요.\n",
    "\n",
    "📌 예시 입력: `hello`\n",
    "📌 예시 출력: `{'h':1, 'e':1, 'l':2, 'o':1}`"
   ]
  },
  {
   "cell_type": "code",
   "execution_count": null,
   "id": "3f9c2e5b",
   "metadata": {},
   "outputs": [],
   "source": [
    "text = input(\"문자열을 입력하세요: \")\n",
    "count_dict = {}\n",
    "for char in text:\n",
    "    count_dict[char] = count_dict.get(char, 0) + 1\n",
    "print(count_dict)"
   ]
  },
  {
   "cell_type": "markdown",
   "id": "6a3f44e9",
   "metadata": {},
   "source": [
    "### 16번. 리스트 정렬과 최대/최소 값 찾기\n",
    "\n",
    "다음 리스트를 오름차순으로 정렬하고, 가장 큰 값과 가장 작은 값을 출력하세요:\n",
    "```python\n",
    "nums = [3, 1, 4, 1, 5, 9, 2, 6]\n",
    "```"
   ]
  },
  {
   "cell_type": "code",
   "execution_count": null,
   "id": "ecaa5fac",
   "metadata": {},
   "outputs": [],
   "source": [
    "nums = [3, 1, 4, 1, 5, 9, 2, 6]\n",
    "nums.sort()\n",
    "print(\"정렬된 리스트:\", nums)\n",
    "print(\"최솟값:\", nums[0])\n",
    "print(\"최댓값:\", nums[-1])"
   ]
  },
  {
   "cell_type": "markdown",
   "id": "21f6f2d0",
   "metadata": {},
   "source": [
    "### 17번. 회문(Palindrome) 검사\n",
    "\n",
    "입력받은 단어가 앞에서 읽든 뒤에서 읽든 같은 단어인지 확인하는 프로그램을 작성하세요.\n",
    "\n",
    "📌 예시: `level` → 회문 / `hello` → 회문 아님"
   ]
  },
  {
   "cell_type": "code",
   "execution_count": null,
   "id": "5e7b6989",
   "metadata": {},
   "outputs": [],
   "source": [
    "word = input(\"단어를 입력하세요: \")\n",
    "if word == word[::-1]:\n",
    "    print(\"회문입니다.\")\n",
    "else:\n",
    "    print(\"회문이 아닙니다.\")"
   ]
  },
  {
   "cell_type": "markdown",
   "id": "4e83b9ca",
   "metadata": {},
   "source": [
    "### 18번. 집합 연산: 합집합, 교집합, 차집합\n",
    "\n",
    "다음 두 집합의 합집합, 교집합, 차집합을 구하세요:\n",
    "```python\n",
    "A = {1, 2, 3, 4, 5}\n",
    "B = {4, 5, 6, 7, 8}\n",
    "```"
   ]
  },
  {
   "cell_type": "code",
   "execution_count": null,
   "id": "6c1c77ae",
   "metadata": {},
   "outputs": [],
   "source": [
    "A = {1, 2, 3, 4, 5}\n",
    "B = {4, 5, 6, 7, 8}\n",
    "print(\"합집합:\", A | B)\n",
    "print(\"교집합:\", A & B)\n",
    "print(\"차집합:\", A - B)"
   ]
  },
  {
   "cell_type": "markdown",
   "id": "e49db016",
   "metadata": {},
   "source": [
    "### 19번. 1부터 n까지의 합 구하기\n",
    "\n",
    "사용자로부터 정수 n을 입력받아 1부터 n까지의 합을 구하는 프로그램을 작성하세요."
   ]
  },
  {
   "cell_type": "code",
   "execution_count": null,
   "id": "5e772a52",
   "metadata": {},
   "outputs": [],
   "source": [
    "n = int(input(\"정수를 입력하세요: \"))\n",
    "total = sum(range(1, n + 1))\n",
    "print(\"1부터\", n, \"까지의 합:\", total)"
   ]
  },
  {
   "cell_type": "markdown",
   "id": "c8ae9f8e",
   "metadata": {},
   "source": [
    "### 20번. 리스트에서 중복 제거\n",
    "\n",
    "다음 리스트에서 중복된 값을 제거하고 유일한 값만 남긴 리스트를 출력하세요:\n",
    "```python\n",
    "nums = [1, 2, 2, 3, 4, 4, 5]\n",
    "```"
   ]
  },
  {
   "cell_type": "code",
   "execution_count": null,
   "id": "0b9d2135",
   "metadata": {},
   "outputs": [],
   "source": [
    "nums = [1, 2, 2, 3, 4, 4, 5]\n",
    "unique_nums = list(set(nums))\n",
    "print(unique_nums)"
   ]
  }
 ],
 "metadata": {},
 "nbformat": 4,
 "nbformat_minor": 5
}
