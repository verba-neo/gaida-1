{
 "cells": [
  {
   "cell_type": "markdown",
   "id": "61fa5f2f",
   "metadata": {},
   "source": [
    "### 11번. 1부터 50까지 숫자 중 5의 배수만 리스트에 저장하여 출력하세요.\n",
    "\n",
    "리스트 내포(List Comprehension)를 사용해도 좋습니다.\n",
    "\n",
    "📌 출력 예시:\n",
    "```\n",
    "[5, 10, 15, ..., 100]\n",
    "```"
   ]
  },
  {
   "cell_type": "code",
   "execution_count": null,
   "id": "c3411c0d",
   "metadata": {},
   "outputs": [],
   "source": [
    "result = []\n",
    "\n",
    "num = 0\n",
    "# 반복을 합니다.\n",
    "# 5를 더하는 행위를.\n",
    "# 50이 되었을때까지.\n",
    "while True:\n",
    "    num += 5\n",
    "    result.append(num)\n",
    "\n",
    "    if num == 50:\n",
    "        break\n",
    "print(result)"
   ]
  },
  {
   "cell_type": "code",
   "execution_count": null,
   "id": "672e3d38",
   "metadata": {},
   "outputs": [],
   "source": [
    "result = []\n",
    "\n",
    "num = 5\n",
    "# 반복을 합니다.\n",
    "# 5를 더하는 행위를.\n",
    "# 50이 되었을때까지.\n",
    "while True:\n",
    "    result.append(num)\n",
    "    num += 5\n",
    "\n",
    "    if num > 50:\n",
    "        break\n",
    "print(result)\n",
    "\n",
    "\n"
   ]
  },
  {
   "cell_type": "code",
   "execution_count": null,
   "id": "26166643",
   "metadata": {},
   "outputs": [],
   "source": [
    "# 5에다가 1곱함\n",
    "# 5에다가 2곱함\n",
    "# 5에다가 3곱함\n",
    "# 곱한 결과가 50보다 작을때까지.\n",
    "result = []\n",
    "x = 1\n",
    "while True:\n",
    "    # 5 * 1\n",
    "    # 5 * 2\n",
    "    # 5 * 3\n",
    "    num = 5 * x\n",
    "    x += 1\n",
    "\n",
    "    result.append(num)\n",
    "    if num == 50:\n",
    "        break\n",
    "\n",
    "print(result)\n",
    "\n"
   ]
  },
  {
   "cell_type": "code",
   "execution_count": null,
   "id": "82df5817",
   "metadata": {},
   "outputs": [],
   "source": [
    "result = []\n",
    "for num in range(1, 51):\n",
    "    # num이 5의 배수일때만 result에 넣을게.\n",
    "    if num % 5 == 0:\n",
    "        result.append(num)\n",
    "print(result)"
   ]
  },
  {
   "cell_type": "code",
   "execution_count": null,
   "id": "e7e387a1",
   "metadata": {},
   "outputs": [],
   "source": [
    "result = []\n",
    "for num in range(5, 51, 5):\n",
    "    result.append(num)\n",
    "print(result)\n",
    "\n",
    "print([num for num in range(5, 51, 5)])"
   ]
  },
  {
   "cell_type": "markdown",
   "id": "91ab613e",
   "metadata": {},
   "source": [
    "### 12번. 짝수만 필터링하여 새로운 리스트 만들기\n",
    "\n",
    "다음 리스트에서 짝수만 골라 새로운 리스트로 만드세요:\n",
    "```python\n",
    "nums = [1,2,3,4,5,6,7,8,9,10]\n",
    "```\n",
    "📌 출력 예시:\n",
    "```\n",
    "[2, 4, 6, 8, 10]\n",
    "```"
   ]
  },
  {
   "cell_type": "code",
   "execution_count": null,
   "id": "97dbac20",
   "metadata": {},
   "outputs": [],
   "source": [
    "nums = [1,2,3,4,5,6,7,8,9,10]\n",
    "\n",
    "# 하나하나 확인하면서 짝수인 경우에 새로운 리스트에 넣겠어.\n",
    "\n",
    "# 새로운 리스트 만들기\n",
    "result = []\n",
    "\n",
    "# 하나하나 확인하기\n",
    "for num in nums:\n",
    "    # 짝수인지\n",
    "    if num % 2 == 0:\n",
    "        # 맞으면 넣음\n",
    "         result.append(num)\n",
    "\n",
    "print([num for num in nums if num % 2 == 0])\n",
    "print(result)\n"
   ]
  },
  {
   "cell_type": "markdown",
   "id": "f4750fde",
   "metadata": {},
   "source": [
    "### 13번. 딕셔너리에서 가장 비싼 과일 찾기\n",
    "\n",
    "다음 딕셔너리에서 가격이 가장 높은 과일과 그 가격을 출력하세요:\n",
    "```python\n",
    "fruits = {'apple': 1000, 'banana': 500, 'orange': 800}\n",
    "```"
   ]
  },
  {
   "cell_type": "code",
   "execution_count": null,
   "id": "4440c679",
   "metadata": {},
   "outputs": [],
   "source": [
    "fruits = {'apple': 1000, 'banana': 500, 'orange': 800}\n",
    "\n",
    "max_price = float('-inf')\n",
    "max_price = 0\n",
    "max_price_fruit = \"\"\n",
    "\n",
    "for fruit, price in fruits.items():\n",
    "\n",
    "    # 이 조건문을 통과하는 순간 : 최고가가 경신되었을 때.\n",
    "    if max_price < price:\n",
    "        max_price = price\n",
    "        max_price_fruit = fruit\n",
    "print(max_price, max_price_fruit)"
   ]
  },
  {
   "cell_type": "code",
   "execution_count": null,
   "id": "c661db71",
   "metadata": {},
   "outputs": [],
   "source": [
    "fruits = {'apple': 1000, 'banana': 500, 'orange': 800, 'lemon' : 1000}\n",
    "\n",
    "# 둘 중 하나 택 1\n",
    "# 코드는 아래거로 실행됨.\n",
    "max_price = float('-inf')\n",
    "max_price = 0\n",
    "\n",
    "max_price_fruit = []\n",
    "\n",
    "for fruit, price in fruits.items():\n",
    "\n",
    "    # 이 조건문을 통과하는 순간 : 최고가가 경신되었을 때.\n",
    "    if max_price < price:\n",
    "        max_price = price\n",
    "        max_price_fruit = [fruit]\n",
    "    # 최고가가 한번 더 나왔을 때 : 이미 max_price_fruit이라는 곳에 과일이 들어있음.\n",
    "    elif max_price == price:\n",
    "        max_price_fruit.append(fruit)\n",
    "print(max_price, max_price_fruit)"
   ]
  },
  {
   "cell_type": "markdown",
   "id": "f63a58ef",
   "metadata": {},
   "source": [
    "### 14번. 구구단 3단 출력하기\n",
    "\n",
    "for문을 사용하여 구구단 3단을 출력하세요.\n",
    "\n",
    "📌 출력 예시:\n",
    "```\n",
    "3 x 1 = 3\n",
    "3 x 2 = 6\n",
    "...\n",
    "3 x 9 = 27\n",
    "```"
   ]
  },
  {
   "cell_type": "code",
   "execution_count": null,
   "id": "82376bb6",
   "metadata": {},
   "outputs": [],
   "source": [
    "for dan in range(2, 10):\n",
    "    print(f'----------------{dan} 단-----------------')\n",
    "    for num in range(1, 10):\n",
    "        print(f'{dan} x {num} = {dan * num}')"
   ]
  },
  {
   "cell_type": "markdown",
   "id": "1a498a46",
   "metadata": {},
   "source": [
    "### 15번. 문자열에서 각 문자 개수 세기\n",
    "\n",
    "사용자로부터 문자열을 입력받아, 각 문자가 몇 번 나오는지 딕셔너리 형태로 출력하세요.\n",
    "\n",
    "📌 예시 입력: `hello`\n",
    "📌 예시 출력: `{'h':1, 'e':1, 'l':2, 'o':1}`"
   ]
  },
  {
   "cell_type": "code",
   "execution_count": null,
   "id": "3f9c2e5b",
   "metadata": {},
   "outputs": [],
   "source": [
    "text = input(\"문자열을 입력하세요: \")\n",
    "\n",
    "counter = {}\n",
    "for char in text:\n",
    "    # dict 는 in 연산시, key만 확인한다.\n",
    "    if char in counter:\n",
    "        counter[char] += 1  # 기존에 있는 키의 value만 수정\n",
    "    else:\n",
    "        counter[char] = 1   # 없는 키와 value 등록\n",
    "\n",
    "print(counter)\n"
   ]
  },
  {
   "cell_type": "code",
   "execution_count": null,
   "id": "68d51b1e",
   "metadata": {},
   "outputs": [],
   "source": [
    "counter = {}\n",
    "for char in text:\n",
    "    counter[char] = counter.get(char, 0) + 1\n",
    "    \n",
    "print(counter)"
   ]
  },
  {
   "cell_type": "markdown",
   "id": "6a3f44e9",
   "metadata": {},
   "source": [
    "### 16번. 리스트 정렬과 최대/최소 값 찾기\n",
    "\n",
    "다음 리스트를 오름차순으로 정렬하고, 가장 큰 값과 가장 작은 값을 출력하세요:\n",
    "```python\n",
    "nums = [3, 1, 4, 1, 5, 9, 2, 6]\n",
    "```"
   ]
  },
  {
   "cell_type": "code",
   "execution_count": null,
   "id": "ecaa5fac",
   "metadata": {},
   "outputs": [],
   "source": [
    "nums = [3, 1, 4, 1, 5, 9, 2, 6]\n",
    "\n",
    "nums.sort()\n",
    "print(nums, nums[0], nums[-1])\n",
    "\n"
   ]
  },
  {
   "cell_type": "code",
   "execution_count": null,
   "id": "c13a1477",
   "metadata": {},
   "outputs": [],
   "source": [
    "import random\n",
    "x = list(range(int(10e6)))\n",
    "random.shuffle(x)"
   ]
  },
  {
   "cell_type": "code",
   "execution_count": 5,
   "id": "0d1d7f2a",
   "metadata": {},
   "outputs": [
    {
     "data": {
      "text/plain": [
       "(0, 9999999)"
      ]
     },
     "execution_count": 5,
     "metadata": {},
     "output_type": "execute_result"
    }
   ],
   "source": [
    "xx = sorted(x)\n",
    "xx[0], xx[-1]"
   ]
  },
  {
   "cell_type": "code",
   "execution_count": 6,
   "id": "b6f18b28",
   "metadata": {},
   "outputs": [
    {
     "name": "stdout",
     "output_type": "stream",
     "text": [
      "9999999 0\n"
     ]
    }
   ],
   "source": [
    "minimum = maximum = x[0]\n",
    "\n",
    "for n in x:\n",
    "    if n > maximum:\n",
    "        maximum = n\n",
    "    elif n < minimum:\n",
    "        minimum = n\n",
    "\n",
    "print(maximum, minimum)"
   ]
  },
  {
   "cell_type": "markdown",
   "id": "21f6f2d0",
   "metadata": {},
   "source": [
    "### 17번. 회문(Palindrome) 검사\n",
    "\n",
    "입력받은 단어가 앞에서 읽든 뒤에서 읽든 같은 단어인지 확인하는 프로그램을 작성하세요.\n",
    "\n",
    "📌 예시: `level` → 회문 / `hello` → 회문 아님"
   ]
  },
  {
   "cell_type": "code",
   "execution_count": null,
   "id": "5e7b6989",
   "metadata": {},
   "outputs": [],
   "source": [
    "# word = input(\"단어를 입력하세요: \")\n",
    "word = '수박이 박수\\n'\n",
    "# 띄어쓰기 처리\n",
    "word = word.replace(' ', '')\n",
    "word = word.strip()\n",
    "\n",
    "if word == word[::-1]:\n",
    "    print('회문')\n",
    "else:\n",
    "    print('아님')"
   ]
  },
  {
   "cell_type": "markdown",
   "id": "4e83b9ca",
   "metadata": {},
   "source": [
    "### 18번. 집합 연산: 합집합, 교집합, 차집합\n",
    "\n",
    "다음 두 집합의 합집합, 교집합, 차집합을 구하세요:\n",
    "```python\n",
    "A = {1, 2, 3, 4, 5}\n",
    "B = {4, 5, 6, 7, 8}\n",
    "```"
   ]
  },
  {
   "cell_type": "code",
   "execution_count": null,
   "id": "6c1c77ae",
   "metadata": {},
   "outputs": [],
   "source": [
    "A = {1, 2, 3, 4, 5}\n",
    "B = {4, 5, 6, 7, 8}\n",
    "\n",
    "print(A | B)  # 합\n",
    "print(A & B)  # 교\n",
    "print(A - B)  # 차"
   ]
  },
  {
   "cell_type": "markdown",
   "id": "e49db016",
   "metadata": {},
   "source": [
    "### 19번. 1부터 n까지의 합 구하기\n",
    "\n",
    "사용자로부터 정수 n을 입력받아 1부터 n까지의 합을 구하는 프로그램을 작성하세요."
   ]
  },
  {
   "cell_type": "code",
   "execution_count": null,
   "id": "5e772a52",
   "metadata": {},
   "outputs": [],
   "source": [
    "n = int(input(\"정수를 입력하세요: \"))\n",
    "\n",
    "total = 0\n",
    "for i in range(1, n+1):\n",
    "    total += i\n",
    "\n",
    "print(total)"
   ]
  },
  {
   "cell_type": "code",
   "execution_count": null,
   "id": "2791e81f",
   "metadata": {},
   "outputs": [],
   "source": [
    "int(n * (n+1) / 2)"
   ]
  },
  {
   "cell_type": "markdown",
   "id": "c8ae9f8e",
   "metadata": {},
   "source": [
    "### 20번. 리스트에서 중복 제거\n",
    "\n",
    "다음 리스트에서 중복된 값을 제거하고 유일한 값만 남긴 리스트를 출력하세요:\n",
    "```python\n",
    "nums = [1, 2, 2, 3, 4, 4, 5]\n",
    "```"
   ]
  },
  {
   "cell_type": "code",
   "execution_count": null,
   "id": "0b9d2135",
   "metadata": {},
   "outputs": [],
   "source": [
    "nums = [1, 2, 2, 3, 4, 4, 5]\n",
    "list(set(nums))"
   ]
  },
  {
   "cell_type": "code",
   "execution_count": null,
   "id": "d093ed13",
   "metadata": {},
   "outputs": [],
   "source": [
    "uniq = []\n",
    "for num in nums:\n",
    "    if num not in uniq:\n",
    "        uniq.append(num)\n",
    "\n",
    "print(uniq)"
   ]
  }
 ],
 "metadata": {
  "kernelspec": {
   "display_name": "Python 3",
   "language": "python",
   "name": "python3"
  },
  "language_info": {
   "codemirror_mode": {
    "name": "ipython",
    "version": 3
   },
   "file_extension": ".py",
   "mimetype": "text/x-python",
   "name": "python",
   "nbconvert_exporter": "python",
   "pygments_lexer": "ipython3",
   "version": "3.13.2"
  }
 },
 "nbformat": 4,
 "nbformat_minor": 5
}
