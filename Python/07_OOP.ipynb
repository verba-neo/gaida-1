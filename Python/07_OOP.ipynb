{
 "cells": [
  {
   "cell_type": "markdown",
   "id": "internal-shopping",
   "metadata": {},
   "source": [
    "<p style=\"font-size: 33px; font-weight: 700; margin-bottom: 3rem\">OOP</p>\n",
    "\n",
    "\n",
    "\n",
    "- 객체(Object)\n",
    "- 객체지향프로그래밍(Object Oriented Programming)\n",
    "- 클래스(Class)와 객체(Object)\n"
   ]
  },
  {
   "cell_type": "markdown",
   "id": "veterinary-millennium",
   "metadata": {},
   "source": [
    "# 객체(Object)\n",
    "\n",
    "> Python에서 **모든 것은 객체(object)**입니다.\n",
    ">\n",
    "> 모든 객체는 **타입(type), 속성(attribute), 조작법(method)**을 가집니다.\n"
   ]
  },
  {
   "cell_type": "markdown",
   "id": "tutorial-shock",
   "metadata": {},
   "source": [
    "객체(Object)의 특징\n",
    "\n",
    "- **타입(type)**: 어떤 연산자(operator)와 조작(method)이 가능한가? \n",
    "- **속성(attribute)**: 어떤 상태(데이터)를 가지는가?\n",
    "- **조작법(method)**: 어떤 행위(함수)를 할 수 있는가?"
   ]
  },
  {
   "cell_type": "markdown",
   "id": "brave-contents",
   "metadata": {},
   "source": [
    "# 객체 지향 프로그래밍(Object-Oriented Programming)\n",
    "\n",
    "Object가 중심(oriented)이 되는 프로그래밍\n",
    "\n",
    "**<wikipedia - 객체지향 프로그래밍>**\n",
    ">\n",
    "> 객체 지향 프로그래밍(영어: Object-Oriented Programming, OOP)은 컴퓨터 프로그래밍의 패러다임의 하나입니다. \n",
    ">\n",
    "> 객체 지향 프로그래밍은 컴퓨터 프로그램을 명령어의 목록으로 보는 시각에서 벗어나 여러 개의 독립된 단위, 즉 \"객체\"들의 모임 + 상호작용(메서드)으로 파악하고자 하는 것입니다.\n",
    "\n",
    "\n"
   ]
  },
  {
   "cell_type": "markdown",
   "id": "devoted-daily",
   "metadata": {},
   "source": [
    "## 절차 중심 vs. 객체 중심\n",
    "\n",
    "> 프로그래밍 패러다임: 어떻게 프로그램을 작성할 것인가"
   ]
  },
  {
   "cell_type": "markdown",
   "id": "invalid-dimension",
   "metadata": {},
   "source": [
    "## 객체 중심의 장점\n",
    "\n",
    "\n",
    "**<wikipedia - 객체지향 프로그래밍>**\n",
    "> 객체 지향 프로그래밍은 프로그램을 유연하고 변경이 용이하게 만들기 때문에 대규모 소프트웨어 개발에 많이 사용됩니다. \n",
    ">\n",
    "> 또한 프로그래밍을 더 배우기 쉽게 하고 소프트웨어 개발과 보수를 간편하게 하며, 보다 직관적인 코드 분석을 가능하게 하는 장점을 갖고 있습니다.\n",
    "\n",
    "- 코드의 **직관성**\n",
    "\n",
    "- 활용의 **용이성**\n",
    "\n",
    "- 변경의 **유연성**"
   ]
  },
  {
   "cell_type": "markdown",
   "id": "liberal-north",
   "metadata": {},
   "source": [
    "## OOP 기초"
   ]
  },
  {
   "cell_type": "markdown",
   "id": "christian-marathon",
   "metadata": {},
   "source": [
    "### 기본 문법\n",
    "\n",
    "```python\n",
    "# 클래스 정의\n",
    "class MyClass:\n",
    "    pass\n",
    "\n",
    "# 인스턴스(instance) 생성\n",
    "my_instance = MyClass()\n",
    "\n",
    "# 속성 접근\n",
    "my_instance.my_attribute\n",
    "\n",
    "# 메서드 호출\n",
    "my_instance.my_method()\n",
    "```"
   ]
  },
  {
   "cell_type": "markdown",
   "id": "minimal-generator",
   "metadata": {},
   "source": [
    "### 클래스(class)\n",
    "\n",
    "- 클래스는 공통된 속성(attribute)과 조작법(method)을 가진 객체들의 분류입니다."
   ]
  },
  {
   "cell_type": "markdown",
   "id": "utility-brake",
   "metadata": {},
   "source": [
    "### 인스턴스(Instance)\n",
    "- 특정 클래스(class)의 실제 데이터 예시(instance)입니다. \n",
    "- 파이썬에서 모든 것은 객체이고, **모든 객체는 특정 클래스의 인스턴스**입니다.\n",
    "\n",
    "```python\n",
    "# Person 클래스\n",
    "class Person:\n",
    "    pass\n",
    "\n",
    "# yu는 Person 클래스의 인스턴스\n",
    "yu = Person()\n",
    "```"
   ]
  },
  {
   "cell_type": "code",
   "execution_count": null,
   "id": "joint-location",
   "metadata": {},
   "outputs": [],
   "source": [
    "# 일반 변수/함수명은 전부 소문자에, 띄어쓰기가 필요하면 _ 로. => snake_case\n",
    "# 클래스명은 첫글자 대문자에, 띄어쓰기 필요하면 또 대문자로 =>   PascalCase, UpperCamelCase\n",
    "\n",
    "class Person:\n",
    "    pass"
   ]
  },
  {
   "cell_type": "code",
   "execution_count": null,
   "id": "accurate-bulgarian",
   "metadata": {},
   "outputs": [],
   "source": [
    "# Person 클래스의 인스턴스를 만들어봅시다.\n",
    "yu = Person()\n",
    "kim = Person()"
   ]
  },
  {
   "cell_type": "code",
   "execution_count": null,
   "id": "virgin-immune",
   "metadata": {},
   "outputs": [],
   "source": [
    "# p 변수에 담긴 인스턴스가 Person 클래스의 인스턴스인지 확인해봅시다.\n",
    "# isinstance 함수를 활용합니다.\n",
    "type(yu), isinstance(kim, Person)"
   ]
  },
  {
   "cell_type": "markdown",
   "id": "ruled-prior",
   "metadata": {},
   "source": [
    "## 속성(attribute)과 메서드(method)\n",
    "\n",
    "객체의 속성(상태, 데이터)과 조작법(함수)을 명확히 구분해 봅시다.\n",
    "\n",
    "| type         | attributes       | methods                                |\n",
    "| -------------| ---------------- | -------------------------------------- |\n",
    "| `complex`    | `.real`, `.imag` |              _                          |\n",
    "| `str`        |       _          | `.capitalize()`, `.join()`, `.split()` |\n",
    "| `list`       |       _          | `.append()`, `.reverse()`, `.sort()`   |\n",
    "| `dict`       |       _          | `.keys()`, `.values()`, `.items()`     |\n"
   ]
  },
  {
   "cell_type": "markdown",
   "id": "incredible-aurora",
   "metadata": {},
   "source": [
    "### 속성(attribute)\n",
    "\n",
    "- 속성(attribute)은 객체(object)의 상태/데이터를 뜻합니다.\n",
    "\n",
    "\n",
    "**활용법**\n",
    "\n",
    "```python\n",
    "<객체>.<속성>\n",
    "```\n",
    "\n",
    "**예시**\n",
    "\n",
    "```python\n",
    "person.name\n",
    "```\n",
    "\n",
    "- `Person` 클래스의 객체들이 가지게 될 데이터를 활용해봅시다."
   ]
  },
  {
   "cell_type": "markdown",
   "id": "aerial-stomach",
   "metadata": {},
   "source": [
    "### 메서드(method)\n",
    "\n",
    "- 특정 객체가 할 수 있는 행위(behavior)를 뜻 합니다.\n",
    "\n",
    "**활용법**\n",
    "```python\n",
    "<객체>.<메서드>()\n",
    "```\n",
    "\n",
    "**예시**\n",
    "```python\n",
    "person.talk()\n",
    "person.eat()\n",
    "```\n",
    "\n",
    "- `Person` 클래스에 공통적으로 적용 가능한 함수인 `메서드`를 활용해봅시다."
   ]
  },
  {
   "cell_type": "markdown",
   "id": "impressive-sucking",
   "metadata": {},
   "source": [
    "# 인스턴스(instance)"
   ]
  },
  {
   "cell_type": "markdown",
   "id": "selective-deposit",
   "metadata": {},
   "source": [
    "## 인스턴스(instance) 생성\n",
    "* 정의된 클래스(`class`)에 속하는 객체를 해당 클래스의 인스턴스(instance)라고 합니다.\n",
    "\n",
    "* `Person` 클래스의 인스턴스는 `Person()`을 호출함으로써 생성됩니다.\n",
    "\n",
    "* `type()` 함수를 통해 생성된 객체의 클래스를 확인할 수 있습니다.\n",
    "\n",
    "\n",
    "**활용법**\n",
    "\n",
    "\n",
    "```python\n",
    "# 인스턴스 = 클래스()\n",
    "person1 = Person()\n",
    "```\n",
    "\n",
    "- `person1`은 사용자가 정의한(user-defined) `Person`이라는 데이터 타입(data type)의 인스턴스입니다."
   ]
  },
  {
   "cell_type": "code",
   "execution_count": null,
   "id": "a70cb0bc",
   "metadata": {},
   "outputs": [],
   "source": [
    "class Person:\n",
    "    pass"
   ]
  },
  {
   "cell_type": "code",
   "execution_count": null,
   "id": "closed-disney",
   "metadata": {},
   "outputs": [],
   "source": [
    "# Person 클래스의 인스턴스 p1과 p2를 생성해봅시다.\n",
    "# 두 인스턴스의 type을 출력해보세요.\n",
    "p1 = Person()\n",
    "p2 = Person()\n",
    "\n",
    "type(p1), type(p2)"
   ]
  },
  {
   "cell_type": "markdown",
   "id": "sophisticated-remainder",
   "metadata": {},
   "source": [
    "## 인스턴스 변수\n",
    "* 인스턴스의 속성(attribute)\n",
    "* 각 인스턴스들의 고유한 데이터\n",
    "* 생성자 메서드에서 `self.변수명`로 정의(생성자 메서드는 뒤에 학습합니다.)\n",
    "* 인스턴스가 생성된 이후 `인스턴스.변수명`로 접근 및 할당\n",
    "\n",
    "---\n",
    "**활용법**\n",
    "    \n",
    "```python\n",
    "class Person:\n",
    "    pass\n",
    "\n",
    "p1 = Person()\n",
    "p1.name = 'jack'\n",
    "p1.age = 25\n",
    "```"
   ]
  },
  {
   "cell_type": "code",
   "execution_count": null,
   "id": "seven-edward",
   "metadata": {},
   "outputs": [],
   "source": [
    "# 위와 같은 Person 클래스를 똑같이 정의해봅시다.\n",
    "class Person:\n",
    "    pass"
   ]
  },
  {
   "cell_type": "code",
   "execution_count": null,
   "id": "involved-zimbabwe",
   "metadata": {},
   "outputs": [],
   "source": [
    "# Person 클래스의 인스턴스를 생성하고, me 변수에 저장합니다.\n",
    "# me의 인스턴스 변수 name을 본인 이름으로 설정합니다.\n",
    "me = Person()\n",
    "me.name = 'Yu Taeyong'"
   ]
  },
  {
   "cell_type": "code",
   "execution_count": null,
   "id": "44f5fa8a",
   "metadata": {},
   "outputs": [],
   "source": [
    "# me 인스턴스의 name 변수에 접근하여 값을 출력해봅시다.\n",
    "me.name"
   ]
  },
  {
   "cell_type": "code",
   "execution_count": null,
   "id": "adjacent-japan",
   "metadata": {},
   "outputs": [],
   "source": [
    "# me 인스턴스의 name 변수의 값을 새로운 이름으로 할당하고 다시 출력해봅시다.\n",
    "me.name = 'Neo'\n",
    "me.age = 100\n",
    "me.name, me.age"
   ]
  },
  {
   "cell_type": "markdown",
   "id": "soviet-yemen",
   "metadata": {},
   "source": [
    "## 인스턴스 메서드\n",
    "\n",
    "> 메서드란?\n",
    "> - 특정 데이터 타입(또는 클래스)의 객체에 공통적으로 적용 가능한 행위(behavior)들을 의미합니다.\n",
    "\n",
    "* 인스턴스 메서드는 인스턴스가 사용할 메서드에 해당합니다.\n",
    "* 클래스 내부에 정의되는 메서드는 기본적으로 인스턴스 메서드로 생성됩니다.\n",
    "* **메서드 호출시, 첫번째 인자로 인스턴스 자기자신에 해당하는 `self`가 전달됩니다**\n",
    "\n",
    "**활용법**\n",
    "\n",
    "```python\n",
    "class MyClass:\n",
    "    def instance_method(self, arg1, arg2, ...):\n",
    "        ...\n",
    "\n",
    "my_instance = MyClass()\n",
    "# 인스턴스 생성 후 메서드를 호출하면 자동으로 첫 번째 인자로 인스턴스(my_instance)가 들어갑니다.\n",
    "my_instance.instance_method(.., ..)  \n",
    "```"
   ]
  },
  {
   "cell_type": "code",
   "execution_count": null,
   "id": "constant-backing",
   "metadata": {},
   "outputs": [],
   "source": [
    "# 위의 활용법을 참고하여 Person 클래스와 talk() 메서드를 정의했습니다."
   ]
  },
  {
   "cell_type": "code",
   "execution_count": null,
   "id": "acute-inclusion",
   "metadata": {},
   "outputs": [],
   "source": [
    "class Person:\n",
    "    def talk(self):\n",
    "        print('안녕!')"
   ]
  },
  {
   "cell_type": "code",
   "execution_count": null,
   "id": "mighty-calculator",
   "metadata": {},
   "outputs": [],
   "source": [
    "# Person 클래스의 인스턴스 p1, p2를 생성하고 각각 talk 메서드를 실행해봅시다.\n",
    "p1 = Person()\n",
    "p2 = Person()\n",
    "\n",
    "p1.talk( ), p2.talk()"
   ]
  },
  {
   "cell_type": "markdown",
   "id": "basic-punch",
   "metadata": {},
   "source": [
    "- 메서드도 함수이기 때문에 추가적인 인자를 받을 수 있습니다.\n",
    "- `Person` 클래스를 재정의 하며 `talk` 메서드를 정의하고, `eat` 메서드를 추가로 정의해봅시다.\n",
    "- `eat` 메서드는 `food` 라는 이름의 인자를 받아서 출력합니다.\n",
    "- 추가적인 인자를 받기 위해서는 아래와 같은 모습으로 코드가 작성되어야 합니다.\n",
    "\n",
    "```python\n",
    "class MyClass:\n",
    "    def method1(self):\n",
    "        print('Hi')\n",
    "    \n",
    "    def method2(self, arg):\n",
    "        print(arg)\n",
    "```"
   ]
  },
  {
   "cell_type": "code",
   "execution_count": null,
   "id": "occupational-waste",
   "metadata": {},
   "outputs": [],
   "source": [
    "# talk, eat 메서드를 만들\n",
    "class Person:\n",
    "    def talk(self):\n",
    "        print('안녕!')\n",
    "\n",
    "    def eat(self, food):\n",
    "        print(f'냠냠 {food}')"
   ]
  },
  {
   "cell_type": "code",
   "execution_count": null,
   "id": "desirable-johns",
   "metadata": {},
   "outputs": [],
   "source": [
    "# Person 클래스의 인스턴스 p1을 생성하고 eat() 메서드를 인자와 함께 호출해봅시다.\n",
    "p1 = Person()\n",
    "p1.eat('피자')"
   ]
  },
  {
   "cell_type": "code",
   "execution_count": null,
   "id": "standard-large",
   "metadata": {},
   "outputs": [],
   "source": [
    "# 기본 인자, 가변 인자 리스트 등 함수의 인자와 동일하게 매개변수를 정의할 수 있습니다.\n",
    "# Person 클래스를 재정의하며, eat() 메서드를 정의할 때 menu 인자의 기본 값을 원하는 음식으로 설정해봅시다.\n",
    "class Person:\n",
    "    def talk(self):\n",
    "        print('안녕!')\n",
    "\n",
    "    def eat(self, food='샐러드'):\n",
    "        print(f'냠냠 {food}')"
   ]
  },
  {
   "cell_type": "code",
   "execution_count": null,
   "id": "opposite-annual",
   "metadata": {},
   "outputs": [],
   "source": [
    "# Person 클래스의 인스턴스 p1을 생성하고, eat() 메서드를 인자 있이/없이 두번 호출해봅시다.\n",
    "p1 = Person()\n",
    "p1.eat()\n",
    "p1.eat('짜장면')"
   ]
  },
  {
   "cell_type": "markdown",
   "id": "meaningful-princess",
   "metadata": {},
   "source": [
    "##  `self` \n",
    "\n",
    "> 인스턴스 자신(self)\n",
    "\n",
    "* Python에서 인스턴스 메서드는 **호출 시 첫번째 인자로 인스턴스 자신이 전달**되게 설계되었습니다. \n",
    "\n",
    "\n",
    "* 보통 매개변수명으로 `self`를 첫번째 인자로 정의 (다른 이름도 가능하지만 추천하지는 않습니다.)"
   ]
  },
  {
   "cell_type": "code",
   "execution_count": null,
   "id": "mediterranean-eligibility",
   "metadata": {},
   "outputs": [],
   "source": [
    "# 아래의 Person 클래스를 통해서 self가 무엇인지 확인해봅시다.\n",
    "class Person:\n",
    "    def test(self):\n",
    "        return self"
   ]
  },
  {
   "cell_type": "code",
   "execution_count": null,
   "id": "recreational-price",
   "metadata": {},
   "outputs": [],
   "source": [
    "# Person 클래스의 인스턴스 p1을 생성하고 test() 메서드를 호출하여 self를 확인해봅시다.\n",
    "p1 = Person()\n",
    "p1.test()"
   ]
  },
  {
   "cell_type": "code",
   "execution_count": null,
   "id": "sublime-department",
   "metadata": {},
   "outputs": [],
   "source": [
    "# p1을 출력하여 비교해봅시다.\n",
    "p1.test(  ) is p1\n",
    "\n",
    "# is => 객체 주소값 비교 연산자"
   ]
  },
  {
   "cell_type": "markdown",
   "id": "soviet-attempt",
   "metadata": {},
   "source": [
    "### 생성자(constructor) 메서드\n",
    "- 인스턴스 객체가 생성될 때 자동으로 호출되는 함수입니다.\n",
    "- 반드시 `__init__` 이라는 이름으로 정의합니다.\n",
    "\n",
    "---\n",
    "**활용법**\n",
    "\n",
    "```python\n",
    "class MyClass:\n",
    "    def __init__(self):\n",
    "        print('생성될 때 자동으로 호출되는 메서드입니다.')\n",
    "```\n",
    "\n",
    "- 생성자를 활용하면 인스턴스가 생성될 때 인스턴스의 속성을 정의할 수 있습니다.\n"
   ]
  },
  {
   "cell_type": "code",
   "execution_count": null,
   "id": "australian-article",
   "metadata": {},
   "outputs": [],
   "source": [
    "class Person:\n",
    "    def __init__(self, name, age):\n",
    "        # 인스턴스가 생성될 때, 각 인스턴스 본인(self)의 name 과 age를 설정한다.\n",
    "        self.name = name\n",
    "        self.age = age\n",
    "\n",
    "    def talk(self):\n",
    "        print(f'안녕, 나는 {self.name}고, {self.age}살이야.')\n"
   ]
  },
  {
   "cell_type": "code",
   "execution_count": null,
   "id": "incomplete-nepal",
   "metadata": {},
   "outputs": [],
   "source": [
    "# 자신의 이름을 인자로 넘기며 Person의 인스턴스 p1를 생성해봅시다.\n",
    "p1 = Person('Yu', 20)\n",
    "p2 = Person('Kim', 30)\n",
    "\n",
    "p1.name, p1.age"
   ]
  },
  {
   "cell_type": "code",
   "execution_count": null,
   "id": "traditional-ecology",
   "metadata": {},
   "outputs": [],
   "source": [
    "# talk() 메서드를 호출해 봅시다.\n",
    "p1.talk()"
   ]
  },
  {
   "cell_type": "markdown",
   "id": "rolled-junior",
   "metadata": {},
   "source": [
    "### 소멸자(destructor) 메서드\n",
    "- 인스턴스 객체가 소멸(파괴)되기 직전에 자동으로 호출되는 함수입니다.\n",
    "- 반드시 `__del__` 이라는 이름으로 정의합니다.\n",
    "\n",
    "---\n",
    "\n",
    "**활용법**\n",
    "\n",
    "```python\n",
    "# 소멸자 정의\n",
    "def __del__(self):\n",
    "    print('소멸될 때 자동으로 호출되는 메서드입니다.')\n",
    "    \n",
    "# 소멸자 활용\n",
    "del 인스턴스\n",
    "```"
   ]
  },
  {
   "cell_type": "code",
   "execution_count": 2,
   "id": "basic-error",
   "metadata": {},
   "outputs": [],
   "source": [
    "# 생성자와 소멸자를 만들어봅시다.\n",
    "# 생성자 메서드는 __init__으로 정의하고,\n",
    "# 소멸자 메서드는 __del__라는 이름으로 정의합니다.\n",
    "class Person:\n",
    "    def __init__(self):\n",
    "        print('응애! 태어났다!')\n",
    "\n",
    "    def __del__(self):\n",
    "        print('윽... 나 간다.')\n"
   ]
  },
  {
   "cell_type": "code",
   "execution_count": 17,
   "id": "dressed-minority",
   "metadata": {},
   "outputs": [
    {
     "name": "stdout",
     "output_type": "stream",
     "text": [
      "응애! 태어났다!\n",
      "윽... 나 간다.\n"
     ]
    }
   ],
   "source": [
    "# Person 클래스의 인스턴스를 만들고 person1 변수에 할당합니다.\n",
    "p1 = Person()"
   ]
  },
  {
   "cell_type": "code",
   "execution_count": 18,
   "id": "happy-friend",
   "metadata": {},
   "outputs": [
    {
     "name": "stdout",
     "output_type": "stream",
     "text": [
      "윽... 나 간다.\n"
     ]
    }
   ],
   "source": [
    "# del 키워드를 이용하여 소멸자를 활용해봅시다.\n",
    "del p1"
   ]
  },
  {
   "cell_type": "markdown",
   "id": "affecting-illness",
   "metadata": {},
   "source": [
    "## 속성(Attribute) 정의\n",
    "\n",
    "- 특정 데이터 타입(또는 클래스)의 객체들이 가지게 될 상태/데이터를 의미합니다.\n",
    "\n",
    "- `self.<속성명> = <값>` 혹은 `<인스턴스>.<속성명> = <값>`으로 설정합니다\n",
    "\n",
    "---\n",
    "**활용법**\n",
    "\n",
    "```python\n",
    "class Person:\n",
    "    def __init__(self, name):\n",
    "        self.name = name\n",
    "        \n",
    "    def talk(self):\n",
    "        print(f'안녕, 나는 {self.name}')\n",
    "```"
   ]
  },
  {
   "cell_type": "code",
   "execution_count": null,
   "id": "mediterranean-stake",
   "metadata": {},
   "outputs": [],
   "source": [
    "# 인스턴스의 변수, 즉 개별 인스턴스들의 속성 데이터를 초기화와 동시에 정의해봅시다.\n",
    "# 아래 Person 클래스는 name이라는 속성이 정의되어 있습니다.\n",
    "class Person:\n",
    "    def __init__(self, name):\n",
    "        self.name = name\n",
    "        \n",
    "    def talk(self):\n",
    "        print(f'안녕, 나는 {self.name}')\n"
   ]
  },
  {
   "cell_type": "code",
   "execution_count": null,
   "id": "abroad-canon",
   "metadata": {},
   "outputs": [],
   "source": [
    "# 속성 정의는 꼭 생성자(__init__) 메서드에 작성해야 하지는 않지만, 일반적으로 생성자 메서드에 많이 작성합니다.\n",
    "# 생성자 메서드를 통해 생성과 동시에 인스턴스 속성에 값을 할당할 수 있기 때문입니다.\n",
    "# 새로운 Person의 인스턴스 p1을 이름과 함께 초기화 하고, 이름을 출력해봅시다."
   ]
  },
  {
   "cell_type": "code",
   "execution_count": 26,
   "id": "front-victorian",
   "metadata": {},
   "outputs": [
    {
     "name": "stdout",
     "output_type": "stream",
     "text": [
      "안녕, 나는 Yu\n"
     ]
    }
   ],
   "source": [
    "p1 = Person('Yu') \n",
    "p1.talk()"
   ]
  },
  {
   "cell_type": "code",
   "execution_count": 25,
   "id": "spectacular-kazakhstan",
   "metadata": {},
   "outputs": [
    {
     "name": "stdout",
     "output_type": "stream",
     "text": [
      "안녕, 나는 Kim\n"
     ]
    }
   ],
   "source": [
    "# 인스턴스 속성의 값을 변경할 수도 있습니다.\n",
    "# 위에서 생성한 p1 인스턴스의 name을 다른 값으로 할당해보고, talk 메서드를 실행해봅시다.\n",
    "p1.name = 'Kim'\n",
    "p1.talk()"
   ]
  },
  {
   "cell_type": "code",
   "execution_count": 28,
   "id": "alive-lending",
   "metadata": {},
   "outputs": [
    {
     "ename": "TypeError",
     "evalue": "Person.__init__() missing 1 required positional argument: 'name'",
     "output_type": "error",
     "traceback": [
      "\u001b[31m---------------------------------------------------------------------------\u001b[39m",
      "\u001b[31mTypeError\u001b[39m                                 Traceback (most recent call last)",
      "\u001b[36mCell\u001b[39m\u001b[36m \u001b[39m\u001b[32mIn[28]\u001b[39m\u001b[32m, line 3\u001b[39m\n\u001b[32m      1\u001b[39m \u001b[38;5;66;03m# 생성자 메서드도 함수이기 때문에, 인자의 개수가 맞지 않으면 에러가 발생합니다.\u001b[39;00m\n\u001b[32m      2\u001b[39m \u001b[38;5;66;03m# name인자 없이 새로운 Person의 인스턴스 p1을 생성해봅시다.\u001b[39;00m\n\u001b[32m----> \u001b[39m\u001b[32m3\u001b[39m p2 = \u001b[43mPerson\u001b[49m\u001b[43m(\u001b[49m\u001b[43m)\u001b[49m\n",
      "\u001b[31mTypeError\u001b[39m: Person.__init__() missing 1 required positional argument: 'name'"
     ]
    }
   ],
   "source": [
    "# 생성자 메서드도 함수이기 때문에, 인자의 개수가 맞지 않으면 에러가 발생합니다.\n",
    "# name인자 없이 새로운 Person의 인스턴스 p1을 생성해봅시다.\n",
    "p2 = Person()\n"
   ]
  },
  {
   "cell_type": "code",
   "execution_count": 29,
   "id": "square-fundamental",
   "metadata": {},
   "outputs": [],
   "source": [
    "# 위에서 생성한 인스턴스 p1을 del 연산자를 사용해 소멸시켜봅시다.\n",
    "del p1\n"
   ]
  },
  {
   "cell_type": "code",
   "execution_count": 36,
   "id": "58d65ec6",
   "metadata": {},
   "outputs": [
    {
     "data": {
      "text/plain": [
       "(58.0, 75.0)"
      ]
     },
     "execution_count": 36,
     "metadata": {},
     "output_type": "execute_result"
    }
   ],
   "source": [
    "class Student:\n",
    "    def __init__(self, s1, s2, s3):\n",
    "        self.s1 = s1\n",
    "        self.s2 = s2\n",
    "        self.s3 = s3\n",
    "        \n",
    "    def average(self):\n",
    "        return sum([self.s1, self.s2, self.s3]) / 3\n",
    "\n",
    "std1 = Student(50, 27, 97)\n",
    "std2 = Student(76, 84, 65)\n",
    "std1.average(), std2.average()"
   ]
  },
  {
   "cell_type": "markdown",
   "id": "checked-shadow",
   "metadata": {},
   "source": [
    "## 매직(스페셜) 메서드\n",
    "- 더블언더스코어(`__`)가 있는 메서드는 특별한 일을 하기 위해 만들어진 메서드이기 때문에 `스페셜 메서드` 혹은 `매직 메서드`라고 불립니다.\n",
    "- 매직(스페셜) 메서드 형태: `__someting__`\n",
    "```python\n",
    " '__str__(self)',\n",
    " '__len__(self)',\n",
    " '__repr__(self)',\n",
    " '__lt__(self, other)',\n",
    " '__le__(self, other)',\n",
    " '__eq__(self, other)',\n",
    " '__ne__(self, other)',\n",
    " '__gt__(self, other)',\n",
    " '__ge__(self, other)',\n",
    "```"
   ]
  },
  {
   "cell_type": "markdown",
   "id": "important-residence",
   "metadata": {},
   "source": [
    "### `__str__(self)` \n",
    "\n",
    "```python\n",
    "class Person:\n",
    "    def __str__(self):\n",
    "        return '객체 출력(print)시 보여줄 내용'\n",
    "```\n",
    "\n",
    "- 특정 객체를 출력(`print()`) 할 때 보여줄 내용을 정의할 수 있습니다."
   ]
  },
  {
   "cell_type": "code",
   "execution_count": 37,
   "id": "attempted-explosion",
   "metadata": {},
   "outputs": [
    {
     "data": {
      "text/plain": [
       "['__add__',\n",
       " '__class__',\n",
       " '__contains__',\n",
       " '__delattr__',\n",
       " '__dir__',\n",
       " '__doc__',\n",
       " '__eq__',\n",
       " '__format__',\n",
       " '__ge__',\n",
       " '__getattribute__',\n",
       " '__getitem__',\n",
       " '__getnewargs__',\n",
       " '__getstate__',\n",
       " '__gt__',\n",
       " '__hash__',\n",
       " '__init__',\n",
       " '__init_subclass__',\n",
       " '__iter__',\n",
       " '__le__',\n",
       " '__len__',\n",
       " '__lt__',\n",
       " '__mod__',\n",
       " '__mul__',\n",
       " '__ne__',\n",
       " '__new__',\n",
       " '__reduce__',\n",
       " '__reduce_ex__',\n",
       " '__repr__',\n",
       " '__rmod__',\n",
       " '__rmul__',\n",
       " '__setattr__',\n",
       " '__sizeof__',\n",
       " '__str__',\n",
       " '__subclasshook__',\n",
       " 'capitalize',\n",
       " 'casefold',\n",
       " 'center',\n",
       " 'count',\n",
       " 'encode',\n",
       " 'endswith',\n",
       " 'expandtabs',\n",
       " 'find',\n",
       " 'format',\n",
       " 'format_map',\n",
       " 'index',\n",
       " 'isalnum',\n",
       " 'isalpha',\n",
       " 'isascii',\n",
       " 'isdecimal',\n",
       " 'isdigit',\n",
       " 'isidentifier',\n",
       " 'islower',\n",
       " 'isnumeric',\n",
       " 'isprintable',\n",
       " 'isspace',\n",
       " 'istitle',\n",
       " 'isupper',\n",
       " 'join',\n",
       " 'ljust',\n",
       " 'lower',\n",
       " 'lstrip',\n",
       " 'maketrans',\n",
       " 'partition',\n",
       " 'removeprefix',\n",
       " 'removesuffix',\n",
       " 'replace',\n",
       " 'rfind',\n",
       " 'rindex',\n",
       " 'rjust',\n",
       " 'rpartition',\n",
       " 'rsplit',\n",
       " 'rstrip',\n",
       " 'split',\n",
       " 'splitlines',\n",
       " 'startswith',\n",
       " 'strip',\n",
       " 'swapcase',\n",
       " 'title',\n",
       " 'translate',\n",
       " 'upper',\n",
       " 'zfill']"
      ]
     },
     "execution_count": 37,
     "metadata": {},
     "output_type": "execute_result"
    }
   ],
   "source": [
    "# dir() 함수를 통해 문자열 인스턴스가 활용 가능한 메서드를 확인해봅시다.\n",
    "# 아래 코드를 실행시켜 확인해보세요.\n",
    "\n",
    "dir('')"
   ]
  },
  {
   "cell_type": "code",
   "execution_count": 43,
   "id": "weird-there",
   "metadata": {},
   "outputs": [],
   "source": [
    "# Person 클래스를 생성했습니다.\n",
    "\n",
    "class Person:\n",
    "    def __init__(self, name):\n",
    "        self.name = name\n",
    "\n",
    "    def __str__(self):\n",
    "        return f'Person: {self.name}'\n"
   ]
  },
  {
   "cell_type": "code",
   "execution_count": 51,
   "id": "vocational-timer",
   "metadata": {},
   "outputs": [
    {
     "name": "stdout",
     "output_type": "stream",
     "text": [
      "Person: yu\n"
     ]
    }
   ],
   "source": [
    "# Person의 인스턴스 p1을 생성 후 출력해봅시다.\n",
    "p1 = Person('yu')\n",
    "\n",
    "print(p1)"
   ]
  },
  {
   "cell_type": "code",
   "execution_count": null,
   "id": "comparable-keeping",
   "metadata": {},
   "outputs": [],
   "source": [
    "# __str__() 매직메서드를 정의합니다."
   ]
  },
  {
   "cell_type": "code",
   "execution_count": 49,
   "id": "reasonable-cornell",
   "metadata": {},
   "outputs": [
    {
     "name": "stdout",
     "output_type": "stream",
     "text": [
      "Person: kim\n"
     ]
    }
   ],
   "source": [
    "# 새로운 인스턴스 p2를 생성후 p2를 출력해봅시다.\n",
    "p2 = Person('kim')\n",
    "print(p2)"
   ]
  },
  {
   "cell_type": "code",
   "execution_count": 56,
   "id": "8f8c9433",
   "metadata": {},
   "outputs": [
    {
     "data": {
      "text/plain": [
       "(5, 5)"
      ]
     },
     "execution_count": 56,
     "metadata": {},
     "output_type": "execute_result"
    }
   ],
   "source": [
    "# 객체 <= 메서드 => 객체\n",
    "(2).__add__(3), 3 + 2"
   ]
  },
  {
   "cell_type": "code",
   "execution_count": 60,
   "id": "f5b71f3b",
   "metadata": {},
   "outputs": [
    {
     "data": {
      "text/plain": [
       "(2, 2)"
      ]
     },
     "execution_count": 60,
     "metadata": {},
     "output_type": "execute_result"
    }
   ],
   "source": [
    "[1, 2, 3].__getitem__(1), [1, 2, 3][1]"
   ]
  },
  {
   "cell_type": "markdown",
   "id": "african-topic",
   "metadata": {},
   "source": [
    "## 실습\n",
    "\n",
    "> 매직메서드를 활용하여 인스턴스간의 비교연산(`>`, `==`)이 가능하도록 매직메서드를 정의해봅시다.\n",
    "1. `Person` 클래스를 정의합니다. \n",
    "2. 인스턴스 속성은 문자열 `name` 과 정수 `age`입니다. 두 속성 모두 생성자 함수에서 설정합니다.\n",
    "3. 인스턴스간 `age`의 대/소비교가 가능해야합니다.\n",
    "4.  `__gt__`메서드와 `__eq__`메서드를 활용합니다."
   ]
  },
  {
   "cell_type": "code",
   "execution_count": 69,
   "id": "7675ae80",
   "metadata": {},
   "outputs": [],
   "source": [
    "class Person:\n",
    "    def __init__(self, name, age):\n",
    "        self.name = name\n",
    "        self.age = age\n",
    "\n",
    "    def __gt__(self, other):  # gt(greater than >)\n",
    "        return self.age > other.age\n",
    "    \n",
    "    def __add__(self, other):  # +\n",
    "        return self.name + ' ' + other.name\n",
    "    \n",
    "    def __eq__(self, other):\n",
    "        return self.age == other.age\n"
   ]
  },
  {
   "cell_type": "code",
   "execution_count": null,
   "id": "healthy-solomon",
   "metadata": {},
   "outputs": [],
   "source": [
    "# 아래 셀의 코드가 정상적으로 동작하도록 Person클래스를 정의해봅시다."
   ]
  },
  {
   "cell_type": "code",
   "execution_count": 70,
   "id": "charged-reaction",
   "metadata": {},
   "outputs": [
    {
     "name": "stdout",
     "output_type": "stream",
     "text": [
      "True\n",
      "False\n",
      "False False\n",
      "True\n",
      "yu kim\n"
     ]
    }
   ],
   "source": [
    "p1 = Person('yu', 1)\n",
    "p2 = Person('kim', 2)\n",
    "p3 = Person('park', 1)\n",
    "\n",
    "print(p1 == p3)\n",
    "print(p1 == p2)\n",
    "print(p1 > p2, p1.__gt__(p2))\n",
    "print(p1 < p2)\n",
    "print(p1 + p2)  # 'yu kim'\n"
   ]
  },
  {
   "cell_type": "markdown",
   "id": "bearing-mistake",
   "metadata": {},
   "source": [
    "# 클래스 (class)\n",
    "\n",
    "> `class`: 객체들의 분류(class)를 정의할 때 쓰이는 키워드\n"
   ]
  },
  {
   "cell_type": "markdown",
   "id": "regulated-tribe",
   "metadata": {},
   "source": [
    "## 클래스(Class) 생성\n",
    "\n",
    "* 클래스 생성은 `class` 키워드와 정의하고자 하는 `<클래스의 이름>`으로 가능합니다.\n",
    "\n",
    "* `<클래스의 이름>`은 `PascalCase`로 정의합니다.\n",
    "\n",
    "* 클래스 내부에는 데이터와 함수를 정의할 수 있고, 이때 데이터는 **속성(attribute)** 정의된 함수는 **메서드(method)**로 부릅니다.\n",
    "\n",
    "---\n",
    "\n",
    "**활용법**\n",
    "\n",
    "```python\n",
    "class <클래스이름>:\n",
    "    <statement>\n",
    "```\n",
    "\n",
    "```python\n",
    "class ClassName:\n",
    "    statement\n",
    "```"
   ]
  },
  {
   "cell_type": "code",
   "execution_count": null,
   "id": "welcome-possibility",
   "metadata": {},
   "outputs": [],
   "source": [
    "# Person 이라는 이름의 class를 정의해봅시다. \n",
    "# 아래와 같이 \"\"\"(docstring)을 통해 클래스에 대한 설명(doc)도 함께 정의해 봅시다."
   ]
  },
  {
   "cell_type": "markdown",
   "id": "creative-algeria",
   "metadata": {},
   "source": [
    "```python\n",
    "class ClassName:\n",
    "    \"\"\"\n",
    "    이것은 ClassName 클래스입니다.\n",
    "    \"\"\"\n",
    "```"
   ]
  },
  {
   "cell_type": "code",
   "execution_count": 75,
   "id": "pregnant-explosion",
   "metadata": {},
   "outputs": [],
   "source": [
    "# Person 클래스를 docstring과 함께 정의해 봅시다.\n",
    "\n",
    "class Person:\n",
    "    \"\"\"이것은 인간 클래스\n",
    "\n",
    "    인간은 초기화 할때, name / age 가 필요해\n",
    "    \"\"\"\n"
   ]
  },
  {
   "cell_type": "code",
   "execution_count": 77,
   "id": "transsexual-graph",
   "metadata": {},
   "outputs": [
    {
     "data": {
      "text/plain": [
       "'이것은 인간 클래스\\n\\n인간은 초기화 할때, name / age 가 필요해\\n'"
      ]
     },
     "execution_count": 77,
     "metadata": {},
     "output_type": "execute_result"
    }
   ],
   "source": [
    "# 앞서 정의한 Person 클래스의 docstring을 출력해봅시다.\n",
    "Person().__doc__"
   ]
  },
  {
   "cell_type": "markdown",
   "id": "approximate-university",
   "metadata": {},
   "source": [
    "## 클래스 변수\n",
    "* 클래스의 속성(attribute)\n",
    "* 모든 인스턴스가 공유\n",
    "* 클래스 선언 내부에서 정의\n",
    "* `클래스.변수명`으로 접근 및 할당\n",
    "\n",
    "---\n",
    "\n",
    "**활용법**\n",
    "```python\n",
    "class Circle:\n",
    "    pi = 3.14\n",
    "    \n",
    "print(Circle.pi)\n",
    "```"
   ]
  },
  {
   "cell_type": "code",
   "execution_count": 78,
   "id": "opened-reply",
   "metadata": {},
   "outputs": [],
   "source": [
    "# 위의 예시 코드대로 Circle 클래스를 생성해봅시다.\n",
    "class Circle:\n",
    "    pi = 3.14"
   ]
  },
  {
   "cell_type": "code",
   "execution_count": 79,
   "id": "sixth-capture",
   "metadata": {},
   "outputs": [],
   "source": [
    "# Circle 클래스의 인스턴스 c1, c2를 생성해봅시다.\n",
    "c1 = Circle()\n",
    "c2 = Circle()"
   ]
  },
  {
   "cell_type": "code",
   "execution_count": 80,
   "id": "secondary-ready",
   "metadata": {},
   "outputs": [
    {
     "data": {
      "text/plain": [
       "3.14"
      ]
     },
     "execution_count": 80,
     "metadata": {},
     "output_type": "execute_result"
    }
   ],
   "source": [
    "# 클래스 변수 pi에 접근해봅시다.\n",
    "Circle.pi"
   ]
  },
  {
   "cell_type": "code",
   "execution_count": 81,
   "id": "comfortable-pipeline",
   "metadata": {},
   "outputs": [
    {
     "data": {
      "text/plain": [
       "(3.14, 3.14)"
      ]
     },
     "execution_count": 81,
     "metadata": {},
     "output_type": "execute_result"
    }
   ],
   "source": [
    "# 인스턴스 c1, c2에서 pi 값을 출력해봅시다.\n",
    "c1.pi, c2.pi"
   ]
  },
  {
   "cell_type": "code",
   "execution_count": 82,
   "id": "outstanding-agriculture",
   "metadata": {},
   "outputs": [],
   "source": [
    "# c1의 pi 값을 3.141592로 변경하여 봅시다.\n",
    "c1.pi = 3.141592\n"
   ]
  },
  {
   "cell_type": "code",
   "execution_count": 83,
   "id": "widespread-happiness",
   "metadata": {},
   "outputs": [
    {
     "data": {
      "text/plain": [
       "(3.141592, 3.14)"
      ]
     },
     "execution_count": 83,
     "metadata": {},
     "output_type": "execute_result"
    }
   ],
   "source": [
    "# c1, c2에서의 pi값을 각각 출력해봅시다.\n",
    "c1.pi, c2.pi\n"
   ]
  },
  {
   "cell_type": "code",
   "execution_count": 84,
   "id": "comparative-voltage",
   "metadata": {},
   "outputs": [
    {
     "data": {
      "text/plain": [
       "3.14"
      ]
     },
     "execution_count": 84,
     "metadata": {},
     "output_type": "execute_result"
    }
   ],
   "source": [
    "# Circle의 pi를 출력해봅시다.\n",
    "Circle.pi\n"
   ]
  },
  {
   "cell_type": "markdown",
   "id": "necessary-therapist",
   "metadata": {},
   "source": [
    "## 클래스 메서드(class method)\n",
    "* 클래스가 사용할 메서드에 해당합니다.\n",
    "* `@classmethod` 데코레이터를 사용하여 정의합니다.\n",
    "* **메서드 호출시, 첫 번째 인자로 클래스 `cls`가 전달됩니다**\n",
    "\n",
    "---\n",
    "\n",
    "**활용법**\n",
    "\n",
    "```python\n",
    "class MyClass:\n",
    "    @classmethod\n",
    "    def class_method(cls, arg1, arg2, ...):\n",
    "        ...\n",
    "\n",
    "# 자동으로 첫 번째 인자로 클래스(MyClass)가 들어갑니다.\n",
    "MyClass.class_method(.., ..)  \n",
    "```"
   ]
  },
  {
   "cell_type": "markdown",
   "id": "amazing-security",
   "metadata": {},
   "source": [
    "## 스태틱 메서드(static method)\n",
    "* 클래스가 사용할 메서드에 해당합니다.\n",
    "* 인스턴스와 클래스의 속성과 무관한 메서드입니다.\n",
    "* `@staticmethod` 데코레이터를 사용하여 정의합니다.\n",
    "* **호출시, 어떠한 인자도 자동으로(`self`, `cls`)전달되지 않습니다**\n",
    "* 속성을 다루지 않고 단지 기능(행동)만을 하는 메서드를 정의할 때 사용합니다.\n",
    "\n",
    "\n",
    "---\n",
    "\n",
    "**활용법**\n",
    "\n",
    "```python\n",
    "class MyClass:\n",
    "    @staticmethod\n",
    "    def static_method(arg1, arg2, ...):\n",
    "        ...\n",
    "\n",
    "MyClass.static_method(.., ..)\n",
    "```"
   ]
  },
  {
   "cell_type": "code",
   "execution_count": 93,
   "id": "severe-astronomy",
   "metadata": {},
   "outputs": [],
   "source": [
    "class MyClass:\n",
    "\n",
    "    def instance_method(self):\n",
    "        return self\n",
    "    \n",
    "    @classmethod\n",
    "    def class_method(cls):\n",
    "        return cls\n",
    "    \n",
    "    @staticmethod\n",
    "    def static_method():\n",
    "        return 1\n"
   ]
  },
  {
   "cell_type": "code",
   "execution_count": 86,
   "id": "insured-technical",
   "metadata": {},
   "outputs": [],
   "source": [
    "# MyClass 클래스의 인스턴스 mc를 생성해봅시다.\n",
    "\n",
    "mc = MyClass()"
   ]
  },
  {
   "cell_type": "code",
   "execution_count": 92,
   "id": "specific-summit",
   "metadata": {},
   "outputs": [
    {
     "data": {
      "text/plain": [
       "True"
      ]
     },
     "execution_count": 92,
     "metadata": {},
     "output_type": "execute_result"
    }
   ],
   "source": [
    "# 인스턴스 메서드를 호출하여 반환된 결과(self)와 인스턴스(mc)를 비교해봅시다.\n",
    "# 1. id를 출력해 보고, 같은 id인지 확인\n",
    "# 2. == 연산자를 확인해 비교\n",
    "\n",
    "mc.instance_method() is mc"
   ]
  },
  {
   "cell_type": "code",
   "execution_count": 91,
   "id": "studied-document",
   "metadata": {},
   "outputs": [
    {
     "data": {
      "text/plain": [
       "True"
      ]
     },
     "execution_count": 91,
     "metadata": {},
     "output_type": "execute_result"
    }
   ],
   "source": [
    "# 클래스 메서드를 호출하여 반환된 결과(cls)와 인스턴스(mc)를 비교해봅시다.\n",
    "# 1. id를 출력해 보고, 같은 id인지 확인\n",
    "# 2. == 연산자를 확인해 비교\n",
    "MyClass.class_method() is MyClass"
   ]
  },
  {
   "cell_type": "code",
   "execution_count": 94,
   "id": "native-packet",
   "metadata": {},
   "outputs": [
    {
     "data": {
      "text/plain": [
       "1"
      ]
     },
     "execution_count": 94,
     "metadata": {},
     "output_type": "execute_result"
    }
   ],
   "source": [
    "# 스태틱 메서드를 호출하고 반환된 결과(arg)를 확인해봅시다.\n",
    "# 인스턴스 메서드, 클래스 메서드처럼 자동으로 전달되는 인자가 없습니다.\n",
    "\n",
    "MyClass.static_method()"
   ]
  },
  {
   "cell_type": "markdown",
   "id": "realistic-absence",
   "metadata": {},
   "source": [
    "## 인스턴스와 클래스 간의 이름 공간 (namespace)\n",
    "\n",
    "* 클래스를 정의하면 클래스와 해당하는 이름 공간이 생성됩니다.\n",
    "* 인스턴스를 만들면 인스턴스 객체가 생성되고 이름 공간이 생성됩니다.\n",
    "* 인스턴스에서 특정 속성에 접근하면, 인스턴스-클래스 순으로 탐색합니다."
   ]
  },
  {
   "cell_type": "code",
   "execution_count": 95,
   "id": "inclusive-fossil",
   "metadata": {},
   "outputs": [],
   "source": [
    "# 먼저 아래 코드에 대한 이름 공간을 확인해봅시다.\n",
    "\n",
    "class Person:\n",
    "    # class var\n",
    "    spices = 'human'\n",
    "    \n",
    "    # instance method\n",
    "    def __init__(self, name):\n",
    "        # instance var\n",
    "        self.name = name\n",
    "\n",
    "        \n",
    "p1 = Person('Hong')\n",
    "p2 = Person('Choi')"
   ]
  },
  {
   "cell_type": "code",
   "execution_count": 96,
   "id": "sustainable-robin",
   "metadata": {},
   "outputs": [],
   "source": [
    "# 아래 셀을 실행하여 이름 공간(namespace) 구성을 시각적으로 확인해보세요.\n",
    "# 클래스를 위한 이름 공간 그리고 인스턴스별로 이름 공간이 따로 구성되는 점에 주목하세요."
   ]
  },
  {
   "cell_type": "code",
   "execution_count": 97,
   "id": "governmental-murder",
   "metadata": {
    "scrolled": true
   },
   "outputs": [
    {
     "data": {
      "text/html": [
       "<iframe width=\"800\" height=\"500\" frameborder=\"0\" src=\"https://pythontutor.com/iframe-embed.html#code=class%20Person%3A%0A%20%20%20%20species%20%3D%20'human'%0A%20%20%20%20%0A%20%20%20%20def%20__init__%28self,%20name%29%3A%0A%20%20%20%20%20%20%20%20self.name%20%3D%20name%20%0A%20%20%20%20%20%20%20%20%0Ap1%20%3D%20Person%28'Hong'%29%0Ap2%20%3D%20Person%28'Choi'%29&codeDivHeight=400&codeDivWidth=350&cumulative=false&curInstr=9&heapPrimitives=nevernest&origin=opt-frontend.js&py=3&rawInputLstJSON=%5B%5D&textReferences=false\"> </iframe>\n"
      ],
      "text/plain": [
       "<IPython.core.display.HTML object>"
      ]
     },
     "metadata": {},
     "output_type": "display_data"
    }
   ],
   "source": [
    "%%html\n",
    "<iframe width=\"800\" height=\"500\" frameborder=\"0\" src=\"https://pythontutor.com/iframe-embed.html#code=class%20Person%3A%0A%20%20%20%20species%20%3D%20'human'%0A%20%20%20%20%0A%20%20%20%20def%20__init__%28self,%20name%29%3A%0A%20%20%20%20%20%20%20%20self.name%20%3D%20name%20%0A%20%20%20%20%20%20%20%20%0Ap1%20%3D%20Person%28'Hong'%29%0Ap2%20%3D%20Person%28'Choi'%29&codeDivHeight=400&codeDivWidth=350&cumulative=false&curInstr=9&heapPrimitives=nevernest&origin=opt-frontend.js&py=3&rawInputLstJSON=%5B%5D&textReferences=false\"> </iframe>"
   ]
  },
  {
   "cell_type": "code",
   "execution_count": 98,
   "id": "later-dealing",
   "metadata": {},
   "outputs": [],
   "source": [
    "# Person 클래스를 재정의하여 다른 예시로 살펴봅시다.\n",
    "\n",
    "class Person:\n",
    "    name = 'unknown'\n",
    "    \n",
    "    def talk(self):\n",
    "        return self.name"
   ]
  },
  {
   "cell_type": "code",
   "execution_count": 100,
   "id": "human-environment",
   "metadata": {
    "scrolled": true
   },
   "outputs": [
    {
     "data": {
      "text/plain": [
       "'unknown'"
      ]
     },
     "execution_count": 100,
     "metadata": {},
     "output_type": "execute_result"
    }
   ],
   "source": [
    "# p1은 인스턴스 변수가 정의되어 있지 않아 클래스 변수가 unknown으로 출력됩니다.\n",
    "p1 = Person()\n",
    "p1.talk()"
   ]
  },
  {
   "cell_type": "code",
   "execution_count": 101,
   "id": "embedded-teach",
   "metadata": {},
   "outputs": [],
   "source": [
    "# p2 인스턴스 변수 name을 다른 값으로 설정해봅시다.\n",
    "p2 = Person()\n",
    "p2.name = 'Yu'"
   ]
  },
  {
   "cell_type": "code",
   "execution_count": 102,
   "id": "baking-living",
   "metadata": {},
   "outputs": [
    {
     "data": {
      "text/plain": [
       "('Yu', 'unknown')"
      ]
     },
     "execution_count": 102,
     "metadata": {},
     "output_type": "execute_result"
    }
   ],
   "source": [
    "# Person 클래스의 값이 Kim으로 변경된 것이 아니므로\n",
    "# p2 인스턴스의 이름 공간에 name이 Kim으로 저장됩니다.\n",
    "\n",
    "p2.name, Person.name"
   ]
  },
  {
   "cell_type": "code",
   "execution_count": 103,
   "id": "directed-grain",
   "metadata": {},
   "outputs": [],
   "source": [
    "# 아래 셀을 실행하여 시각적으로 위의 설명을 시각적으로 살펴봅시다."
   ]
  },
  {
   "cell_type": "code",
   "execution_count": 104,
   "id": "cordless-harrison",
   "metadata": {
    "scrolled": true
   },
   "outputs": [
    {
     "data": {
      "text/html": [
       "<iframe width=\"800\" height=\"500\" frameborder=\"0\" src=\"https://pythontutor.com/iframe-embed.html#code=class%20Person%3A%0A%20%20%20%20name%20%3D%20'unknown'%0A%20%20%20%20%0A%20%20%20%20def%20talk%28self%29%3A%0A%20%20%20%20%20%20%20%20print%28self.name%29%0A%20%20%20%20%20%20%20%20%0Ap2%20%3D%20Person%28%29%0Ap2.talk%28%29%0Ap2.name%20%3D%20'kim'%0Ap2.talk%28%29&codeDivHeight=400&codeDivWidth=350&cumulative=false&curInstr=8&heapPrimitives=nevernest&origin=opt-frontend.js&py=3&rawInputLstJSON=%5B%5D&textReferences=false\"> </iframe>\n"
      ],
      "text/plain": [
       "<IPython.core.display.HTML object>"
      ]
     },
     "metadata": {},
     "output_type": "display_data"
    }
   ],
   "source": [
    "%%html\n",
    "<iframe width=\"800\" height=\"500\" frameborder=\"0\" src=\"https://pythontutor.com/iframe-embed.html#code=class%20Person%3A%0A%20%20%20%20name%20%3D%20'unknown'%0A%20%20%20%20%0A%20%20%20%20def%20talk%28self%29%3A%0A%20%20%20%20%20%20%20%20print%28self.name%29%0A%20%20%20%20%20%20%20%20%0Ap2%20%3D%20Person%28%29%0Ap2.talk%28%29%0Ap2.name%20%3D%20'kim'%0Ap2.talk%28%29&codeDivHeight=400&codeDivWidth=350&cumulative=false&curInstr=8&heapPrimitives=nevernest&origin=opt-frontend.js&py=3&rawInputLstJSON=%5B%5D&textReferences=false\"> </iframe>"
   ]
  },
  {
   "cell_type": "code",
   "execution_count": 111,
   "id": "d1e0be29",
   "metadata": {},
   "outputs": [
    {
     "name": "stdout",
     "output_type": "stream",
     "text": [
      "글로벌\n",
      "인스턴스변수 100\n"
     ]
    },
    {
     "data": {
      "text/plain": [
       "'클래스변수'"
      ]
     },
     "execution_count": 111,
     "metadata": {},
     "output_type": "execute_result"
    }
   ],
   "source": [
    "# 변수는 LEGB 순으로 찾고\n",
    "\n",
    "# 객체의 속성값(attr)과 메서드(method)는 instance => class => 상위 class ... 으로 찾는다.\n",
    "\n",
    "x = '글로벌'\n",
    "\n",
    "class Person:\n",
    "    x = '클래스변수'\n",
    "    y = 100\n",
    "\n",
    "    def __init__(self, x):\n",
    "        self.x = x\n",
    "\n",
    "    def talk(self):\n",
    "        print(x)  # 이건 그냥 변수 L -> G -> B 순으로 찾는다.\n",
    "        print(self.x, self.y)  # 이건 속성값이니까, Instance -> Class 순으로 찾는다.\n",
    "\n",
    "\n",
    "p = Person('인스턴스변수')\n",
    "\n",
    "p.talk()\n",
    "Person.x"
   ]
  },
  {
   "cell_type": "markdown",
   "id": "natural-allowance",
   "metadata": {},
   "source": [
    "# 비교 정리"
   ]
  },
  {
   "cell_type": "markdown",
   "id": "disturbed-understanding",
   "metadata": {},
   "source": [
    "### 인스턴스와 메서드\n",
    "- 인스턴스는 3가지 메서드(인스턴스, 클래스, 정적 메서드) 모두에 접근할 수 있습니다.\n",
    "    - 인스턴스에서 클래스 메서드와 스태틱 메서드는 호출하지 않습니다. (가능하다 != 사용한다)\n",
    "- 인스턴스가 할 행동은 모두 인스턴스 메서드로 한정 지어서 설계합니다.\n"
   ]
  },
  {
   "cell_type": "code",
   "execution_count": 113,
   "id": "chemical-fault",
   "metadata": {},
   "outputs": [],
   "source": [
    "# MyClass를 활용하여 살펴봅시다.\n",
    "\n",
    "class MyClass:\n",
    "    \n",
    "    def instance_method(self):\n",
    "        return 'instance method: ', self\n",
    "    \n",
    "    @classmethod\n",
    "    def class_method(cls):\n",
    "        return 'class method: ', cls\n",
    "    \n",
    "    @staticmethod\n",
    "    def static_method():\n",
    "        return 'static method'"
   ]
  },
  {
   "cell_type": "code",
   "execution_count": 114,
   "id": "italian-amsterdam",
   "metadata": {},
   "outputs": [],
   "source": [
    "# MyClass의 인스턴스를 만들고 mc 변수에 저장합시다.\n",
    "\n",
    "mc = MyClass()"
   ]
  },
  {
   "cell_type": "code",
   "execution_count": 116,
   "id": "restricted-doctrine",
   "metadata": {},
   "outputs": [
    {
     "data": {
      "text/plain": [
       "('instance method: ', <__main__.MyClass at 0x237c0ba9400>)"
      ]
     },
     "execution_count": 116,
     "metadata": {},
     "output_type": "execute_result"
    }
   ],
   "source": [
    "# 인스턴스에서 인스턴스 메서드를 호출하고 결과를 확인해봅시다.\n",
    "\n",
    "mc.instance_method()"
   ]
  },
  {
   "cell_type": "code",
   "execution_count": 118,
   "id": "embedded-purpose",
   "metadata": {},
   "outputs": [
    {
     "data": {
      "text/plain": [
       "('class method: ', __main__.MyClass)"
      ]
     },
     "execution_count": 118,
     "metadata": {},
     "output_type": "execute_result"
    }
   ],
   "source": [
    "# 인스턴스에서 클래스 메서드를 호출하고 결과를 확인해봅시다.\n",
    "\n",
    "mc.class_method()"
   ]
  },
  {
   "cell_type": "code",
   "execution_count": 119,
   "id": "parliamentary-entrance",
   "metadata": {},
   "outputs": [
    {
     "data": {
      "text/plain": [
       "'static method'"
      ]
     },
     "execution_count": 119,
     "metadata": {},
     "output_type": "execute_result"
    }
   ],
   "source": [
    "# 인스턴스에서 스태틱 메서드를 호출하고 결과를 확인해봅시다.\n",
    "\n",
    "mc.static_method()"
   ]
  },
  {
   "cell_type": "markdown",
   "id": "partial-nickname",
   "metadata": {},
   "source": [
    "### 클래스와 메서드\n",
    "- 클래스는 3가지 메서드(인스턴스, 클래스, 정적 메서드) 모두에 접근할 수 있습니다.\n",
    "    - 클래스에서 인스턴스 메서드는 호출하지 않습니다. (가능하다 != 사용한다)\n",
    "- 클래스가 할 행동은 다음 원칙에 따라 설계합니다. (클래스 메서드와 정적 메서드)\n",
    "    - 클래스 자체(`cls`)와 그 속성에 접근할 필요가 있다면 **클래스 메서드**로 정의합니다.\n",
    "    - 클래스와 클래스 속성에 접근할 필요가 없다면 **정적 메서드**로 정의합니다.\n",
    "        - 정적 메서드는 `cls`, `self`와 같이 묵시적인 첫번째 인자를 받지 않기 때문입니다."
   ]
  },
  {
   "cell_type": "code",
   "execution_count": 120,
   "id": "leading-helena",
   "metadata": {},
   "outputs": [
    {
     "ename": "TypeError",
     "evalue": "MyClass.instance_method() missing 1 required positional argument: 'self'",
     "output_type": "error",
     "traceback": [
      "\u001b[31m---------------------------------------------------------------------------\u001b[39m",
      "\u001b[31mTypeError\u001b[39m                                 Traceback (most recent call last)",
      "\u001b[36mCell\u001b[39m\u001b[36m \u001b[39m\u001b[32mIn[120]\u001b[39m\u001b[32m, line 4\u001b[39m\n\u001b[32m      1\u001b[39m \u001b[38;5;66;03m# 클래스에서 인스턴스 메서드를 호출하면 오류가 발생합니다.\u001b[39;00m\n\u001b[32m      2\u001b[39m \u001b[38;5;66;03m# 실행시켜 오류를 확인해봅시다.\u001b[39;00m\n\u001b[32m----> \u001b[39m\u001b[32m4\u001b[39m \u001b[43mMyClass\u001b[49m\u001b[43m.\u001b[49m\u001b[43minstance_method\u001b[49m\u001b[43m(\u001b[49m\u001b[43m)\u001b[49m\n",
      "\u001b[31mTypeError\u001b[39m: MyClass.instance_method() missing 1 required positional argument: 'self'"
     ]
    }
   ],
   "source": [
    "# 클래스에서 인스턴스 메서드를 호출하면 오류가 발생합니다.\n",
    "# 실행시켜 오류를 확인해봅시다.\n",
    "\n",
    "MyClass.instance_method()"
   ]
  },
  {
   "cell_type": "code",
   "execution_count": 121,
   "id": "varying-event",
   "metadata": {
    "scrolled": true
   },
   "outputs": [
    {
     "data": {
      "text/plain": [
       "('instance method: ', <__main__.MyClass at 0x237c0ba9400>)"
      ]
     },
     "execution_count": 121,
     "metadata": {},
     "output_type": "execute_result"
    }
   ],
   "source": [
    "# 클래스에서 인스턴스 메서드를 그냥 호출하면 'self'가 넘어가지 않기 때문에 오류가 발생합니다.\n",
    "# 실행시켜 오류를 확인해봅시다.\n",
    "\n",
    "MyClass.instance_method(mc)"
   ]
  },
  {
   "cell_type": "code",
   "execution_count": 122,
   "id": "reflected-condition",
   "metadata": {},
   "outputs": [
    {
     "data": {
      "text/plain": [
       "('class method: ', __main__.MyClass)"
      ]
     },
     "execution_count": 122,
     "metadata": {},
     "output_type": "execute_result"
    }
   ],
   "source": [
    "# 클래스에서 클래스 메서드를 호출하고 결과를 확인해봅시다.\n",
    "\n",
    "MyClass.class_method()"
   ]
  },
  {
   "cell_type": "code",
   "execution_count": 123,
   "id": "e860ddc9",
   "metadata": {},
   "outputs": [
    {
     "data": {
      "text/plain": [
       "'static method'"
      ]
     },
     "execution_count": 123,
     "metadata": {},
     "output_type": "execute_result"
    }
   ],
   "source": [
    "MyClass.static_method()"
   ]
  },
  {
   "cell_type": "markdown",
   "id": "b84e5901",
   "metadata": {},
   "source": [
    "### 실습\n",
    "\n",
    "Circle 클래스 만들기\n",
    "- 초기화(생성자메서드)할 때, 반지름 `r` 을 받는다.\n",
    "- `get_area()` 메서드에서, 해당 원의 넓이를 `return` 한다.\n"
   ]
  },
  {
   "cell_type": "code",
   "execution_count": 129,
   "id": "55a385f7",
   "metadata": {},
   "outputs": [],
   "source": [
    "class Circle:\n",
    "    # 클래스 변수 => pi - 3.1415\n",
    "    pi = 3.1415\n",
    "    \n",
    "    # 초기화 (반지름 r 입력받기)\n",
    "    def __init__(self, r):\n",
    "        self.r = r\n",
    "    \n",
    "    # get_area 메서드\n",
    "    def get_area(self):\n",
    "        return round(self.pi * self.r**2, 3)"
   ]
  },
  {
   "cell_type": "code",
   "execution_count": 128,
   "id": "21b4e6d9",
   "metadata": {},
   "outputs": [
    {
     "data": {
      "text/plain": [
       "(28.274, 78.538)"
      ]
     },
     "execution_count": 128,
     "metadata": {},
     "output_type": "execute_result"
    }
   ],
   "source": [
    "# 원 2개 생성 (r=3, 5) 후 각 넓이 확인\n",
    "c1 = Circle(3)\n",
    "c2 = Circle(5)\n",
    "\n",
    "c1.get_area(), c2.get_area()"
   ]
  },
  {
   "cell_type": "code",
   "execution_count": 130,
   "id": "67b45e61",
   "metadata": {},
   "outputs": [
    {
     "data": {
      "text/plain": [
       "775.952"
      ]
     },
     "execution_count": 130,
     "metadata": {},
     "output_type": "execute_result"
    }
   ],
   "source": [
    "# 반지름이 3, 5, 7, 8, 10 인 원들의 넓이의 합을 구하시오.\n",
    "total = 0\n",
    "for r in [3, 5, 7, 8, 10]:\n",
    "    total += Circle(r).get_area()\n",
    "\n",
    "total"
   ]
  },
  {
   "cell_type": "markdown",
   "id": "grand-coordinate",
   "metadata": {},
   "source": [
    "# OOP의 핵심 개념\n",
    "\n",
    "- 추상화 (Abstraction)\n",
    "- 상속 (Inheritance)\n",
    "- 다형성 (Polymorphism)\n",
    "- 캡슐화 (Encapsulation)"
   ]
  },
  {
   "cell_type": "markdown",
   "id": "growing-christmas",
   "metadata": {},
   "source": [
    "## 추상화(Abstraction)란?\n",
    "\n",
    "- 객체 지향 프로그래밍에서의 추상화는 세부적인 내용은 감추고 필수적인 부분만 표현하는 것을 뜻합니다.\n",
    "- 현실 세계를 프로그램 설계에 반영하기 위해 사용됩니다.\n",
    "- 여러 클래스가 공통적으로 사용할 속성 및 메서드를 추출하여 기본 클래스로 작성하여 활용합니다."
   ]
  },
  {
   "cell_type": "code",
   "execution_count": 133,
   "id": "bright-rotation",
   "metadata": {},
   "outputs": [],
   "source": [
    "# 학생(Student)을 표현하기 위한 클래스를 생성합니다.\n",
    "\n",
    "class Student:\n",
    "    \n",
    "    def __init__(self, name, age, score):\n",
    "        self.age = age\n",
    "        self.name = name\n",
    "        self.score = score\n",
    "        \n",
    "    def talk(self):\n",
    "        print(f'안녕하세요, {self.name}입니다.')\n",
    "        \n",
    "    def study(self):\n",
    "        self.score += 1\n",
    "    "
   ]
  },
  {
   "cell_type": "code",
   "execution_count": 134,
   "id": "electoral-advisory",
   "metadata": {},
   "outputs": [],
   "source": [
    "# 선생(Teacher)을 표현하기 위한 클래스를 생성합니다.\n",
    "\n",
    "class Teacher:\n",
    "    \n",
    "    def __init__(self, name, age, money):\n",
    "        self.age = age\n",
    "        self.name = name\n",
    "        self.money = money\n",
    "        \n",
    "    def talk(self):\n",
    "        print(f'안녕하세요, {self.name}입니다.')\n",
    "        \n",
    "    def teach(self):\n",
    "        self.money += 100"
   ]
  },
  {
   "cell_type": "code",
   "execution_count": 135,
   "id": "cleared-italic",
   "metadata": {},
   "outputs": [],
   "source": [
    "# 학생 클래스와 선생 클래스의 공통 속성과 행위(메서드)를 추출하여, \n",
    "# Person이라는 클래스를 통해 추상화를 해봅시다.\n",
    "\n",
    "class Person:\n",
    "    def __init__(self, name, age):\n",
    "        self.name = name\n",
    "        self.age = age\n",
    "\n",
    "    def talk(self):\n",
    "        print(f'안녕하세요, {self.name}입니다.')"
   ]
  },
  {
   "cell_type": "markdown",
   "id": "superior-concrete",
   "metadata": {},
   "source": [
    "## 상속(Inheritance)이란?\n",
    "\n",
    "\n",
    "클래스에서 가장 큰 특징은 `상속`이 가능하다는 것입니다. \n",
    "\n",
    "부모 클래스의 모든 속성이 자식 클래스에게 상속 되므로 코드 재사용성이 높아집니다.\n",
    "\n",
    "---\n",
    "\n",
    "**활용법**\n",
    "\n",
    "\n",
    "```python\n",
    "class ChildClass(ParentClass):\n",
    "    <code block>\n",
    "```"
   ]
  },
  {
   "cell_type": "code",
   "execution_count": 137,
   "id": "seventh-pilot",
   "metadata": {},
   "outputs": [],
   "source": [
    "# Person 클래스를 정의해 보겠습니다.\n",
    "\n",
    "class Person:\n",
    "    def __init__(self, name, age):\n",
    "        self.age = age\n",
    "        self.name = name\n",
    "        \n",
    "    def talk(self):\n",
    "        print(f'안녕하세요, {self.name}입니다.')"
   ]
  },
  {
   "cell_type": "code",
   "execution_count": 138,
   "id": "strong-operator",
   "metadata": {},
   "outputs": [
    {
     "name": "stdout",
     "output_type": "stream",
     "text": [
      "안녕하세요, yu입니다.\n"
     ]
    }
   ],
   "source": [
    "# Person 클래스의 인스턴스 p1을 생성해봅시다.\n",
    "# name 속성은 자유롭게 설정합니다.\n",
    "\n",
    "p1 = Person('yu', 100)\n",
    "p1.talk()"
   ]
  },
  {
   "cell_type": "code",
   "execution_count": 150,
   "id": "ordered-bible",
   "metadata": {},
   "outputs": [],
   "source": [
    "# Person 클래스를 상속받아 Student 클래스를 만들어 보겠습니다.\n",
    "class Student(Person):\n",
    "    def __init__(self, name, age, score):\n",
    "        self.name = name\n",
    "        self.age = age\n",
    "        self.score = score\n",
    "\n",
    "    def study(self):\n",
    "        self.score += 1"
   ]
  },
  {
   "cell_type": "code",
   "execution_count": 153,
   "id": "closing-benefit",
   "metadata": {},
   "outputs": [],
   "source": [
    "# Student 클래스의 객체 s1을 만들어봅시다.\n",
    "s1 = Student('kim', 20, 70)\n"
   ]
  },
  {
   "cell_type": "code",
   "execution_count": 154,
   "id": "positive-casting",
   "metadata": {},
   "outputs": [
    {
     "data": {
      "text/plain": [
       "('kim', 70)"
      ]
     },
     "execution_count": 154,
     "metadata": {},
     "output_type": "execute_result"
    }
   ],
   "source": [
    "# s1의 name과 score를 확인해봅시다.\n",
    "s1.name, s1.score"
   ]
  },
  {
   "cell_type": "code",
   "execution_count": 155,
   "id": "noble-gardening",
   "metadata": {},
   "outputs": [
    {
     "name": "stdout",
     "output_type": "stream",
     "text": [
      "안녕하세요, kim입니다.\n"
     ]
    }
   ],
   "source": [
    "# 자식 클래스의 인스턴스는 부모 클래스에 정의된 메서드를 호출 할 수 있습니다.\n",
    "# talk 메서드를 호출해봅시다.\n",
    "s1.talk()\n"
   ]
  },
  {
   "cell_type": "markdown",
   "id": "governing-occurrence",
   "metadata": {},
   "source": [
    "이처럼 상속은 공통된 속성이나 메서드를 부모 클래스에 정의하고, 이를 상속받아 다양한 형태의 사람들을 만들 수 있습니다."
   ]
  },
  {
   "cell_type": "markdown",
   "id": "critical-reader",
   "metadata": {},
   "source": [
    "### `issubclass(class, classinfo)`\n",
    "\n",
    "* class가 classinfo의 subclass인 경우 `True`를 반환합니다."
   ]
  },
  {
   "cell_type": "markdown",
   "id": "catholic-quick",
   "metadata": {},
   "source": [
    "### `isinstance(object, classinfo)`\n",
    "\n",
    "* object가 classinfo의 인스턴스거나 subclass인 경우 `True`를 반환합니다."
   ]
  },
  {
   "cell_type": "code",
   "execution_count": 156,
   "id": "elementary-wells",
   "metadata": {},
   "outputs": [
    {
     "data": {
      "text/plain": [
       "True"
      ]
     },
     "execution_count": 156,
     "metadata": {},
     "output_type": "execute_result"
    }
   ],
   "source": [
    "# issubclass 함수를 통해 Student 클래스와 Person 클래스가 상속관계인지 확인해봅시다. (클래스 상속 검사)\n",
    "# issubclass(자식클래스, 부모클래스)\n",
    "\n",
    "issubclass(Student, Person)"
   ]
  },
  {
   "cell_type": "code",
   "execution_count": 158,
   "id": "downtown-colony",
   "metadata": {},
   "outputs": [
    {
     "data": {
      "text/plain": [
       "True"
      ]
     },
     "execution_count": 158,
     "metadata": {},
     "output_type": "execute_result"
    }
   ],
   "source": [
    "# isinstance 함수를 통해\n",
    "# s1이 Student 클래스의 인스턴스인지, s1이 Person 클래스의 인스턴스인지 모두 확인해봅시다.\n",
    "# isinstance(인스턴스, 클래스)\n",
    "\n",
    "isinstance(s1, Student)\n",
    "isinstance(s1, Person)"
   ]
  },
  {
   "cell_type": "code",
   "execution_count": null,
   "id": "adopted-jackson",
   "metadata": {},
   "outputs": [
    {
     "data": {
      "text/plain": [
       "1"
      ]
     },
     "execution_count": 159,
     "metadata": {},
     "output_type": "execute_result"
    }
   ],
   "source": [
    "# 내장 자료형들도 아래와 같이 상속 관계가 있습니다.\n",
    "# 아래 셀을 실행시켜 확인해봅시다.\n",
    "\n",
    "int('1')  # => int class의 생성자함수 __init__\n",
    "\n",
    "list(range(10))"
   ]
  },
  {
   "cell_type": "code",
   "execution_count": null,
   "id": "described-silly",
   "metadata": {},
   "outputs": [
    {
     "data": {
      "text/plain": [
       "True"
      ]
     },
     "execution_count": 160,
     "metadata": {},
     "output_type": "execute_result"
    }
   ],
   "source": [
    "issubclass(bool, int)\n",
    "# bool, int"
   ]
  },
  {
   "cell_type": "code",
   "execution_count": null,
   "id": "growing-turning",
   "metadata": {
    "scrolled": true
   },
   "outputs": [
    {
     "data": {
      "text/plain": [
       "False"
      ]
     },
     "execution_count": 161,
     "metadata": {},
     "output_type": "execute_result"
    }
   ],
   "source": [
    "issubclass(int, float)"
   ]
  },
  {
   "cell_type": "code",
   "execution_count": 178,
   "id": "15fab764",
   "metadata": {},
   "outputs": [
    {
     "data": {
      "text/plain": [
       "type"
      ]
     },
     "execution_count": 178,
     "metadata": {},
     "output_type": "execute_result"
    }
   ],
   "source": [
    "# 모든 클래스는 type 클래스를 상속받았기 때문에,\n",
    "# dir 에서 실제 내가 정의하지 않아도 이것저것 많이 나옵니다.\n",
    "# 아래 모든 __***__ 는 type 클래스 상속입니다.\n",
    "\n",
    "dir(type)\n",
    "\n",
    "type(list)"
   ]
  },
  {
   "cell_type": "code",
   "execution_count": 180,
   "id": "inappropriate-angle",
   "metadata": {},
   "outputs": [
    {
     "name": "stdout",
     "output_type": "stream",
     "text": [
      "안녕, 학생\n"
     ]
    }
   ],
   "source": [
    "# Person 클래스와 Student 클래스를 함께 정의해 보겠습니다.\n",
    "\n",
    "class Person:\n",
    "    def __init__(self, name, age, number, email):\n",
    "        self.name = name\n",
    "        self.age = age\n",
    "        self.number = number\n",
    "        self.email = email \n",
    "        \n",
    "    def greeting(self):\n",
    "        print(f'안녕, {self.name}')\n",
    "      \n",
    "    \n",
    "class Student(Person):\n",
    "    def __init__(self, name, age, number, email, student_id):\n",
    "        self.name = name\n",
    "        self.age = age\n",
    "        self.number = number\n",
    "        self.email = email \n",
    "        self.student_id = student_id\n",
    "        \n",
    "p1 = Person('홍교수', 200, '0101231234', 'hong@gildong')\n",
    "s1 = Student('학생', 20, '12312312', 'student@naver.com', '190000')\n",
    "\n",
    "s1.greeting()"
   ]
  },
  {
   "cell_type": "markdown",
   "id": "humanitarian-pakistan",
   "metadata": {},
   "source": [
    "### `super()`\n",
    "\n",
    "* 자식 클래스에 메서드를 추가로 구현할 수 있습니다.\n",
    "\n",
    "* 부모 클래스의 내용을 사용하고자 할 때, `super()`를 사용할 수 있습니다.\n",
    "\n",
    "---\n",
    "\n",
    "**활용법**\n",
    "\n",
    "\n",
    "```python\n",
    "class ChildClass(ParentClass):\n",
    "    def method(self, arg):\n",
    "        super().method(arg) \n",
    "```"
   ]
  },
  {
   "cell_type": "code",
   "execution_count": 181,
   "id": "further-karaoke",
   "metadata": {},
   "outputs": [
    {
     "name": "stdout",
     "output_type": "stream",
     "text": [
      "안녕, 홍교수\n",
      "안녕, 학생\n"
     ]
    }
   ],
   "source": [
    "# p1과 s1 모두 greeting 메서드를 호출해봅시다.\n",
    "\n",
    "p1.greeting()\n",
    "s1.greeting()"
   ]
  },
  {
   "cell_type": "markdown",
   "id": "vulnerable-sandwich",
   "metadata": {},
   "source": [
    "위의 코드는 상속을 했음에도 불구하고 초기화(`__init__`)에서 동일한 코드가 반복됩니다. \n",
    "\n",
    "초기화의 중복을 `super()` 함수를 통해 제거해봅시다."
   ]
  },
  {
   "cell_type": "code",
   "execution_count": 182,
   "id": "peripheral-parameter",
   "metadata": {},
   "outputs": [],
   "source": [
    "# Person과 Student를 처음부터 재정의해봅시다.\n",
    "class Person:\n",
    "    def __init__(self, name, age, number, email):\n",
    "        self.name = name\n",
    "        self.age = age\n",
    "        self.number = number\n",
    "        self.email = email \n",
    "        \n",
    "    def greeting(self):\n",
    "        print(f'안녕, {self.name}')\n",
    "      \n",
    "    \n",
    "class Student(Person):\n",
    "    def __init__(self, name, age, number, email, student_id):\n",
    "        # 부모클래스의 init 실행.\n",
    "        super().__init__(name, age, number, email)\n",
    "        self.student_id = student_id\n",
    "\n",
    "            \n",
    "p1 = Person('홍교수', 200, '0101231234', 'hong@gildong')\n",
    "s1 = Student('학생', 20, '12312312', 'student@naver.com', '190000')"
   ]
  },
  {
   "cell_type": "code",
   "execution_count": 183,
   "id": "e8e87a66",
   "metadata": {},
   "outputs": [
    {
     "data": {
      "text/plain": [
       "'student@naver.com'"
      ]
     },
     "execution_count": 183,
     "metadata": {},
     "output_type": "execute_result"
    }
   ],
   "source": [
    "s1.email"
   ]
  },
  {
   "cell_type": "markdown",
   "id": "criminal-apartment",
   "metadata": {},
   "source": [
    "## 다형성(Polymorphism)이란?\n",
    "\n",
    "- 여러 모양을 뜻하는 그리스어로, 동일한 메서드가 클래스에 따라 다르게 행동할 수 있음을 뜻합니다.\n",
    "- 즉, 서로 다른 클래스에 속해있는 객체들이 동일한 메시지에 대해 각기 다른 방식으로 응답될 수 있습니다."
   ]
  },
  {
   "cell_type": "markdown",
   "id": "ecological-clock",
   "metadata": {},
   "source": [
    "### 메서드 오버라이딩\n",
    "> Method Overriding(메서드 오버라이딩): 자식 클래스에서 부모 클래스의 메서드를 재정의하는 것\n",
    "\n",
    "* 상속 받은 메서드를 `재정의`할 수도 있습니다. \n",
    "* 상속 받은 클래스에서 **같은 이름의 메서드**로 덮어씁니다.\n",
    "* `__init__`, `__str__`의 메서드를 정의하는 것 역시, 메서드 오버라이딩입니다."
   ]
  },
  {
   "cell_type": "code",
   "execution_count": 184,
   "id": "engaging-sustainability",
   "metadata": {},
   "outputs": [],
   "source": [
    "# 아래 Person 클래스를 이용하여 메서드 오버라이딩을 해보겠습니다.\n",
    "\n",
    "class Person:\n",
    "    def __init__(self, name, age, number, email):\n",
    "        self.name = name\n",
    "        self.age = age\n",
    "        self.number = number\n",
    "        self.email = email \n",
    "        \n",
    "    def talk(self):\n",
    "        print(f'안녕, {self.name}')"
   ]
  },
  {
   "cell_type": "code",
   "execution_count": 189,
   "id": "handmade-collect",
   "metadata": {},
   "outputs": [],
   "source": [
    "# 위의 Person 클래스를 상속 받아 군인답게 말하는 Soldier 클래스를 만들어봅시다.\n",
    "# talk 메서드를 재정의(override)합니다.\n",
    "\n",
    "class Soldier(Person):\n",
    "    def __init__(self, name, age, number, email, army):\n",
    "        super().__init__(name, age, number, email)\n",
    "        self.army = army\n",
    "        \n",
    "    def talk(self):\n",
    "        print(f'충성, {self.army}의 {self.name}!')"
   ]
  },
  {
   "cell_type": "code",
   "execution_count": 191,
   "id": "detected-bullet",
   "metadata": {},
   "outputs": [
    {
     "name": "stdout",
     "output_type": "stream",
     "text": [
      "안녕, 김사람\n"
     ]
    }
   ],
   "source": [
    "# Person 클래스의 인스턴스 p를 만들어서 talk 메서드를 실행해보세요.\n",
    "p = Person('김사람', 25, 1234, 'person@gmail.com')\n",
    "\n",
    "p.talk()"
   ]
  },
  {
   "cell_type": "code",
   "execution_count": 192,
   "id": "informational-breakfast",
   "metadata": {},
   "outputs": [
    {
     "name": "stdout",
     "output_type": "stream",
     "text": [
      "충성, 해병대의 박군인!\n"
     ]
    }
   ],
   "source": [
    "# Soldier 클래스의 인스턴스 s를 만들어서 talk 메서드를 실행해보세요.\n",
    "\n",
    "s = Soldier('박군인', 22, 1234, 'soldier@gmail.com', '해병대')\n",
    "s.talk()"
   ]
  },
  {
   "cell_type": "markdown",
   "id": "fatty-million",
   "metadata": {},
   "source": [
    "### [연습] Person & Animal (메서드 오버라이딩)\n",
    "\n",
    "> 사실 사람은 포유류입니다. \n",
    ">\n",
    "> Animal Class를 만들고, Person Class 가 상속받도록 구성해봅시다.\n",
    ">\n",
    "> (변수나, 메서드는 자유롭게 만들어보세요.)\n",
    "\n",
    "```\n",
    "예시) \n",
    "모든 동물은 이름이 있고, 사람은 이름과 이메일이 있습니다.\n",
    "모든 동물은 talk 메서드가 있습니다. \n",
    "동물은 '으르렁'하고, 사람은 '안녕'합니다.\n",
    "```\n"
   ]
  },
  {
   "cell_type": "code",
   "execution_count": 195,
   "id": "sophisticated-construction",
   "metadata": {},
   "outputs": [
    {
     "name": "stdout",
     "output_type": "stream",
     "text": [
      "Grrrr\n",
      "안녕\n"
     ]
    }
   ],
   "source": [
    "# 아래에 코드를 작성해주세요.\n",
    "class Animal:\n",
    "    def __init__(self, name):\n",
    "        self.name = name\n",
    "\n",
    "    def talk(self):\n",
    "        print('Grrrr')\n",
    "\n",
    "\n",
    "class Person(Animal):\n",
    "    def __init__(self, name, email):\n",
    "        super().__init__(name)\n",
    "        self.email = email\n",
    "\n",
    "    def talk(self):\n",
    "        print('안녕')\n",
    "\n",
    "a = Animal('해피')\n",
    "a.talk()\n",
    "\n",
    "p = Person('Kim', 'a@gmail.com')\n",
    "p.talk()"
   ]
  },
  {
   "cell_type": "markdown",
   "id": "charitable-gathering",
   "metadata": {},
   "source": [
    "## 캡슐화(Encapsulation)란?\n",
    "\n",
    "- 객체의 일부 구현 내용에 대해 외부로부터의 직접적인 액세스를 차단하는 것을 말합니다.\n",
    "  - 예시: 주민등록번호\n",
    "  \n",
    "- 다른 언어와 달리 파이썬에서 캡슐화는 암묵적으로는 존재하지만, 언어적으로는 존재하지 않습니다.\n",
    "\n",
    "---\n",
    "\n",
    "**접근제어자의 종류**\n",
    "- Public Access Modifier\n",
    "- Protected Access Modifier\n",
    "- Private Access Modifier"
   ]
  },
  {
   "cell_type": "markdown",
   "id": "literary-tracker",
   "metadata": {},
   "source": [
    "### Public Member\n",
    "\n",
    "- 언더바가 없이 시작하는 메서드나 속성들이 이에 해당합니다.\n",
    "- 어디서나 호출 가능합니다.\n",
    "- 하위 클래스에서 메서드 오버라이딩을 허용합니다.\n",
    "- 일반적으로 작성되는 메서드와 속성의 대다수를 차지합니다."
   ]
  },
  {
   "cell_type": "code",
   "execution_count": 196,
   "id": "partial-recorder",
   "metadata": {},
   "outputs": [],
   "source": [
    "# 아래 간단한 Person 클래스가 정의되어 있습니다.\n",
    "\n",
    "class Person:\n",
    "    \n",
    "    def __init__(self, name, age):\n",
    "        self.name = name\n",
    "        self.age = age\n",
    "    \n",
    "    def talk(self):\n",
    "        print('hi')"
   ]
  },
  {
   "cell_type": "code",
   "execution_count": 197,
   "id": "remarkable-module",
   "metadata": {},
   "outputs": [
    {
     "data": {
      "text/plain": [
       "('yu', 20)"
      ]
     },
     "execution_count": 197,
     "metadata": {},
     "output_type": "execute_result"
    }
   ],
   "source": [
    "# Person 클래스의 인스턴스인 p1은 이름(name)과 나이(age) 모두 접근 가능합니다.\n",
    "p1 = Person('yu', 20)\n",
    "\n",
    "p1.name, p1.age"
   ]
  },
  {
   "cell_type": "markdown",
   "id": "cross-browser",
   "metadata": {},
   "source": [
    "### Protected Member\n",
    "\n",
    "- 언더바 1개로 시작하는 메서드나 속성들이 이에 해당합니다.\n",
    "- 암묵적 규칙에 의해 부모 클래스 내부와 자식 클래스에서만 호출 가능합니다.\n",
    "- 하위 클래스에서 메서드 오버라이딩을 허용합니다."
   ]
  },
  {
   "cell_type": "code",
   "execution_count": 203,
   "id": "fifteen-tyler",
   "metadata": {},
   "outputs": [],
   "source": [
    "# Person 클래스를 재정의해봅시다.\n",
    "# 실제 나이(age)에 해당하는 값을 언더바 한 개를 붙여서 Protected Member로 지정하였습니다.\n",
    "class Person:\n",
    "    \n",
    "    def __init__(self, name, age):\n",
    "        self.name = name\n",
    "        # _가 붙은 객체 속성(age)\n",
    "        self._age = age\n",
    "        \n",
    "    def talk(self):\n",
    "        print('hi', self._age)\n",
    "\n",
    "    def get_age(self):\n",
    "        return self._age\n",
    "        \n"
   ]
  },
  {
   "cell_type": "code",
   "execution_count": 205,
   "id": "complimentary-smart",
   "metadata": {
    "scrolled": false
   },
   "outputs": [
    {
     "data": {
      "text/plain": [
       "20"
      ]
     },
     "execution_count": 205,
     "metadata": {},
     "output_type": "execute_result"
    }
   ],
   "source": [
    "# 인스턴스를 만들고 get_age 메서드를 활용하여 호출할 수 있습니다.\n",
    "p1 = Person('yu', 20)\n",
    "p1.get_age()"
   ]
  },
  {
   "cell_type": "code",
   "execution_count": 206,
   "id": "economic-library",
   "metadata": {},
   "outputs": [
    {
     "data": {
      "text/plain": [
       "20"
      ]
     },
     "execution_count": 206,
     "metadata": {},
     "output_type": "execute_result"
    }
   ],
   "source": [
    "# _age에 직접 접근하여도 확인이 가능합니다.\n",
    "# 파이썬에서는 암묵적으로 활용됩니다.\n",
    "p1._age"
   ]
  },
  {
   "cell_type": "code",
   "execution_count": 208,
   "id": "02a45410",
   "metadata": {},
   "outputs": [],
   "source": [
    "# 되지만 하지않는다.\n",
    "p1._age = 100"
   ]
  },
  {
   "cell_type": "markdown",
   "id": "dried-mexican",
   "metadata": {},
   "source": [
    "### Private Member\n",
    "\n",
    "- 언더바 2개로 시작하는 메서드나 속성들이 이에 해당합니다.\n",
    "- 본 클래스 내부에서만 사용이 가능합니다.\n",
    "- 하위 클래스 상속 및 호출이 불가능합니다.\n",
    "- 외부 호출이 불가능합니다."
   ]
  },
  {
   "cell_type": "code",
   "execution_count": 229,
   "id": "crude-evans",
   "metadata": {},
   "outputs": [],
   "source": [
    "# Person 클래스를 다시 재정의해봅시다.\n",
    "# 실제 나이(age)에 해당하는 값을 언더바 두 개를 붙여서 Private Member로 지정하였습니다.\n",
    "\n",
    "class Person:\n",
    "    \n",
    "    def __init__(self, name, age):\n",
    "        self.name = name\n",
    "        self.__age = age\n",
    "    \n",
    "    def get_age(self):\n",
    "        return self.__age\n",
    "    \n",
    "    def set_age(self, age):\n",
    "        if 0 <= age < 200:\n",
    "            self.__age = age"
   ]
  },
  {
   "cell_type": "code",
   "execution_count": 230,
   "id": "architectural-shooting",
   "metadata": {
    "scrolled": true
   },
   "outputs": [
    {
     "data": {
      "text/plain": [
       "20"
      ]
     },
     "execution_count": 230,
     "metadata": {},
     "output_type": "execute_result"
    }
   ],
   "source": [
    "# 인스턴스를 만들고 get_age 메서드를 활용하여 호출할 수 있습니다.\n",
    "# 실행시켜 확인해봅시다.\n",
    "\n",
    "p1 = Person('yu', 20)\n",
    "p1.get_age()"
   ]
  },
  {
   "cell_type": "code",
   "execution_count": null,
   "id": "adaptive-tattoo",
   "metadata": {
    "scrolled": true
   },
   "outputs": [
    {
     "data": {
      "text/plain": [
       "30"
      ]
     },
     "execution_count": 236,
     "metadata": {},
     "output_type": "execute_result"
    }
   ],
   "source": [
    "# __age에 직접 접근이 불가능합니다.\n",
    "p1.set_age(30)\n",
    "p1.get_age()"
   ]
  },
  {
   "cell_type": "markdown",
   "id": "43473762",
   "metadata": {},
   "source": [
    "### 다중 상속\n",
    "* 두개 이상의 클래스를 상속받는 경우, 다중 상속이 됩니다.\n",
    "    * 상속 받은 모든 클래스의 요소를 활용 가능\n",
    "    * 중복된 속성이나 메서드가 있는 경우 상속 순서에 의해 결정\n"
   ]
  },
  {
   "cell_type": "code",
   "execution_count": 238,
   "id": "44ef1352",
   "metadata": {},
   "outputs": [],
   "source": [
    "# Person 클래스를 정의합니다.\n",
    "# Person 클래스는 생성자에서 인스턴스 변수로 name을 설정합니다.\n",
    "\n",
    "class Person:\n",
    "    def __init__(self, name):\n",
    "        self.name = name\n",
    "\n",
    "    def greeting(self):\n",
    "        return f'안녕, {self.name}'"
   ]
  },
  {
   "cell_type": "code",
   "execution_count": 239,
   "id": "c31ca2a4",
   "metadata": {},
   "outputs": [
    {
     "name": "stdout",
     "output_type": "stream",
     "text": [
      "어푸어푸\n"
     ]
    },
    {
     "data": {
      "text/plain": [
       "('안녕, 봉미선', 'XX')"
      ]
     },
     "execution_count": 239,
     "metadata": {},
     "output_type": "execute_result"
    }
   ],
   "source": [
    "# Mom 클래스를 정의합니다.\n",
    "# Mom 클래스는 Person 클래스를 상속받으며, 클래스 변수로 gene을 갖습니다. 값은 'XX'입니다.\n",
    "# Mom 클래스만의 인스턴스 메서드 swim을 자유롭게 정의해봅시다.\n",
    "\n",
    "class Mom(Person):\n",
    "    gene = 'XX'\n",
    "    \n",
    "    def swim(self):\n",
    "        print('어푸어푸')\n",
    "\n",
    "m1 = Mom('봉미선')\n",
    "m1.swim()\n",
    "m1.greeting(), m1.gene"
   ]
  },
  {
   "cell_type": "code",
   "execution_count": 240,
   "id": "5898be32",
   "metadata": {},
   "outputs": [
    {
     "name": "stdout",
     "output_type": "stream",
     "text": [
      "성큼성큼\n"
     ]
    },
    {
     "data": {
      "text/plain": [
       "('안녕, 신형만', 'XY')"
      ]
     },
     "execution_count": 240,
     "metadata": {},
     "output_type": "execute_result"
    }
   ],
   "source": [
    "# Dad 클래스를 정의합니다.\n",
    "# Dad 클래스는 Person 클래스를 상속받으며, 클래스 변수로 gene을 갖습니다. 값은 'XY'입니다.\n",
    "# Dad 클래스만의 인스턴스 메서드 walk를 자유롭게 정의해봅시다.\n",
    "\n",
    "class Dad(Person):\n",
    "    gene = 'XY'\n",
    "    \n",
    "    def walk(self):\n",
    "        print('성큼성큼')\n",
    "        \n",
    "d1 = Dad('신형만')\n",
    "d1.walk()\n",
    "d1.greeting(), d1.gene\n"
   ]
  },
  {
   "cell_type": "code",
   "execution_count": 242,
   "id": "47503a48",
   "metadata": {},
   "outputs": [],
   "source": [
    "# FirstChild 클래스를 정의합니다. \n",
    "# 상속의 순서가 중요합니다.(Dad, Mom) 순서로 상속받아봅시다.\n",
    "# 상속받은 swim 메서드를 재정의(override)해봅시다.\n",
    "# FirstChild 클래스만의 인스턴스 메서드 dance를 자유롭게 정의해봅시다.\n",
    "\n",
    "class FirstChild(Dad, Mom):\n",
    "    def swim(self):\n",
    "        print('첨벙첨벙')\n",
    "        \n",
    "    def dance(self):\n",
    "        print('부리부리')"
   ]
  },
  {
   "cell_type": "code",
   "execution_count": 245,
   "id": "00b1886e",
   "metadata": {},
   "outputs": [],
   "source": [
    "# FirstChild 클래스의 인스턴스 baby1을 생성해봅시다.\n",
    "fc = FirstChild('신짱구')"
   ]
  },
  {
   "cell_type": "code",
   "execution_count": 246,
   "id": "5723fa3b",
   "metadata": {},
   "outputs": [
    {
     "name": "stdout",
     "output_type": "stream",
     "text": [
      "부리부리\n"
     ]
    }
   ],
   "source": [
    "# baby1의 dance 메서드를 실행해봅시다.\n",
    "fc.dance()"
   ]
  },
  {
   "cell_type": "code",
   "execution_count": 248,
   "id": "416743f9",
   "metadata": {},
   "outputs": [
    {
     "name": "stdout",
     "output_type": "stream",
     "text": [
      "첨벙첨벙\n"
     ]
    }
   ],
   "source": [
    "# baby1의 swim 메서드를 실행해봅시다.\n",
    "fc.swim()"
   ]
  },
  {
   "cell_type": "code",
   "execution_count": 249,
   "id": "9297ef76",
   "metadata": {},
   "outputs": [
    {
     "name": "stdout",
     "output_type": "stream",
     "text": [
      "성큼성큼\n"
     ]
    }
   ],
   "source": [
    "# baby1의 walk 메서드를 실행해봅시다.\n",
    "fc.walk()"
   ]
  },
  {
   "cell_type": "code",
   "execution_count": 250,
   "id": "8c4c3641",
   "metadata": {},
   "outputs": [
    {
     "data": {
      "text/plain": [
       "'XY'"
      ]
     },
     "execution_count": 250,
     "metadata": {},
     "output_type": "execute_result"
    }
   ],
   "source": [
    "# baby1의 gene 속성은 어떤 부모클래스의 속성값을 상속받는지 확인해봅시다.\n",
    "fc.gene"
   ]
  },
  {
   "cell_type": "code",
   "execution_count": 251,
   "id": "f69e4ebf",
   "metadata": {},
   "outputs": [],
   "source": [
    "# 이번에는 SecondChild 클래스를 만들어 상속 순서를 바꿔봅시다.\n",
    "# (Mom, Dad) 순서로 상속받아봅시다.\n",
    "# 상속받은 walk 메서드를 재정의(override)해봅시다.\n",
    "# SecondChild 클래스만의 인스턴스 메서드 cry를 자유롭게 정의해봅시다.\n",
    "class SecondChild(Mom, Dad):\n",
    "    \n",
    "    def cry(self):\n",
    "        print('응애')\n",
    "\n"
   ]
  },
  {
   "cell_type": "code",
   "execution_count": 252,
   "id": "306f7009",
   "metadata": {},
   "outputs": [],
   "source": [
    "# SecondChild의 인스턴스 baby2를 생성합니다.\n",
    "sc = SecondChild('짱아')"
   ]
  },
  {
   "cell_type": "code",
   "execution_count": 253,
   "id": "f5ccf88a",
   "metadata": {},
   "outputs": [
    {
     "name": "stdout",
     "output_type": "stream",
     "text": [
      "응애\n"
     ]
    }
   ],
   "source": [
    "# baby2의 cry 메서드를 실행합니다.\n",
    "sc.cry()"
   ]
  },
  {
   "cell_type": "code",
   "execution_count": 254,
   "id": "139d24c7",
   "metadata": {},
   "outputs": [
    {
     "name": "stdout",
     "output_type": "stream",
     "text": [
      "성큼성큼\n"
     ]
    }
   ],
   "source": [
    "# baby2의 walk 메서드를 실행합니다.\n",
    "sc.walk()"
   ]
  },
  {
   "cell_type": "code",
   "execution_count": 255,
   "id": "65970cb7",
   "metadata": {},
   "outputs": [
    {
     "name": "stdout",
     "output_type": "stream",
     "text": [
      "어푸어푸\n"
     ]
    }
   ],
   "source": [
    "# baby2의 swim 메서드를 실행합니다.\n",
    "sc.swim()"
   ]
  },
  {
   "cell_type": "code",
   "execution_count": 256,
   "id": "65a59c7b",
   "metadata": {},
   "outputs": [
    {
     "data": {
      "text/plain": [
       "'XX'"
      ]
     },
     "execution_count": 256,
     "metadata": {},
     "output_type": "execute_result"
    }
   ],
   "source": [
    "# baby2의 gene 속성은 어떤 부모클래스의 속성값을 상속받는지 확인해봅시다.\n",
    "sc.gene"
   ]
  },
  {
   "cell_type": "markdown",
   "id": "b75c46ca",
   "metadata": {},
   "source": [
    "### 상속관계에서의 이름 공간과 MRO (Method Resolution Order)\n",
    "\n",
    "- 기존의 `인스턴스 -> 클래스` 순으로 이름 공간을 탐색해나가는 과정에서 상속관계에 있으면 아래와 같이 확장됩니다.\n",
    "    * 인스턴스 -> 자식 클래스 -> 부모 클래스\n",
    "    \n",
    "- MRO는 해당 인스턴스의 클래스가 어떤 부모 클래스를 가지는지 확인하는 속성 또는 메서드입니다.\n",
    "\n",
    "---\n",
    "\n",
    "**활용법**\n",
    "\n",
    "\n",
    "```python\n",
    "ClassName.__mro__\n",
    "\n",
    "# 또는\n",
    "ClassName.mro()\n",
    "```"
   ]
  },
  {
   "cell_type": "code",
   "execution_count": 257,
   "id": "792a21fc",
   "metadata": {},
   "outputs": [],
   "source": [
    "# Mom, Dad 클래스를 정의해 보겠습니다.\n",
    "\n",
    "class Mom:\n",
    "    def walk(self):\n",
    "        print('사뿐사뿐')\n",
    "        \n",
    "        \n",
    "class Dad:\n",
    "    def walk(self):\n",
    "        print('저벅저벅')"
   ]
  },
  {
   "cell_type": "code",
   "execution_count": 258,
   "id": "7cf34b43",
   "metadata": {},
   "outputs": [],
   "source": [
    "# Mom, Dad 클래스를 활용하여 Daughter, Son 클래스를 정의합니다.\n",
    "\n",
    "class Daughter(Mom, Dad):\n",
    "    pass\n",
    "\n",
    "\n",
    "class Son(Dad, Mom):\n",
    "    pass"
   ]
  },
  {
   "cell_type": "code",
   "execution_count": 259,
   "id": "fe003a45",
   "metadata": {},
   "outputs": [
    {
     "name": "stdout",
     "output_type": "stream",
     "text": [
      "사뿐사뿐\n",
      "저벅저벅\n"
     ]
    }
   ],
   "source": [
    "# Daugher, Son 클래스의 인스턴스를 생성합니다.\n",
    "# 각각의 인스턴스에서 메서드를 호출하고 결과가 어떻게 나오는지 확인합니다.\n",
    "# 아래 코드를 실행해시켜보세요.\n",
    "\n",
    "d = Daughter()\n",
    "s = Son()\n",
    "\n",
    "d.walk()\n",
    "s.walk()"
   ]
  },
  {
   "cell_type": "code",
   "execution_count": 262,
   "id": "0a9c8e9a",
   "metadata": {},
   "outputs": [
    {
     "name": "stdout",
     "output_type": "stream",
     "text": [
      "[<class '__main__.Daughter'>, <class '__main__.Mom'>, <class '__main__.Dad'>, <class 'object'>]\n"
     ]
    }
   ],
   "source": [
    "# Daughter 클래스의 mro 속성을 이용하여 확인해봅시다.\n",
    "\n",
    "print(Daughter.mro())"
   ]
  },
  {
   "cell_type": "code",
   "execution_count": 263,
   "id": "59e044ee",
   "metadata": {},
   "outputs": [
    {
     "name": "stdout",
     "output_type": "stream",
     "text": [
      "[<class '__main__.Son'>, <class '__main__.Dad'>, <class '__main__.Mom'>, <class 'object'>]\n"
     ]
    }
   ],
   "source": [
    "# Son 클래스의 mro 속성을 이용하여 확인해봅시다.\n",
    "\n",
    "print(Son.mro())"
   ]
  },
  {
   "cell_type": "code",
   "execution_count": null,
   "id": "89fa77e7",
   "metadata": {},
   "outputs": [],
   "source": []
  }
 ],
 "metadata": {
  "kernelspec": {
   "display_name": "Python 3",
   "language": "python",
   "name": "python3"
  },
  "language_info": {
   "codemirror_mode": {
    "name": "ipython",
    "version": 3
   },
   "file_extension": ".py",
   "mimetype": "text/x-python",
   "name": "python",
   "nbconvert_exporter": "python",
   "pygments_lexer": "ipython3",
   "version": "3.13.2"
  },
  "toc": {
   "base_numbering": 1,
   "nav_menu": {},
   "number_sections": true,
   "sideBar": true,
   "skip_h1_title": false,
   "title_cell": "Table of Contents",
   "title_sidebar": "Contents",
   "toc_cell": false,
   "toc_position": {
    "height": "calc(100% - 180px)",
    "left": "10px",
    "top": "150px",
    "width": "341px"
   },
   "toc_section_display": true,
   "toc_window_display": false
  }
 },
 "nbformat": 4,
 "nbformat_minor": 5
}
