{
 "cells": [
  {
   "cell_type": "markdown",
   "id": "fd534c20",
   "metadata": {},
   "source": [
    "# Playground"
   ]
  },
  {
   "cell_type": "code",
   "execution_count": 3,
   "id": "e02c83b6",
   "metadata": {},
   "outputs": [
    {
     "data": {
      "text/plain": [
       "['피자', '짜장']"
      ]
     },
     "execution_count": 3,
     "metadata": {},
     "output_type": "execute_result"
    }
   ],
   "source": [
    "menus = ['피자', '짜장', '백반']\n",
    "\n",
    "menus[0:2]"
   ]
  },
  {
   "cell_type": "code",
   "execution_count": null,
   "id": "640fd68d",
   "metadata": {},
   "outputs": [],
   "source": []
  },
  {
   "cell_type": "code",
   "execution_count": 8,
   "id": "a340444c",
   "metadata": {},
   "outputs": [],
   "source": [
    "arr = [\n",
    "    [1, 'a', 9],\n",
    "    [4, 'c', 5],\n",
    "    [2, 'd', 4],\n",
    "    [3, 'b', 3],\n",
    "]"
   ]
  },
  {
   "cell_type": "code",
   "execution_count": 9,
   "id": "e88e060a",
   "metadata": {},
   "outputs": [
    {
     "data": {
      "text/plain": [
       "[[1, 'a', 9], [2, 'd', 4], [3, 'b', 3], [4, 'c', 5]]"
      ]
     },
     "execution_count": 9,
     "metadata": {},
     "output_type": "execute_result"
    }
   ],
   "source": [
    "# arr 안에 있는 리스트들의 idx 0 (1,2,3,4 순) 기준으로 정렬하기\n",
    "arr.sort(key=lambda r: r[0])\n",
    "arr"
   ]
  },
  {
   "cell_type": "code",
   "execution_count": null,
   "id": "d4157714",
   "metadata": {},
   "outputs": [
    {
     "data": {
      "text/plain": [
       "[[2, 'd', 4], [4, 'c', 5], [3, 'b', 3], [1, 'a', 9]]"
      ]
     },
     "execution_count": 10,
     "metadata": {},
     "output_type": "execute_result"
    }
   ],
   "source": [
    "# arr 안에 있는 리스트들의 idx 1 기준 역(d,c,b,a 순)으로 정렬하기\n",
    "arr.sort(key=lambda r: r[1], reverse=True)\n",
    "arr"
   ]
  }
 ],
 "metadata": {
  "kernelspec": {
   "display_name": "Python 3",
   "language": "python",
   "name": "python3"
  },
  "language_info": {
   "codemirror_mode": {
    "name": "ipython",
    "version": 3
   },
   "file_extension": ".py",
   "mimetype": "text/x-python",
   "name": "python",
   "nbconvert_exporter": "python",
   "pygments_lexer": "ipython3",
   "version": "3.13.2"
  }
 },
 "nbformat": 4,
 "nbformat_minor": 5
}
