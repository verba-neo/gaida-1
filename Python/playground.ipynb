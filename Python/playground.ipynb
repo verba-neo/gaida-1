{
 "cells": [
  {
   "cell_type": "markdown",
   "id": "fd534c20",
   "metadata": {},
   "source": [
    "# Playground"
   ]
  },
  {
   "cell_type": "code",
   "execution_count": 3,
   "id": "e02c83b6",
   "metadata": {},
   "outputs": [
    {
     "data": {
      "text/plain": [
       "['피자', '짜장']"
      ]
     },
     "execution_count": 3,
     "metadata": {},
     "output_type": "execute_result"
    }
   ],
   "source": [
    "menus = ['피자', '짜장', '백반']\n",
    "\n",
    "menus[0:2]"
   ]
  },
  {
   "cell_type": "code",
   "execution_count": null,
   "id": "a340444c",
   "metadata": {},
   "outputs": [],
   "source": []
  },
  {
   "cell_type": "code",
   "execution_count": null,
   "id": "d4157714",
   "metadata": {},
   "outputs": [],
   "source": []
  }
 ],
 "metadata": {
  "kernelspec": {
   "display_name": "Python 3",
   "language": "python",
   "name": "python3"
  },
  "language_info": {
   "codemirror_mode": {
    "name": "ipython",
    "version": 3
   },
   "file_extension": ".py",
   "mimetype": "text/x-python",
   "name": "python",
   "nbconvert_exporter": "python",
   "pygments_lexer": "ipython3",
   "version": "3.13.2"
  }
 },
 "nbformat": 4,
 "nbformat_minor": 5
}
