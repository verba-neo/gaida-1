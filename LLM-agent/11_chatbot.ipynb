{
 "cells": [
  {
   "cell_type": "markdown",
   "id": "6ae6ebd1",
   "metadata": {},
   "source": [
    "# Build Chatbot\n",
    "`11_chatbot.ipynb`\n",
    "- https://python.langchain.com/docs/tutorials/chatbot/"
   ]
  },
  {
   "cell_type": "code",
   "execution_count": null,
   "id": "112382ab",
   "metadata": {},
   "outputs": [],
   "source": [
    "from dotenv import load_dotenv\n",
    "from langchain_openai import ChatOpenAI\n",
    "\n",
    "load_dotenv()"
   ]
  },
  {
   "cell_type": "code",
   "execution_count": null,
   "id": "ddd89ef3",
   "metadata": {},
   "outputs": [],
   "source": [
    "from langchain_core.messages import HumanMessage, AIMessage\n",
    "\n",
    "messages = [\n",
    "    HumanMessage(content='Hi!, I am bob.'),\n",
    "    AIMessage(content='Hello bob. how can I help you.'),\n",
    "    HumanMessage(content='Say my name.')\n",
    "]\n",
    "\n",
    "llm = ChatOpenAI(model='gpt-4.1-nano', temperature=0)\n",
    "\n",
    "res = llm.invoke(messages)\n",
    "\n",
    "res.pretty_print()"
   ]
  },
  {
   "cell_type": "code",
   "execution_count": null,
   "id": "8619d163",
   "metadata": {},
   "outputs": [],
   "source": [
    "from langgraph.checkpoint.memory import MemorySaver\n",
    "from langgraph.graph import START, END, MessagesState, StateGraph\n",
    "\n",
    "# Graph Builider\n",
    "builder = StateGraph(state_schema=MessagesState)\n",
    "\n",
    "# Node\n",
    "def simple_node(state: MessagesState):\n",
    "    res = llm.invoke(state['messages'])\n",
    "    return {'messages': res}\n",
    "\n",
    "builder.add_node('simple_node', simple_node)\n",
    "\n",
    "# Edge (Node 끼리 연결)\n",
    "builder.add_edge(START, 'simple_node')\n",
    "builder.add_edge('simple_node', END)\n",
    "\n",
    "# Memory (대화내역 기록)\n",
    "memory = MemorySaver()\n",
    "\n",
    "# Graph (그래프 생성)\n",
    "graph = builder.compile(checkpointer=memory)"
   ]
  },
  {
   "cell_type": "code",
   "execution_count": null,
   "id": "25562645",
   "metadata": {},
   "outputs": [],
   "source": [
    "# 설정(conf, config, configuration -> 설정)\n",
    "config = {'configurable': {'thread_id': 'abc123'}}  # 채팅방 아이디 (바뀌면 다른 대화가 된다.)\n",
    "\n",
    "graph.invoke({'messages': messages}, config=config)"
   ]
  },
  {
   "cell_type": "code",
   "execution_count": null,
   "id": "d4ef9d87",
   "metadata": {},
   "outputs": [],
   "source": [
    "import uuid\n",
    "\n",
    "u_id = uuid.uuid1()\n",
    "print(u_id)\n",
    "\n",
    "config = {'configurable': {'thread_id': '가나다123'}}  # 채팅방 아이디 -> 추후에는 UUID 형식으로 생성\n",
    "messages = [\n",
    "    HumanMessage(content='say my name.')\n",
    "]\n",
    "graph.invoke({'messages': messages}, config=config)"
   ]
  },
  {
   "cell_type": "markdown",
   "id": "6b0f007b",
   "metadata": {},
   "source": [
    "## Langgraph + `PromptTemplate`"
   ]
  },
  {
   "cell_type": "code",
   "execution_count": 32,
   "id": "9f772aab",
   "metadata": {},
   "outputs": [
    {
     "name": "stdout",
     "output_type": "stream",
     "text": [
      "content='너는 유능한 어시스턴트야. 너의 능력을 최대한 활용해서 답을 해봐.' additional_kwargs={} response_metadata={}\n",
      "content='hi' additional_kwargs={} response_metadata={}\n"
     ]
    }
   ],
   "source": [
    "from langchain_core.prompts import ChatPromptTemplate, MessagesPlaceholder\n",
    "\n",
    "prompt_template = ChatPromptTemplate.from_messages([\n",
    "    ('system', '너는 유능한 어시스턴트야. 너의 능력을 최대한 활용해서 답을 해봐.'),\n",
    "    MessagesPlaceholder(variable_name='messages')  # 모든 저장된 대화 내용(최신것 포함)\n",
    "])\n",
    "\n",
    "# 실행 예시\n",
    "for msg in prompt_template.invoke({'messages': ['hi']}).messages:\n",
    "    print(msg)"
   ]
  },
  {
   "cell_type": "markdown",
   "id": "9c81cb93",
   "metadata": {},
   "source": [
    "## State 확장"
   ]
  },
  {
   "cell_type": "code",
   "execution_count": 34,
   "id": "0a8937e3",
   "metadata": {},
   "outputs": [],
   "source": [
    "# 내장된 MessagesState를 확장해서 사용\n",
    "class MyState(MessagesState):\n",
    "    # 상속받아서 이미 key 'messages'는 있음\n",
    "    # messages: Annotated[list[AnyMessage], add_messages]\n",
    "    lang: str\n",
    "\n",
    "builder = StateGraph(state_schema=MyState)\n",
    "\n",
    "prompt_template = ChatPromptTemplate.from_messages([\n",
    "    ('system', '너는 유능한 어시스턴트야. 너의 능력을 최대한 활용해서 답을 해봐. {lang} 언어로 답해.'),\n",
    "    MessagesPlaceholder(variable_name='messages')  # 모든 저장된 대화 내용(최신것 포함)\n",
    "])\n",
    "\n",
    "def simple_node(state: MyState):\n",
    "    # prompt 추가.\n",
    "    chain = prompt_template | llm  # 체인 방식\n",
    "    res = chain.invoke(state)\n",
    "\n",
    "    return {'messages': res}\n",
    "\n",
    "builder.add_node('simple_node', simple_node)\n",
    "\n",
    "builder.add_edge(START, 'simple_node')\n",
    "builder.add_edge('simple_node', END)\n",
    "\n",
    "memory = MemorySaver()\n",
    "\n",
    "graph = builder.compile(checkpointer=memory)"
   ]
  },
  {
   "cell_type": "code",
   "execution_count": 35,
   "id": "8bc8f333",
   "metadata": {},
   "outputs": [
    {
     "name": "stdout",
     "output_type": "stream",
     "text": [
      "================================\u001b[1m Human Message \u001b[0m=================================\n",
      "\n",
      "Hi. I am bob\n",
      "==================================\u001b[1m Ai Message \u001b[0m==================================\n",
      "\n",
      "¡Hola, Bob! Encantado de conocerte. ¿En qué puedo ayudarte hoy?\n"
     ]
    }
   ],
   "source": [
    "config = {'configurable': {'thread_id': 'abc1'}} \n",
    "state = {\n",
    "    'messages': [HumanMessage(content='Hi. I am bob')],\n",
    "    'lang': 'Spanish'\n",
    "}\n",
    "\n",
    "res = graph.invoke(state, config)\n",
    "\n",
    "for msg in res['messages']:\n",
    "    msg.pretty_print()"
   ]
  },
  {
   "cell_type": "code",
   "execution_count": null,
   "id": "cfb7a232",
   "metadata": {},
   "outputs": [],
   "source": []
  },
  {
   "cell_type": "markdown",
   "id": "a63f2605",
   "metadata": {},
   "source": []
  }
 ],
 "metadata": {
  "kernelspec": {
   "display_name": "Python 3",
   "language": "python",
   "name": "python3"
  },
  "language_info": {
   "codemirror_mode": {
    "name": "ipython",
    "version": 3
   },
   "file_extension": ".py",
   "mimetype": "text/x-python",
   "name": "python",
   "nbconvert_exporter": "python",
   "pygments_lexer": "ipython3",
   "version": "3.13.2"
  }
 },
 "nbformat": 4,
 "nbformat_minor": 5
}
