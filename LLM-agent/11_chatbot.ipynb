{
 "cells": [
  {
   "cell_type": "markdown",
   "id": "6ae6ebd1",
   "metadata": {},
   "source": [
    "# Build Chatbot\n",
    "`11_chatbot.ipynb`\n",
    "- https://python.langchain.com/docs/tutorials/chatbot/"
   ]
  },
  {
   "cell_type": "code",
   "execution_count": null,
   "id": "112382ab",
   "metadata": {},
   "outputs": [],
   "source": [
    "from dotenv import load_dotenv\n",
    "from langchain_openai import ChatOpenAI\n",
    "\n",
    "load_dotenv()"
   ]
  },
  {
   "cell_type": "code",
   "execution_count": null,
   "id": "ddd89ef3",
   "metadata": {},
   "outputs": [],
   "source": [
    "from langchain_core.messages import HumanMessage, AIMessage\n",
    "\n",
    "messages = [\n",
    "    HumanMessage(content='Hi!, I am bob.'),\n",
    "    AIMessage(content='Hello bob. how can I help you.'),\n",
    "    HumanMessage(content='Say my name.')\n",
    "]\n",
    "\n",
    "llm = ChatOpenAI(model='gpt-4.1-nano', temperature=0)\n",
    "\n",
    "res = llm.invoke(messages)\n",
    "\n",
    "res.pretty_print()"
   ]
  },
  {
   "cell_type": "code",
   "execution_count": null,
   "id": "8619d163",
   "metadata": {},
   "outputs": [],
   "source": [
    "from langgraph.checkpoint.memory import MemorySaver\n",
    "from langgraph.graph import START, END, MessagesState, StateGraph\n",
    "\n",
    "# Graph Builider\n",
    "builder = StateGraph(state_schema=MessagesState)\n",
    "\n",
    "# Node\n",
    "def simple_node(state: MessagesState):\n",
    "    res = llm.invoke(state['messages'])\n",
    "    return {'messages': res}\n",
    "\n",
    "builder.add_node('simple_node', simple_node)\n",
    "\n",
    "# Edge (Node 끼리 연결)\n",
    "builder.add_edge(START, 'simple_node')\n",
    "builder.add_edge('simple_node', END)\n",
    "\n",
    "# Memory (대화내역 기록)\n",
    "memory = MemorySaver()\n",
    "\n",
    "# Graph (그래프 생성)\n",
    "graph = builder.compile(checkpointer=memory)"
   ]
  },
  {
   "cell_type": "code",
   "execution_count": null,
   "id": "25562645",
   "metadata": {},
   "outputs": [],
   "source": [
    "# 설정(conf, config, configuration -> 설정)\n",
    "config = {'configurable': {'thread_id': 'abc123'}}  # 채팅방 아이디 (바뀌면 다른 대화가 된다.)\n",
    "\n",
    "graph.invoke({'messages': messages}, config=config)"
   ]
  },
  {
   "cell_type": "code",
   "execution_count": null,
   "id": "d4ef9d87",
   "metadata": {},
   "outputs": [],
   "source": [
    "import uuid\n",
    "\n",
    "u_id = uuid.uuid1()\n",
    "print(u_id)\n",
    "\n",
    "config = {'configurable': {'thread_id': '가나다123'}}  # 채팅방 아이디 -> 추후에는 UUID 형식으로 생성\n",
    "messages = [\n",
    "    HumanMessage(content='say my name.')\n",
    "]\n",
    "graph.invoke({'messages': messages}, config=config)"
   ]
  },
  {
   "cell_type": "markdown",
   "id": "6b0f007b",
   "metadata": {},
   "source": [
    "## Langgraph + `PromptTemplate`"
   ]
  },
  {
   "cell_type": "code",
   "execution_count": null,
   "id": "9f772aab",
   "metadata": {},
   "outputs": [],
   "source": [
    "from langchain_core.prompts import ChatPromptTemplate, MessagesPlaceholder\n",
    "\n",
    "prompt_template = ChatPromptTemplate.from_messages([\n",
    "    ('system', '너는 유능한 어시스턴트야. 너의 능력을 최대한 활용해서 답을 해봐.'),\n",
    "    MessagesPlaceholder(variable_name='messages')  # 모든 저장된 대화 내용(최신것 포함)\n",
    "])\n",
    "\n",
    "# 실행 예시\n",
    "for msg in prompt_template.invoke({'messages': ['hi']}).messages:\n",
    "    print(msg)"
   ]
  },
  {
   "cell_type": "markdown",
   "id": "9c81cb93",
   "metadata": {},
   "source": [
    "## State 확장"
   ]
  },
  {
   "cell_type": "code",
   "execution_count": null,
   "id": "0a8937e3",
   "metadata": {},
   "outputs": [],
   "source": [
    "# 내장된 MessagesState를 확장해서 사용\n",
    "class MyState(MessagesState):\n",
    "    # 상속받아서 이미 key 'messages'는 있음\n",
    "    # messages: Annotated[list[AnyMessage], add_messages]\n",
    "    lang: str\n",
    "\n",
    "builder = StateGraph(state_schema=MyState)\n",
    "\n",
    "prompt_template = ChatPromptTemplate.from_messages([\n",
    "    ('system', '너는 유능한 어시스턴트야. 너의 능력을 최대한 활용해서 답을 해봐. {lang} 언어로 답해.'),\n",
    "    MessagesPlaceholder(variable_name='messages')  # 모든 저장된 대화 내용(최신것 포함)\n",
    "])\n",
    "\n",
    "def simple_node(state: MyState):\n",
    "    # prompt 추가.\n",
    "    chain = prompt_template | llm  # 체인 방식\n",
    "    res = chain.invoke(state)\n",
    "\n",
    "    return {'messages': res}\n",
    "\n",
    "builder.add_node('simple_node', simple_node)\n",
    "\n",
    "builder.add_edge(START, 'simple_node')\n",
    "builder.add_edge('simple_node', END)\n",
    "\n",
    "memory = MemorySaver()\n",
    "\n",
    "graph = builder.compile(checkpointer=memory)"
   ]
  },
  {
   "cell_type": "code",
   "execution_count": null,
   "id": "8bc8f333",
   "metadata": {},
   "outputs": [],
   "source": [
    "config = {'configurable': {'thread_id': 'abc1'}} \n",
    "state = {\n",
    "    'messages': [HumanMessage(content='나는 서울에 있어')],\n",
    "    'lang': 'Spanish'\n",
    "}\n",
    "\n",
    "res = graph.invoke(state, config)\n",
    "\n",
    "for msg in res['messages']:\n",
    "    msg.pretty_print()"
   ]
  },
  {
   "cell_type": "markdown",
   "id": "90615821",
   "metadata": {},
   "source": [
    "## 대화 기록 관리하기\n",
    "대확 내역을 관리하지 않으면, LLM의 컨텍스트 윈도우(입력 최대치)를 넘어가 버림.\n"
   ]
  },
  {
   "cell_type": "code",
   "execution_count": null,
   "id": "cfb7a232",
   "metadata": {},
   "outputs": [],
   "source": [
    "from langchain_core.messages import SystemMessage, HumanMessage, AIMessage, trim_messages\n",
    "\n",
    "# trim - 정리하다\n",
    "trimmer = trim_messages(\n",
    "    strategy='last',      # 최신 메세지들을\n",
    "    max_tokens=65,         # 최대 65토큰 까지만 허용,\n",
    "    token_counter=llm,    # llm 모델에 맞춰서 토큰 세고\n",
    "    include_system=True,  # system 프롬프트는 포함(정리X)\n",
    "    allow_partial=False,  # 메세지 중간에서 자르지는 말고\n",
    "    start_on='human',     # 잘린 메세지의 첫번째는 사람 메세지가 되도록\n",
    "    \n",
    ")\n",
    "\n",
    "messages = [\n",
    "    SystemMessage(content=\"you're a good assistant\"),\n",
    "\n",
    "    HumanMessage(content=\"hi! I'm bob\"),\n",
    "    AIMessage(content=\"hi!\"),\n",
    "    HumanMessage(content=\"I like vanilla ice cream\"),\n",
    "    AIMessage(content=\"nice\"),\n",
    "    HumanMessage(content=\"whats 2 + 2\"),\n",
    "    AIMessage(content=\"4\"),\n",
    "    HumanMessage(content=\"thanks\"),\n",
    "    AIMessage(content=\"no problem!\"),\n",
    "    HumanMessage(content=\"having fun?\"),\n",
    "    AIMessage(content=\"yes!\"),\n",
    "]\n",
    "\n",
    "trimmer.invoke(messages)  # 시스템메시지 -> 2+2 부터 등장"
   ]
  },
  {
   "cell_type": "code",
   "execution_count": 76,
   "id": "5d890a89",
   "metadata": {},
   "outputs": [],
   "source": [
    "class MyState(MessagesState):\n",
    "    # messages: ~~\n",
    "    lang: str\n",
    "\n",
    "\n",
    "builder = StateGraph(state_schema=MyState)\n",
    "\n",
    "prompt_template = ChatPromptTemplate.from_messages([\n",
    "    ('system', '너는 유능한 어시스턴트야. 너의 능력을 최대한 활용해서 답을 해봐. {lang} 언어로 답해.'),\n",
    "    MessagesPlaceholder(variable_name='messages')  # 모든 저장된 대화 내용(최신것 포함)\n",
    "])\n",
    "\n",
    "\n",
    "def simple_node(state: MyState):\n",
    "    # 메세지 정리 -> 프롬프트 생성 -> LLM 답변\n",
    "    # print('정리 전 메시지 개수: ', len(state['messages']))\n",
    "    trimmed_messages = trimmer.invoke(state['messages'])\n",
    "    # print('정리 후 메시지 개수: ', len(trimmed_messages))\n",
    "    \n",
    "    # 체인 생성\n",
    "    chain = prompt_template | llm\n",
    "    \n",
    "    # 정리된 메세지로 state 교체 후, 체인 실행\n",
    "    state['messages'] = trimmed_messages\n",
    "    res = chain.invoke(state)\n",
    "\n",
    "    return {'messages': [res]}\n",
    "\n",
    "\n",
    "builder.add_node('simple_node', simple_node)\n",
    "\n",
    "builder.add_edge(START, 'simple_node')\n",
    "builder.add_edge('simple_node', END)\n",
    "\n",
    "memory = MemorySaver()\n",
    "\n",
    "graph = builder.compile(checkpointer=memory)"
   ]
  },
  {
   "cell_type": "code",
   "execution_count": null,
   "id": "f7f50b7a",
   "metadata": {},
   "outputs": [
    {
     "name": "stdout",
     "output_type": "stream",
     "text": [
      "|현재| 당신|의| 상태|에| 대해| 구|체|적인| 정보|가| 없|어서| 정확|히| 말씀|드|리|기| 어렵|습니다|.| 몸| 상태|,| 감|정| 상태|,| 또는| 다른| 어떤| 면|에| 대해| 말씀|해|주|시면| 더| 도움|을| 드|릴| 수| 있을| 것| 같|아요|.| 어떤| 부분|이| 걱|정|되|거나| 궁|금|하|신|지| 알려|주세요|.||"
     ]
    }
   ],
   "source": [
    "config = {'configurable': {'thread_id': 'abc1'}} \n",
    "state = {\n",
    "    'messages': [HumanMessage(content='내 상태는 어때')],\n",
    "    'lang': '한국어'\n",
    "}\n",
    "\n",
    "for chunk, metadata in graph.stream(state, config, stream_mode='messages'):\n",
    "    print(chunk.content, end='|')"
   ]
  }
 ],
 "metadata": {
  "kernelspec": {
   "display_name": "Python 3",
   "language": "python",
   "name": "python3"
  },
  "language_info": {
   "codemirror_mode": {
    "name": "ipython",
    "version": 3
   },
   "file_extension": ".py",
   "mimetype": "text/x-python",
   "name": "python",
   "nbconvert_exporter": "python",
   "pygments_lexer": "ipython3",
   "version": "3.13.2"
  }
 },
 "nbformat": 4,
 "nbformat_minor": 5
}
