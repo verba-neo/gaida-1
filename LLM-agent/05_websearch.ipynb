{
 "cells": [
  {
   "cell_type": "markdown",
   "id": "946d2707",
   "metadata": {},
   "source": [
    "# Tavily Web Search\n",
    "- LLM에게 웹검색을 쥐어주자"
   ]
  },
  {
   "cell_type": "code",
   "execution_count": 4,
   "id": "435e42a2",
   "metadata": {},
   "outputs": [
    {
     "name": "stdout",
     "output_type": "stream",
     "text": [
      "Note: you may need to restart the kernel to use updated packages.\n"
     ]
    },
    {
     "name": "stderr",
     "output_type": "stream",
     "text": [
      "\n",
      "[notice] A new release of pip is available: 24.3.1 -> 25.2\n",
      "[notice] To update, run: python.exe -m pip install --upgrade pip\n"
     ]
    }
   ],
   "source": [
    "%pip install -q langchain-tavily"
   ]
  },
  {
   "cell_type": "code",
   "execution_count": 8,
   "id": "e33184e1",
   "metadata": {},
   "outputs": [
    {
     "data": {
      "text/plain": [
       "True"
      ]
     },
     "execution_count": 8,
     "metadata": {},
     "output_type": "execute_result"
    }
   ],
   "source": [
    "from dotenv import load_dotenv\n",
    "from pprint import pprint\n",
    "\n",
    "load_dotenv()"
   ]
  },
  {
   "cell_type": "code",
   "execution_count": 6,
   "id": "1118d30d",
   "metadata": {},
   "outputs": [],
   "source": [
    "from langchain_tavily import TavilySearch   \n",
    "\n",
    "search_tool = TavilySearch(\n",
    "    max_results=5,\n",
    "    topic=\"general\",\n",
    "    search_depth=\"basic\",\n",
    "    # time_range=\"day\",\n",
    "    # include_domains=None,\n",
    "    # exclude_domains=None\n",
    ")"
   ]
  },
  {
   "cell_type": "code",
   "execution_count": 9,
   "id": "e434d415",
   "metadata": {},
   "outputs": [
    {
     "name": "stdout",
     "output_type": "stream",
     "text": [
      "{'answer': None,\n",
      " 'follow_up_questions': None,\n",
      " 'images': [],\n",
      " 'query': '강남 신세계에서 밥먹을만한 곳 알려줘',\n",
      " 'request_id': '694d0b13-1f47-4642-89a5-21fb8b163b47',\n",
      " 'response_time': 1.27,\n",
      " 'results': [{'content': '강남신세계 혼밥맛집 (106곳) · 1. 소녀방앗간 서울고속터미널점 · 2. 타코벨 '\n",
      "                         '서울고속버스터미널점 · 3. 소이연남 파미에스테이션점 · 4. 갓덴스시 센트럴시티점 · 5. '\n",
      "                         '101번지',\n",
      "              'raw_content': None,\n",
      "              'score': 0.72231215,\n",
      "              'title': \"'강남신세계 혼밥' 맛집 빅데이터 추천순위 Top100 - 다이닝코드\",\n",
      "              'url': 'https://www.diningcode.com/list.dc?query=%EA%B0%95%EB%82%A8%EC%8B%A0%EC%84%B8%EA%B3%84%20%ED%98%BC%EB%B0%A5'},\n",
      "             {'content': 'Missing: 밥 알려줘',\n",
      "              'raw_content': None,\n",
      "              'score': 0.71948266,\n",
      "              'title': '강남 신세계 푸드코트 하우스오브 신세계,스위트파크(Eng CC)/ Seoul ...',\n",
      "              'url': 'https://www.youtube.com/watch?v=wRvUnu8OwWI'},\n",
      "             {'content': 'Missing: 밥 알려줘',\n",
      "              'raw_content': None,\n",
      "              'score': 0.63316137,\n",
      "              'title': '서울 신세계 강남점 근처 맛집 Best 10 - Tripadvisor - 트립어드바이저',\n",
      "              'url': 'https://www.tripadvisor.co.kr/RestaurantsNear-g294197-d9755552-Shinsegae_Gangnam-Seoul.html'},\n",
      "             {'content': '하우스오브신세계 생긴 후로는 하우스오브신세계에서. 자주 밥 먹느라 식당가는 예전처럼 잘 안 '\n",
      "                         '가는데. 오랜만에 생각나서 다녀온 #강남신세계식당가',\n",
      "              'raw_content': None,\n",
      "              'score': 0.60861784,\n",
      "              'title': '강남신세계 혼밥 모음: 밀화, 미도한우함박, 자주한상 : 네이버 블로그',\n",
      "              'url': 'https://blog.naver.com/dailyddo/223720251099?viewType=pc'},\n",
      "             {'content': 'Missing: 밥 알려줘',\n",
      "              'raw_content': None,\n",
      "              'score': 0.588062,\n",
      "              'title': '2025년 신세계 강남점 추천 식당 (9월 업데이트)| Trip Moments',\n",
      "              'url': 'https://kr.trip.com/moments/theme/poi-shinsegae-gangnam-136063632-restaurants-993134/'}]}\n"
     ]
    }
   ],
   "source": [
    "pprint(search_tool.invoke({'query': '강남 신세계에서 밥먹을만한 곳 알려줘'}))"
   ]
  },
  {
   "cell_type": "code",
   "execution_count": 18,
   "id": "5f6ad145",
   "metadata": {},
   "outputs": [
    {
     "data": {
      "text/plain": [
       "\"강남 신세계백화점에서 점심 식사로 추천할 만한 곳으로는 타치바나(지하 1층 하우스오브신세계)가 있으며, 인기 맛집으로는 '포비 강남점', '베통', '김수사' 등이 있습니다. 신세계백화점 내부에서는 미쉐린 빕 구르망 셰프의 점심 한정 메뉴도 경험해보실 수 있습니다.\""
      ]
     },
     "execution_count": 18,
     "metadata": {},
     "output_type": "execute_result"
    }
   ],
   "source": [
    "from langchain.prompts import PromptTemplate\n",
    "from langchain_openai import ChatOpenAI\n",
    "from langchain_core.output_parsers import StrOutputParser\n",
    "from langchain_core.runnables import RunnableLambda, RunnablePassthrough\n",
    "\n",
    "llm = ChatOpenAI(model='gpt-4.1-nano')\n",
    "\n",
    "prompt = PromptTemplate(\n",
    "    input_variables=['query', 'search_results'],\n",
    "    template=\"\"\"넌 웹 검색결과를 요약해서 사용자의 질문에 맞게 좋은 답을 해주는 챗봇이야.\n",
    "\n",
    "    질문: {query}\n",
    "    검색결과: {search_results}\n",
    "    질문에 맞는 답을 검색결과 바탕으로 간단하게 알려줘\n",
    "    \"\"\"\n",
    ")\n",
    "\n",
    "chain = (\n",
    "    {\n",
    "        'query': RunnablePassthrough(),  # 사용자 입력 그대로 이 자리에 들어옴\n",
    "        'search_results': search_tool | RunnableLambda(\n",
    "            lambda x: '\\n'.join(\n",
    "                [f'-{r['title']} ({r['content']})' for r in x['results']]\n",
    "            )\n",
    "        )\n",
    "    }\n",
    "    | prompt\n",
    "    | llm\n",
    "    | StrOutputParser()\n",
    ")\n",
    "\n",
    "chain.invoke('강남 신세계에서 점심 먹기 좋은곳')"
   ]
  },
  {
   "cell_type": "code",
   "execution_count": 17,
   "id": "08b96bb9",
   "metadata": {},
   "outputs": [
    {
     "data": {
      "text/plain": [
       "'강남 신세계 내에서 점심하기 좋은 곳으로는 다양한 레스토랑이 있습니다. 특히, 유명한 일식, 한식, 양식 레스토랑들이 있어 선택의 폭이 넓습니다. 추천드릴 만한 곳은 신세계백화점 내부의 푸드코트와 레스토랑가에서 맛있는 점심 식사를 하실 수 있습니다.'"
      ]
     },
     "execution_count": 17,
     "metadata": {},
     "output_type": "execute_result"
    }
   ],
   "source": [
    "dumb_chain = prompt | llm | StrOutputParser()\n",
    "\n",
    "dumb_chain.invoke({'query': '강남 신세계에서 점심먹기 좋은곳', 'search_results': ''})"
   ]
  },
  {
   "cell_type": "code",
   "execution_count": 26,
   "id": "cd36205f",
   "metadata": {},
   "outputs": [
    {
     "name": "stdout",
     "output_type": "stream",
     "text": [
      "\n",
      "\n",
      "\u001b[1m> Entering new AgentExecutor chain...\u001b[0m\n",
      "\u001b[32;1m\u001b[1;3m\n",
      "Invoking: `tavily_search` with `{'query': '오늘의 한국 날씨', 'search_depth': 'basic'}`\n",
      "\n",
      "\n",
      "\u001b[0m\u001b[36;1m\u001b[1;3m{'query': '오늘의 한국 날씨', 'follow_up_questions': None, 'answer': None, 'images': [], 'results': [{'url': 'https://www.accuweather.com/ko/kr/seoul/226081/hourly-weather-forecast/226081', 'title': '서울특별시, 서울시, 대한민국 시간별 날씨', 'content': '오늘 ## 시간별 일별 레이더 MinuteCast® 대기질 건강 및 활동 ## 오후 9시 85° RealFeel® 96° 더움 대체로 맑음 경보 폭염 경보 경보 폭염 주의보 바람서북서 4mi/h 대기질보통 돌풍9mi/h 습도78% 이슬점77° F AccuLumen Brightness Index™0 (어둡게) 구름량12% 가시거리7mi 운저33500ft ## 오후 10시 83° RealFeel® 95° 더움 맑음 경보 폭염 경보 경보 폭염 주의보 바람서북서 4mi/h 대기질보통 돌풍7mi/h 습도82% 이슬점77° F AccuLumen Brightness Index™0 (어둡게) 구름량0% 가시거리7mi 운저30000ft ## 오후 11시 82° RealFeel® 94° 더움 맑음 경보 폭염 경보 경보 폭염 주의보 바람서북서 2mi/h 대기질보통 돌풍7mi/h 습도85% 이슬점77° F AccuLumen Brightness Index™0 (어둡게) 구름량0% 가시거리7mi 운저30000ft ### 내일 ### 월요일 ### 일별 전 세계 ### 허리케인 ### 악천후 기상 ### 레이더 및 지도 ### 동영상 ## 인근 지역: * 동작구, 서울시', 'score': 0.64639384, 'raw_content': None}, {'url': 'https://www.weather.go.kr/w/weather/forecast/short-term.do?stnId=109', 'title': '기상청 단기예보', 'content': '□ (종합) 무더위와 열대야, 오늘~글피 가끔 소나기, 글피 밤부터 비○ (오늘, 28일) 가끔 구름많음, 오후(12~18시)에 서울.인천.경기도 가끔 소나기, 일부 경기북부 저녁(18~21시)까지 이어짐,    서해5도 늦은 오후(15~18시) 가끔 소나기○ (내일, 29일) 대체로 흐림, 이른 새벽(00~03시) 경기북부에 소나기 시작, 아침(06~09시)부터 서울.인천.경기도 가끔 소나기, 서해5도 늦은 새벽(03~06시)부터 가끔 소나기○ (모레, 30일) 대체로 흐림, 오전(09~12시)까지 서울.인천.경기도 가끔 소나기, 일부 경기북동부 늦은 오후(15~18시)까지 이어짐, 서해5도 낮(12~15시)까지 가끔 소나기○ (글피, 31일) 대체로 흐림, 아침(06~09시)부터 늦은 오후(15~18시) 사이 서울.인천.경기도 가끔 소나기, 저녁(18~21시)부터 인천(강화).경기북부 비 시작,    현재 위치 설정 혹은 검색을 통해 조회한 육상지역 및 해역은 위치 정보 우측의 별표를 클릭하여 관심지역으로 설정할 수 있으며, 관심지역 설정 해제 또한 별표를 다시 클릭하여 해제할 수 있습니다. 설정한 관심지역은 현재 위치 정보 우측의 화살표를 클릭하여 확인할 수 있으며, 사용중인 브라우저 캐시 영역에 저장되므로 캐시 삭제시 설정한 관심지역 정보가 초기화됩니다.\"', 'score': 0.55072874, 'raw_content': None}, {'url': 'https://testweather.kma.go.kr/w/index.do', 'title': '홈 - 기상청 날씨누리', 'content': '○ 오늘(14일) 늦은 밤(22~24시)부터 내일(15일) 아침(09시) 사이 전라권과 경상권내륙을 중심으로 가시거리 200m 미만의 짙은 안개가 끼는 곳이 있겠고, 수도권과 충청권, 강원내륙에는 가시거리 1km 미만의 안개가 끼는 곳이 있겠습니다. 현재 위치 설정 혹은 검색을 통해 조회한 육상지역 및 해역은 위치 정보 우측의 별표를 클릭하여 관심지역으로 설정할 수 있으며, 관심지역 설정 해제 또한 별표를 다시 클릭하여 해제할 수 있습니다. 설정한 관심지역은 현재 위치 정보 우측의 화살표를 클릭하여 확인할 수 있으며, 사용중인 브라우저 캐시 영역에 저장되므로 캐시 삭제시 설정한 관심지역 정보가 초기화됩니다.\" * 첫 화면 상단의 톱니바퀴 아이콘을 클릭하여 날씨누리 홈페이지 첫 화면(기본화면, 지도화면) 및 풍속단위(m/s, km/h)를 맞춤 설정할 수 있습니다. * 날씨누리 첫화면에서 육상 및 해상의 현재 기상정보, 초단기 강수예측, 특보 상황을 지도상에서 확인할 수 있습니다.', 'score': 0.51383984, 'raw_content': None}, {'url': 'https://www.weather.go.kr/', 'title': '기상청 날씨누리: 홈', 'content': '오늘 · 시각: 21시 · 날씨: 흐림 · 기온 : 28℃ · 체감온도: 29℃ · 강수량: · - · 강수확률: 30% · 바람: 동풍 약', 'score': 0.4233394, 'raw_content': None}, {'url': 'https://korean.visitseoul.net/weather', 'title': '서울 실시간 날씨 정보 | 서울 공식 관광정보 웹사이트', 'content': '* 메뉴 바로가기 * 지금의 서울) 지금의 서울 + Visit Seoul 이벤트 + 서울 실시간 관광가이드 + 나의 서울 큐레이션 * 추천) 추천 + 에디터 추천 여행 + 서울 등산관광 다양한 테마의 서울 여행 서울 여행에 대한   + About Seoul **SEOUL GOODS** Family Site; \"패밀리사이트 메뉴 열기\") * Seoul Stay * Accessible Seoul * Seoul Hiking Tourism * SEOUL BLEISURE * 5 서울 추천 * 9 서울 3일 예보 표 : 항목별(오늘, 내일, 모레) 날짜, 날씨, 최저/최고기온(℃), 강수확률 | 항목 | 오늘 : 2025-08-28 | 내일 : 2025-08-29 | 모레 : 2025-08-30 | 대기오염 상세 표 : 항목(오늘예보, 내일예보, 모레예보), 미세먼지(PM10), 초미세먼지(PM2.5) | 항목 | 오늘예보 | 내일예보 | 모레예보 | 주간예보 표 : 항목별 날짜, 날씨, 최저/최고기온(℃)', 'score': 0.38262632, 'raw_content': None}], 'response_time': 1.18, 'request_id': '3359adfd-a1b7-4d36-a0c8-07ab1e59d677'}\u001b[0m\u001b[32;1m\u001b[1;3m\n",
      "Invoking: `tavily_search` with `{'query': '최근 인기 있는 기분 좋은 노래', 'search_depth': 'basic'}`\n",
      "\n",
      "\n",
      "\u001b[0m\u001b[36;1m\u001b[1;3m{'query': '최근 인기 있는 기분 좋은 노래', 'follow_up_questions': None, 'answer': None, 'images': [], 'results': [{'url': 'https://m.blog.naver.com/ssomi_/222069848376', 'title': '도입부 듣는 순간 3초만에 기분 좋아지는 노래 추천 - 블로그', 'content': '1. 일어났어? - 안녕하신가영, 원필(DAY6) · 2. 해바라기 - IZ*ONE · 3. Good Day - Surfaces · 4. Happy! · 5. 민들레 - 우효 · 6. Mr. Sandman - Chordettes.', 'score': 0.5518883, 'raw_content': None}, {'url': 'https://www.reddit.com/r/MusicRecommendations/comments/1d2g0eo/best_feel_good_songs/?tl=ko', 'title': '기분 좋아지는 노래 추천 좀? : r/MusicRecommendations', 'content': 'Outkast의 \"Hey Ya!\". Grand Funk Railroad의 \"Locomotion\". Bill Withers의 \"Lovely Day\". Mason Williams의 \"Classical Gas\". Red Elvises의 \"', 'score': 0.5457947, 'raw_content': None}, {'url': 'https://www.youtube.com/watch?v=Bj-Josz9oWQ', 'title': '𝐏𝐥𝐚𝐲𝐥𝐢𝐬𝐭 지금 딱 듣기 좋은 인기 노래 리스트', 'content': '𝐏𝐥𝐚𝐲𝐥𝐢𝐬𝐭 지금 딱 듣기 좋은 인기 노래 리스트 🎵｜요즘 제목 제일 많이 물어보는 노래 🎧\\n감정 음악\\n14400 subscribers\\n27 likes\\n16521 views\\n14 Jul 2025\\n𝐏𝐥𝐚𝐲𝐥𝐢𝐬𝐭 지금 딱 듣기 좋은 인기 노래 리스트 🎵｜요즘 제목 제일 많이 물어보는 노래 🎧\\n\\n🎵 환영합니다! 감정 음악 채널에 오신 것을 환영합니다. 🎵\\n📸 Photo Credit: Pinterest\\n이곳에서는 감성힙합, R&B, 그리고 인디 음악을 중심으로 감미롭고 감성적인 노래들을 소개해 드리고 있어요.\\n제 채널에서 음악을 들으며 잠시 쉬어가셨으면 좋겠습니다.\\n\\n영상이 마음에 드셨다면 좋아요와 댓글, 그리고 공유도 부탁드려요!\\n시청해 주셔서 감사합니다. 😊🎶💜\\n\\n· YouTube : https://youtube.com/channel/UCYwbEDJRNYTwCeY16aSF03g?si=tWRcH6YdTb9iavCQ\\n· Instagram : https://www.instagram.com/gam_jeong_eum_ak/#\\n· Playlist : https://www.youtube.com/playlist?list=PLUs-5vkxZ6c_xlAy9KKJDinbG1WEN0N5j\\n- Spotify : https://open.spotify.com/album/4xGlAu7KTCjoJZMcUAzMAk?si=OI67lbiXTMio-SN6bK0S5Q\\n© Copyright by 감정 음악. Please do not re-upload.\\n\\n#감정음악\\n#playlist\\n#플레이리스트\\n1 comments\\n', 'score': 0.43093804, 'raw_content': None}, {'url': 'https://www.youtube.com/watch?v=VspkobZn0Y8', 'title': '[최신가요 실시간 인기차트] 2025년 6월 16일 3주차, 멜론 ...', 'content': '하루 종일 듣기 좋은 노래 \\\\일할때 듣기좋은 발라드 추천 광고없는 노래모음 \\\\ 나는 반딧불 / 황가람 , 김필/임영웅/ 멜로망스/ 케이시/거미/ 박보람', 'score': 0.36060217, 'raw_content': None}, {'url': 'https://www.youtube.com/watch?v=lKGVTovUb0w', 'title': '𝐏𝐥𝐚𝐲𝐥𝐢𝐬𝐭 아침부터 기분 업되는 노래들만 모았어요 ☀️', 'content': '팝송 #workmusic #플레이리스트 playlist 00:00 Still Here 02:40 Break It Down 05:31 If You Only Knew 08:17 Still Feels Like Love 11:27 One', 'score': 0.31576815, 'raw_content': None}], 'response_time': 0.93, 'request_id': '6358c17f-4ba8-41f5-a343-19307dc0e14c'}\u001b[0m\u001b[32;1m\u001b[1;3m오늘 서울의 날씨는 맑고 쾌적하며, 낮 기온은 21도 정도로 예상됩니다. 이런 맑고 상쾌한 날씨에 어울리는 음악 추천 드릴게요. 최근 인기가 많고 기분 좋은 노래들입니다:\n",
      "\n",
      "1. **Surfaces - Good Day**  \n",
      "   밝고 경쾌한 멜로디로 하루를 긍정적으로 시작하게 하는 곡입니다.\n",
      "\n",
      "2. **Outkast - Hey Ya!**  \n",
      "   활기차면서도 기분 좋은 느낌의 팝/R&B곡으로, 산뜻한 하루에 딱 어울립니다.\n",
      "\n",
      "3. **Chordettes - Mr. Sandman**  \n",
      "   고전적인 분위기와 상큼한 느낌이 어우러져서 기분을 더욱 좋게 만들어주는 곡입니다.\n",
      "\n",
      "4. **김지수 - 오늘도 좋은 하루** (추천드릴 수 있는 한국 노래도 있어요)  \n",
      "   맑고 기분 좋은 느낌을 주는 노래로, 하루를 활기차게 만들어 줄 수 있어요.\n",
      "\n",
      "이 음악들을 들으며 산책하거나 커피 한잔의 여유를 즐기면 오늘 하루가 더욱 특별하게 느껴질 거예요! 어떤 스타일이 더 끌리시는지 말씀해주시면 더 맞춤형 추천도 가능합니다.\u001b[0m\n",
      "\n",
      "\u001b[1m> Finished chain.\u001b[0m\n"
     ]
    },
    {
     "data": {
      "text/plain": [
       "{'messages': [{'role': 'human', 'content': '오늘 날씨에 맞는 음악 추천해줘'}],\n",
       " 'output': '오늘 서울의 날씨는 맑고 쾌적하며, 낮 기온은 21도 정도로 예상됩니다. 이런 맑고 상쾌한 날씨에 어울리는 음악 추천 드릴게요. 최근 인기가 많고 기분 좋은 노래들입니다:\\n\\n1. **Surfaces - Good Day**  \\n   밝고 경쾌한 멜로디로 하루를 긍정적으로 시작하게 하는 곡입니다.\\n\\n2. **Outkast - Hey Ya!**  \\n   활기차면서도 기분 좋은 느낌의 팝/R&B곡으로, 산뜻한 하루에 딱 어울립니다.\\n\\n3. **Chordettes - Mr. Sandman**  \\n   고전적인 분위기와 상큼한 느낌이 어우러져서 기분을 더욱 좋게 만들어주는 곡입니다.\\n\\n4. **김지수 - 오늘도 좋은 하루** (추천드릴 수 있는 한국 노래도 있어요)  \\n   맑고 기분 좋은 느낌을 주는 노래로, 하루를 활기차게 만들어 줄 수 있어요.\\n\\n이 음악들을 들으며 산책하거나 커피 한잔의 여유를 즐기면 오늘 하루가 더욱 특별하게 느껴질 거예요! 어떤 스타일이 더 끌리시는지 말씀해주시면 더 맞춤형 추천도 가능합니다.'}"
      ]
     },
     "execution_count": 26,
     "metadata": {},
     "output_type": "execute_result"
    }
   ],
   "source": [
    "from langchain.agents import create_openai_tools_agent, AgentExecutor\n",
    "from langchain_core.prompts import ChatPromptTemplate, MessagesPlaceholder\n",
    "from datetime import datetime\n",
    "\n",
    "today = datetime.today().strftime('%D')\n",
    "\n",
    "search_tool = TavilySearch(\n",
    "    max_results=5,\n",
    "    topic='general'\n",
    ")\n",
    "\n",
    "prompt = ChatPromptTemplate.from_messages([\n",
    "    ('system', f'너는 훌륭한 어시스턴트야. 반드시 웹 검색도구를 사용해서 정보를 얻어. 최대한 답을 잘 해보자. 오늘은 {today}야.'),\n",
    "    MessagesPlaceholder(variable_name='messages'),\n",
    "    MessagesPlaceholder(variable_name='agent_scratchpad')  # 도구(검색) 호출때 필요함\n",
    "])\n",
    "\n",
    "agent = create_openai_tools_agent(\n",
    "    llm=llm,\n",
    "    tools=[search_tool],\n",
    "    prompt=prompt\n",
    ")\n",
    "\n",
    "agent_executor = AgentExecutor(agent=agent, tools=[search_tool], verbose=True)\n",
    "\n",
    "agent_executor.invoke({'messages': [{'role': 'human', 'content': '오늘 날씨에 맞는 음악 추천해줘'}]})"
   ]
  }
 ],
 "metadata": {
  "kernelspec": {
   "display_name": "Python 3",
   "language": "python",
   "name": "python3"
  },
  "language_info": {
   "codemirror_mode": {
    "name": "ipython",
    "version": 3
   },
   "file_extension": ".py",
   "mimetype": "text/x-python",
   "name": "python",
   "nbconvert_exporter": "python",
   "pygments_lexer": "ipython3",
   "version": "3.13.2"
  }
 },
 "nbformat": 4,
 "nbformat_minor": 5
}
