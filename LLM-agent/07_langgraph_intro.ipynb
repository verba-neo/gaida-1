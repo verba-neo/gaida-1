{
 "cells": [
  {
   "cell_type": "markdown",
   "id": "173f9604",
   "metadata": {},
   "source": [
    "# Langgraph\n",
    "`07_langgraph_intro.ipynb`\n",
    "\n",
    "**학습자료**\n",
    "- Langchain academy\n",
    "- Officoal Documentation\n",
    "- Teddy Note\n",
    "\n",
    "## Langgraph\n",
    "- State(상태) 기반 워크플로우 오케스트레이션 프레임워크\n",
    "- 그래프 구조: Node(정점) / Edge(간선) 의 형태로 설계 & 실행 가능\n",
    "- 조건 분기: 특정 노드의 결과에 따라 다음 경로가 달라짐\n"
   ]
  },
  {
   "cell_type": "code",
   "execution_count": null,
   "id": "ef236482",
   "metadata": {},
   "outputs": [],
   "source": [
    "%pip install -q langgraph"
   ]
  },
  {
   "cell_type": "code",
   "execution_count": 35,
   "id": "d462168e",
   "metadata": {},
   "outputs": [
    {
     "data": {
      "text/plain": [
       "{'graph_state': 'asdf'}"
      ]
     },
     "execution_count": 35,
     "metadata": {},
     "output_type": "execute_result"
    }
   ],
   "source": [
    "# Typed Dict 방식 -> 가벼움(힌트)\n",
    "from typing_extensions import TypedDict\n",
    "\n",
    "class State(TypedDict):\n",
    "    graph_state: str\n",
    "    history: list\n",
    "\n",
    "'''\n",
    "# Pydantic 방식 -> 무거운(검증)\n",
    "from pydantic import BaseModel\n",
    "\n",
    "class State(BaseModel):\n",
    "    graph_state: str\n",
    "'''\n",
    "\n",
    "# 걍 딕셔너리인데, 키값에 대한 사전정의 + value 의 타입을 설정함(강제X 힌트O)\n",
    "s1 = State()\n",
    "s1['graph_state'] = 'asdf'\n",
    "s1"
   ]
  },
  {
   "cell_type": "code",
   "execution_count": null,
   "id": "d250cabf",
   "metadata": {},
   "outputs": [],
   "source": [
    "# Node 정의 (함수 - state 를 parameter로 받음)\n",
    "\n",
    "def node_1(state: State):\n",
    "    new_str = state['graph_state'] + ' I am '\n",
    "    state['history'].append('node1')\n",
    "    return {'graph_state': new_str}\n",
    "\n",
    "\n",
    "def node_2(state: State):\n",
    "    state['history'].append('node2')\n",
    "    new_str = state['graph_state'] + 'Happy!!'\n",
    "    return {'graph_state': new_str}\n",
    "\n",
    "\n",
    "def node_3(state: State):\n",
    "    state['history'].append('node3')\n",
    "    new_str = state['graph_state'] + 'Sad!!'\n",
    "    return {'graph_state': new_str}"
   ]
  },
  {
   "cell_type": "code",
   "execution_count": 29,
   "id": "8554160e",
   "metadata": {},
   "outputs": [],
   "source": [
    "# 조건 분기(Conditional Edge)\n",
    "\n",
    "def decide_mood(state):\n",
    "    user_input = state['graph_state']\n",
    "    # 사용자 입력의 글자수가 홀수면 node2 로 보내고\n",
    "    if len(user_input) % 2:\n",
    "        return '노드2'\n",
    "    # 사용자 입력이 짝수면 node3 로 보낸다.\n",
    "    else:\n",
    "        return '노드3'"
   ]
  },
  {
   "cell_type": "code",
   "execution_count": 30,
   "id": "8a64b1f4",
   "metadata": {},
   "outputs": [],
   "source": [
    "from IPython.display import Image, display\n",
    "from langgraph.graph import StateGraph, START, END\n",
    "\n",
    "builder = StateGraph(State)\n",
    "# 노드 등록은 k-v 형식\n",
    "builder.add_node('노드1', node_1)\n",
    "builder.add_node('노드2', node_2)\n",
    "builder.add_node('노드3', node_3)\n",
    "\n",
    "# 연결 (Edge)\n",
    "builder.add_edge(START, '노드1')\n",
    "builder.add_conditional_edges('노드1', decide_mood)\n",
    "builder.add_edge('노드2', END)\n",
    "builder.add_edge('노드3', END)\n",
    "\n",
    "# 그래프 빌드\n",
    "graph = builder.compile()"
   ]
  },
  {
   "cell_type": "code",
   "execution_count": null,
   "id": "25fe9d58",
   "metadata": {},
   "outputs": [],
   "source": [
    "display(Image(graph.get_graph().draw_mermaid_png()))"
   ]
  },
  {
   "cell_type": "code",
   "execution_count": 34,
   "id": "e7f1bb27",
   "metadata": {},
   "outputs": [
    {
     "name": "stdout",
     "output_type": "stream",
     "text": [
      "---- Node1 ----\n",
      "---- Node2 ----\n"
     ]
    },
    {
     "data": {
      "text/plain": [
       "{'graph_state': '안녕하 I am Happy!!'}"
      ]
     },
     "execution_count": 34,
     "metadata": {},
     "output_type": "execute_result"
    }
   ],
   "source": [
    "graph.invoke({'graph_state': '안녕하'})"
   ]
  }
 ],
 "metadata": {
  "kernelspec": {
   "display_name": "Python 3",
   "language": "python",
   "name": "python3"
  },
  "language_info": {
   "codemirror_mode": {
    "name": "ipython",
    "version": 3
   },
   "file_extension": ".py",
   "mimetype": "text/x-python",
   "name": "python",
   "nbconvert_exporter": "python",
   "pygments_lexer": "ipython3",
   "version": "3.13.2"
  }
 },
 "nbformat": 4,
 "nbformat_minor": 5
}
