{
 "cells": [
  {
   "cell_type": "code",
   "execution_count": null,
   "id": "3dc181e3",
   "metadata": {},
   "outputs": [],
   "source": [
    "%pip install langchain_experimental"
   ]
  },
  {
   "cell_type": "markdown",
   "id": "3543e0b1",
   "metadata": {},
   "source": [
    "## State"
   ]
  },
  {
   "cell_type": "code",
   "execution_count": 2,
   "id": "6d4cb138",
   "metadata": {},
   "outputs": [],
   "source": [
    "from langgraph.graph import MessagesState\n",
    "from typing_extensions import Any\n",
    "\n",
    "class State(MessagesState):\n",
    "    question: str\n",
    "    dataset: Any\n",
    "    code: str\n",
    "    is_executable: bool\n",
    "    result: str\n",
    "    answer: str"
   ]
  },
  {
   "cell_type": "markdown",
   "id": "14456043",
   "metadata": {},
   "source": []
  },
  {
   "cell_type": "code",
   "execution_count": 3,
   "id": "8278b0c5",
   "metadata": {},
   "outputs": [],
   "source": [
    "from langchain_openai import ChatOpenAI\n",
    "\n",
    "llm = ChatOpenAI(model='gpt-4o', temperature=0)"
   ]
  },
  {
   "cell_type": "code",
   "execution_count": 4,
   "id": "47179c2a",
   "metadata": {},
   "outputs": [],
   "source": [
    "from langchain_core.tools import Tool\n",
    "from langchain.tools import tool\n",
    "from langchain_experimental.utilities import PythonREPL\n",
    "from langgraph.prebuilt import ToolNode"
   ]
  },
  {
   "cell_type": "markdown",
   "id": "05882662",
   "metadata": {},
   "source": [
    "## Nodes"
   ]
  },
  {
   "cell_type": "code",
   "execution_count": null,
   "id": "1be038dc",
   "metadata": {},
   "outputs": [
    {
     "name": "stderr",
     "output_type": "stream",
     "text": [
      "Python REPL can execute arbitrary code. Use with caution.\n"
     ]
    },
    {
     "data": {
      "text/plain": [
       "{'result': 'The mean of the dataset is: 3.0\\n'}"
      ]
     },
     "execution_count": 8,
     "metadata": {},
     "output_type": "execute_result"
    }
   ],
   "source": [
    "from typing_extensions import TypedDict, Annotated\n",
    "\n",
    "class CodeBlock(TypedDict):\n",
    "    code: Annotated[str, ..., '실행 가능한 파이썬 코드']\n",
    "\n",
    "def generate_code(state: State):\n",
    "    prompt = f'''\n",
    "사용자 질문과 데이터셋을 제공할거야. 사용자 질문에 답변하기 위한 파이썬 코드를 생성해 줘.\n",
    "코드는 간단할수록 좋고, numpy, pandas, scikit-learn, scipy 가 설치되어있으니 편하게 써.\n",
    "대신 사용자의 파일/폴더를 건들일 수 있는 코드는 절대 작성하면 안돼.\n",
    "---\n",
    "질문: {state['question']}\n",
    "---\n",
    "데이터셋: {state['dataset']}\n",
    "---\n",
    "코드:\n",
    "    '''\n",
    "    structured_llm = llm.with_structured_output(CodeBlock)\n",
    "    result = structured_llm.invoke(prompt)\n",
    "\n",
    "    return {'code': result['code']}\n",
    "\n",
    "code = generate_code({\n",
    "    'question': '평균을 구해줘',\n",
    "    'dataset': [1, 2, 3, 4, 5]\n",
    "})['code']\n",
    "\n",
    "\n",
    "def execute_code(state: State):\n",
    "    python_repl = PythonREPL()\n",
    "    repl_tool = Tool(\n",
    "        name='python_repl',\n",
    "        description='A Python shell. Use this to execute python commands. Input should be a valid python command. If you want to see the output of a value, you should print it out with `print(...)`.',\n",
    "        func=python_repl.run,\n",
    "    )\n",
    "    result = repl_tool.invoke(state['code'])\n",
    "    return {'result': result}\n"
   ]
  },
  {
   "cell_type": "markdown",
   "id": "b8008fba",
   "metadata": {},
   "source": [
    "## Routers"
   ]
  },
  {
   "cell_type": "code",
   "execution_count": null,
   "id": "9abc9737",
   "metadata": {},
   "outputs": [],
   "source": []
  },
  {
   "cell_type": "markdown",
   "id": "b208742b",
   "metadata": {},
   "source": [
    "## Graph"
   ]
  },
  {
   "cell_type": "code",
   "execution_count": null,
   "id": "a4635e5f",
   "metadata": {},
   "outputs": [],
   "source": [
    "from langgraph.graph import StateGraph, START, END\n",
    "from langgraph.checkpoint.memory import InMemorySaver\n",
    "\n",
    "builder = StateGraph(MessagesState)\n",
    "# builder.add_node()\n",
    "\n",
    "memory = InMemorySaver()\n",
    "graph = builder.compile(checkpointer=memory)"
   ]
  },
  {
   "cell_type": "code",
   "execution_count": null,
   "id": "8f31fecb",
   "metadata": {},
   "outputs": [],
   "source": [
    "config = {\n",
    "    'configurable': {'thread_id': '1'}\n",
    "}\n",
    "question = '현재 데이터의 평균과 표준편차를 구해줘'\n",
    "graph.invoke({\n",
    "    'question': question,\n",
    "    'dataset': [1, 2, 3, 4, 5, 6, 7, 8]\n",
    "}, config)"
   ]
  }
 ],
 "metadata": {
  "kernelspec": {
   "display_name": "Python 3",
   "language": "python",
   "name": "python3"
  },
  "language_info": {
   "codemirror_mode": {
    "name": "ipython",
    "version": 3
   },
   "file_extension": ".py",
   "mimetype": "text/x-python",
   "name": "python",
   "nbconvert_exporter": "python",
   "pygments_lexer": "ipython3",
   "version": "3.13.2"
  }
 },
 "nbformat": 4,
 "nbformat_minor": 5
}
