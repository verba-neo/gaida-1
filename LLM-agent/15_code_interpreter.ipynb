{
 "cells": [
  {
   "cell_type": "markdown",
   "id": "0f4c8712",
   "metadata": {},
   "source": [
    "# 코드 실행기\n",
    "`15_code_interpreter.ipynb`"
   ]
  },
  {
   "cell_type": "code",
   "execution_count": 10,
   "id": "65a88f23",
   "metadata": {},
   "outputs": [
    {
     "data": {
      "text/plain": [
       "True"
      ]
     },
     "execution_count": 10,
     "metadata": {},
     "output_type": "execute_result"
    }
   ],
   "source": [
    "from dotenv import load_dotenv\n",
    "\n",
    "load_dotenv()"
   ]
  },
  {
   "cell_type": "markdown",
   "id": "1e80f233",
   "metadata": {},
   "source": [
    "## State"
   ]
  },
  {
   "cell_type": "code",
   "execution_count": 13,
   "id": "1e1ea777",
   "metadata": {},
   "outputs": [],
   "source": [
    "from langgraph.graph import MessagesState\n",
    "from typing_extensions import Any\n",
    "\n",
    "class State(MessagesState):\n",
    "    question: str  # 사용자 질문\n",
    "    dataset: Any   # 임의이 데이터셋(추후엔 DB에서 가져오거나 해야함)\n",
    "    code: str      # 파이썬 코드 블럭\n",
    "    result: str    # `code`의 실행결과\n",
    "    answer: str    # 최종 답변"
   ]
  },
  {
   "cell_type": "markdown",
   "id": "b5ce9bc5",
   "metadata": {},
   "source": [
    "## Node"
   ]
  },
  {
   "cell_type": "code",
   "execution_count": null,
   "id": "76bb04ae",
   "metadata": {},
   "outputs": [
    {
     "name": "stdout",
     "output_type": "stream",
     "text": [
      "import numpy as np\n",
      "\n",
      "data = [1, 2, 3, 4, 5]\n",
      "\n",
      "# Calculate the mean of the dataset\n",
      "mean_value = np.mean(data)\n",
      "\n",
      "print(f\"평균은 {mean_value}입니다.\")\n"
     ]
    }
   ],
   "source": [
    "from langchain_openai import ChatOpenAI\n",
    "from typing_extensions import TypedDict, Annotated\n",
    "\n",
    "llm = ChatOpenAI(model='gpt-4o', temperature=0)\n",
    "\n",
    "class CodeBlock(TypedDict):\n",
    "    code: Annotated[str, ..., '바로 실행 가능한 파이썬 코드']\n",
    "\n",
    "def generate_code(state: State):\n",
    "    prompt = f'''\n",
    "    사용자 질문과 데이터셋을 제공할거야. 사용자 질문에 답변하기 위한 파이썬 코드를 생성해 줘.\n",
    "    코드는 간단할수록 좋고, numpy, pandas, scikit-learn, scipy 가 설치되어 있으니 편하게 사용해.\n",
    "    [주의] 이 코드는 실행될거기 때문에, 위험한 코드는 작성하면 안돼!\n",
    "    ---\n",
    "    질문: {state['question']}\n",
    "    ---\n",
    "    데이터셋: {state['dataset']}\n",
    "    ---\n",
    "    코드: \n",
    "    '''\n",
    "    s_llm = llm.with_structured_output(CodeBlock)\n",
    "    res = s_llm.invoke(prompt)\n",
    "    return {'code': res['code']}\n",
    "\n",
    "\n",
    "def execute_code(state: State):\n",
    "    pass\n",
    "\n",
    "\n",
    "def generate_answer(state: State):\n",
    "    pass"
   ]
  }
 ],
 "metadata": {
  "language_info": {
   "name": "python"
  }
 },
 "nbformat": 4,
 "nbformat_minor": 5
}
