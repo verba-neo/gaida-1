{
 "cells": [
  {
   "cell_type": "markdown",
   "id": "0f4c8712",
   "metadata": {},
   "source": [
    "# 코드 실행기\n",
    "`15_code_interpreter.ipynb`"
   ]
  },
  {
   "cell_type": "code",
   "execution_count": 10,
   "id": "65a88f23",
   "metadata": {},
   "outputs": [
    {
     "data": {
      "text/plain": [
       "True"
      ]
     },
     "execution_count": 10,
     "metadata": {},
     "output_type": "execute_result"
    }
   ],
   "source": [
    "from dotenv import load_dotenv\n",
    "\n",
    "load_dotenv()"
   ]
  },
  {
   "cell_type": "markdown",
   "id": "1e80f233",
   "metadata": {},
   "source": [
    "## State"
   ]
  },
  {
   "cell_type": "code",
   "execution_count": 13,
   "id": "1e1ea777",
   "metadata": {},
   "outputs": [],
   "source": [
    "from langgraph.graph import MessagesState\n",
    "from typing_extensions import Any\n",
    "\n",
    "class State(MessagesState):\n",
    "    question: str  # 사용자 질문\n",
    "    dataset: Any   # 임의이 데이터셋(추후엔 DB에서 가져오거나 해야함)\n",
    "    code: str      # 파이썬 코드 블럭\n",
    "    result: str    # `code`의 실행결과\n",
    "    answer: str    # 최종 답변"
   ]
  },
  {
   "cell_type": "markdown",
   "id": "b5ce9bc5",
   "metadata": {},
   "source": [
    "## Node"
   ]
  },
  {
   "cell_type": "code",
   "execution_count": 27,
   "id": "7137ee76",
   "metadata": {},
   "outputs": [
    {
     "name": "stdout",
     "output_type": "stream",
     "text": [
      "Note: you may need to restart the kernel to use updated packages.\n"
     ]
    },
    {
     "name": "stderr",
     "output_type": "stream",
     "text": [
      "\n",
      "[notice] A new release of pip is available: 24.3.1 -> 25.2\n",
      "[notice] To update, run: python.exe -m pip install --upgrade pip\n"
     ]
    }
   ],
   "source": [
    "%pip install -q langchain_experimental"
   ]
  },
  {
   "cell_type": "code",
   "execution_count": 42,
   "id": "76bb04ae",
   "metadata": {},
   "outputs": [],
   "source": [
    "from langchain_openai import ChatOpenAI\n",
    "from typing_extensions import TypedDict, Annotated\n",
    "from langchain_experimental.utilities import PythonREPL\n",
    "\n",
    "llm = ChatOpenAI(model='gpt-4o', temperature=0)\n",
    "\n",
    "class CodeBlock(TypedDict):\n",
    "    code: Annotated[str, ..., '바로 실행 가능한 파이썬 코드']\n",
    "\n",
    "\n",
    "def generate_code(state: State):\n",
    "    prompt = f'''\n",
    "    사용자 질문과 데이터셋을 제공할거야. 사용자 질문에 답변하기 위한 파이썬 코드를 생성해 줘.\n",
    "    코드는 간단할수록 좋고, numpy, pandas, scikit-learn, scipy 가 설치되어 있으니 편하게 사용해.\n",
    "    [주의] 이 코드는 실행될거기 때문에, 위험한 코드는 작성하면 안돼!\n",
    "    ---\n",
    "    질문: {state['question']}\n",
    "    ---\n",
    "    데이터셋: {state['dataset']}\n",
    "    ---\n",
    "    코드: \n",
    "    '''\n",
    "    s_llm = llm.with_structured_output(CodeBlock)\n",
    "    res = s_llm.invoke(prompt)\n",
    "    return {'code': res['code']}\n",
    "\n",
    "\n",
    "def execute_code(state: State):\n",
    "    repl = PythonREPL()\n",
    "    result = repl.run(state['code'])\n",
    "    return {'result': result.strip()}\n",
    "\n",
    "\n",
    "def generate_answer(state: State):\n",
    "    prompt = f'''\n",
    "    우리는 사용자 질문 -> 코드 -> 결과를 가지고 있어\n",
    "    사용자의 질문과, 실행코드와 결과를 종합해 최종 답변을 생성해라.\n",
    "    실행코드를 기반으로 왜 이 결과가 나왔는지 설명하면 된다.\n",
    "    ---\n",
    "    질문: {state['question']}\n",
    "    ---\n",
    "    코드: {state['code']}\n",
    "    ---\n",
    "    결과: {state['result']}\n",
    "    ---\n",
    "    최종 답변:\n",
    "    '''\n",
    "    res = llm.invoke(prompt)\n",
    "    return {'answer': res}"
   ]
  },
  {
   "cell_type": "markdown",
   "id": "85b42d3e",
   "metadata": {},
   "source": [
    "## Graph"
   ]
  },
  {
   "cell_type": "code",
   "execution_count": 43,
   "id": "3ed00b9e",
   "metadata": {},
   "outputs": [],
   "source": [
    "from langgraph.graph import StateGraph, START, END\n",
    "from langgraph.checkpoint.memory import InMemorySaver\n",
    "\n",
    "builder = StateGraph(State)\n",
    "builder.add_sequence([generate_code, execute_code, generate_answer])\n",
    "\n",
    "builder.add_edge(START, 'generate_code')\n",
    "builder.add_edge('generate_answer', END)\n",
    "\n",
    "memory = InMemorySaver()\n",
    "graph = builder.compile(checkpointer=memory)"
   ]
  },
  {
   "cell_type": "code",
   "execution_count": 44,
   "id": "a9e7de36",
   "metadata": {},
   "outputs": [
    {
     "name": "stdout",
     "output_type": "stream",
     "text": [
      "{'generate_code': {'code': 'import numpy as np\\nimport pandas as pd\\nfrom sklearn.linear_model import LinearRegression\\n\\n# 데이터셋 정의\\ndata = {\\n    \\'heights\\': [150, 152, 154, 156, 158, 160, 161, 162, 163, 164, 165, 166, 167, 168, 169, 170, 171, 172, 173, 174, 175, 176, 177, 178, 179, 180, 181, 182, 183, 185],\\n    \\'weights\\': [45, 48, 49, 50, 52, 54, 55, 56, 57, 58, 59, 60, 61, 62, 63, 64, 65, 66, 67, 68, 70, 71, 72, 73, 74, 75, 77, 78, 79, 82]\\n}\\n\\n# 데이터프레임 생성\\ndf = pd.DataFrame(data)\\n\\n# 독립 변수와 종속 변수 설정\\nX = df[[\\'heights\\']]\\ny = df[\\'weights\\']\\n\\n# 선형 회귀 모델 생성 및 학습\\nmodel = LinearRegression()\\nmodel.fit(X, y)\\n\\n# 키가 173일 때 몸무게 예측\\nheight_to_predict = np.array([[173]])\\npredicted_weight = model.predict(height_to_predict)\\n\\nprint(f\"키가 173일 때 예측된 몸무게: {predicted_weight[0]:.2f} kg\")'}}\n",
      "{'execute_code': {'result': '키가 173일 때 예측된 몸무게: 67.79 kg'}}\n"
     ]
    },
    {
     "name": "stderr",
     "output_type": "stream",
     "text": [
      "c:\\Users\\user\\AppData\\Local\\Programs\\Python\\Python313\\Lib\\site-packages\\sklearn\\utils\\validation.py:2749: UserWarning: X does not have valid feature names, but LinearRegression was fitted with feature names\n",
      "  warnings.warn(\n"
     ]
    },
    {
     "name": "stdout",
     "output_type": "stream",
     "text": [
      "{'generate_answer': {'answer': AIMessage(content='키가 173일 때 예측된 몸무게는 약 67.79 kg입니다. 이 결과는 주어진 데이터셋을 기반으로 선형 회귀 모델을 사용하여 예측한 것입니다. \\n\\n선형 회귀 모델은 키와 몸무게 간의 관계를 직선으로 나타내어, 키가 주어졌을 때 그에 상응하는 몸무게를 예측합니다. 주어진 데이터셋에는 다양한 키와 그에 따른 몸무게가 포함되어 있으며, 모델은 이 데이터를 학습하여 키와 몸무게 사이의 패턴을 파악합니다. \\n\\n따라서, 키가 173일 때의 몸무게를 예측하기 위해 모델은 학습된 직선의 방정식을 사용하여 해당 키에 대한 몸무게를 계산합니다. 이 과정에서 모델은 키가 173인 경우의 몸무게를 약 67.79 kg으로 예측한 것입니다.', additional_kwargs={'refusal': None}, response_metadata={'token_usage': {'completion_tokens': 201, 'prompt_tokens': 462, 'total_tokens': 663, 'completion_tokens_details': {'accepted_prediction_tokens': 0, 'audio_tokens': 0, 'reasoning_tokens': 0, 'rejected_prediction_tokens': 0}, 'prompt_tokens_details': {'audio_tokens': 0, 'cached_tokens': 0}}, 'model_name': 'gpt-4o-2024-08-06', 'system_fingerprint': 'fp_cbf1785567', 'id': 'chatcmpl-CEWP1LQe0735b2qr0bAI3Y1pqwLYN', 'service_tier': 'default', 'finish_reason': 'stop', 'logprobs': None}, id='run--ec8d62a7-6daf-4ac6-b07c-b9610c028cb9-0', usage_metadata={'input_tokens': 462, 'output_tokens': 201, 'total_tokens': 663, 'input_token_details': {'audio': 0, 'cache_read': 0}, 'output_token_details': {'audio': 0, 'reasoning': 0}})}}\n"
     ]
    }
   ],
   "source": [
    "config = {\n",
    "    'configurable': {'thread_id': '1'}\n",
    "}\n",
    "question = '키를 기반으로 몸무게를 예측해야해. 키는 173이야.'\n",
    "dataset = {\n",
    "    \"heights\": [\n",
    "        150, 152, 154, 156, 158, \n",
    "        160, 161, 162, 163, 164, \n",
    "        165, 166, 167, 168, 169, \n",
    "        170, 171, 172, 173, 174, \n",
    "        175, 176, 177, 178, 179, \n",
    "        180, 181, 182, 183, 185\n",
    "    ],\n",
    "    \"weights\": [\n",
    "        45, 48, 49, 50, 52, \n",
    "        54, 55, 56, 57, 58, \n",
    "        59, 60, 61, 62, 63, \n",
    "        64, 65, 66, 67, 68, \n",
    "        70, 71, 72, 73, 74, \n",
    "        75, 77, 78, 79, 82\n",
    "    ]\n",
    "}\n",
    "\n",
    "for step in graph.stream({\n",
    "    'question': question,\n",
    "    'dataset': dataset\n",
    "}, config):\n",
    "    print(step)"
   ]
  },
  {
   "cell_type": "code",
   "execution_count": 38,
   "id": "4403210c",
   "metadata": {},
   "outputs": [
    {
     "data": {
      "image/png": "[encoded data removed]",
      "text/plain": [
       "<IPython.core.display.Image object>"
      ]
     },
     "execution_count": 38,
     "metadata": {},
     "output_type": "execute_result"
    }
   ],
   "source": [
    "from IPython.display import Image\n",
    "Image(graph.get_graph().draw_mermaid_png())"
   ]
  }
 ],
 "metadata": {
  "language_info": {
   "name": "python"
  }
 },
 "nbformat": 4,
 "nbformat_minor": 5
}
