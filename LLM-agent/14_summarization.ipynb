{
 "cells": [
  {
   "cell_type": "markdown",
   "id": "9ea7777a",
   "metadata": {},
   "source": [
    "# 요약 (Summarization )\n",
    "`14_summarization.ipynb`\n",
    "\n",
    "매우 많은 양의 컨텍스트가 있을 경우, 어떻게 요약을 해야 할까?\n",
    "1. 프롬프트에 다 때려 박기\n",
    "2. Map-Reduce: 각 문서를 요약하고, 이것들을 다 합쳐서 최종 요약본을 만든다."
   ]
  },
  {
   "cell_type": "code",
   "execution_count": 1,
   "id": "6d314897",
   "metadata": {},
   "outputs": [
    {
     "data": {
      "text/plain": [
       "True"
      ]
     },
     "execution_count": 1,
     "metadata": {},
     "output_type": "execute_result"
    }
   ],
   "source": [
    "from dotenv import load_dotenv\n",
    "\n",
    "load_dotenv()"
   ]
  },
  {
   "cell_type": "code",
   "execution_count": null,
   "id": "e0d2fe94",
   "metadata": {},
   "outputs": [],
   "source": [
    "%pip install -q arxiv"
   ]
  },
  {
   "cell_type": "code",
   "execution_count": 13,
   "id": "6e182ff2",
   "metadata": {},
   "outputs": [
    {
     "data": {
      "text/plain": [
       "2"
      ]
     },
     "execution_count": 13,
     "metadata": {},
     "output_type": "execute_result"
    }
   ],
   "source": [
    "from langchain_community.document_loaders import WebBaseLoader, ArxivLoader\n",
    "\n",
    "loader = ArxivLoader(\n",
    "    query='reasoning',\n",
    ")\n",
    "\n",
    "docs = loader.load()\n",
    "docs = docs[:2]\n",
    "len(docs)"
   ]
  },
  {
   "cell_type": "code",
   "execution_count": 4,
   "id": "9072fd7f",
   "metadata": {},
   "outputs": [],
   "source": [
    "from langchain_openai import ChatOpenAI\n",
    "\n",
    "llm = ChatOpenAI(model='gpt-4.1', temperature=0)"
   ]
  },
  {
   "cell_type": "markdown",
   "id": "25b15642",
   "metadata": {},
   "source": [
    "## 문서 때려 박기 (Stuff Docs)"
   ]
  },
  {
   "cell_type": "code",
   "execution_count": 5,
   "id": "f9a2e38b",
   "metadata": {},
   "outputs": [],
   "source": [
    "from langchain.chains.combine_documents import create_stuff_documents_chain\n",
    "from langchain_core.prompts import ChatPromptTemplate\n",
    "\n",
    "prompt = ChatPromptTemplate.from_messages([\n",
    "    ('system', '아래 내용을 정확하게 요약해: \\n\\n{context}')\n",
    "])\n",
    "\n",
    "chain = create_stuff_documents_chain(llm, prompt)\n",
    "\n",
    "res = chain.invoke({'context': docs})"
   ]
  },
  {
   "cell_type": "code",
   "execution_count": 8,
   "id": "cc866680",
   "metadata": {},
   "outputs": [
    {
     "name": "stdout",
     "output_type": "stream",
     "text": [
      "아래 두 논문의 핵심 내용을 각각 정확하게 요약합니다.\n",
      "\n",
      "---\n",
      "\n",
      "### 1. **Process or Result? Manipulated Ending Tokens Can Mislead Reasoning LLMs to Ignore the Correct Reasoning Steps**\n",
      "\n",
      "**핵심 요약:**\n",
      "\n",
      "- **연구 목적:** 최근 수리 추론에 강한 LLM(대형 언어모델)들은 Chain-of-Thought(CoT) 방식으로 자기 검증 및 오류 수정 능력이 향상되었으나, 입력된 추론 과정(Reasoning Tokens)에 미세한 오류가 포함될 경우 얼마나 취약한지 분석함.\n",
      "- **주요 발견:** \n",
      "  - **Compromising Thought (CPT) 현상:** 추론 과정의 마지막 계산 결과(ending tokens)만 살짝 조작해도, LLM은 올바른 추론 과정을 무시하고 조작된(틀린) 결과를 최종 답으로 채택하는 경향이 강함.\n",
      "  - **실험 결과:** 여러 LLM(DeepSeek-R1, OpenAI-o1, o3-mini 등)에서 CPT 저항성을 세 가지 방법(불확실성 유도, 명시적 오류 지시, 출력 프리픽스 강제)으로 측정했으나, 대부분 모델이 조작된 결과를 잘못 받아들이고 자기 수정에 실패함.\n",
      "  - **기존 연구와의 차이:** 기존에는 추론 구조(구성) 변화가 내용(결과) 변화보다 모델 성능에 더 큰 영향을 준다고 했으나, 본 연구는 마지막 결과 토큰의 미세 조작이 구조 변화보다 더 치명적임을 보임.\n",
      "  - **보안 취약점:** DeepSeek-R1은 조작된 reasoning tokens가 입력되면 아예 추론을 멈추고 답을 내지 않는 현상(“thinking stopped”)이 발생함.\n",
      "- **의의:** LLM의 자기 수정 및 추론 견고성에 심각한 취약점이 있음을 밝히고, 수리/추론 중심 응용에서 보안상 주의가 필요함을 강조함.\n",
      "\n",
      "---\n",
      "\n",
      "### 2. **Hypothesis Testing Prompting Improves Deductive Reasoning in Large Language Models**\n",
      "\n",
      "**핵심 요약:**\n",
      "\n",
      "- **연구 목적:** 기존 Chain-of-Thought(CoT) 프롬프트 방식이 복잡한 논리 추론에서 한계(비합리적/허구적 추론 경로 등)를 보이므로, 이를 개선하기 위해 ‘가설 검증 프롬프트(Hypothesis Testing Prompting)’를 제안함.\n",
      "- **방법:** \n",
      "  - 결론에 대한 가설을 세우고(참/거짓 가정), 역방향 추론 및 사실 검증을 중간 단계에 포함시킴.\n",
      "  - 각 결론에 대해 “참이라고 가정하고 역추론→조건 검증, 거짓이라고 가정하고 역추론→조건 검증” 과정을 거쳐 유일한 정답에 도달하도록 유도함.\n",
      "- **실험:** \n",
      "  - 두 논리 추론 데이터셋(RuleTaker, ProofWriter)에서 실험.\n",
      "  - 기존 표준 프롬프트, CoT 프롬프트와 비교 시, Hypothesis Testing Prompting이 특히 복잡한(다단계) 추론에서 정확도와 추론 과정의 합리성 모두에서 우수함을 보임.\n",
      "  - 특히 “Unknown(불확실)” 정답 분류에서 CoT 대비 월등한 성능을 보임.\n",
      "- **의의:** LLM이 더 논리적이고 표준화된 추론 과정을 생성하도록 유도할 수 있으며, 복잡한 논리 추론 문제에서 성능과 해석 가능성을 동시에 높임.\n",
      "\n",
      "---\n",
      "\n",
      "**요약 비교:**  \n",
      "- 첫 논문은 LLM이 입력 추론 과정의 마지막 결과만 살짝 조작해도 쉽게 속아 넘어가며, 자기 수정 능력이 실제로는 취약함을 보임(특히 수리 문제에서).\n",
      "- 두 번째 논문은 LLM의 논리 추론 능력을 높이기 위해, 결론 가정→역추론→사실 검증의 구조적 프롬프트(Hypothesis Testing Prompting)를 도입해, 기존 CoT 방식보다 더 정확하고 합리적인 추론을 유도함을 보임.\n"
     ]
    }
   ],
   "source": [
    "print(res)"
   ]
  },
  {
   "cell_type": "markdown",
   "id": "39898392",
   "metadata": {},
   "source": [
    "## Map - Reduce\n",
    "- 각각 나눠서 요약하기"
   ]
  },
  {
   "cell_type": "code",
   "execution_count": 9,
   "id": "1e641703",
   "metadata": {},
   "outputs": [],
   "source": [
    "from langchain_core.prompts import ChatPromptTemplate\n",
    "\n",
    "prompt = ChatPromptTemplate.from_messages([\n",
    "    ('system', '아래 내용을 정확하게 요약해: \\n\\n{context}')\n",
    "])"
   ]
  },
  {
   "cell_type": "code",
   "execution_count": 11,
   "id": "79858772",
   "metadata": {},
   "outputs": [],
   "source": [
    "reduce_template = \"\"\"\n",
    "아래에 요약된 문서들이야.\n",
    "\n",
    "{docs}\n",
    "---\n",
    "이것들을 가지고 정제해서 최종 통합본을 잘 만들어줘.\n",
    "\"\"\"\n",
    "\n",
    "reduce_prompt = ChatPromptTemplate([\n",
    "    ('human', reduce_template)\n",
    "])"
   ]
  },
  {
   "cell_type": "code",
   "execution_count": 25,
   "id": "9f8acc15",
   "metadata": {},
   "outputs": [
    {
     "data": {
      "text/plain": [
       "3"
      ]
     },
     "execution_count": 25,
     "metadata": {},
     "output_type": "execute_result"
    }
   ],
   "source": [
    "from langchain_community.document_loaders import ArxivLoader\n",
    "\n",
    "loader = ArxivLoader(query='reasoning')\n",
    "docs = loader.load()\n",
    "len(docs)"
   ]
  },
  {
   "cell_type": "code",
   "execution_count": 37,
   "id": "56c1993d",
   "metadata": {},
   "outputs": [],
   "source": [
    "from langchain_community.document_loaders import WebBaseLoader\n",
    "\n",
    "loader = WebBaseLoader(\"https://lilianweng.github.io/posts/2023-06-23-agent/\")\n",
    "docs = loader.load()"
   ]
  },
  {
   "cell_type": "markdown",
   "id": "86524b65",
   "metadata": {},
   "source": [
    "### Langgrpah로 문서별 요약 작업 조율"
   ]
  },
  {
   "cell_type": "code",
   "execution_count": 39,
   "id": "9f0132a8",
   "metadata": {},
   "outputs": [
    {
     "name": "stderr",
     "output_type": "stream",
     "text": [
      "Created a chunk of size 1003, which is longer than the specified 1000\n"
     ]
    },
    {
     "data": {
      "text/plain": [
       "13"
      ]
     },
     "execution_count": 39,
     "metadata": {},
     "output_type": "execute_result"
    }
   ],
   "source": [
    "# 문서를 더 작은 문서로 쪼개기\n",
    "from langchain_text_splitters import CharacterTextSplitter\n",
    "\n",
    "text_splitter = CharacterTextSplitter.from_tiktoken_encoder(\n",
    "    chunk_size=1000,  # tiktoken 인코더라 토큰 기준 1000개\n",
    "    chunk_overlap=0,\n",
    ")\n",
    "\n",
    "split_docs = text_splitter.split_documents(docs)\n",
    "len(split_docs)"
   ]
  },
  {
   "cell_type": "code",
   "execution_count": null,
   "id": "33dd1b63",
   "metadata": {},
   "outputs": [],
   "source": [
    "import operator\n",
    "from typing_extensions import Annotated, List, Literal, TypedDict\n",
    "\n",
    "from langchain.chains.combine_documents.reduce import acollapse_docs, split_list_of_docs\n",
    "from langchain_core.documents import Document\n",
    "from langgraph.types import Send\n",
    "from langgraph.graph import START, END, StateGraph\n",
    "\n",
    "TOKEN_MAX = 1000\n",
    "\n",
    "# 전체적으로 사용할 State (Reduce)\n",
    "class OverallState(TypedDict):\n",
    "    contents: List[str]                         # 입력 문서 조각의 내용들\n",
    "    summaries: Annotated[list, operator.add]    # 각 contents의 요약본 (노드들이 여러개의 요약을 반환하면, 자동으로 리스트에 합쳐짐)\n",
    "    collapsed_summaries: List[Document]         # summaries를 Document로 포장한 것들\n",
    "    final_summary: str                          # 최종 요약본\n",
    "\n",
    "\n",
    "# 개별 문서를 처리할 State (Map)\n",
    "class SummaryState(TypedDict):\n",
    "    content: str    # 각 문서를 요약할 때 사용할 문서의 내용\n"
   ]
  },
  {
   "cell_type": "code",
   "execution_count": null,
   "id": "f179fa52",
   "metadata": {},
   "outputs": [],
   "source": [
    "map_prmopt = ChatPromptTemplate.from_messages([\n",
    "    ('system', '아래 내용의 정확한 요약을 해\\n\\n{context}')\n",
    "])\n",
    "\n",
    "# Edge (router) -> 각 원본조각을 요약할수 있게 generate_summary 로 보냄 (문서 조각 개수만큼)\n",
    "def map_summaries(state: OverallState):\n",
    "    result = []\n",
    "    for content in state['contents']:\n",
    "        result.append(Send('generate_summary', {'content': content}))\n",
    "    return result  # List Comprehension 으로 교체 가능\n",
    "\n",
    "# Node: 주어진 내용을 요약함.\n",
    "def generate_summary(state: SummaryState):\n",
    "    prompt = map_prmopt.invoke({'context': state['content']})\n",
    "    res = llm.invoke(prompt)\n",
    "    return {'summaries': [res.content]}"
   ]
  },
  {
   "cell_type": "code",
   "execution_count": null,
   "id": "4c348959",
   "metadata": {},
   "outputs": [],
   "source": [
    "graph = StateGraph(OverallState)\n",
    "\n",
    "graph.add_node('generate_summary', generate_summary)\n",
    "\n",
    "graph.add_conditional_edges(START, map_summaries, ['generate_summary'])\n",
    "\n",
    "graph.add_edge('generate_summary', END)\n",
    "\n",
    "app = graph.compile()"
   ]
  },
  {
   "cell_type": "code",
   "execution_count": 49,
   "id": "0746778b",
   "metadata": {},
   "outputs": [
    {
     "data": {
      "text/plain": [
       "{'contents': [\"LLM Powered Autonomous Agents | Lil'Log\\n\\nLil'Log\\n\\n|\\n\\n\\nPosts\\n\\n\\nArchive\\n\\n\\nSearch\\n\\n\\nTags\\n\\n\\nFAQ\\n\\n      LLM Powered Autonomous Agents\\n    \\nDate: June 23, 2023  |  Estimated Reading Time: 31 min  |  Author: Lilian Weng\\n\\n\\n \\n\\n\\nTable of Contents\\n\\nAgent System Overview\\n\\nComponent One: Planning\\n\\nTask Decomposition\\n\\nSelf-Reflection\\n\\n\\nComponent Two: Memory\\n\\nTypes of Memory\\n\\nMaximum Inner Product Search (MIPS)\\n\\n\\nComponent Three: Tool Use\\n\\nCase Studies\\n\\nScientific Discovery Agent\\n\\nGenerative Agents Simulation\\n\\nProof-of-Concept Examples\\n\\n\\nChallenges\\n\\nCitation\\n\\nReferences\\n\\nBuilding agents with LLM (large language model) as its core controller is a cool concept. Several proof-of-concepts demos, such as AutoGPT, GPT-Engineer and BabyAGI, serve as inspiring examples. The potentiality of LLM extends beyond generating well-written copies, stories, essays and programs; it can be framed as a powerful general problem solver.\\nAgent System Overview#\\nIn a LLM-powered autonomous agent system, LLM functions as the agent’s brain, complemented by several key components:\\n\\nPlanning\\n\\nSubgoal and decomposition: The agent breaks down large tasks into smaller, manageable subgoals, enabling efficient handling of complex tasks.\\nReflection and refinement: The agent can do self-criticism and self-reflection over past actions, learn from mistakes and refine them for future steps, thereby improving the quality of final results.\\n\\n\\nMemory\\n\\nShort-term memory: I would consider all the in-context learning (See Prompt Engineering) as utilizing short-term memory of the model to learn.\\nLong-term memory: This provides the agent with the capability to retain and recall (infinite) information over extended periods, often by leveraging an external vector store and fast retrieval.\\n\\n\\nTool use\\n\\nThe agent learns to call external APIs for extra information that is missing from the model weights (often hard to change after pre-training), including current information, code execution capability, access to proprietary information sources and more.\\n\\nOverview of a LLM-powered autonomous agent system.\",\n",
       "  'Component One: Planning#\\nA complicated task usually involves many steps. An agent needs to know what they are and plan ahead.\\nTask Decomposition#\\nChain of thought (CoT; Wei et al. 2022) has become a standard prompting technique for enhancing model performance on complex tasks. The model is instructed to “think step by step” to utilize more test-time computation to decompose hard tasks into smaller and simpler steps. CoT transforms big tasks into multiple manageable tasks and shed lights into an interpretation of the model’s thinking process.\\nTree of Thoughts (Yao et al. 2023) extends CoT by exploring multiple reasoning possibilities at each step. It first decomposes the problem into multiple thought steps and generates multiple thoughts per step, creating a tree structure. The search process can be BFS (breadth-first search) or DFS (depth-first search) with each state evaluated by a classifier (via a prompt) or majority vote.\\nTask decomposition can be done (1) by LLM with simple prompting like \"Steps for XYZ.\\\\n1.\", \"What are the subgoals for achieving XYZ?\", (2) by using task-specific instructions; e.g. \"Write a story outline.\" for writing a novel, or (3) with human inputs.\\nAnother quite distinct approach, LLM+P (Liu et al. 2023), involves relying on an external classical planner to do long-horizon planning. This approach utilizes the Planning Domain Definition Language (PDDL) as an intermediate interface to describe the planning problem. In this process, LLM (1) translates the problem into “Problem PDDL”, then (2) requests a classical planner to generate a PDDL plan based on an existing “Domain PDDL”, and finally (3) translates the PDDL plan back into natural language. Essentially, the planning step is outsourced to an external tool, assuming the availability of domain-specific PDDL and a suitable planner which is common in certain robotic setups but not in many other domains.\\nSelf-Reflection#\\nSelf-reflection is a vital aspect that allows autonomous agents to improve iteratively by refining past action decisions and correcting previous mistakes. It plays a crucial role in real-world tasks where trial and error are inevitable.\\nReAct (Yao et al. 2023) integrates reasoning and acting within LLM by extending the action space to be a combination of task-specific discrete actions and the language space. The former enables LLM to interact with the environment (e.g. use Wikipedia search API), while the latter prompting LLM to generate reasoning traces in natural language.\\nThe ReAct prompt template incorporates explicit steps for LLM to think, roughly formatted as:\\nThought: ...\\nAction: ...\\nObservation: ...\\n... (Repeated many times)\\n\\n\\nExamples of reasoning trajectories for knowledge-intensive tasks (e.g. HotpotQA, FEVER) and decision-making tasks (e.g. AlfWorld Env, WebShop). (Image source: Yao et al. 2023).\\n\\nIn both experiments on knowledge-intensive tasks and decision-making tasks, ReAct works better than the Act-only baseline where Thought: … step is removed.\\nReflexion (Shinn & Labash 2023) is a framework to equip agents with dynamic memory and self-reflection capabilities to improve reasoning skills. Reflexion has a standard RL setup, in which the reward model provides a simple binary reward and the action space follows the setup in ReAct where the task-specific action space is augmented with language to enable complex reasoning steps. After each action $a_t$, the agent computes a heuristic $h_t$ and optionally may decide to reset the environment to start a new trial depending on the self-reflection results.\\n\\n\\nIllustration of the Reflexion framework. (Image source: Shinn & Labash, 2023)\\n\\nThe heuristic function determines when the trajectory is inefficient or contains hallucination and should be stopped. Inefficient planning refers to trajectories that take too long without success. Hallucination is defined as encountering a sequence of consecutive identical actions that lead to the same observation in the environment.\\nSelf-reflection is created by showing two-shot examples to LLM and each example is a pair of (failed trajectory, ideal reflection for guiding future changes in the plan). Then reflections are added into the agent’s working memory, up to three, to be used as context for querying LLM.\\n\\n\\nExperiments on AlfWorld Env and HotpotQA. Hallucination is a more common failure than inefficient planning in AlfWorld. (Image source: Shinn & Labash, 2023)',\n",
       "  'Chain of Hindsight (CoH; Liu et al. 2023) encourages the model to improve on its own outputs by explicitly presenting it with a sequence of past outputs, each annotated with feedback. Human feedback data is a collection of $D_h = \\\\{(x, y_i , r_i , z_i)\\\\}_{i=1}^n$, where $x$ is the prompt, each $y_i$ is a model completion, $r_i$ is the human rating of $y_i$, and $z_i$ is the corresponding human-provided hindsight feedback. Assume the feedback tuples are ranked by reward, $r_n \\\\geq r_{n-1} \\\\geq \\\\dots \\\\geq r_1$ The process is supervised fine-tuning where the data is a sequence in the form of $\\\\tau_h = (x, z_i, y_i, z_j, y_j, \\\\dots, z_n, y_n)$, where $\\\\leq i \\\\leq j \\\\leq n$. The model is finetuned to only predict $y_n$ where conditioned on the sequence prefix, such that the model can self-reflect to produce better output based on the feedback sequence. The model can optionally receive multiple rounds of instructions with human annotators at test time.\\nTo avoid overfitting, CoH adds a regularization term to maximize the log-likelihood of the pre-training dataset. To avoid shortcutting and copying (because there are many common words in feedback sequences), they randomly mask 0% - 5% of past tokens during training.\\nThe training dataset in their experiments is a combination of WebGPT comparisons, summarization from human feedback and human preference dataset.\\n\\n\\nAfter fine-tuning with CoH, the model can follow instructions to produce outputs with incremental improvement in a sequence. (Image source: Liu et al. 2023)\\n\\nThe idea of CoH is to present a history of sequentially improved outputs  in context and train the model to take on the trend to produce better outputs. Algorithm Distillation (AD; Laskin et al. 2023) applies the same idea to cross-episode trajectories in reinforcement learning tasks, where an algorithm is encapsulated in a long history-conditioned policy. Considering that an agent interacts with the environment many times and in each episode the agent gets a little better, AD concatenates this learning history and feeds that into the model. Hence we should expect the next predicted action to lead to better performance than previous trials. The goal is to learn the process of RL instead of training a task-specific policy itself.\\n\\n\\nIllustration of how Algorithm Distillation (AD) works. (Image source: Laskin et al. 2023).\\n\\nThe paper hypothesizes that any algorithm that generates a set of learning histories can be distilled into a neural network by performing behavioral cloning over actions. The history data is generated by a set of source policies, each trained for a specific task. At the training stage, during each RL run, a random task is sampled and a subsequence of multi-episode history is used for training, such that the learned policy is task-agnostic.\\nIn reality, the model has limited context window length, so episodes should be short enough to construct multi-episode history. Multi-episodic contexts of 2-4 episodes are necessary to learn a near-optimal in-context RL algorithm. The emergence of in-context RL requires long enough context.\\nIn comparison with three baselines, including ED (expert distillation, behavior cloning with expert trajectories instead of learning history), source policy (used for generating trajectories for distillation by UCB), RL^2 (Duan et al. 2017; used as upper bound since it needs online RL), AD demonstrates in-context RL with performance getting close to RL^2 despite only using offline RL and learns much faster than other baselines. When conditioned on partial training history of the source policy, AD also improves much faster than ED baseline.\\n\\n\\nComparison of AD, ED, source policy and RL^2 on environments that require memory and exploration. Only binary reward is assigned. The source policies are trained with A3C for \"dark\" environments and DQN for watermaze.(Image source: Laskin et al. 2023)\\n\\nComponent Two: Memory#\\n(Big thank you to ChatGPT for helping me draft this section. I’ve learned a lot about the human brain and data structure for fast MIPS in my conversations with ChatGPT.)\\nTypes of Memory#\\nMemory can be defined as the processes used to acquire, store, retain, and later retrieve information. There are several types of memory in human brains.',\n",
       "  'Sensory Memory: This is the earliest stage of memory, providing the ability to retain impressions of sensory information (visual, auditory, etc) after the original stimuli have ended. Sensory memory typically only lasts for up to a few seconds. Subcategories include iconic memory (visual), echoic memory (auditory), and haptic memory (touch).\\n\\n\\nShort-Term Memory (STM) or Working Memory: It stores information that we are currently aware of and needed to carry out complex cognitive tasks such as learning and reasoning. Short-term memory is believed to have the capacity of about 7 items (Miller 1956) and lasts for 20-30 seconds.\\n\\n\\nLong-Term Memory (LTM): Long-term memory can store information for a remarkably long time, ranging from a few days to decades, with an essentially unlimited storage capacity. There are two subtypes of LTM:\\n\\nExplicit / declarative memory: This is memory of facts and events, and refers to those memories that can be consciously recalled, including episodic memory (events and experiences) and semantic memory (facts and concepts).\\nImplicit / procedural memory: This type of memory is unconscious and involves skills and routines that are performed automatically, like riding a bike or typing on a keyboard.\\n\\nCategorization of human memory.\\n\\nWe can roughly consider the following mappings:\\n\\nSensory memory as learning embedding representations for raw inputs, including text, image or other modalities;\\nShort-term memory as in-context learning. It is short and finite, as it is restricted by the finite context window length of Transformer.\\nLong-term memory as the external vector store that the agent can attend to at query time, accessible via fast retrieval.\\n\\nMaximum Inner Product Search (MIPS)#\\nThe external memory can alleviate the restriction of finite attention span.  A standard practice is to save the embedding representation of information into a vector store database that can support fast maximum inner-product search (MIPS). To optimize the retrieval speed, the common choice is the approximate nearest neighbors (ANN)\\u200b algorithm to return approximately top k nearest neighbors to trade off a little accuracy lost for a huge speedup.\\nA couple common choices of ANN algorithms for fast MIPS:\\n\\nLSH (Locality-Sensitive Hashing): It introduces a hashing function such that similar input items are mapped to the same buckets with high probability, where the number of buckets is much smaller than the number of inputs.\\nANNOY (Approximate Nearest Neighbors Oh Yeah): The core data structure are random projection trees, a set of binary trees where each non-leaf node represents a hyperplane splitting the input space into half and each leaf stores one data point. Trees are built independently and at random, so to some extent, it mimics a hashing function. ANNOY search happens in all the trees to iteratively search through the half that is closest to the query and then aggregates the results. The idea is quite related to KD tree but a lot more scalable.\\nHNSW (Hierarchical Navigable Small World): It is inspired by the idea of small world networks where most nodes can be reached by any other nodes within a small number of steps; e.g. “six degrees of separation” feature of social networks. HNSW builds hierarchical layers of these small-world graphs, where the bottom layers contain the actual data points. The layers in the middle create shortcuts to speed up search. When performing a search, HNSW starts from a random node in the top layer and navigates towards the target. When it can’t get any closer, it moves down to the next layer, until it reaches the bottom layer. Each move in the upper layers can potentially cover a large distance in the data space, and each move in the lower layers refines the search quality.\\nFAISS (Facebook AI Similarity Search): It operates on the assumption that in high dimensional space, distances between nodes follow a Gaussian distribution and thus there should exist clustering of data points. FAISS applies vector quantization by partitioning the vector space into clusters and then refining the quantization within clusters. Search first looks for cluster candidates with coarse quantization and then further looks into each cluster with finer quantization.\\nScaNN (Scalable Nearest Neighbors): The main innovation in ScaNN is anisotropic vector quantization. It quantizes a data point $x_i$ to $\\\\tilde{x}_i$ such that the inner product $\\\\langle q, x_i \\\\rangle$ is as similar to the original distance of $\\\\angle q, \\\\tilde{x}_i$ as possible, instead of picking the closet quantization centroid points.',\n",
       "  'Comparison of MIPS algorithms, measured in recall@10. (Image source: Google Blog, 2020)\\n\\nCheck more MIPS algorithms and performance comparison in ann-benchmarks.com.\\nComponent Three: Tool Use#\\nTool use is a remarkable and distinguishing characteristic of human beings. We create, modify and utilize external objects to do things that go beyond our physical and cognitive limits. Equipping LLMs with external tools can significantly extend the model capabilities.\\n\\n\\nA picture of a sea otter using rock to crack open a seashell, while floating in the water. While some other animals can use tools, the complexity is not comparable with humans. (Image source: Animals using tools)\\n\\nMRKL (Karpas et al. 2022), short for “Modular Reasoning, Knowledge and Language”, is a neuro-symbolic architecture for autonomous agents. A MRKL system is proposed to contain a collection of “expert” modules and the general-purpose LLM works as a router to route inquiries to the best suitable expert module. These modules can be neural (e.g. deep learning models) or symbolic (e.g. math calculator, currency converter, weather API).\\nThey did an experiment on fine-tuning LLM to call a calculator, using arithmetic as a test case. Their experiments showed that it was harder to solve verbal math problems than explicitly stated math problems because LLMs (7B Jurassic1-large model) failed to extract the right arguments for the basic arithmetic reliably. The results highlight when the external symbolic tools can work reliably, knowing when to and how to use the tools are crucial, determined by the LLM capability.\\nBoth TALM (Tool Augmented Language Models; Parisi et al. 2022) and Toolformer (Schick et al. 2023) fine-tune a LM to learn to use external tool APIs. The dataset is expanded based on whether a newly added API call annotation can improve the quality of model outputs. See more details in the “External APIs” section of Prompt Engineering.\\nChatGPT Plugins and OpenAI API  function calling are good examples of LLMs augmented with tool use capability working in practice. The collection of tool APIs can be provided by other developers (as in Plugins) or self-defined (as in function calls).\\nHuggingGPT (Shen et al. 2023) is a framework to use ChatGPT as the task planner to select models available in HuggingFace platform according to the model descriptions and summarize the response based on the execution results.\\n\\n\\nIllustration of how HuggingGPT works. (Image source: Shen et al. 2023)\\n\\nThe system comprises of 4 stages:\\n(1) Task planning: LLM works as the brain and parses the user requests into multiple tasks. There are four attributes associated with each task: task type, ID, dependencies, and arguments. They use few-shot examples to guide LLM to do task parsing and planning.\\nInstruction:\\n\\nThe AI assistant can parse user input to several tasks: [{\"task\": task, \"id\", task_id, \"dep\": dependency_task_ids, \"args\": {\"text\": text, \"image\": URL, \"audio\": URL, \"video\": URL}}]. The \"dep\" field denotes the id of the previous task which generates a new resource that the current task relies on. A special tag \"-task_id\" refers to the generated text image, audio and video in the dependency task with id as task_id. The task MUST be selected from the following options: {{ Available Task List }}. There is a logical relationship between tasks, please note their order. If the user input can\\'t be parsed, you need to reply empty JSON. Here are several cases for your reference: {{ Demonstrations }}. The chat history is recorded as {{ Chat History }}. From this chat history, you can find the path of the user-mentioned resources for your task planning.\\n\\n(2) Model selection: LLM distributes the tasks to expert models, where the request is framed as a multiple-choice question. LLM is presented with a list of models to choose from. Due to the limited context length, task type based filtration is needed.\\nInstruction:\\n\\nGiven the user request and the call command, the AI assistant helps the user to select a suitable model from a list of models to process the user request. The AI assistant merely outputs the model id of the most appropriate model. The output must be in a strict JSON format: \"id\": \"id\", \"reason\": \"your detail reason for the choice\". We have a list of models for you to choose from {{ Candidate Models }}. Please select one model from the list.',\n",
       "  '(3) Task execution: Expert models execute on the specific tasks and log results.\\nInstruction:\\n\\nWith the input and the inference results, the AI assistant needs to describe the process and results. The previous stages can be formed as - User Input: {{ User Input }}, Task Planning: {{ Tasks }}, Model Selection: {{ Model Assignment }}, Task Execution: {{ Predictions }}. You must first answer the user\\'s request in a straightforward manner. Then describe the task process and show your analysis and model inference results to the user in the first person. If inference results contain a file path, must tell the user the complete file path.\\n\\n(4) Response generation: LLM receives the execution results and provides summarized results to users.\\nTo put HuggingGPT into real world usage, a couple challenges need to solve: (1) Efficiency improvement is needed as both LLM inference rounds and interactions with other models slow down the process; (2) It relies on a long context window to communicate over complicated task content; (3) Stability improvement of LLM outputs and external model services.\\nAPI-Bank (Li et al. 2023) is a benchmark for evaluating the performance of tool-augmented LLMs. It contains 53 commonly used API tools, a complete tool-augmented LLM workflow, and 264 annotated dialogues that involve 568 API calls. The selection of APIs is quite diverse, including search engines, calculator, calendar queries, smart home control, schedule management, health data management, account authentication workflow and more. Because there are a large number of APIs, LLM first has access to API search engine to find the right API to call and then uses the corresponding documentation to make a call.\\n\\n\\nPseudo code of how LLM makes an API call in API-Bank. (Image source: Li et al. 2023)\\n\\nIn the API-Bank workflow, LLMs need to make a couple of decisions and at each step we can evaluate how accurate that decision is. Decisions include:\\n\\nWhether an API call is needed.\\nIdentify the right API to call: if not good enough, LLMs need to iteratively modify the API inputs (e.g. deciding search keywords for Search Engine API).\\nResponse based on the API results: the model can choose to refine and call again if results are not satisfied.\\n\\nThis benchmark evaluates the agent’s tool use capabilities at three levels:\\n\\nLevel-1 evaluates the ability to call the API. Given an API’s description, the model needs to determine whether to call a given API, call it correctly, and respond properly to API returns.\\nLevel-2 examines the ability to retrieve the API. The model needs to search for possible APIs that may solve the user’s requirement and learn how to use them by reading documentation.\\nLevel-3 assesses the ability to plan API beyond retrieve and call. Given unclear user requests (e.g. schedule group meetings, book flight/hotel/restaurant for a trip), the model may have to conduct multiple API calls to solve it.\\n\\nCase Studies#\\nScientific Discovery Agent#\\nChemCrow (Bran et al. 2023) is a domain-specific example in which LLM is augmented with 13 expert-designed tools to accomplish tasks across organic synthesis, drug discovery, and materials design. The workflow, implemented in LangChain, reflects what was previously described in the ReAct and MRKLs and combines CoT reasoning with tools relevant to the tasks:\\n\\nThe LLM is provided with a list of tool names, descriptions of their utility, and details about the expected input/output.\\nIt is then instructed to answer a user-given prompt using the tools provided when necessary. The instruction suggests the model to follow the ReAct format - Thought, Action, Action Input, Observation.\\n\\nOne interesting observation is that while the LLM-based evaluation concluded that GPT-4 and ChemCrow perform nearly equivalently, human evaluations with experts oriented towards the completion and chemical correctness of the solutions showed that ChemCrow outperforms GPT-4 by a large margin. This indicates a potential problem with using LLM to evaluate its own performance on domains that requires deep expertise. The lack of expertise may cause LLMs not knowing its flaws and thus cannot well judge the correctness of task results.\\nBoiko et al. (2023) also looked into LLM-empowered agents for scientific discovery, to handle autonomous design, planning, and performance of complex scientific experiments. This agent can use tools to browse the Internet, read documentation, execute code, call robotics experimentation APIs and leverage other LLMs.\\nFor example, when requested to \"develop a novel anticancer drug\", the model came up with the following reasoning steps:',\n",
       "  'inquired about current trends in anticancer drug discovery;\\nselected a target;\\nrequested a scaffold targeting these compounds;\\nOnce the compound was identified, the model attempted its synthesis.\\n\\nThey also discussed the risks, especially with illicit drugs and bioweapons. They developed a test set containing a list of known chemical weapon agents and asked the agent to synthesize them. 4 out of 11 requests (36%) were accepted to obtain a synthesis solution and the agent attempted to consult documentation to execute the procedure. 7 out of 11 were rejected and among these 7 rejected cases, 5 happened after a Web search while 2 were rejected based on prompt only.\\nGenerative Agents Simulation#\\nGenerative Agents (Park, et al. 2023) is super fun experiment where 25 virtual characters, each controlled by a LLM-powered agent, are living and interacting in a sandbox environment, inspired by The Sims. Generative agents create believable simulacra of human behavior for interactive applications.\\nThe design of generative agents combines LLM with memory, planning and reflection mechanisms to enable agents to behave conditioned on past experience, as well as to interact with other agents.\\n\\nMemory stream: is a long-term memory module (external database) that records a comprehensive list of agents’ experience in natural language.\\n\\nEach element is an observation, an event directly provided by the agent.\\n- Inter-agent communication can trigger new natural language statements.\\n\\n\\nRetrieval model: surfaces the context to inform the agent’s behavior, according to relevance, recency and importance.\\n\\nRecency: recent events have higher scores\\nImportance: distinguish mundane from core memories. Ask LM directly.\\nRelevance: based on how related it is to the current situation / query.\\n\\n\\nReflection mechanism: synthesizes memories into higher level inferences over time and guides the agent’s future behavior. They are higher-level summaries of past events (<- note that this is a bit different from self-reflection above)\\n\\nPrompt LM with 100 most recent observations and to generate 3 most salient high-level questions given a set of observations/statements. Then ask LM to answer those questions.\\n\\n\\nPlanning & Reacting: translate the reflections and the environment information into actions\\n\\nPlanning is essentially in order to optimize believability at the moment vs in time.\\nPrompt template: {Intro of an agent X}. Here is X\\'s plan today in broad strokes: 1)\\nRelationships between agents and observations of one agent by another are all taken into consideration for planning and reacting.\\nEnvironment information is present in a tree structure.\\n\\nThe generative agent architecture. (Image source: Park et al. 2023)\\n\\nThis fun simulation results in emergent social behavior, such as information diffusion, relationship memory (e.g. two agents continuing the conversation topic) and coordination of social events (e.g. host a party and invite many others).\\nProof-of-Concept Examples#\\nAutoGPT has drawn a lot of attention into the possibility of setting up autonomous agents with LLM as the main controller. It has quite a lot of reliability issues given the natural language interface, but nevertheless a cool proof-of-concept demo. A lot of code in AutoGPT is about format parsing.\\nHere is the system message used by AutoGPT, where {{...}} are user inputs:\\nYou are {{ai-name}}, {{user-provided AI bot description}}.\\nYour decisions must always be made independently without seeking user assistance. Play to your strengths as an LLM and pursue simple strategies with no legal complications.\\n\\nGOALS:\\n\\n1. {{user-provided goal 1}}\\n2. {{user-provided goal 2}}\\n3. ...\\n4. ...\\n5. ...\\n\\nConstraints:\\n1. ~4000 word limit for short term memory. Your short term memory is short, so immediately save important information to files.\\n2. If you are unsure how you previously did something or want to recall past events, thinking about similar events will help you remember.\\n3. No user assistance\\n4. Exclusively use the commands listed in double quotes e.g. \"command name\"\\n5. Use subprocesses for commands that will not terminate within a few minutes',\n",
       "  'Commands:\\n1. Google Search: \"google\", args: \"input\": \"<search>\"\\n2. Browse Website: \"browse_website\", args: \"url\": \"<url>\", \"question\": \"<what_you_want_to_find_on_website>\"\\n3. Start GPT Agent: \"start_agent\", args: \"name\": \"<name>\", \"task\": \"<short_task_desc>\", \"prompt\": \"<prompt>\"\\n4. Message GPT Agent: \"message_agent\", args: \"key\": \"<key>\", \"message\": \"<message>\"\\n5. List GPT Agents: \"list_agents\", args:\\n6. Delete GPT Agent: \"delete_agent\", args: \"key\": \"<key>\"\\n7. Clone Repository: \"clone_repository\", args: \"repository_url\": \"<url>\", \"clone_path\": \"<directory>\"\\n8. Write to file: \"write_to_file\", args: \"file\": \"<file>\", \"text\": \"<text>\"\\n9. Read file: \"read_file\", args: \"file\": \"<file>\"\\n10. Append to file: \"append_to_file\", args: \"file\": \"<file>\", \"text\": \"<text>\"\\n11. Delete file: \"delete_file\", args: \"file\": \"<file>\"\\n12. Search Files: \"search_files\", args: \"directory\": \"<directory>\"\\n13. Analyze Code: \"analyze_code\", args: \"code\": \"<full_code_string>\"\\n14. Get Improved Code: \"improve_code\", args: \"suggestions\": \"<list_of_suggestions>\", \"code\": \"<full_code_string>\"\\n15. Write Tests: \"write_tests\", args: \"code\": \"<full_code_string>\", \"focus\": \"<list_of_focus_areas>\"\\n16. Execute Python File: \"execute_python_file\", args: \"file\": \"<file>\"\\n17. Generate Image: \"generate_image\", args: \"prompt\": \"<prompt>\"\\n18. Send Tweet: \"send_tweet\", args: \"text\": \"<text>\"\\n19. Do Nothing: \"do_nothing\", args:\\n20. Task Complete (Shutdown): \"task_complete\", args: \"reason\": \"<reason>\"\\n\\nResources:\\n1. Internet access for searches and information gathering.\\n2. Long Term memory management.\\n3. GPT-3.5 powered Agents for delegation of simple tasks.\\n4. File output.\\n\\nPerformance Evaluation:\\n1. Continuously review and analyze your actions to ensure you are performing to the best of your abilities.\\n2. Constructively self-criticize your big-picture behavior constantly.\\n3. Reflect on past decisions and strategies to refine your approach.\\n4. Every command has a cost, so be smart and efficient. Aim to complete tasks in the least number of steps.',\n",
       "  'You should only respond in JSON format as described below\\nResponse Format:\\n{\\n    \"thoughts\": {\\n        \"text\": \"thought\",\\n        \"reasoning\": \"reasoning\",\\n        \"plan\": \"- short bulleted\\\\n- list that conveys\\\\n- long-term plan\",\\n        \"criticism\": \"constructive self-criticism\",\\n        \"speak\": \"thoughts summary to say to user\"\\n    },\\n    \"command\": {\\n        \"name\": \"command name\",\\n        \"args\": {\\n            \"arg name\": \"value\"\\n        }\\n    }\\n}\\nEnsure the response can be parsed by Python json.loads\\nGPT-Engineer is another project to create a whole repository of code given a task specified in natural language. The GPT-Engineer is instructed to think over a list of smaller components to build and ask for user input to clarify questions as needed.\\nHere are a sample conversation for task clarification sent to OpenAI ChatCompletion endpoint used by GPT-Engineer. The user inputs are wrapped in {{user input text}}.\\n[\\n  {\\n    \"role\": \"system\",\\n    \"content\": \"You will read instructions and not carry them out, only seek to clarify them.\\\\nSpecifically you will first summarise a list of super short bullets of areas that need clarification.\\\\nThen you will pick one clarifying question, and wait for an answer from the user.\\\\n\"\\n  },\\n  {\\n    \"role\": \"user\",\\n    \"content\": \"We are writing {{a Super Mario game in python. MVC components split in separate files. Keyboard control.}}\\\\n\"\\n  },\\n  {\\n    \"role\": \"assistant\",\\n    \"content\": \"Summary of areas that need clarification:\\\\n1. Specifics of the Super Mario game (e.g. level design, characters, gameplay mechanics)\\\\n2. Details about the MVC components (e.g. which components are in each file)\\\\n3. Keyboard control implementation (e.g. which keys to use, how to handle input)\\\\n\\\\nClarifying question:\\\\nCan you provide more details about the Super Mario game, such as level design, characters, and gameplay mechanics?\"\\n  },\\n  {\\n    \"role\": \"user\",\\n    \"content\": \"{{There are 10 levels in total. The main character is a plumber named Mario, who can walk and jump. It is a classical platform game just like Super Mario. The main character moves from left to right, trying to get to the destination, where there are many obstacles and attacks from enemies in the process.}}\\\\n\\\\nIs anything else unclear? If yes, only answer in the form:\\\\n{remaining unclear areas} remaining questions.\\\\n{Next question}\\\\nIf everything is sufficiently clear, only answer \\\\\"Nothing more to clarify.\\\\\".\"\\n  },\\n  {\\n    \"role\": \"assistant\",\\n    \"content\": \"Remaining unclear areas: 2 remaining questions.\\\\nCan you provide more information about how the MVC components are split into separate files?\"\\n  },\\n  {\\n    \"role\": \"user\",\\n    \"content\": \"{{Make your own assumptions and state them explicitly before starting}}\"\\n  }\\n]\\nThen after these clarification, the agent moved into the code writing mode with a different system message.\\nSystem message:',\n",
       "  'You will get instructions for code to write.\\nYou will write a very long answer. Make sure that every detail of the architecture is, in the end, implemented as code.\\nMake sure that every detail of the architecture is, in the end, implemented as code.\\nThink step by step and reason yourself to the right decisions to make sure we get it right.\\nYou will first lay out the names of the core classes, functions, methods that will be necessary, as well as a quick comment on their purpose.\\nThen you will output the content of each file including ALL code.\\nEach file must strictly follow a markdown code block format, where the following tokens must be replaced such that\\nFILENAME is the lowercase file name including the file extension,\\nLANG is the markup code block language for the code’s language, and CODE is the code:\\nFILENAME\\nCODE\\nYou will start with the “entrypoint” file, then go to the ones that are imported by that file, and so on.\\nPlease note that the code should be fully functional. No placeholders.\\nFollow a language and framework appropriate best practice file naming convention.\\nMake sure that files contain all imports, types etc. Make sure that code in different files are compatible with each other.\\nEnsure to implement all code, if you are unsure, write a plausible implementation.\\nInclude module dependency or package manager dependency definition file.\\nBefore you finish, double check that all parts of the architecture is present in the files.\\nUseful to know:\\nYou almost always put different classes in different files.\\nFor Python, you always create an appropriate requirements.txt file.\\nFor NodeJS, you always create an appropriate package.json file.\\nYou always add a comment briefly describing the purpose of the function definition.\\nYou try to add comments explaining very complex bits of logic.\\nYou always follow the best practices for the requested languages in terms of describing the code written as a defined\\npackage/project.\\nPython toolbelt preferences:\\n\\npytest\\ndataclasses',\n",
       "  'Conversatin samples:\\n[\\n  {\\n    \"role\": \"system\",\\n    \"content\": \"You will get instructions for code to write.\\\\nYou will write a very long answer. Make sure that every detail of the architecture is, in the end, implemented as code.\\\\nMake sure that every detail of the architecture is, in the end, implemented as code.\\\\n\\\\nThink step by step and reason yourself to the right decisions to make sure we get it right.\\\\nYou will first lay out the names of the core classes, functions, methods that will be necessary, as well as a quick comment on their purpose.\\\\n\\\\nThen you will output the content of each file including ALL code.\\\\nEach file must strictly follow a markdown code block format, where the following tokens must be replaced such that\\\\nFILENAME is the lowercase file name including the file extension,\\\\nLANG is the markup code block language for the code\\'s language, and CODE is the code:\\\\n\\\\nFILENAME\\\\n```LANG\\\\nCODE\\\\n```\\\\n\\\\nYou will start with the \\\\\"entrypoint\\\\\" file, then go to the ones that are imported by that file, and so on.\\\\nPlease note that the code should be fully functional. No placeholders.\\\\n\\\\nFollow a language and framework appropriate best practice file naming convention.\\\\nMake sure that files contain all imports, types etc. Make sure that code in different files are compatible with each other.\\\\nEnsure to implement all code, if you are unsure, write a plausible implementation.\\\\nInclude module dependency or package manager dependency definition file.\\\\nBefore you finish, double check that all parts of the architecture is present in the files.\\\\n\\\\nUseful to know:\\\\nYou almost always put different classes in different files.\\\\nFor Python, you always create an appropriate requirements.txt file.\\\\nFor NodeJS, you always create an appropriate package.json file.\\\\nYou always add a comment briefly describing the purpose of the function definition.\\\\nYou try to add comments explaining very complex bits of logic.\\\\nYou always follow the best practices for the requested languages in terms of describing the code written as a defined\\\\npackage/project.\\\\n\\\\n\\\\nPython toolbelt preferences:\\\\n- pytest\\\\n- dataclasses\\\\n\"\\n  },\\n #  … same conversation as earlier, ended with \"Make your own assumptions and state them explicitly before starting\".\\n  {\\n    \"role\": \"assistant\",\\n    \"content\": \"Assumptions:\\\\n1. Model: The model will contain the game\\'s data, such as level information, character states, and enemy positions.\\\\n2. View: The view will handle the game\\'s visuals, including rendering the game objects, backgrounds, and updating the display.\\\\n3. Controller: The controller will manage user input, such as keyboard controls, and update the model accordingly.\\\\n\\\\nWith these assumptions in mind, is there any specific aspect of the keyboard control implementation you would like me to clarify?\"\\n  },\\n  {\\n    \"role\": \"user\",\\n    \"content\": \"Please now remember the steps:\\\\n\\\\nThink step by step and reason yourself to the right decisions to make sure we get it right.\\\\nFirst lay out the names of the core classes, functions, methods that will be necessary, As well as a quick comment on their purpose.\\\\n\\\\nThen you will output the content of each file including ALL code.\\\\nEach file must strictly follow a markdown code block format, where the following tokens must be replaced such that\\\\nFILENAME is the lowercase file name including the file extension,\\\\nLANG is the markup code block language for the code\\'s language, and CODE is the code:\\\\n\\\\nFILENAME\\\\n```LANG\\\\nCODE\\\\n```\\\\n\\\\nPlease note that the code should be fully functional. No placeholders.\\\\n\\\\nYou will start with the \\\\\"entrypoint\\\\\" file, then go to the ones that are imported by that file, and so on.\\\\nFollow a language and framework appropriate best practice file naming convention.\\\\nMake sure that files contain all imports, types etc. The code should be fully functional. Make sure that code in different files are compatible with each other.\\\\nBefore you finish, double check that all parts of the architecture is present in the files.\\\\n\"\\n  }\\n]\\nChallenges#\\nAfter going through key ideas and demos of building LLM-centered agents, I start to see a couple common limitations:',\n",
       "  'Finite context length: The restricted context capacity limits the inclusion of historical information, detailed instructions, API call context, and responses. The design of the system has to work with this limited communication bandwidth, while mechanisms like self-reflection to learn from past mistakes would benefit a lot from long or infinite context windows. Although vector stores and retrieval can provide access to a larger knowledge pool, their representation power is not as powerful as full attention.\\n\\n\\nChallenges in long-term planning and task decomposition: Planning over a lengthy history and effectively exploring the solution space remain challenging. LLMs struggle to adjust plans when faced with unexpected errors, making them less robust compared to humans who learn from trial and error.\\n\\n\\nReliability of natural language interface: Current agent system relies on natural language as an interface between LLMs and external components such as memory and tools. However, the reliability of model outputs is questionable, as LLMs may make formatting errors and occasionally exhibit rebellious behavior (e.g. refuse to follow an instruction). Consequently, much of the agent demo code focuses on parsing model output.\\n\\n\\nCitation#\\nCited as:\\n\\nWeng, Lilian. (Jun 2023). “LLM-powered Autonomous Agents”. Lil’Log. https://lilianweng.github.io/posts/2023-06-23-agent/.',\n",
       "  'Or\\n@article{weng2023agent,\\n  title   = \"LLM-powered Autonomous Agents\",\\n  author  = \"Weng, Lilian\",\\n  journal = \"lilianweng.github.io\",\\n  year    = \"2023\",\\n  month   = \"Jun\",\\n  url     = \"https://lilianweng.github.io/posts/2023-06-23-agent/\"\\n}\\nReferences#\\n[1] Wei et al. “Chain of thought prompting elicits reasoning in large language models.” NeurIPS 2022\\n[2] Yao et al. “Tree of Thoughts: Dliberate Problem Solving with Large Language Models.” arXiv preprint arXiv:2305.10601 (2023).\\n[3] Liu et al. “Chain of Hindsight Aligns Language Models with Feedback\\n“ arXiv preprint arXiv:2302.02676 (2023).\\n[4] Liu et al. “LLM+P: Empowering Large Language Models with Optimal Planning Proficiency” arXiv preprint arXiv:2304.11477 (2023).\\n[5] Yao et al. “ReAct: Synergizing reasoning and acting in language models.” ICLR 2023.\\n[6] Google Blog. “Announcing ScaNN: Efficient Vector Similarity Search” July 28, 2020.\\n[7] https://chat.openai.com/share/46ff149e-a4c7-4dd7-a800-fc4a642ea389\\n[8] Shinn & Labash. “Reflexion: an autonomous agent with dynamic memory and self-reflection” arXiv preprint arXiv:2303.11366 (2023).\\n[9] Laskin et al. “In-context Reinforcement Learning with Algorithm Distillation” ICLR 2023.\\n[10] Karpas et al. “MRKL Systems A modular, neuro-symbolic architecture that combines large language models, external knowledge sources and discrete reasoning.” arXiv preprint arXiv:2205.00445 (2022).\\n[11] Nakano et al. “Webgpt: Browser-assisted question-answering with human feedback.” arXiv preprint arXiv:2112.09332 (2021).\\n[12] Parisi et al. “TALM: Tool Augmented Language Models”\\n[13] Schick et al. “Toolformer: Language Models Can Teach Themselves to Use Tools.” arXiv preprint arXiv:2302.04761 (2023).\\n[14] Weaviate Blog. Why is Vector Search so fast? Sep 13, 2022.\\n[15] Li et al. “API-Bank: A Benchmark for Tool-Augmented LLMs” arXiv preprint arXiv:2304.08244 (2023).\\n[16] Shen et al. “HuggingGPT: Solving AI Tasks with ChatGPT and its Friends in HuggingFace” arXiv preprint arXiv:2303.17580 (2023).\\n[17] Bran et al. “ChemCrow: Augmenting large-language models with chemistry tools.” arXiv preprint arXiv:2304.05376 (2023).\\n[18] Boiko et al. “Emergent autonomous scientific research capabilities of large language models.” arXiv preprint arXiv:2304.05332 (2023).\\n[19] Joon Sung Park, et al. “Generative Agents: Interactive Simulacra of Human Behavior.” arXiv preprint arXiv:2304.03442 (2023).\\n[20] AutoGPT. https://github.com/Significant-Gravitas/Auto-GPT\\n[21] GPT-Engineer. https://github.com/AntonOsika/gpt-engineer\\n\\nNlp\\nLanguage-Model\\nAgent\\nSteerability\\nPrompting\\n\\n« \\n\\nAdversarial Attacks on LLMs\\n\\n\\n »\\n\\nPrompt Engineering\\n\\n\\n© 2025 Lil\\'Log\\n\\n        Powered by\\n        Hugo &\\n        PaperMod'],\n",
       " 'summaries': ['요약:\\n\\n이 글은 대형 언어 모델(LLM)을 핵심 컨트롤러로 사용하는 자율 에이전트 시스템의 구조와 주요 구성 요소를 설명한다. LLM 기반 에이전트는 단순한 텍스트 생성 능력을 넘어, 일반적인 문제 해결자로 활용될 수 있다. 시스템은 크게 세 가지 핵심 요소로 구성된다.\\n\\n1. **계획(Planning)**: 에이전트는 복잡한 작업을 더 작은 하위 목표로 분해하고, 자기 반성과 비판을 통해 과거 행동에서 학습하여 결과를 개선한다.\\n2. **메모리(Memory)**: 단기 메모리는 프롬프트 엔지니어링 등 맥락 내 학습에 활용되며, 장기 메모리는 외부 벡터 저장소를 통해 방대한 정보를 장기간 저장·검색할 수 있게 한다.\\n3. **도구 사용(Tool Use)**: 에이전트는 외부 API 호출을 통해 최신 정보, 코드 실행, 독점 정보 접근 등 모델 자체로는 알 수 없는 정보를 보완한다.\\n\\n이러한 구조는 AutoGPT, GPT-Engineer, BabyAGI 등 다양한 데모에서 증명되고 있으며, LLM 기반 에이전트의 잠재력을 보여준다.',\n",
       "  '**정확한 요약:**\\n\\n이 글은 복잡한 작업을 수행하는 인공지능 에이전트의 계획(Planning) 능력 향상 방법을 다룬다.\\n\\n1. **작업 분해(Task Decomposition):**\\n   - **Chain of Thought(CoT):** 모델이 \"단계별로 생각하라\"는 프롬프트를 받아 복잡한 문제를 여러 작은 단계로 나눠 해결한다.\\n   - **Tree of Thoughts(ToT):** CoT를 확장해 각 단계에서 다양한 사고 경로를 생성, 트리 구조로 탐색(BFS/DFS)하며 최적의 경로를 찾는다.\\n   - **작업 분해 방법:** LLM 프롬프트, 작업별 지시문, 인간 입력 등으로 가능하다.\\n   - **LLM+P:** 외부 플래너(예: PDDL)를 활용해 LLM이 문제를 PDDL로 변환, 플래너가 계획을 세우고, 이를 다시 자연어로 변환한다.\\n\\n2. **자기 반성(Self-Reflection):**\\n   - **ReAct:** LLM이 추론(Thought)과 행동(Action)을 번갈아 수행하며, 환경과 상호작용하고 추론 과정을 언어로 기록한다. 이는 단순 행동만 하는 것보다 성능이 좋다.\\n   - **Reflexion:** 에이전트가 동적 메모리와 자기 반성 기능을 갖추어, 시행착오를 통해 계획을 개선한다. 실패한 경로와 이상적인 반성 예시를 LLM에 제공해, 반성 내용을 메모리에 저장하고 이후 계획에 반영한다.\\n\\n**핵심:**  \\n복잡한 작업을 효과적으로 수행하기 위해, LLM 기반 에이전트는 작업을 세분화하고, 추론과 행동을 반복하며, 자기 반성을 통해 지속적으로 계획을 개선하는 다양한 방법들이 연구되고 있다.',\n",
       "  '**정확한 요약:**\\n\\n**Chain of Hindsight (CoH; Liu et al. 2023)**는 모델이 자신의 이전 출력과 그에 대한 피드백(사람이 평가한 점수와 피드백)을 연속적으로 입력받아, 피드백을 반영해 점점 더 나은 출력을 생성하도록 학습시키는 방법이다. 학습 데이터는 (프롬프트, 모델 출력, 사람 평가, 피드백) 형태의 튜플로 구성되며, 보상(평가 점수)이 높은 순서대로 정렬된다. 모델은 피드백과 이전 출력을 순차적으로 입력받고, 마지막(가장 좋은) 출력을 예측하도록 지도학습된다. 과적합 방지를 위해 정규화 항을 추가하고, 피드백 시퀀스 내 일부 토큰을 무작위로 마스킹한다. 실험에서는 WebGPT, 요약, 선호도 데이터 등 다양한 인간 피드백 데이터셋을 사용했다. CoH로 파인튜닝된 모델은 피드백을 반영해 점진적으로 개선된 출력을 생성할 수 있다.\\n\\n**Algorithm Distillation (AD; Laskin et al. 2023)**는 CoH의 아이디어를 강화학습(RL)에 적용한 것으로, 에이전트가 여러 에피소드에 걸쳐 점점 더 나은 행동을 하게 되는 과정을 히스토리로 입력받아, 더 나은 행동을 예측하도록 학습한다. 여러 소스 정책이 생성한 학습 히스토리를 행동 복제(behavioral cloning) 방식으로 신경망에 증류한다. 학습 시에는 다양한 태스크에서 여러 에피소드의 히스토리를 입력으로 사용해, 태스크에 특화되지 않은 일반적인 RL 프로세스를 학습한다. 컨텍스트 윈도우 길이의 한계로 2~4 에피소드 정도의 히스토리가 필요하다. AD는 오프라인 RL만으로도 RL^2(온라인 RL)와 유사한 성능을 보이며, 기존 행동 복제(ED)보다 빠르게 성능이 향상된다.\\n\\n**핵심:**  \\nCoH와 AD 모두 과거의 출력/행동과 그에 대한 피드백(또는 보상)을 연속적으로 입력받아, 모델이 자기반성을 통해 점진적으로 더 나은 결과를 생성하도록 학습시키는 방법이다. CoH는 언어모델, AD는 강화학습에 적용된다.',\n",
       "  '**요약:**\\n\\n인간의 기억은 감각 기억, 단기 기억(작업 기억), 장기 기억으로 나뉜다.  \\n- **감각 기억**은 자극이 끝난 후 몇 초간 감각 정보를 잠깐 저장하며, 시각(아이코닉), 청각(에코익), 촉각(햅틱) 기억으로 세분된다.\\n- **단기 기억(작업 기억)**은 현재 인지하고 있는 정보를 20~30초간, 약 7개 항목까지 저장하며, 학습·추론 등 복잡한 인지 작업에 사용된다.\\n- **장기 기억**은 사실·경험(명시적/서술적 기억)과 기술·습관(암묵적/절차적 기억) 등 다양한 정보를 며칠~수십 년간 거의 무한히 저장한다.\\n\\n이러한 기억 체계는 인공지능에서도 유사하게 적용된다.  \\n- 감각 기억은 입력 데이터의 임베딩 표현 학습,  \\n- 단기 기억은 제한된 컨텍스트 윈도우 내 인컨텍스트 학습,  \\n- 장기 기억은 외부 벡터 저장소(빠른 검색 가능)로 대응된다.\\n\\n장기 기억(외부 메모리)에서 정보를 빠르게 검색하기 위해 **최대 내적 검색(MIPS)**이 사용되며, 근사 최근접 이웃(ANN) 알고리즘이 속도와 정확성의 균형을 위해 활용된다. 대표적인 ANN 알고리즘에는 LSH, ANNOY, HNSW, FAISS, ScaNN 등이 있다. 각 알고리즘은 해싱, 트리 구조, 계층적 그래프, 벡터 양자화 등 다양한 방식으로 대규모 데이터에서 유사한 벡터를 빠르게 찾는다.',\n",
       "  '아래 내용의 정확한 요약:\\n\\n---\\n\\n**요약**\\n\\n1. **MIPS 알고리즘 비교**  \\nMIPS(최대 내적 검색) 알고리즘의 성능(Recall@10 기준)을 비교한 결과가 소개되었으며, 더 많은 알고리즘과 성능 비교는 ann-benchmarks.com에서 확인할 수 있다.\\n\\n2. **도구 사용의 중요성**  \\n인간의 특징 중 하나는 도구 사용 능력이며, LLM(대형 언어 모델)에 외부 도구를 결합하면 모델의 능력이 크게 확장된다.\\n\\n3. **MRKL 시스템**  \\nMRKL(모듈형 추론, 지식, 언어)은 여러 전문가 모듈(신경망 또는 심볼릭 도구)과 LLM이 결합된 구조로, LLM이 적합한 모듈로 질의를 라우팅한다. 실험 결과, LLM이 외부 계산기 도구를 사용할 때, 언어로 된 수학 문제는 명시적 문제보다 더 어려웠으며, 도구 사용의 시점과 방법을 LLM이 잘 판단해야 함을 시사한다.\\n\\n4. **TALM, Toolformer**  \\n이 모델들은 LLM이 외부 API(도구)를 효과적으로 사용할 수 있도록 파인튜닝한다. API 호출이 모델 출력 품질을 높일 때 데이터셋이 확장된다.\\n\\n5. **실제 적용 사례**  \\nChatGPT 플러그인, OpenAI API 함수 호출 등은 LLM이 외부 도구와 결합되어 실제로 활용되는 예시다.\\n\\n6. **HuggingGPT**  \\nHuggingGPT는 ChatGPT를 태스크 플래너로 활용해 HuggingFace의 다양한 모델을 선택·조합하여 사용자 요청을 처리한다.  \\n- 4단계로 구성:  \\n  1) 태스크 플래닝(LLM이 요청을 여러 태스크로 분해)  \\n  2) 모델 선택(LLM이 적합한 전문가 모델을 선택)  \\n  3) 실행  \\n  4) 결과 요약  \\n각 단계는 LLM이 중심 역할을 하며, 태스크와 모델 선택은 명확한 지침과 JSON 포맷으로 이루어진다.\\n\\n---\\n\\n**핵심:**  \\nLLM의 외부 도구 활용은 모델의 한계를 극복하고, MRKL, TALM, Toolformer, HuggingGPT 등 다양한 아키텍처와 실제 적용 사례를 통해 그 가능성이 입증되고 있다. HuggingGPT는 LLM이 태스크 분해와 전문가 모델 선택을 주도하는 대표적 프레임워크다.',\n",
       "  '요약:\\n\\n(3) Task execution 단계에서는 전문가 모델이 특정 작업을 수행하고 결과를 기록합니다. AI 어시스턴트는 입력과 추론 결과를 바탕으로, 사용자 요청에 대한 직접적인 답변을 먼저 제공한 뒤, 작업 과정(사용자 입력, 작업 계획, 모델 할당, 작업 실행)과 분석 및 모델 추론 결과를 1인칭 시점으로 설명해야 하며, 파일 경로가 포함된 경우 전체 경로를 안내해야 합니다.\\n\\n(4) Response generation 단계에서는 LLM이 실행 결과를 받아 요약된 결과를 사용자에게 제공합니다.\\n\\n실제 활용을 위해서는 효율성(LLM 추론 및 외부 모델과의 상호작용 속도), 복잡한 작업을 위한 긴 컨텍스트 윈도우, LLM 및 외부 모델 서비스의 안정성 개선이 필요합니다.\\n\\nAPI-Bank는 도구 기반 LLM의 성능을 평가하는 벤치마크로, 다양한 API(검색, 계산, 캘린더, 스마트홈 등)와 264개의 대화, 568개의 API 호출을 포함합니다. LLM은 적절한 API를 검색하고 문서를 참고해 호출하며, API 호출 필요성, 적합한 API 선택, 입력값 조정, 결과에 따른 재호출 여부 등 일련의 의사결정을 내립니다.\\n\\nAPI-Bank는 도구 사용 능력을 3단계로 평가합니다:\\n- Level-1: API 호출 및 응답 처리 능력\\n- Level-2: 적합한 API 검색 및 문서 활용 능력\\n- Level-3: 복수 API를 활용한 복잡한 작업 계획 능력\\n\\n사례로 ChemCrow는 LLM에 13개의 전문가 도구를 결합해 유기합성, 신약 개발 등 과학적 작업을 수행합니다. LLM은 도구 목록과 설명, 입출력 정보를 받고, 필요시 도구를 활용해 사용자 요청을 해결합니다. LLM 자체 평가와 달리, 전문가의 인간 평가에서는 ChemCrow가 GPT-4보다 훨씬 뛰어난 성능을 보였으며, 이는 전문 분야에서 LLM의 자기 평가 한계를 시사합니다. Boiko 등은 LLM 기반 에이전트가 인터넷 검색, 문서 읽기, 코드 실행, 로봇 실험 API 호출 등 다양한 도구를 활용해 복잡한 과학 실험을 자율적으로 설계·수행할 수 있음을 보였습니다.',\n",
       "  '아래 내용의 정확한 요약:\\n\\n1. **AI를 이용한 신약 및 위험물 합성 시도**  \\n- 연구자들은 AI에게 항암제 개발의 최신 트렌드를 묻고, 표적을 선정한 뒤, 해당 표적에 맞는 스캐폴드(화합물 구조)를 요청했다.  \\n- AI가 화합물을 제안하면, 그 합성법을 시도했다.  \\n- 불법 약물 및 생화학 무기 합성의 위험성도 논의했다.  \\n- 실제로 화학무기 목록을 AI에 입력해 합성법을 요청한 결과, 11건 중 4건(36%)에서 AI가 합성법을 제시했고, 7건은 거부했다(이 중 5건은 웹 검색 후, 2건은 프롬프트만으로 거부).\\n\\n2. **Generative Agents(생성형 에이전트) 시뮬레이션**  \\n- Sims에서 영감을 받은 실험으로, 25명의 가상 캐릭터가 LLM 기반 에이전트로 제어되어 상호작용하며 생활한다.  \\n- 각 에이전트는 기억(메모리), 계획, 반성(reflection) 메커니즘을 통해 과거 경험에 기반한 행동과 상호작용을 한다.  \\n- 기억 스트림: 에이전트의 경험을 자연어로 기록하는 장기 기억 모듈  \\n- 검색 모델: 최근성, 중요성, 관련성에 따라 행동에 필요한 맥락을 제공  \\n- 반성 메커니즘: 기억을 고차원적 추론으로 통합해 미래 행동을 안내  \\n- 계획 및 반응: 반성과 환경 정보를 바탕으로 행동 결정  \\n- 이 시스템은 정보 확산, 관계 기억, 사회적 이벤트 조정 등 인간과 유사한 사회적 행동을 보여준다.\\n\\n3. **AutoGPT 등 자율 에이전트의 개념 증명**  \\n- LLM을 메인 컨트롤러로 하는 자율 에이전트 실험이 활발하다.  \\n- 자연어 기반 인터페이스로 신뢰성 문제는 있지만, 중요한 정보를 파일로 저장하는 등 자율적으로 목표를 달성하려는 구조를 갖는다.\\n\\n**핵심 요약:**  \\nAI(LLM 기반 에이전트)는 신약 개발, 위험 화합물 합성 등 복잡한 과제를 수행할 수 있으며, 사회적 시뮬레이션에서는 기억, 계획, 반성 등 인간 유사 행동을 보인다. 그러나 위험물 합성 등 윤리적·법적 문제에 대한 대응은 아직 완벽하지 않다.',\n",
       "  '아래 내용은 인공지능 에이전트가 사용할 수 있는 명령어(Command) 목록과 각 명령어의 기능, 그리고 사용 가능한 리소스와 성능 평가 기준을 설명한 것이다. 주요 명령어로는 구글 검색, 웹사이트 탐색, 파일 읽기/쓰기, 코드 분석 및 개선, 이미지 생성, 트윗 전송 등이 있다. 또한, 에이전트는 인터넷 접근, 장기 기억 관리, GPT-3.5 기반 에이전트 활용, 파일 출력 등의 리소스를 사용할 수 있다. 성능 평가는 지속적인 자기 점검, 전략 개선, 효율적인 명령어 사용을 통해 이루어진다.',\n",
       "  '{\\n    \"thoughts\": {\\n        \"text\": \"The passage describes GPT-Engineer, a project that generates an entire code repository from a natural language task. It emphasizes the agent\\'s process of breaking down the task into smaller components, seeking clarifications from the user, and iteratively refining requirements before coding.\",\\n        \"reasoning\": \"The main idea is to explain how GPT-Engineer works: it takes a user-specified task, decomposes it, asks clarifying questions, and only proceeds to code after requirements are clear. The sample conversation illustrates this clarification process.\",\\n        \"plan\": \"- Summarize GPT-Engineer\\'s workflow\\\\n- Highlight the clarification and decomposition steps\\\\n- Note the transition to code generation after requirements are clear\",\\n        \"criticism\": \"The summary should avoid excessive detail about the sample conversation and focus on the general workflow and purpose of GPT-Engineer.\",\\n        \"speak\": \"GPT-Engineer is a tool that builds code repositories from natural language tasks by breaking them down, clarifying requirements with the user, and then generating code once everything is clear.\"\\n    },\\n    \"command\": {\\n        \"name\": \"summarize\",\\n        \"args\": {\\n            \"summary\": \"GPT-Engineer is a project that creates a full code repository from a natural language task. It works by breaking the task into smaller components, asking the user clarifying questions to ensure requirements are clear, and then generating code based on the clarified instructions.\"\\n        }\\n    }\\n}',\n",
       "  '요약:\\n\\n- 주어진 내용은 코드 작성 지침에 관한 것이다.\\n- 코드 아키텍처의 모든 세부사항이 실제 코드로 구현되어야 하며, 매우 상세한 답변을 요구한다.\\n- 단계별로 신중하게 설계 결정을 내리며, 먼저 필요한 핵심 클래스, 함수, 메서드의 이름과 목적을 간단히 설명한다.\\n- 그 다음, 각 파일의 전체 코드를 마크다운 코드 블록 형식으로 출력한다. (파일명, 언어, 코드 포함)\\n- 엔트리포인트 파일부터 시작해, 그 파일이 import하는 파일 순서로 진행한다.\\n- 모든 파일은 완전한 코드(임시 코드/placeholder 없이)와 필요한 import, 타입, 주석을 포함해야 한다.\\n- 언어 및 프레임워크의 파일명, 구조, best practice를 따른다.\\n- Python의 경우 requirements.txt, NodeJS의 경우 package.json 등 의존성 파일을 반드시 포함한다.\\n- 각 함수 정의에는 간단한 목적 주석을 추가하고, 복잡한 로직에는 설명 주석을 추가한다.\\n- 각 클래스는 보통 별도의 파일에 작성한다.\\n- pytest, dataclasses 등 Python 도구를 선호한다.\\n- 전체 아키텍처의 모든 부분이 코드에 구현되어 있는지 마지막에 반드시 확인한다.',\n",
       "  '요약:\\n\\n이 대화는 코드 아키텍처 설계 및 구현에 대한 지침을 주고받는 예시이다. 시스템 메시지는 코드 작성 시 단계별로 신중하게 설계하고, 필요한 모든 클래스, 함수, 메서드의 이름과 목적을 먼저 나열한 뒤, 각 파일의 전체 코드를 마크다운 코드 블록 형식으로 출력할 것을 요구한다. 각 파일은 실제로 동작 가능한 코드만 포함해야 하며, 언어별로 적절한 파일명과 의존성 파일(예: Python의 requirements.txt, NodeJS의 package.json)도 포함해야 한다. 복잡한 로직에는 주석을 추가하고, 각 함수의 목적도 주석으로 설명해야 한다. 이후의 대화에서는 MVC(모델-뷰-컨트롤러) 구조를 예로 들어, 모델, 뷰, 컨트롤러의 역할을 명확히 하고, 키보드 입력 처리 등 구체적인 구현 방향에 대해 논의한다. 마지막으로, 사용자는 다시 한 번 단계별 설계와 코드 출력, 파일 구조, 코드 호환성, 아키텍처 완성도 점검 등 지침을 상기시킨다.\\n\\n즉, 이 대화는 체계적이고 완전한 코드 아키텍처 설계 및 구현을 위한 구체적인 절차와 기준을 정리한 것이다.',\n",
       "  '요약:\\n\\n1. **유한한 문맥 길이**: LLM(대형 언어 모델)은 제한된 문맥 길이로 인해 과거 정보, 상세 지침, API 호출 맥락, 응답 등을 충분히 포함하지 못한다. 벡터 스토어와 검색 기능이 더 많은 지식 접근을 제공할 수 있지만, 완전한 어텐션만큼 강력하지 않다.\\n\\n2. **장기 계획 및 과제 분해의 어려움**: LLM은 긴 이력에 기반한 계획 수립과 해결책 탐색에 어려움을 겪으며, 예기치 않은 오류 발생 시 계획을 유연하게 조정하지 못해 인간보다 시행착오 학습에 약하다.\\n\\n3. **자연어 인터페이스의 신뢰성 문제**: LLM과 외부 컴포넌트(메모리, 도구 등) 간의 인터페이스로 자연어를 사용하지만, 출력 신뢰성이 낮아 포맷 오류나 지시 불이행 등 문제가 발생한다. 이에 따라 에이전트 데모 코드의 상당 부분이 출력 파싱에 집중된다.',\n",
       "  '**정확한 요약:**\\n\\nLilian Weng의 \"LLM-powered Autonomous Agents\" (2023)은 대형 언어 모델(LLM)을 기반으로 한 자율 에이전트의 구조, 작동 방식, 그리고 최신 연구 동향을 정리한 글이다. 이 글은 LLM이 단순한 텍스트 생성에서 벗어나, 외부 도구 활용, 계획 수립, 자기 반성, 메모리 관리 등 다양한 능력을 갖춘 자율적 에이전트로 진화하는 과정을 설명한다. 주요 내용은 다음과 같다:\\n\\n- **에이전트 구조**: LLM이 외부 환경과 상호작용하며, 도구(tool) 사용, 검색, API 호출 등 다양한 기능을 통합해 복잡한 문제를 해결할 수 있도록 설계됨.\\n- **추론 및 계획**: Chain of Thought, Tree of Thoughts, ReAct 등 다양한 프롬프트 기법과 알고리즘을 통해 LLM의 추론 및 계획 능력을 강화함.\\n- **도구 활용**: Toolformer, HuggingGPT, ChemCrow 등 LLM이 외부 도구와 연동하여 실제 문제를 해결하는 사례가 증가하고 있음.\\n- **자기 반성 및 메모리**: Reflexion 등 자기 반성과 동적 메모리 관리 기법을 통해 에이전트의 지속적 학습과 성능 향상이 가능해짐.\\n- **응용 및 오픈소스**: AutoGPT, GPT-Engineer 등 오픈소스 프로젝트를 통해 실제 자율 에이전트 구현이 활발히 이루어지고 있음.\\n\\n이 글은 LLM 기반 에이전트의 최신 연구와 기술 동향, 그리고 앞으로의 발전 방향을 폭넓게 다루고 있다.']}"
      ]
     },
     "execution_count": 49,
     "metadata": {},
     "output_type": "execute_result"
    }
   ],
   "source": [
    "app.invoke(\n",
    "    {'contents': [doc.page_content for doc in split_docs]}\n",
    ")"
   ]
  },
  {
   "cell_type": "code",
   "execution_count": 47,
   "id": "d9e4dd60",
   "metadata": {},
   "outputs": [
    {
     "data": {
      "image/png": "[encoded data removed]",
      "text/plain": [
       "<IPython.core.display.Image object>"
      ]
     },
     "execution_count": 47,
     "metadata": {},
     "output_type": "execute_result"
    }
   ],
   "source": [
    "from IPython.display import Image\n",
    "Image(app.get_graph().draw_mermaid_png())"
   ]
  }
 ],
 "metadata": {
  "kernelspec": {
   "display_name": "Python 3",
   "language": "python",
   "name": "python3"
  },
  "language_info": {
   "codemirror_mode": {
    "name": "ipython",
    "version": 3
   },
   "file_extension": ".py",
   "mimetype": "text/x-python",
   "name": "python",
   "nbconvert_exporter": "python",
   "pygments_lexer": "ipython3",
   "version": "3.13.2"
  }
 },
 "nbformat": 4,
 "nbformat_minor": 5
}
