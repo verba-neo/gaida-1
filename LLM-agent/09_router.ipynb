{
 "cells": [
  {
   "cell_type": "markdown",
   "id": "e8427e1c",
   "metadata": {},
   "source": [
    "# Router\n",
    "- LLM이 특정 상황에서 다음에 실행할 노드를 결정하도록 함"
   ]
  },
  {
   "cell_type": "code",
   "execution_count": 1,
   "id": "3affbeb0",
   "metadata": {},
   "outputs": [
    {
     "data": {
      "text/plain": [
       "True"
      ]
     },
     "execution_count": 1,
     "metadata": {},
     "output_type": "execute_result"
    }
   ],
   "source": [
    "from dotenv import load_dotenv\n",
    "from pprint import pprint\n",
    "\n",
    "load_dotenv()"
   ]
  },
  {
   "cell_type": "code",
   "execution_count": 10,
   "id": "d3912fcb",
   "metadata": {},
   "outputs": [],
   "source": [
    "from langchain_openai import ChatOpenAI\n",
    "\n",
    "llm = ChatOpenAI(model='gpt-4.1')\n",
    "\n",
    "# 커스텀 Tool 생성\n",
    "def multiply(a: int, b: int) -> int:\n",
    "    \"\"\"Multiply a and b\n",
    "    Args:\n",
    "        a: first int\n",
    "        b: second int\n",
    "    \"\"\"\n",
    "    return a * b\n",
    "\n",
    "\n",
    "llm_with_tools = llm.bind_tools([multiply])"
   ]
  },
  {
   "cell_type": "code",
   "execution_count": 11,
   "id": "6e9dc857",
   "metadata": {},
   "outputs": [
    {
     "data": {
      "image/png": "[encoded data removed]",
      "text/plain": [
       "<IPython.core.display.Image object>"
      ]
     },
     "metadata": {},
     "output_type": "display_data"
    }
   ],
   "source": [
    "from IPython.display import Image, display\n",
    "from langgraph.graph import StateGraph, START, END, MessagesState  # 08에서 직접 만든 State와 같음\n",
    "from langgraph.prebuilt import ToolNode, tools_condition\n",
    "\n",
    "# Node 정의\n",
    "def tool_calling_node(state: MessagesState):\n",
    "    new_messages = [ llm_with_tools.invoke(state['messages']) ]\n",
    "    return {\n",
    "        'messages': new_messages\n",
    "    }\n",
    "\n",
    "# 그래프 빌드\n",
    "builder = StateGraph(MessagesState)\n",
    "builder.add_node('tool_calling_node', tool_calling_node)\n",
    "builder.add_node('tools', ToolNode([multiply]))\n",
    "\n",
    "builder.add_edge(START, 'tool_calling_node')\n",
    "builder.add_conditional_edges(\n",
    "    'tool_calling_node',\n",
    "    # tool_calling_node의 결과가 'tool_calls' 라면 -> tools 노드로 보냄\n",
    "    # tool_calling_node의 결과가 'tool_calls'가 아니면 -> 바로 답변 생성\n",
    "    tools_condition\n",
    ")\n",
    "builder.add_edge('tools', END)\n",
    "graph = builder.compile()\n",
    "\n",
    "display(Image(graph.get_graph().draw_mermaid_png()))"
   ]
  },
  {
   "cell_type": "code",
   "execution_count": 12,
   "id": "4211b935",
   "metadata": {},
   "outputs": [],
   "source": [
    "from langchain_core.messages import HumanMessage\n",
    "messages = [\n",
    "    HumanMessage(content='2 랑 삼이랑 곱하면?')\n",
    "]\n",
    "res = graph.invoke({'messages': messages})"
   ]
  },
  {
   "cell_type": "code",
   "execution_count": 13,
   "id": "23682354",
   "metadata": {},
   "outputs": [
    {
     "name": "stdout",
     "output_type": "stream",
     "text": [
      "================================\u001b[1m Human Message \u001b[0m=================================\n",
      "\n",
      "2 랑 삼이랑 곱하면?\n",
      "==================================\u001b[1m Ai Message \u001b[0m==================================\n",
      "Tool Calls:\n",
      "  multiply (call_JO1YdFTyHjEdVFiEB3f2XN8H)\n",
      " Call ID: call_JO1YdFTyHjEdVFiEB3f2XN8H\n",
      "  Args:\n",
      "    a: 2\n",
      "    b: 3\n",
      "=================================\u001b[1m Tool Message \u001b[0m=================================\n",
      "Name: multiply\n",
      "\n",
      "6\n"
     ]
    }
   ],
   "source": [
    "for m in res['messages']:\n",
    "    m.pretty_print()"
   ]
  },
  {
   "cell_type": "code",
   "execution_count": null,
   "id": "eeb37d3e",
   "metadata": {},
   "outputs": [],
   "source": []
  }
 ],
 "metadata": {
  "kernelspec": {
   "display_name": "Python 3",
   "language": "python",
   "name": "python3"
  },
  "language_info": {
   "codemirror_mode": {
    "name": "ipython",
    "version": 3
   },
   "file_extension": ".py",
   "mimetype": "text/x-python",
   "name": "python",
   "nbconvert_exporter": "python",
   "pygments_lexer": "ipython3",
   "version": "3.13.2"
  }
 },
 "nbformat": 4,
 "nbformat_minor": 5
}
