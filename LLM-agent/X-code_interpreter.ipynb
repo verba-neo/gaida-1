{
 "cells": [
  {
   "cell_type": "code",
   "execution_count": null,
   "id": "3dc181e3",
   "metadata": {},
   "outputs": [],
   "source": [
    "%pip install langchain_experimental"
   ]
  },
  {
   "cell_type": "markdown",
   "id": "3543e0b1",
   "metadata": {},
   "source": [
    "## State"
   ]
  },
  {
   "cell_type": "code",
   "execution_count": null,
   "id": "6d4cb138",
   "metadata": {},
   "outputs": [],
   "source": [
    "from langgraph.graph import MessagesState\n",
    "from typing_extensions import Any\n",
    "\n",
    "class State(MessagesState):\n",
    "    question: str\n",
    "    dataset: Any\n",
    "    code: str\n",
    "    is_executable: bool\n",
    "    result: str\n",
    "    answer: str\n",
    "\n"
   ]
  },
  {
   "cell_type": "markdown",
   "id": "14456043",
   "metadata": {},
   "source": [
    "## Tools"
   ]
  },
  {
   "cell_type": "code",
   "execution_count": null,
   "id": "47179c2a",
   "metadata": {},
   "outputs": [],
   "source": [
    "from langchain_core.tools import Tool\n",
    "from langchain.tools import tool\n",
    "from langchain_experimental.utilities import PythonREPL\n",
    "from langgraph.prebuilt import ToolNode\n",
    "\n",
    "\n",
    "\n",
    "\n",
    "tools = [repl_tool]\n",
    "\n",
    "tool_node = "
   ]
  },
  {
   "cell_type": "markdown",
   "id": "05882662",
   "metadata": {},
   "source": [
    "## Nodes"
   ]
  },
  {
   "cell_type": "code",
   "execution_count": null,
   "id": "1be038dc",
   "metadata": {},
   "outputs": [],
   "source": [
    "def query_analysis(state: State):\n",
    "    pass\n",
    "\n",
    "\n",
    "def validate_code(state: State):\n",
    "    prompt = f\"\"\"\n",
    "    아래 사용자 질문과 현재 우리의 데이터 셋, 그리고 파이썬 코드가 있어.\n",
    "    파이썬 코드가 적절한지 검증하고 \n",
    "    \"\"\"\n",
    "\n",
    "def execute_code(state: State):\n",
    "    python_repl = PythonREPL()\n",
    "    repl_tool = Tool(\n",
    "        name='python_repl',\n",
    "        description='A Python shell. Use this to execute python commands. Input should be a valid python command. If you want to see the output of a value, you should print it out with `print(...)`.',\n",
    "        func=python_repl.run,\n",
    "    )\n",
    "    result = repl_tool.invoke(state['code'])\n",
    "    return {'result': result}\n",
    "\n"
   ]
  },
  {
   "cell_type": "markdown",
   "id": "b8008fba",
   "metadata": {},
   "source": [
    "## Routers"
   ]
  },
  {
   "cell_type": "code",
   "execution_count": null,
   "id": "9abc9737",
   "metadata": {},
   "outputs": [],
   "source": []
  },
  {
   "cell_type": "markdown",
   "id": "b208742b",
   "metadata": {},
   "source": [
    "## Graph"
   ]
  },
  {
   "cell_type": "code",
   "execution_count": null,
   "id": "a4635e5f",
   "metadata": {},
   "outputs": [],
   "source": [
    "from langgraph.graph import StateGraph, START, END\n",
    "from langgraph.checkpoint.memory import InMemorySaver\n",
    "\n",
    "builder = StateGraph(MessagesState)\n",
    "# builder.add_node()\n",
    "\n",
    "memory = InMemorySaver()\n",
    "graph = builder.compile(checkpointer=memory)"
   ]
  },
  {
   "cell_type": "code",
   "execution_count": null,
   "id": "8f31fecb",
   "metadata": {},
   "outputs": [],
   "source": [
    "config = {\n",
    "    'configurable': {'thread_id': '1'}\n",
    "}\n",
    "question = '현재 데이터의 평균과 표준편차를 구해줘'\n",
    "graph.invoke({\n",
    "    'question': question,\n",
    "    'dataset': [1, 2, 3, 4, 5, 6, 7, 8]\n",
    "}, config)"
   ]
  }
 ],
 "metadata": {
  "kernelspec": {
   "display_name": "Python 3",
   "language": "python",
   "name": "python3"
  },
  "language_info": {
   "codemirror_mode": {
    "name": "ipython",
    "version": 3
   },
   "file_extension": ".py",
   "mimetype": "text/x-python",
   "name": "python",
   "nbconvert_exporter": "python",
   "pygments_lexer": "ipython3",
   "version": "3.13.2"
  }
 },
 "nbformat": 4,
 "nbformat_minor": 5
}
