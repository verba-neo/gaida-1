{
 "cells": [
  {
   "cell_type": "markdown",
   "id": "bacd28ae",
   "metadata": {},
   "source": [
    "# Agent\n",
    "## ReAct (에이전트 구조)\n",
    "- Act(행동) -> 모델이 판단 후 특정 Tool을 호출\n",
    "- Observe(관찰) -> 위에서 호출한 Tool 결과를 다시 모델이 받아서 확인\n",
    "- Reason(판단) -> 모델이 Tool 결과를 보고 다음 스텝을 결정(ex. 다른 Tool을 쓸지 / 바로답을 할지 등)\n"
   ]
  },
  {
   "cell_type": "code",
   "execution_count": 1,
   "id": "06cb4d3b",
   "metadata": {},
   "outputs": [
    {
     "data": {
      "text/plain": [
       "True"
      ]
     },
     "execution_count": 1,
     "metadata": {},
     "output_type": "execute_result"
    }
   ],
   "source": [
    "from dotenv import load_dotenv\n",
    "load_dotenv()"
   ]
  },
  {
   "cell_type": "code",
   "execution_count": 17,
   "id": "9e5cf9ab",
   "metadata": {},
   "outputs": [],
   "source": [
    "from langchain.tools import tool\n",
    "from langchain_openai import ChatOpenAI\n",
    "\n",
    "\n",
    "@tool\n",
    "def multiply(a: int, b: int) -> int:\n",
    "    \"\"\"Multiply a and b.\n",
    "\n",
    "    Args:\n",
    "        a: first int\n",
    "        b: second int\n",
    "    \"\"\"\n",
    "    return a * b\n",
    "\n",
    "@tool\n",
    "def add(a: int, b: int) -> int:\n",
    "    \"\"\"Adds a and b.\n",
    "\n",
    "    Args:\n",
    "        a: first int\n",
    "        b: second int\n",
    "    \"\"\"\n",
    "    return a + b\n",
    "\n",
    "@tool\n",
    "def divide(a: int, b: int) -> float:\n",
    "    \"\"\"Divide a and b.\n",
    "\n",
    "    Args:\n",
    "        a: first int\n",
    "        b: second int\n",
    "    \"\"\"\n",
    "    return a / b\n",
    "\n",
    "\n",
    "tools = [add, multiply, divide]\n",
    "llm = ChatOpenAI(model='gpt-4.1', temperature=0)\n",
    "\n",
    "llm_with_tools = llm.bind_tools(tools, parallel_tool_calls=False)"
   ]
  },
  {
   "cell_type": "code",
   "execution_count": 18,
   "id": "7c7ea1c5",
   "metadata": {},
   "outputs": [],
   "source": [
    "from langgraph.graph import MessagesState\n",
    "from langchain_core.messages import HumanMessage, SystemMessage\n",
    "\n",
    "sys_msg = SystemMessage(content='너는 입력 숫자를 받아 산수 연산을 도와주는 어시스턴트야')\n",
    "\n",
    "# Node\n",
    "def assistant(state: MessagesState):\n",
    "    new_msg = llm_with_tools.invoke([sys_msg] + state['messages'])\n",
    "    return {'messages': new_msg}"
   ]
  },
  {
   "cell_type": "code",
   "execution_count": 19,
   "id": "135c5bc7",
   "metadata": {},
   "outputs": [
    {
     "data": {
      "image/png": "[encoded data removed]",
      "text/plain": [
       "<IPython.core.display.Image object>"
      ]
     },
     "metadata": {},
     "output_type": "display_data"
    }
   ],
   "source": [
    "from langgraph.graph import START, StateGraph\n",
    "from langgraph.prebuilt import tools_condition, ToolNode\n",
    "from IPython.display import Image, display\n",
    "\n",
    "# 그래프 빌더\n",
    "builder = StateGraph(MessagesState)\n",
    "\n",
    "# 노드 등록\n",
    "builder.add_node('assistant', assistant)\n",
    "builder.add_node('tools', ToolNode(tools))\n",
    "\n",
    "# 엣지 연결\n",
    "builder.add_edge(START, 'assistant')\n",
    "builder.add_conditional_edges(\n",
    "    'assistant',\n",
    "    tools_condition  # 'tools' or END 로 가도록 되어있음. END 없음\n",
    ")\n",
    "builder.add_edge('tools', 'assistant')  # Loop\n",
    "\n",
    "graph = builder.compile()\n",
    "\n",
    "display(Image(graph.get_graph().draw_mermaid_png()))"
   ]
  },
  {
   "cell_type": "code",
   "execution_count": 22,
   "id": "99ea89ad",
   "metadata": {},
   "outputs": [
    {
     "name": "stdout",
     "output_type": "stream",
     "text": [
      "================================\u001b[1m Human Message \u001b[0m=================================\n",
      "\n",
      "3에다 4를 더해.\n",
      "==================================\u001b[1m Ai Message \u001b[0m==================================\n",
      "Tool Calls:\n",
      "  add (call_tDdHeVifACXbN2Z9IInMckAv)\n",
      " Call ID: call_tDdHeVifACXbN2Z9IInMckAv\n",
      "  Args:\n",
      "    a: 3\n",
      "    b: 4\n",
      "=================================\u001b[1m Tool Message \u001b[0m=================================\n",
      "Name: add\n",
      "\n",
      "7\n",
      "==================================\u001b[1m Ai Message \u001b[0m==================================\n",
      "\n",
      "3에 4를 더하면 7입니다.\n"
     ]
    }
   ],
   "source": [
    "my_msg = '3에다 4를 더해.'\n",
    "\n",
    "res = graph.invoke({'messages': [my_msg]})\n",
    "\n",
    "for m in res['messages']:\n",
    "    m.pretty_print()"
   ]
  },
  {
   "cell_type": "code",
   "execution_count": 23,
   "id": "a4ac8376",
   "metadata": {},
   "outputs": [
    {
     "name": "stdout",
     "output_type": "stream",
     "text": [
      "================================\u001b[1m Human Message \u001b[0m=================================\n",
      "\n",
      "거기다 2를 곱해\n",
      "==================================\u001b[1m Ai Message \u001b[0m==================================\n",
      "Tool Calls:\n",
      "  multiply (call_Xorhe6cffNPrG5fWskTy9YkO)\n",
      " Call ID: call_Xorhe6cffNPrG5fWskTy9YkO\n",
      "  Args:\n",
      "    a: 2\n",
      "    b: 2\n",
      "=================================\u001b[1m Tool Message \u001b[0m=================================\n",
      "Name: multiply\n",
      "\n",
      "4\n",
      "==================================\u001b[1m Ai Message \u001b[0m==================================\n",
      "\n",
      "2에 2를 곱하면 4입니다. \n",
      "\n",
      "다른 연산이 필요하신가요?\n"
     ]
    }
   ],
   "source": [
    "my_msg = '거기다 2를 곱해'\n",
    "\n",
    "res = graph.invoke({'messages': [my_msg]})\n",
    "\n",
    "for m in res['messages']:\n",
    "    m.pretty_print()"
   ]
  },
  {
   "cell_type": "code",
   "execution_count": null,
   "id": "73522977",
   "metadata": {},
   "outputs": [],
   "source": [
    "from langgraph.checkpoint.memory import MemorySaver\n",
    "\n",
    "# 메모리 추가\n",
    "memory = MemorySaver()\n",
    "graph = builder.compile(checkpointer=memory)"
   ]
  },
  {
   "cell_type": "code",
   "execution_count": 29,
   "id": "78dffb3f",
   "metadata": {},
   "outputs": [
    {
     "name": "stdout",
     "output_type": "stream",
     "text": [
      "================================\u001b[1m Human Message \u001b[0m=================================\n",
      "\n",
      "3에다 4를 더해\n",
      "==================================\u001b[1m Ai Message \u001b[0m==================================\n",
      "Tool Calls:\n",
      "  add (call_TP6VocNRPSFyepL1BLAh4u6w)\n",
      " Call ID: call_TP6VocNRPSFyepL1BLAh4u6w\n",
      "  Args:\n",
      "    a: 3\n",
      "    b: 4\n",
      "=================================\u001b[1m Tool Message \u001b[0m=================================\n",
      "Name: add\n",
      "\n",
      "7\n",
      "==================================\u001b[1m Ai Message \u001b[0m==================================\n",
      "\n",
      "3에 4를 더하면 7입니다.\n",
      "================================\u001b[1m Human Message \u001b[0m=================================\n",
      "\n",
      "거기다 2를 곱해\n",
      "==================================\u001b[1m Ai Message \u001b[0m==================================\n",
      "Tool Calls:\n",
      "  multiply (call_GXr94JqHlZWeI79YfxICc4Rr)\n",
      " Call ID: call_GXr94JqHlZWeI79YfxICc4Rr\n",
      "  Args:\n",
      "    a: 7\n",
      "    b: 2\n",
      "=================================\u001b[1m Tool Message \u001b[0m=================================\n",
      "Name: multiply\n",
      "\n",
      "14\n",
      "==================================\u001b[1m Ai Message \u001b[0m==================================\n",
      "\n",
      "7에 2를 곱하면 14가 됩니다.\n",
      "================================\u001b[1m Human Message \u001b[0m=================================\n",
      "\n",
      "거기에 5를 나눠\n",
      "==================================\u001b[1m Ai Message \u001b[0m==================================\n",
      "Tool Calls:\n",
      "  divide (call_bXK1XRNuecXtnBJZzAbGqvrW)\n",
      " Call ID: call_bXK1XRNuecXtnBJZzAbGqvrW\n",
      "  Args:\n",
      "    a: 14\n",
      "    b: 5\n",
      "=================================\u001b[1m Tool Message \u001b[0m=================================\n",
      "Name: divide\n",
      "\n",
      "2.8\n",
      "==================================\u001b[1m Ai Message \u001b[0m==================================\n",
      "\n",
      "14를 5로 나누면 2.8입니다.\n",
      "================================\u001b[1m Human Message \u001b[0m=================================\n",
      "\n",
      "거기에 5를 나눠\n",
      "==================================\u001b[1m Ai Message \u001b[0m==================================\n",
      "Tool Calls:\n",
      "  divide (call_Ft7Z6XShlqaFXEHvWO7jSW69)\n",
      " Call ID: call_Ft7Z6XShlqaFXEHvWO7jSW69\n",
      "  Args:\n",
      "    a: 2.8\n",
      "    b: 5\n",
      "=================================\u001b[1m Tool Message \u001b[0m=================================\n",
      "Name: divide\n",
      "\n",
      "Error: 1 validation error for divide\n",
      "a\n",
      "  Input should be a valid integer, got a number with a fractional part [type=int_from_float, input_value=2.8, input_type=float]\n",
      "    For further information visit https://errors.pydantic.dev/2.11/v/int_from_float\n",
      " Please fix your mistakes.\n",
      "==================================\u001b[1m Ai Message \u001b[0m==================================\n",
      "\n",
      "2.8은 정수가 아니라서 바로 5로 나눌 수 없습니다. 정수로 계산해야 할까요, 아니면 소수점 계산을 원하시나요? 원하는 방식으로 알려주시면 도와드릴게요!\n"
     ]
    }
   ],
   "source": [
    "# 스레드를 지정\n",
    "config = {'configurable': {'thread_id': '1'}}\n",
    "\n",
    "my_msg = '거기에 5를 나눠'\n",
    "\n",
    "res = graph.invoke({'messages': [my_msg]}, config=config)\n",
    "\n",
    "for m in res['messages']:\n",
    "    m.pretty_print()"
   ]
  },
  {
   "cell_type": "code",
   "execution_count": null,
   "id": "e1fa0c43",
   "metadata": {},
   "outputs": [],
   "source": [
    "'https://chatgpt.com/c/68ba296d-12e8-832f-9a32-b4b3eaf4d562'"
   ]
  },
  {
   "cell_type": "markdown",
   "id": "dccabfc7",
   "metadata": {},
   "source": []
  }
 ],
 "metadata": {
  "kernelspec": {
   "display_name": "Python 3",
   "language": "python",
   "name": "python3"
  },
  "language_info": {
   "codemirror_mode": {
    "name": "ipython",
    "version": 3
   },
   "file_extension": ".py",
   "mimetype": "text/x-python",
   "name": "python",
   "nbconvert_exporter": "python",
   "pygments_lexer": "ipython3",
   "version": "3.13.2"
  }
 },
 "nbformat": 4,
 "nbformat_minor": 5
}
