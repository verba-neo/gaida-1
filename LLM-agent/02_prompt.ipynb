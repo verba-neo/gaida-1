{
 "cells": [
  {
   "cell_type": "markdown",
   "id": "d56c78bc",
   "metadata": {},
   "source": [
    "# 프롬프트 (`Prompt`)\n",
    "`02_prompt.ipynb`\n",
    "\n",
    "- LLM한테 주는 입력(지시, 맥락, 기억)\n",
    "    - 지시: '~~해줘'\n",
    "    - 맥락: Context - 현재 지시를 위해 제공하는 추가 정보\n",
    "    - 기억: Memory - 지금까지 했던 대화 내용"
   ]
  },
  {
   "cell_type": "code",
   "execution_count": 1,
   "id": "f8cd116f",
   "metadata": {},
   "outputs": [
    {
     "data": {
      "text/plain": [
       "True"
      ]
     },
     "execution_count": 1,
     "metadata": {},
     "output_type": "execute_result"
    }
   ],
   "source": [
    "from dotenv import load_dotenv\n",
    "\n",
    "load_dotenv()"
   ]
  },
  {
   "cell_type": "markdown",
   "id": "2076c4dd",
   "metadata": {},
   "source": [
    "## `PromptTemplate`\n",
    "\n",
    "- 단순히 1회성 명령을 내릴 때 사용"
   ]
  },
  {
   "cell_type": "code",
   "execution_count": 6,
   "id": "3cf0dd09",
   "metadata": {},
   "outputs": [],
   "source": [
    "from langchain_openai import ChatOpenAI\n",
    "from langchain_core.output_parsers import StrOutputParser\n",
    "\n",
    "from langchain_core.prompts import PromptTemplate\n",
    "\n",
    "llm = ChatOpenAI(model='gpt-4.1-nano')"
   ]
  },
  {
   "cell_type": "code",
   "execution_count": null,
   "id": "4e9b4052",
   "metadata": {},
   "outputs": [
    {
     "data": {
      "text/plain": [
       "'대한민국의 수도가 어디인가요?'"
      ]
     },
     "execution_count": 7,
     "metadata": {},
     "output_type": "execute_result"
    }
   ],
   "source": [
    "# 추후에 체인.invoke에서 {} 내부에 들어갈 말을 채워줘야 함.\n",
    "template = '{country}의 수도가 어디인가요?'\n",
    "\n",
    "# .from_template 메서드로 프롬프트 만들기\n",
    "prompt = PromptTemplate.from_template(template)\n",
    "\n",
    "# {}를 채우는 방법 (우리는 결국 chain.invoke 로 쓰게 됨)\n",
    "prompt.format(country='대한민국')"
   ]
  },
  {
   "cell_type": "code",
   "execution_count": 10,
   "id": "bfa6a656",
   "metadata": {},
   "outputs": [
    {
     "data": {
      "text/plain": [
       "'대한민국의 수도는 서울입니다.'"
      ]
     },
     "execution_count": 10,
     "metadata": {},
     "output_type": "execute_result"
    }
   ],
   "source": [
    "chain = prompt | llm\n",
    "\n",
    "chain.invoke({'country': '대한민국'}).content"
   ]
  },
  {
   "cell_type": "markdown",
   "id": "c185218e",
   "metadata": {},
   "source": [
    "### Partial Variable (부분 변수)\n",
    "\n",
    "- 프롬프트에서 매개변수 기본값 사용하기"
   ]
  },
  {
   "cell_type": "code",
   "execution_count": 14,
   "id": "3834ff2f",
   "metadata": {},
   "outputs": [
    {
     "data": {
      "text/plain": [
       "'한국과 미국의 수도는 각각 어디인가요?'"
      ]
     },
     "execution_count": 14,
     "metadata": {},
     "output_type": "execute_result"
    }
   ],
   "source": [
    "template = '{c1}과 {c2}의 수도는 각각 어디인가요?'\n",
    "\n",
    "prompt = PromptTemplate(\n",
    "    template=template,\n",
    "    input_variables=['c1'],\n",
    "    partial_variables={\n",
    "        'c2': '미국'\n",
    "    }\n",
    ")\n",
    "\n",
    "prompt.format(c1='한국')\n",
    "# prompt.format(c2='캐나다') "
   ]
  },
  {
   "cell_type": "code",
   "execution_count": 16,
   "id": "64b135ee",
   "metadata": {},
   "outputs": [
    {
     "data": {
      "text/plain": [
       "'한국(대한민국, KOR)의 수도는 서울입니다.  \\n미국(US)의 수도는 워싱턴 D.C.입니다.'"
      ]
     },
     "execution_count": 16,
     "metadata": {},
     "output_type": "execute_result"
    }
   ],
   "source": [
    "chain = prompt | llm\n",
    "chain.invoke({'c1': 'kor', 'c2': 'us'}).content"
   ]
  },
  {
   "cell_type": "code",
   "execution_count": 22,
   "id": "ae9be5d4",
   "metadata": {},
   "outputs": [
    {
     "data": {
      "text/plain": [
       "'오늘 날짜는 Sep 01입니다. 오늘 생일인 유명인 3명을 생년월일과 함께 나열해 주세요'"
      ]
     },
     "execution_count": 22,
     "metadata": {},
     "output_type": "execute_result"
    }
   ],
   "source": [
    "from datetime import datetime\n",
    "\n",
    "def get_today():\n",
    "    return datetime.now().strftime('%b %d')\n",
    "\n",
    "prompt = PromptTemplate(\n",
    "    template='오늘 날짜는 {today}입니다. 오늘 생일인 유명인 {n}명을 생년월일과 함께 나열해 주세요',\n",
    "    input_variables=['n'],\n",
    "    partial_variables={\n",
    "        'today': get_today\n",
    "    }\n",
    ")\n",
    "\n",
    "prompt.format(n=3)"
   ]
  },
  {
   "cell_type": "code",
   "execution_count": 30,
   "id": "e827ef23",
   "metadata": {},
   "outputs": [
    {
     "name": "stdout",
     "output_type": "stream",
     "text": [
      "오늘이 9월 1일이므로, 오늘 생일인 유명인 3명을 생년월일과 함께 정확히 알려드리려면 최신 정보를 확인해야 합니다. 인터넷 검색으로 확인해도 될까요? 허용해 주시면 Zendaya(1996-09-01) 외에 나머지 두 사람도 신뢰할 수 있는 출처로 확인해 바로 적어 드리겠습니다.\n",
      "===\n",
      "오늘 1월 2일 생일인 유명인 중 확인된 두 명은 다음과 같습니다.\n",
      "\n",
      "- Isaac Asimov — 1920년 1월 2일\n",
      "- Kate Bosworth — 1983년 1월 2일\n",
      "\n",
      "세 번째 인물까지 포함해 3명을 확정해 드리려면 최신 자료 확인이 필요합니다. 원하시면 제가 바로 확인해서 세 번째 이름과 생년월일을 함께 알려드리겠습니다. 계속 진행할까요?\n"
     ]
    }
   ],
   "source": [
    "llm = ChatOpenAI(model='gpt-5-nano')\n",
    "\n",
    "chain = prompt | llm\n",
    "# 오늘 날짜 기준\n",
    "print(chain.invoke({'n': 3}).content)\n",
    "print('===')\n",
    "print(chain.invoke({'n': 3, 'today': 'Jan 2'}).content)"
   ]
  },
  {
   "cell_type": "markdown",
   "id": "b98039f3",
   "metadata": {},
   "source": [
    "## `ChatPromptTemplate`\n",
    "- 채팅을 주고받는 템플릿 생성용\n",
    "- 대화 목록을 LLM에게 주입\n",
    "- 하나의 Chat 은 `role` 과 `message` 로 구성됨"
   ]
  },
  {
   "cell_type": "code",
   "execution_count": null,
   "id": "b0b9d70f",
   "metadata": {},
   "outputs": [
    {
     "data": {
      "text/plain": [
       "'Human: 한국의 수도느 어디?'"
      ]
     },
     "execution_count": 35,
     "metadata": {},
     "output_type": "execute_result"
    }
   ],
   "source": [
    "from langchain_core.prompts import ChatPromptTemplate\n",
    "\n",
    "chat_prompt = ChatPromptTemplate.from_template('{country}의 수도는 어디?')\n",
    "chat_prompt.format(country='한국')"
   ]
  },
  {
   "cell_type": "code",
   "execution_count": null,
   "id": "aede5165",
   "metadata": {},
   "outputs": [
    {
     "name": "stdout",
     "output_type": "stream",
     "text": [
      "System: 당신은 친절한 AI어시스트. 이름은 gaida이야.\n",
      "Human: 반가워!\n",
      "AI: 무엇을 도와드릴까요?\n",
      "Human: 이름이 뭐니?\n",
      "[SystemMessage(content='당신은 친절한 AI어시스트. 이름은 gaida이야.', additional_kwargs={}, response_metadata={}), HumanMessage(content='반가워!', additional_kwargs={}, response_metadata={}), AIMessage(content='무엇을 도와드릴까요?', additional_kwargs={}, response_metadata={}), HumanMessage(content='이름이 뭐니?', additional_kwargs={}, response_metadata={})]\n"
     ]
    }
   ],
   "source": [
    "chat_template = ChatPromptTemplate.from_messages(\n",
    "    [\n",
    "        # role - message\n",
    "        ('system', '당신은 친절한 AI어시스트. 이름은 {name} 야.'),\n",
    "        ('human', '반가워!'),\n",
    "        ('ai', '무엇을 도와드릴까요?'),\n",
    "        ('human', '{user_input}')\n",
    "    ]\n",
    ")\n",
    "\n",
    "# format vs format_messages\n",
    "messages_str = chat_template.format(name='gaida', user_input='이름이 뭐니?')\n",
    "messages_cls = chat_template.format_messages(name='gaida', user_input='이름이 뭐니?')\n",
    "print(messages_str)\n",
    "print(messages_cls)"
   ]
  },
  {
   "cell_type": "code",
   "execution_count": null,
   "id": "9d288782",
   "metadata": {},
   "outputs": [
    {
     "data": {
      "text/plain": [
       "'제 이름은 gaida예요. 무엇을 도와드릴까요?'"
      ]
     },
     "execution_count": 40,
     "metadata": {},
     "output_type": "execute_result"
    }
   ],
   "source": [
    "# 한덩어리 텍스트\n",
    "llm.invoke(messages_str).content\n",
    "# 실제 대화 내역으로 인지 (Langsmith 가서 확인)\n",
    "llm.invoke(messages_cls).content"
   ]
  },
  {
   "cell_type": "code",
   "execution_count": 42,
   "id": "fad31c98",
   "metadata": {},
   "outputs": [
    {
     "data": {
      "text/plain": [
       "'안녕하세요, 유태영님! 저는 가이다이입니다. 이름점을 재미로 한 번 봐드릴게요. 이건 과학적 예언이 아니라, 놀이로 보는 간단한 해석입니다.\\n\\n간략한 이름점 결과\\n- 합산 호감도: 약 82/100 (재미로 보는 수치입니다)\\n- 전반적 분위기: 밝고 에너제틱한 인상과 차분한 이성적 접근이 잘 어우러지는 조합이라고 느껴집니다.\\n\\n유태영님의 이름 특징\\n- 구성: 세 음절(유 / 태 / 영)으로 강한 리듬감이 있습니다.\\n- 핵심 느낌: 밝은 에너지와 빛나는 이미지, 동시에 현실적이고 의지가 강한 면이 엿보입니다.\\n\\n가이다이의 이름 특징\\n- 구성: 네 음절(가 / 이 / 다 / 이)로 명확하고 단정한 인상을 줍니다.\\n- 핵심 느낌: 친근하고 도움을 주는 이미지, 문제를 차분하게 해결하려는 성향이 느껴집니다.\\n\\n두 이름의 궁합 포인트\\n- 강점의 보완: 유태영님의 활력과 빛나는 기운이 가이다이의 차분함과 현실감과 만나 균형감을 만들어냅니다. 창의성과 실행력이 서로를 잘 보완합니다.\\n- 의사소통의 흐름: 서로를 존중하고 배려하는 커뮤니케이션이 잘 맞는 편이지만, 때로는 직설적 표현이 오해를 살 수 있어 서로의 의도를 명확히 전하는 노력이 도움이 됩니다.\\n\\n조화롭게 맞추는 간단 팁\\n- 서로의 강점을 살리려 애칭이나 부르는 이름을 편하게 사용해 보세요. 예: 가이, 유영 같은 간단한 호칭.\\n- 의사소통 시 핵심 포인트를 먼저 간단히 정리한 후 대화하기.\\n- 창의적 아이디어를 제시할 때는 먼저 공감과 칭찬으로 분위기를 살려 주세요.\\n\\n더 깊이 있게 탐구하고 싶으시다면 다른 방식으로도 이름점을 해볼 수 있어요. 예를 들어:\\n- 자음·모음의 구성 분석으로 한층 세밀하게 보기\\n- 글자 수와 음의 흐름에 따른 Compatibility 점수 조정\\n- 한자 의미나 음양오행 관점으로 해석하기\\n\\n원하시는 방식이 있으면 알려주세요. 다른 이름들로도 playful하게 다시 해드릴게요.'"
      ]
     },
     "execution_count": 42,
     "metadata": {},
     "output_type": "execute_result"
    }
   ],
   "source": [
    "chain = chat_template | llm | StrOutputParser()\n",
    "\n",
    "chain.invoke({'name': '가이다', 'user_input': '내 이름은 유태영. 너와 나의 이름점을 봐줘'})"
   ]
  },
  {
   "cell_type": "markdown",
   "id": "11f23c10",
   "metadata": {},
   "source": [
    "## 프롬프팅 방법\n",
    "내가 원하는 답변을 구구절절 설명 X -> 예시를 주고 답변을 형태를 유도\n",
    "- Zero-shot prompting : 예시 없이 질문만 -> 바로 답변\n",
    "- One-shot prompting  : 예시 1개 + 질문 -> 모델이 예시를 모방해서 답변\n",
    "- **Few-shot prompting**  : 예시 여러개 + 질문 -> 예시들의 패턴을 일반화 해서 답변"
   ]
  },
  {
   "cell_type": "code",
   "execution_count": 60,
   "id": "f7465228",
   "metadata": {},
   "outputs": [
    {
     "name": "stdout",
     "output_type": "stream",
     "text": [
      "이 질문에 추가 질문이 필요한가요: 예.\n",
      "추가 질문: Google이 창립된 연도는 언제인가요?\n",
      "중간 답변: Google은 1998년에 설립되었습니다.\n",
      "추가 질문: Bill Gates는 1998년에는 몇 살이었나요?\n",
      "중간 답변: Bill Gates는 1998년에는 43세였습니다.\n",
      "최종 답변은: 43세\n"
     ]
    }
   ],
   "source": [
    "from langchain_core.prompts.few_shot import FewShotPromptTemplate\n",
    "from langchain_core.output_parsers import StrOutputParser\n",
    "\n",
    "llm = ChatOpenAI(model='gpt-4.1-nano')\n",
    "\n",
    "examples = [\n",
    "    {\n",
    "        \"question\": \"스티브 잡스와 아인슈타인 중 누가 더 오래 살았나요?\",\n",
    "        \"answer\": \"\"\"이 질문에 추가 질문이 필요한가요: 예.\n",
    "추가 질문: 스티브 잡스는 몇 살에 사망했나요?\n",
    "중간 답변: 스티브 잡스는 56세에 사망했습니다.\n",
    "추가 질문: 아인슈타인은 몇 살에 사망했나요?\n",
    "중간 답변: 아인슈타인은 76세에 사망했습니다.\n",
    "최종 답변은: 아인슈타인\n",
    "\"\"\",\n",
    "    },\n",
    "    {\n",
    "        \"question\": \"네이버의 창립자는 언제 태어났나요?\",\n",
    "        \"answer\": \"\"\"이 질문에 추가 질문이 필요한가요: 예.\n",
    "추가 질문: 네이버의 창립자는 누구인가요?\n",
    "중간 답변: 네이버는 이해진에 의해 창립되었습니다.\n",
    "추가 질문: 이해진은 언제 태어났나요?\n",
    "중간 답변: 이해진은 1967년 6월 22일에 태어났습니다.\n",
    "최종 답변은: 1967년 6월 22일\n",
    "\"\"\",\n",
    "    },\n",
    "    {\n",
    "        \"question\": \"율곡 이이의 어머니가 태어난 해의 통치하던 왕은 누구인가요?\",\n",
    "        \"answer\": \"\"\"이 질문에 추가 질문이 필요한가요: 예.\n",
    "추가 질문: 율곡 이이의 어머니는 누구인가요?\n",
    "중간 답변: 율곡 이이의 어머니는 신사임당입니다.\n",
    "추가 질문: 신사임당은 언제 태어났나요?\n",
    "중간 답변: 신사임당은 1504년에 태어났습니다.\n",
    "추가 질문: 1504년에 조선을 통치한 왕은 누구인가요?\n",
    "중간 답변: 1504년에 조선을 통치한 왕은 연산군입니다.\n",
    "최종 답변은: 연산군\n",
    "\"\"\",\n",
    "    },\n",
    "    {\n",
    "        \"question\": \"올드보이와 기생충의 감독이 같은 나라 출신인가요?\",\n",
    "        \"answer\": \"\"\"이 질문에 추가 질문이 필요한가요: 예.\n",
    "추가 질문: 올드보이의 감독은 누구인가요?\n",
    "중간 답변: 올드보이의 감독은 박찬욱입니다.\n",
    "추가 질문: 박찬욱은 어느 나라 출신인가요?\n",
    "중간 답변: 박찬욱은 대한민국 출신입니다.\n",
    "추가 질문: 기생충의 감독은 누구인가요?\n",
    "중간 답변: 기생충의 감독은 봉준호입니다.\n",
    "추가 질문: 봉준호는 어느 나라 출신인가요?\n",
    "중간 답변: 봉준호는 대한민국 출신입니다.\n",
    "최종 답변은: 예\n",
    "\"\"\",\n",
    "    },\n",
    "]\n",
    "\n",
    "example_prompt = PromptTemplate.from_template(\n",
    "    \"Question:\\n{question}\\nAnswer:\\n{answer}\"\n",
    ")\n",
    "\n",
    "prompt = FewShotPromptTemplate(\n",
    "    examples=examples,\n",
    "    example_prompt=example_prompt,\n",
    "    suffix=\"Question:\\n{question}\\nAnswer:\",\n",
    "    input_variables=[\"question\"],\n",
    ")\n",
    "\n",
    "question = \"Google이 창립된 연도에 Bill Gates의 나이는 몇 살인가요?\"\n",
    "\n",
    "chain = prompt | llm | StrOutputParser()\n",
    "\n",
    "res = chain.invoke({'question': question})\n",
    "\n",
    "print(res)"
   ]
  },
  {
   "cell_type": "markdown",
   "id": "870ce10d",
   "metadata": {},
   "source": [
    "## `langchain-hub`\n",
    "다양한 사용자들이 업로드한 프롬프트를 받아서 활용"
   ]
  },
  {
   "cell_type": "code",
   "execution_count": 47,
   "id": "96a5427e",
   "metadata": {},
   "outputs": [
    {
     "name": "stdout",
     "output_type": "stream",
     "text": [
      "Answer the following questions as best you can. You have access to the following tools:\n",
      "\n",
      "{tools}\n",
      "\n",
      "Use the following format:\n",
      "\n",
      "Question: the input question you must answer\n",
      "Thought: you should always think about what to do\n",
      "Action: the action to take, should be one of [{tool_names}]\n",
      "Action Input: the input to the action\n",
      "Observation: the result of the action\n",
      "... (this Thought/Action/Action Input/Observation can repeat N times)\n",
      "Thought: I now know the final answer\n",
      "Final Answer: the final answer to the original input question\n",
      "\n",
      "Begin!\n",
      "\n",
      "Question: {input}\n",
      "Thought:{agent_scratchpad}\n"
     ]
    }
   ],
   "source": [
    "from langchain import hub\n",
    "\n",
    "prompt = hub.pull('hwchase17/react')\n",
    "print(prompt.template)"
   ]
  },
  {
   "cell_type": "code",
   "execution_count": 51,
   "id": "5b01df51",
   "metadata": {},
   "outputs": [
    {
     "ename": "LangSmithUserError",
     "evalue": "Cannot create a prompt for another tenant.\nCurrent tenant: None,\nRequested tenant: gaida1st",
     "output_type": "error",
     "traceback": [
      "\u001b[31m---------------------------------------------------------------------------\u001b[39m",
      "\u001b[31mLangSmithUserError\u001b[39m                        Traceback (most recent call last)",
      "\u001b[36mCell\u001b[39m\u001b[36m \u001b[39m\u001b[32mIn[51]\u001b[39m\u001b[32m, line 5\u001b[39m\n\u001b[32m      1\u001b[39m prompt = PromptTemplate.from_template(\n\u001b[32m      2\u001b[39m     \u001b[33m'\u001b[39m\u001b[33m내 첫 프롬프트 Push!\u001b[39m\u001b[33m'\u001b[39m\n\u001b[32m      3\u001b[39m )\n\u001b[32m----> \u001b[39m\u001b[32m5\u001b[39m \u001b[43mhub\u001b[49m\u001b[43m.\u001b[49m\u001b[43mpush\u001b[49m\u001b[43m(\u001b[49m\u001b[33;43m'\u001b[39;49m\u001b[33;43mgaida1st/prompt-hub-test\u001b[39;49m\u001b[33;43m'\u001b[39;49m\u001b[43m,\u001b[49m\u001b[43m \u001b[49m\u001b[43mprompt\u001b[49m\u001b[43m)\u001b[49m\n",
      "\u001b[36mFile \u001b[39m\u001b[32mc:\\Users\\user\\AppData\\Local\\Programs\\Python\\Python313\\Lib\\site-packages\\langchain\\hub.py:72\u001b[39m, in \u001b[36mpush\u001b[39m\u001b[34m(repo_full_name, object, api_url, api_key, parent_commit_hash, new_repo_is_public, new_repo_description, readme, tags)\u001b[39m\n\u001b[32m     70\u001b[39m \u001b[38;5;66;03m# Then it's langsmith\u001b[39;00m\n\u001b[32m     71\u001b[39m \u001b[38;5;28;01mif\u001b[39;00m \u001b[38;5;28mhasattr\u001b[39m(client, \u001b[33m\"\u001b[39m\u001b[33mpush_prompt\u001b[39m\u001b[33m\"\u001b[39m):\n\u001b[32m---> \u001b[39m\u001b[32m72\u001b[39m     \u001b[38;5;28;01mreturn\u001b[39;00m \u001b[43mclient\u001b[49m\u001b[43m.\u001b[49m\u001b[43mpush_prompt\u001b[49m\u001b[43m(\u001b[49m\n\u001b[32m     73\u001b[39m \u001b[43m        \u001b[49m\u001b[43mrepo_full_name\u001b[49m\u001b[43m,\u001b[49m\n\u001b[32m     74\u001b[39m \u001b[43m        \u001b[49m\u001b[38;5;28;43mobject\u001b[39;49m\u001b[43m=\u001b[49m\u001b[38;5;28;43mobject\u001b[39;49m\u001b[43m,\u001b[49m\n\u001b[32m     75\u001b[39m \u001b[43m        \u001b[49m\u001b[43mparent_commit_hash\u001b[49m\u001b[43m=\u001b[49m\u001b[43mparent_commit_hash\u001b[49m\u001b[43m,\u001b[49m\n\u001b[32m     76\u001b[39m \u001b[43m        \u001b[49m\u001b[43mis_public\u001b[49m\u001b[43m=\u001b[49m\u001b[43mnew_repo_is_public\u001b[49m\u001b[43m,\u001b[49m\n\u001b[32m     77\u001b[39m \u001b[43m        \u001b[49m\u001b[43mdescription\u001b[49m\u001b[43m=\u001b[49m\u001b[43mnew_repo_description\u001b[49m\u001b[43m,\u001b[49m\n\u001b[32m     78\u001b[39m \u001b[43m        \u001b[49m\u001b[43mreadme\u001b[49m\u001b[43m=\u001b[49m\u001b[43mreadme\u001b[49m\u001b[43m,\u001b[49m\n\u001b[32m     79\u001b[39m \u001b[43m        \u001b[49m\u001b[43mtags\u001b[49m\u001b[43m=\u001b[49m\u001b[43mtags\u001b[49m\u001b[43m,\u001b[49m\n\u001b[32m     80\u001b[39m \u001b[43m    \u001b[49m\u001b[43m)\u001b[49m\n\u001b[32m     82\u001b[39m \u001b[38;5;66;03m# Then it's langchainhub\u001b[39;00m\n\u001b[32m     83\u001b[39m manifest_json = dumps(\u001b[38;5;28mobject\u001b[39m)\n",
      "\u001b[36mFile \u001b[39m\u001b[32mc:\\Users\\user\\AppData\\Local\\Programs\\Python\\Python313\\Lib\\site-packages\\langsmith\\client.py:7692\u001b[39m, in \u001b[36mClient.push_prompt\u001b[39m\u001b[34m(self, prompt_identifier, object, parent_commit_hash, is_public, description, readme, tags)\u001b[39m\n\u001b[32m   7684\u001b[39m         \u001b[38;5;28mself\u001b[39m.update_prompt(\n\u001b[32m   7685\u001b[39m             prompt_identifier,\n\u001b[32m   7686\u001b[39m             description=description,\n\u001b[32m   (...)\u001b[39m\u001b[32m   7689\u001b[39m             is_public=is_public,\n\u001b[32m   7690\u001b[39m         )\n\u001b[32m   7691\u001b[39m \u001b[38;5;28;01melse\u001b[39;00m:\n\u001b[32m-> \u001b[39m\u001b[32m7692\u001b[39m     \u001b[38;5;28;43mself\u001b[39;49m\u001b[43m.\u001b[49m\u001b[43mcreate_prompt\u001b[49m\u001b[43m(\u001b[49m\n\u001b[32m   7693\u001b[39m \u001b[43m        \u001b[49m\u001b[43mprompt_identifier\u001b[49m\u001b[43m,\u001b[49m\n\u001b[32m   7694\u001b[39m \u001b[43m        \u001b[49m\u001b[43mis_public\u001b[49m\u001b[43m=\u001b[49m\u001b[43mis_public\u001b[49m\u001b[43m \u001b[49m\u001b[38;5;28;43;01mif\u001b[39;49;00m\u001b[43m \u001b[49m\u001b[43mis_public\u001b[49m\u001b[43m \u001b[49m\u001b[38;5;129;43;01mis\u001b[39;49;00m\u001b[43m \u001b[49m\u001b[38;5;129;43;01mnot\u001b[39;49;00m\u001b[43m \u001b[49m\u001b[38;5;28;43;01mNone\u001b[39;49;00m\u001b[43m \u001b[49m\u001b[38;5;28;43;01melse\u001b[39;49;00m\u001b[43m \u001b[49m\u001b[38;5;28;43;01mFalse\u001b[39;49;00m\u001b[43m,\u001b[49m\n\u001b[32m   7695\u001b[39m \u001b[43m        \u001b[49m\u001b[43mdescription\u001b[49m\u001b[43m=\u001b[49m\u001b[43mdescription\u001b[49m\u001b[43m,\u001b[49m\n\u001b[32m   7696\u001b[39m \u001b[43m        \u001b[49m\u001b[43mreadme\u001b[49m\u001b[43m=\u001b[49m\u001b[43mreadme\u001b[49m\u001b[43m,\u001b[49m\n\u001b[32m   7697\u001b[39m \u001b[43m        \u001b[49m\u001b[43mtags\u001b[49m\u001b[43m=\u001b[49m\u001b[43mtags\u001b[49m\u001b[43m,\u001b[49m\n\u001b[32m   7698\u001b[39m \u001b[43m    \u001b[49m\u001b[43m)\u001b[49m\n\u001b[32m   7700\u001b[39m \u001b[38;5;28;01mif\u001b[39;00m \u001b[38;5;28mobject\u001b[39m \u001b[38;5;129;01mis\u001b[39;00m \u001b[38;5;28;01mNone\u001b[39;00m:\n\u001b[32m   7701\u001b[39m     \u001b[38;5;28;01mreturn\u001b[39;00m \u001b[38;5;28mself\u001b[39m._get_prompt_url(prompt_identifier=prompt_identifier)\n",
      "\u001b[36mFile \u001b[39m\u001b[32mc:\\Users\\user\\AppData\\Local\\Programs\\Python\\Python313\\Lib\\site-packages\\langsmith\\client.py:7312\u001b[39m, in \u001b[36mClient.create_prompt\u001b[39m\u001b[34m(self, prompt_identifier, description, readme, tags, is_public)\u001b[39m\n\u001b[32m   7310\u001b[39m owner, prompt_name, _ = ls_utils.parse_prompt_identifier(prompt_identifier)\n\u001b[32m   7311\u001b[39m \u001b[38;5;28;01mif\u001b[39;00m \u001b[38;5;129;01mnot\u001b[39;00m \u001b[38;5;28mself\u001b[39m._current_tenant_is_owner(owner=owner):\n\u001b[32m-> \u001b[39m\u001b[32m7312\u001b[39m     \u001b[38;5;28;01mraise\u001b[39;00m \u001b[38;5;28mself\u001b[39m._owner_conflict_error(\u001b[33m\"\u001b[39m\u001b[33mcreate a prompt\u001b[39m\u001b[33m\"\u001b[39m, owner)\n\u001b[32m   7314\u001b[39m json: \u001b[38;5;28mdict\u001b[39m[\u001b[38;5;28mstr\u001b[39m, Union[\u001b[38;5;28mstr\u001b[39m, \u001b[38;5;28mbool\u001b[39m, Sequence[\u001b[38;5;28mstr\u001b[39m]]] = {\n\u001b[32m   7315\u001b[39m     \u001b[33m\"\u001b[39m\u001b[33mrepo_handle\u001b[39m\u001b[33m\"\u001b[39m: prompt_name,\n\u001b[32m   7316\u001b[39m     \u001b[33m\"\u001b[39m\u001b[33mdescription\u001b[39m\u001b[33m\"\u001b[39m: description \u001b[38;5;129;01mor\u001b[39;00m \u001b[33m\"\u001b[39m\u001b[33m\"\u001b[39m,\n\u001b[32m   (...)\u001b[39m\u001b[32m   7319\u001b[39m     \u001b[33m\"\u001b[39m\u001b[33mis_public\u001b[39m\u001b[33m\"\u001b[39m: is_public,\n\u001b[32m   7320\u001b[39m }\n\u001b[32m   7322\u001b[39m response = \u001b[38;5;28mself\u001b[39m.request_with_retries(\u001b[33m\"\u001b[39m\u001b[33mPOST\u001b[39m\u001b[33m\"\u001b[39m, \u001b[33m\"\u001b[39m\u001b[33m/repos/\u001b[39m\u001b[33m\"\u001b[39m, json=json)\n",
      "\u001b[31mLangSmithUserError\u001b[39m: Cannot create a prompt for another tenant.\nCurrent tenant: None,\nRequested tenant: gaida1st"
     ]
    }
   ],
   "source": [
    "prompt = PromptTemplate.from_template(\n",
    "    '내 첫 프롬프트 Push!'\n",
    ")\n",
    "\n",
    "hub.push('gaida1st/prompt-hub-test', prompt)"
   ]
  },
  {
   "cell_type": "code",
   "execution_count": null,
   "id": "cd128376",
   "metadata": {},
   "outputs": [],
   "source": []
  }
 ],
 "metadata": {
  "kernelspec": {
   "display_name": "Python 3",
   "language": "python",
   "name": "python3"
  },
  "language_info": {
   "codemirror_mode": {
    "name": "ipython",
    "version": 3
   },
   "file_extension": ".py",
   "mimetype": "text/x-python",
   "name": "python",
   "nbconvert_exporter": "python",
   "pygments_lexer": "ipython3",
   "version": "3.13.2"
  }
 },
 "nbformat": 4,
 "nbformat_minor": 5
}
