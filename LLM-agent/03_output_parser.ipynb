{
 "cells": [
  {
   "cell_type": "markdown",
   "id": "6b28215c",
   "metadata": {},
   "source": [
    "# 출력 파서 (`OutputParser`)\n",
    "\n",
    "- LLM의 출력을 더 유용/구조화된 형태로 변환함\n",
    "- 구조화: LLM의 자유 형식 출력을 구조화된 데이터로 변환\n",
    "- 일관성: 항상 일관된 출력형식 -> 후속 처리에 용이\n",
    "- 유연성: 다양한 출력 형식(JSON, list, dict)으로 변환 가능"
   ]
  },
  {
   "cell_type": "markdown",
   "id": "e51b5142",
   "metadata": {},
   "source": [
    "## `PydanticOutputParser`"
   ]
  },
  {
   "cell_type": "code",
   "execution_count": null,
   "id": "af24012e",
   "metadata": {},
   "outputs": [],
   "source": [
    "from dotenv import load_dotenv\n",
    "from langchain_openai import ChatOpenAI\n",
    "from langchain_core.output_parsers import PydanticOutputParser\n",
    "from pydantic import BaseModel, Field\n",
    "\n",
    "load_dotenv()\n",
    "\n",
    "llm = ChatOpenAI(model='gpt-4.1-nano')"
   ]
  },
  {
   "cell_type": "code",
   "execution_count": null,
   "id": "cb78ed3f",
   "metadata": {},
   "outputs": [],
   "source": [
    "email_conversation = \"\"\"From: 김철수 (chulsoo.kim@bikecorporation.me)\n",
    "To: 이은채 (eunchae@teddyinternational.me)\n",
    "Subject: \"ZENESIS\" 자전거 유통 협력 및 미팅 일정 제안\n",
    "\n",
    "안녕하세요, 이은채 대리님,\n",
    "\n",
    "저는 바이크코퍼레이션의 김철수 상무입니다. 최근 보도자료를 통해 귀사의 신규 자전거 \"ZENESIS\"에 대해 알게 되었습니다. 바이크코퍼레이션은 자전거 제조 및 유통 분야에서 혁신과 품질을 선도하는 기업으로, 이 분야에서의 장기적인 경험과 전문성을 가지고 있습니다.\n",
    "\n",
    "ZENESIS 모델에 대한 상세한 브로슈어를 요청드립니다. 특히 기술 사양, 배터리 성능, 그리고 디자인 측면에 대한 정보가 필요합니다. 이를 통해 저희가 제안할 유통 전략과 마케팅 계획을 보다 구체화할 수 있을 것입니다.\n",
    "\n",
    "또한, 협력 가능성을 더 깊이 논의하기 위해 다음 주 화요일(1월 15일) 오전 10시에 미팅을 제안합니다. 귀사 사무실에서 만나 이야기를 나눌 수 있을까요?\n",
    "\n",
    "감사합니다.\n",
    "\n",
    "김철수\n",
    "상무이사\n",
    "바이크코퍼레이션\n",
    "\"\"\""
   ]
  },
  {
   "cell_type": "code",
   "execution_count": null,
   "id": "6fa6d7cc",
   "metadata": {},
   "outputs": [],
   "source": [
    "from langchain_core.prompts import PromptTemplate\n",
    "\n",
    "prompt = PromptTemplate.from_template(\n",
    "    '아래 이메일 내용중 중요한 것만 추출해.\\n\\n---\\n\\n{email_conversation}'\n",
    ")\n",
    "\n",
    "# print(prompt.format(email_conversation=email_conversation))\n",
    "chain = prompt | llm \n",
    "\n",
    "print('---출력파서 없는 요약---')\n",
    "print(chain.invoke({'email_conversation': email_conversation}).content)"
   ]
  },
  {
   "cell_type": "code",
   "execution_count": null,
   "id": "8e33b929",
   "metadata": {},
   "outputs": [],
   "source": [
    "class EmailSummary(BaseModel):\n",
    "    person: str = Field(description='메일 보낸 사람')\n",
    "    email: str = Field(description='보낸사람의 메일주소')\n",
    "    subject: str = Field(description='메일 제목')\n",
    "    summary: str = Field(description='메일 본문 요약')\n",
    "    date: str = Field(description='메일에 언급된 미팅 날짜와 시간')\n",
    "\n",
    "parser = PydanticOutputParser(pydantic_object=EmailSummary)\n",
    "print(parser.get_format_instructions())"
   ]
  },
  {
   "cell_type": "code",
   "execution_count": 22,
   "id": "57706fec",
   "metadata": {},
   "outputs": [],
   "source": [
    "prompt = PromptTemplate.from_template(\n",
    "    \"\"\"\n",
    "너는 요약의 신 어시스턴트야. 아래 질문에 맞게 답변을 한국어로 만들어줘\n",
    "\n",
    "질문: {question}\n",
    "\n",
    "이메일 내용: {email_conversation}\n",
    "\n",
    "형식: {format}\n",
    "\n",
    "\"\"\"\n",
    ")\n",
    "\n",
    "# 프롬프트 변수들중 일부만 채우기\n",
    "prompt = prompt.partial(format=parser.get_format_instructions())"
   ]
  },
  {
   "cell_type": "code",
   "execution_count": 24,
   "id": "4b43ea62",
   "metadata": {},
   "outputs": [
    {
     "data": {
      "text/plain": [
       "EmailSummary(person='김철수 상무', email='chulsoo.kim@bikecorporation.me', subject='\"ZENESIS\" 자전거 유통 협력 및 미팅 일정 제안', summary=\"바이크코퍼레이션의 김철수 상무가 귀사의 'ZENESIS' 자전거에 대해 상세 브로슈어 요청과 함께 협력 가능성 논의를 위해 1월 15일 오전 10시에 미팅을 제안하고 있습니다.\", date='2023년 1월 15일 오전 10시')"
      ]
     },
     "execution_count": 24,
     "metadata": {},
     "output_type": "execute_result"
    }
   ],
   "source": [
    "chain = prompt | llm | parser\n",
    "\n",
    "res = chain.invoke(\n",
    "    {\n",
    "        'question': '이메일 내용중 중요한 내용을 추출해 줘!',\n",
    "        'email_conversation': email_conversation\n",
    "    }\n",
    ")\n",
    "\n",
    "res"
   ]
  },
  {
   "cell_type": "code",
   "execution_count": 33,
   "id": "d3551d2c",
   "metadata": {},
   "outputs": [
    {
     "name": "stdout",
     "output_type": "stream",
     "text": [
      "{'date': '2023년 1월 15일 오전 10시',\n",
      " 'email': 'chulsoo.kim@bikecorporation.me',\n",
      " 'person': '김철수 상무',\n",
      " 'subject': '\"ZENESIS\" 자전거 유통 협력 및 미팅 일정 제안',\n",
      " 'summary': \"바이크코퍼레이션의 김철수 상무가 귀사의 'ZENESIS' 자전거에 대해 상세 브로슈어 요청과 함께 협력 가능성 논의를 \"\n",
      "            '위해 1월 15일 오전 10시에 미팅을 제안하고 있습니다.'}\n"
     ]
    }
   ],
   "source": [
    "from pprint import pprint\n",
    "pprint(res.model_dump())"
   ]
  }
 ],
 "metadata": {
  "kernelspec": {
   "display_name": "Python 3",
   "language": "python",
   "name": "python3"
  },
  "language_info": {
   "codemirror_mode": {
    "name": "ipython",
    "version": 3
   },
   "file_extension": ".py",
   "mimetype": "text/x-python",
   "name": "python",
   "nbconvert_exporter": "python",
   "pygments_lexer": "ipython3",
   "version": "3.13.2"
  }
 },
 "nbformat": 4,
 "nbformat_minor": 5
}
