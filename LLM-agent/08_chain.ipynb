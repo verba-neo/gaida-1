{
 "cells": [
  {
   "cell_type": "markdown",
   "id": "4b368fcb",
   "metadata": {},
   "source": [
    "# Chain (w/ langgraph)\n"
   ]
  },
  {
   "cell_type": "code",
   "execution_count": null,
   "id": "f2845e61",
   "metadata": {},
   "outputs": [],
   "source": [
    "from langchain_core.messages import AIMessage, HumanMessage\n",
    "from pprint import pprint\n",
    "\n",
    "messages = [\n",
    "    HumanMessage(content='배고파', name='user1'),\n",
    "    AIMessage(content='뭘 먹고 싶으세요?', name='LLM'),\n",
    "    HumanMessage(content='몰라', name='user1'),\n",
    "    # AIMessage(content='그러면 중국집은 어떠세요?', name='LLM'),\n",
    "]\n",
    "\n",
    "for m in messages:\n",
    "    m.pretty_print()"
   ]
  },
  {
   "cell_type": "code",
   "execution_count": null,
   "id": "b233cd26",
   "metadata": {},
   "outputs": [],
   "source": [
    "from dotenv import load_dotenv\n",
    "load_dotenv()"
   ]
  },
  {
   "cell_type": "code",
   "execution_count": null,
   "id": "37aae9b6",
   "metadata": {},
   "outputs": [],
   "source": [
    "from langchain_openai import ChatOpenAI\n",
    "\n",
    "llm = ChatOpenAI(model='gpt-4.1-nano')\n",
    "result = llm.invoke(messages)\n",
    "\n",
    "print(type(result))\n",
    "result.pretty_print()"
   ]
  },
  {
   "cell_type": "code",
   "execution_count": null,
   "id": "af06a995",
   "metadata": {},
   "outputs": [],
   "source": [
    "# Tool Calling (커스텀 툴 -> Docstring\"\"\" 으로 설명을 잘 써야함)\n",
    "\n",
    "def multiply(a: int, b: int) -> int:\n",
    "    \"\"\"Multiply a and b\n",
    "    If there is no number, transform text to proper integer\n",
    "\n",
    "    Args:\n",
    "        a: first int\n",
    "        b: second int\n",
    "    \"\"\"    \n",
    "    return a * b\n",
    "\n",
    "\n",
    "llm_with_tools = llm.bind_tools([multiply])"
   ]
  },
  {
   "cell_type": "code",
   "execution_count": null,
   "id": "6a53a85d",
   "metadata": {},
   "outputs": [],
   "source": [
    "res = llm_with_tools.invoke([\n",
    "    HumanMessage(content='일 곱하기 이가 뭐야?', name='user1')\n",
    "])"
   ]
  },
  {
   "cell_type": "code",
   "execution_count": null,
   "id": "655f29fa",
   "metadata": {},
   "outputs": [],
   "source": [
    "res.tool_calls"
   ]
  },
  {
   "cell_type": "code",
   "execution_count": null,
   "id": "98918684",
   "metadata": {},
   "outputs": [],
   "source": [
    "res"
   ]
  },
  {
   "cell_type": "markdown",
   "id": "2032d731",
   "metadata": {},
   "source": [
    "## 메세지를 `State`로 사용하기"
   ]
  },
  {
   "cell_type": "code",
   "execution_count": null,
   "id": "f9ee67a2",
   "metadata": {},
   "outputs": [],
   "source": [
    "from typing_extensions import TypedDict\n",
    "from langchain_core.messages import AnyMessage\n",
    "from typing import Annotated\n",
    "from langgraph.graph.message import add_messages\n",
    "\n",
    "# 그래프 턴이 반복될 때, messages가 알아서 추가되도록 하려면?\n",
    "class MessagesState(TypedDict):\n",
    "    # messages 키에는 AnyMessage 의 인스턴스들이 리스트로 들어간다.\n",
    "    messages: Annotated[list[AnyMessage], add_messages]\n",
    "\n",
    "\n",
    "# 참고용\n",
    "ms = [\n",
    "    AIMessage(content='뭘 도와드릴까요'),\n",
    "    HumanMessage(content='그냥 도와줘')\n",
    "]\n",
    "\n",
    "add_messages(ms, AIMessage(content='??????'))\n"
   ]
  },
  {
   "cell_type": "code",
   "execution_count": null,
   "id": "80d299d5",
   "metadata": {},
   "outputs": [],
   "source": [
    "from IPython.display import Image, display\n",
    "from langgraph.graph import StateGraph, START, END\n",
    "\n",
    "# Node\n",
    "def tool_calling_node(state: MessagesState):\n",
    "    msgs = state['messages']\n",
    "    ans = llm_with_tools.invoke(msgs)\n",
    "    return {'messages': ans}\n",
    "\n",
    "\n",
    "builder = StateGraph(MessagesState)\n",
    "builder.add_node('tool_calling_node', tool_calling_node)\n",
    "\n",
    "builder.add_edge(START, 'tool_calling_node')\n",
    "builder.add_edge('tool_calling_node', END)\n",
    "\n",
    "graph = builder.compile()\n",
    "\n",
    "display(Image(graph.get_graph().draw_mermaid_png()))"
   ]
  },
  {
   "cell_type": "code",
   "execution_count": 55,
   "id": "161e2281",
   "metadata": {},
   "outputs": [
    {
     "name": "stdout",
     "output_type": "stream",
     "text": [
      "================================\u001b[1m Human Message \u001b[0m=================================\n",
      "\n",
      "2-33\n",
      "==================================\u001b[1m Ai Message \u001b[0m==================================\n",
      "Tool Calls:\n",
      "  multiply (call_EzC9L38tyAYbZNa4axrGCRqj)\n",
      " Call ID: call_EzC9L38tyAYbZNa4axrGCRqj\n",
      "  Args:\n",
      "    a: 2\n",
      "    b: -33\n",
      "  multiply (call_3oswAbI0GijxnpT1h2VF3anJ)\n",
      " Call ID: call_3oswAbI0GijxnpT1h2VF3anJ\n",
      "  Args:\n",
      "    a: 33\n",
      "    b: -1\n"
     ]
    }
   ],
   "source": [
    "res = graph.invoke({\n",
    "    \"messages\": HumanMessage(content=\"2-33\")\n",
    "})\n",
    "\n",
    "for m in res['messages']:\n",
    "    m.pretty_print()"
   ]
  },
  {
   "cell_type": "code",
   "execution_count": null,
   "id": "6dbe16cd",
   "metadata": {},
   "outputs": [],
   "source": [
    "res"
   ]
  }
 ],
 "metadata": {
  "kernelspec": {
   "display_name": "Python 3",
   "language": "python",
   "name": "python3"
  },
  "language_info": {
   "codemirror_mode": {
    "name": "ipython",
    "version": 3
   },
   "file_extension": ".py",
   "mimetype": "text/x-python",
   "name": "python",
   "nbconvert_exporter": "python",
   "pygments_lexer": "ipython3",
   "version": "3.13.2"
  }
 },
 "nbformat": 4,
 "nbformat_minor": 5
}
