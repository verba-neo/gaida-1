{
 "cells": [
  {
   "cell_type": "markdown",
   "id": "4b368fcb",
   "metadata": {},
   "source": [
    "# Chain (w/ langgraph)\n"
   ]
  },
  {
   "cell_type": "code",
   "execution_count": 8,
   "id": "f2845e61",
   "metadata": {},
   "outputs": [
    {
     "name": "stdout",
     "output_type": "stream",
     "text": [
      "================================\u001b[1m Human Message \u001b[0m=================================\n",
      "Name: user1\n",
      "\n",
      "배고파\n",
      "==================================\u001b[1m Ai Message \u001b[0m==================================\n",
      "Name: LLM\n",
      "\n",
      "뭘 먹고 싶으세요?\n",
      "================================\u001b[1m Human Message \u001b[0m=================================\n",
      "Name: user1\n",
      "\n",
      "몰라\n"
     ]
    }
   ],
   "source": [
    "from langchain_core.messages import AIMessage, HumanMessage\n",
    "from pprint import pprint\n",
    "\n",
    "messages = [\n",
    "    HumanMessage(content='배고파', name='user1'),\n",
    "    AIMessage(content='뭘 먹고 싶으세요?', name='LLM'),\n",
    "    HumanMessage(content='몰라', name='user1'),\n",
    "    # AIMessage(content='그러면 중국집은 어떠세요?', name='LLM'),\n",
    "]\n",
    "\n",
    "for m in messages:\n",
    "    m.pretty_print()"
   ]
  },
  {
   "cell_type": "code",
   "execution_count": 4,
   "id": "b233cd26",
   "metadata": {},
   "outputs": [
    {
     "data": {
      "text/plain": [
       "True"
      ]
     },
     "execution_count": 4,
     "metadata": {},
     "output_type": "execute_result"
    }
   ],
   "source": [
    "from dotenv import load_dotenv\n",
    "load_dotenv()"
   ]
  },
  {
   "cell_type": "code",
   "execution_count": null,
   "id": "37aae9b6",
   "metadata": {},
   "outputs": [
    {
     "name": "stdout",
     "output_type": "stream",
     "text": [
      "<class 'langchain_core.messages.ai.AIMessage'>\n",
      "==================================\u001b[1m Ai Message \u001b[0m==================================\n",
      "\n",
      "그럴 때는 가볍게 간식을 먹거나 좋아하는 음료를 마시는 것도 좋을 것 같아요. 혹시 어떤 음식이 드시고 싶은지 생각나는 것이 있나요?\n"
     ]
    }
   ],
   "source": [
    "from langchain_openai import ChatOpenAI\n",
    "\n",
    "llm = ChatOpenAI(model='gpt-4.1-nano')\n",
    "result = llm.invoke(messages)\n",
    "\n",
    "print(type(result))\n",
    "result.pretty_print()"
   ]
  },
  {
   "cell_type": "code",
   "execution_count": null,
   "id": "af06a995",
   "metadata": {},
   "outputs": [],
   "source": [
    "# Tool Calling (커스텀 툴 -> Docstring\"\"\" 으로 설명을 잘 써야함)\n",
    "\n",
    "def multiply(a: int, b: int) -> int:\n",
    "    \"\"\"Multiply a and b\n",
    "    If there is no number, transform text to proper integer\n",
    "\n",
    "    Args:\n",
    "        a: first int\n",
    "        b: second int\n",
    "    \"\"\"    \n",
    "    return a * b\n",
    "\n",
    "\n",
    "llm_with_tools = llm.bind_tools([multiply])"
   ]
  },
  {
   "cell_type": "code",
   "execution_count": 28,
   "id": "6a53a85d",
   "metadata": {},
   "outputs": [],
   "source": [
    "res = llm_with_tools.invoke([\n",
    "    HumanMessage(content='일 곱하기 이가 뭐야?', name='user1')\n",
    "])"
   ]
  },
  {
   "cell_type": "code",
   "execution_count": 29,
   "id": "655f29fa",
   "metadata": {},
   "outputs": [
    {
     "data": {
      "text/plain": [
       "[{'name': 'multiply',\n",
       "  'args': {'a': 1, 'b': 2},\n",
       "  'id': 'call_maP4K3DCTDR6Mal0VlGL8W7D',\n",
       "  'type': 'tool_call'}]"
      ]
     },
     "execution_count": 29,
     "metadata": {},
     "output_type": "execute_result"
    }
   ],
   "source": [
    "res.tool_calls"
   ]
  },
  {
   "cell_type": "markdown",
   "id": "2032d731",
   "metadata": {},
   "source": [
    "## 메세지를 `State`로 사용하기"
   ]
  },
  {
   "cell_type": "code",
   "execution_count": 30,
   "id": "f9ee67a2",
   "metadata": {},
   "outputs": [
    {
     "data": {
      "text/plain": [
       "[AIMessage(content='뭘 도와드릴까요', additional_kwargs={}, response_metadata={}, id='9e6597fc-a9fa-48ee-a81b-4a4ff899a1f8'),\n",
       " HumanMessage(content='그냥 도와줘', additional_kwargs={}, response_metadata={}, id='0a12d53a-3b07-4968-8dca-b2989e5e9885'),\n",
       " AIMessage(content='??????', additional_kwargs={}, response_metadata={}, id='e38841c8-26e2-4da0-9214-b77ad153b609')]"
      ]
     },
     "execution_count": 30,
     "metadata": {},
     "output_type": "execute_result"
    }
   ],
   "source": [
    "from typing_extensions import TypedDict\n",
    "from langchain_core.messages import AnyMessage\n",
    "from typing import Annotated\n",
    "from langgraph.graph.message import add_messages\n",
    "\n",
    "# 그래프 턴이 반복될 때, messages가 알아서 추가되도록 하려면?\n",
    "class MessagesState(TypedDict):\n",
    "    # messages 키에는 AnyMessage 의 인스턴스들이 리스트로 들어간다.\n",
    "    messages: Annotated[list[AnyMessage], add_messages]\n",
    "\n",
    "\n",
    "# 참고용\n",
    "ms = [\n",
    "    AIMessage(content='뭘 도와드릴까요'),\n",
    "    HumanMessage(content='그냥 도와줘')\n",
    "]\n",
    "\n",
    "add_messages(ms, AIMessage(content='??????'))\n"
   ]
  },
  {
   "cell_type": "code",
   "execution_count": 31,
   "id": "80d299d5",
   "metadata": {},
   "outputs": [
    {
     "data": {
      "image/png": "[encoded data removed]",
      "text/plain": [
       "<IPython.core.display.Image object>"
      ]
     },
     "metadata": {},
     "output_type": "display_data"
    }
   ],
   "source": [
    "from IPython.display import Image, display\n",
    "from langgraph.graph import StateGraph, START, END\n",
    "\n",
    "# Node\n",
    "def tool_calling_node(state: MessagesState):\n",
    "    msgs = state['messages']\n",
    "    ans = llm_with_tools.invoke(msgs)\n",
    "    return {'messages': ans}\n",
    "\n",
    "\n",
    "builder = StateGraph(MessagesState)\n",
    "builder.add_node('tool_calling_node', tool_calling_node)\n",
    "\n",
    "builder.add_edge(START, 'tool_calling_node')\n",
    "builder.add_edge('tool_calling_node', END)\n",
    "\n",
    "graph = builder.compile()\n",
    "\n",
    "display(Image(graph.get_graph().draw_mermaid_png()))"
   ]
  },
  {
   "cell_type": "code",
   "execution_count": null,
   "id": "161e2281",
   "metadata": {},
   "outputs": [],
   "source": []
  },
  {
   "cell_type": "markdown",
   "id": "6dbe16cd",
   "metadata": {},
   "source": []
  }
 ],
 "metadata": {
  "kernelspec": {
   "display_name": "Python 3",
   "language": "python",
   "name": "python3"
  },
  "language_info": {
   "codemirror_mode": {
    "name": "ipython",
    "version": 3
   },
   "file_extension": ".py",
   "mimetype": "text/x-python",
   "name": "python",
   "nbconvert_exporter": "python",
   "pygments_lexer": "ipython3",
   "version": "3.13.2"
  }
 },
 "nbformat": 4,
 "nbformat_minor": 5
}
