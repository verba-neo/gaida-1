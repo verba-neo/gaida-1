{
 "cells": [
  {
   "cell_type": "markdown",
   "id": "60efe21f",
   "metadata": {},
   "source": [
    "# RAG(검색-증강 생성) Retrieval-Augmented Generation\n",
    "- LLM이 외부 데이터를 컨텍스트로 활용."
   ]
  },
  {
   "cell_type": "code",
   "execution_count": null,
   "id": "9b818bfd",
   "metadata": {},
   "outputs": [],
   "source": [
    "from dotenv import load_dotenv\n",
    "load_dotenv()"
   ]
  },
  {
   "cell_type": "code",
   "execution_count": null,
   "id": "575c4aa6",
   "metadata": {},
   "outputs": [],
   "source": [
    "from langchain_core.documents import Document\n",
    "\n",
    "documents = [\n",
    "    Document(\n",
    "        page_content=\"Dogs are great companions, known for their loyalty and friendliness.\",\n",
    "        metadata={\"source\": \"mammal-pets-doc\"},\n",
    "    ),\n",
    "    Document(\n",
    "        page_content=\"Cats are independent pets that often enjoy their own space.\",\n",
    "        metadata={\"source\": \"mammal-pets-doc\"},\n",
    "    ),\n",
    "    Document(\n",
    "        page_content=\"Goldfish are popular pets for beginners, requiring relatively simple care.\",\n",
    "        metadata={\"source\": \"fish-pets-doc\"},\n",
    "    ),\n",
    "    Document(\n",
    "        page_content=\"Parrots are intelligent birds capable of mimicking human speech.\",\n",
    "        metadata={\"source\": \"bird-pets-doc\"},\n",
    "    ),\n",
    "    Document(\n",
    "        page_content=\"Rabbits are social animals that need plenty of space to hop around.\",\n",
    "        metadata={\"source\": \"mammal-pets-doc\"},\n",
    "    ),\n",
    "]"
   ]
  },
  {
   "cell_type": "code",
   "execution_count": null,
   "id": "5e20a18e",
   "metadata": {},
   "outputs": [],
   "source": [
    "%pip install -q \"langchain_chroma>=0.1.2\" langchain_community faiss-cpu"
   ]
  },
  {
   "cell_type": "code",
   "execution_count": null,
   "id": "b0c7022b",
   "metadata": {},
   "outputs": [],
   "source": [
    "from langchain_openai import OpenAIEmbeddings\n",
    "from langchain_chroma import Chroma\n",
    "\n",
    "# OpenAI 임베딩 모델\n",
    "embedding = OpenAIEmbeddings(model='text-embedding-3-small')\n",
    "\n",
    "# x = embedding.embed_query('점심 배불리 먹었더니 졸리다..')\n",
    "# print(len(x), x)\n",
    "\n",
    "# VectorStore 에 임베딩 후 저장(In memory)\n",
    "vectorstore = Chroma.from_documents(\n",
    "    documents,\n",
    "    embedding=embedding\n",
    ")"
   ]
  },
  {
   "cell_type": "code",
   "execution_count": null,
   "id": "d3fa2cca",
   "metadata": {},
   "outputs": [],
   "source": [
    "vectorstore.similarity_search(\n",
    "    '초보자가 키우기 좋은 애완동물 추천해줘', k=2\n",
    ")"
   ]
  },
  {
   "cell_type": "markdown",
   "id": "5c3e5bdc",
   "metadata": {},
   "source": [
    "## 사전처리 단계\n",
    "1. 문서 불러오기 (Loading)\n",
    "2. 텍스트 나누기 (Splitting)\n",
    "3. 숫자로 바꾸기 (Embedding)\n",
    "4. 저장하기 (VectorStore)"
   ]
  },
  {
   "cell_type": "code",
   "execution_count": null,
   "id": "07ada3d4",
   "metadata": {},
   "outputs": [],
   "source": [
    "%pip install -q pymupdf"
   ]
  },
  {
   "cell_type": "code",
   "execution_count": 24,
   "id": "5b2d8c69",
   "metadata": {},
   "outputs": [
    {
     "name": "stdout",
     "output_type": "stream",
     "text": [
      "원본 pdf의 장수 23\n"
     ]
    }
   ],
   "source": [
    "# 1. Load\n",
    "from langchain_community.document_loaders import PyMuPDFLoader\n",
    "\n",
    "loader = PyMuPDFLoader('./data/spri.pdf')\n",
    "docs = loader.load()\n",
    "\n",
    "\n",
    "print('원본 pdf의 장수', len(docs))"
   ]
  },
  {
   "cell_type": "code",
   "execution_count": 25,
   "id": "33b59ee4",
   "metadata": {},
   "outputs": [
    {
     "name": "stdout",
     "output_type": "stream",
     "text": [
      "분할 후 청크 수 72\n"
     ]
    }
   ],
   "source": [
    "# 2. Split\n",
    "from langchain_text_splitters import RecursiveCharacterTextSplitter\n",
    "\n",
    "# 500글자당 1 청크 / 50글자는 겹치게 나눈다.\n",
    "text_splitter = RecursiveCharacterTextSplitter(chunk_size=500, chunk_overlap=50)\n",
    "split_docs = text_splitter.split_documents(docs)\n",
    "\n",
    "print('분할 후 청크 수', len(split_docs))"
   ]
  },
  {
   "cell_type": "code",
   "execution_count": null,
   "id": "82960ce9",
   "metadata": {},
   "outputs": [
    {
     "data": {
      "text/plain": [
       "[Document(id='bca8a6e2-6d02-4b67-b71f-bd049da74cf7', metadata={'producer': 'Hancom PDF 1.3.0.542', 'creator': 'Hwp 2018 10.0.0.13462', 'creationdate': '2023-12-08T13:28:38+09:00', 'source': './data/spri.pdf', 'file_path': './data/spri.pdf', 'total_pages': 23, 'format': 'PDF 1.4', 'title': '', 'author': 'dj', 'subject': '', 'keywords': '', 'moddate': '2023-12-08T13:28:38+09:00', 'trapped': '', 'modDate': \"D:20231208132838+09'00'\", 'creationDate': \"D:20231208132838+09'00'\", 'page': 3}, page_content='1. 정책/법제  \\n2. 기업/산업 \\n3. 기술/연구 \\n 4. 인력/교육\\n미국, 안전하고 신뢰할 수 있는 AI 개발과 사용에 관한 행정명령 발표 \\nn 미국 바이든 대통령이 ‘안전하고 신뢰할 수 있는 AI 개발과 사용에 관한 행정명령’에 서명하고 \\n광범위한 행정 조치를 명시\\nn 행정명령은 △AI의 안전과 보안 기준 마련 △개인정보보호 △형평성과 시민권 향상 △소비자 \\n보호 △노동자 지원 △혁신과 경쟁 촉진 △국제협력을 골자로 함\\nKEY Contents\\n£ 바이든 대통령, AI 행정명령 통해 안전하고 신뢰할 수 있는 AI 개발과 활용 추진\\nn 미국 바이든 대통령이 2023년 10월 30일 연방정부 차원에서 안전하고 신뢰할 수 있는 AI 개발과 \\n사용을 보장하기 위한 행정명령을 발표\\n∙행정명령은 △AI의 안전과 보안 기준 마련 △개인정보보호 △형평성과 시민권 향상 △소비자 보호 \\n△노동자 지원 △혁신과 경쟁 촉진 △국제협력에 관한 내용을 포괄'),\n",
       " Document(id='707f7e82-f1ca-4ed7-ab59-d84054fb9d76', metadata={'producer': 'Hancom PDF 1.3.0.542', 'creator': 'Hwp 2018 10.0.0.13462', 'creationdate': '2023-12-08T13:28:38+09:00', 'source': './data/spri.pdf', 'file_path': './data/spri.pdf', 'total_pages': 23, 'format': 'PDF 1.4', 'title': '', 'author': 'dj', 'subject': '', 'keywords': '', 'moddate': '2023-12-08T13:28:38+09:00', 'trapped': '', 'modDate': \"D:20231208132838+09'00'\", 'creationDate': \"D:20231208132838+09'00'\", 'page': 3}, page_content='공부하고 취업할 수 있도록 지원\\n☞ 출처 : The White House, Executive Order on the Safe, Secure, and Trustworthy Development and Use of \\nArtificial Intelligence (E.O. 14110), 2023.10.30.'),\n",
       " Document(id='24d143be-5c9d-448d-a4f0-bd416d343799', metadata={'producer': 'Hancom PDF 1.3.0.542', 'creator': 'Hwp 2018 10.0.0.13462', 'creationdate': '2023-12-08T13:28:38+09:00', 'source': './data/spri.pdf', 'file_path': './data/spri.pdf', 'total_pages': 23, 'format': 'PDF 1.4', 'title': '', 'author': 'dj', 'subject': '', 'keywords': '', 'moddate': '2023-12-08T13:28:38+09:00', 'trapped': '', 'modDate': \"D:20231208132838+09'00'\", 'creationDate': \"D:20231208132838+09'00'\", 'page': 4}, page_content='정보공유를 위해 ‘히로시마 AI 프로세스’를 출범**\\n∙기업의 자발적 채택을 위해 마련된 이번 행동강령은 기반모델과 생성 AI를 포함한 첨단 AI 시스템의 \\n위험 식별과 완화에 필요한 조치를 포함\\n* 주요 7개국(G7)은 미국, 일본, 독일, 영국, 프랑스, 이탈리아, 캐나다를 의미\\n** 5월 정상회의에는 한국, 호주, 베트남 등을 포함한 8개국이 초청을 받았으나, AI 국제 행동강령에는 우선 G7 국가만 포함하여 채택\\nn G7은 행동강령을 통해 아래의 조치를 제시했으며, 빠르게 발전하는 기술에 대응할 수 있도록 \\n이해관계자 협의를 통해 필요에 따라 개정할 예정\\n∙첨단 AI 시스템의 개발 과정에서 AI 수명주기 전반에 걸쳐 위험을 평가 및 완화하는 조치를 채택하고, \\n첨단 AI 시스템의 출시와 배포 이후 취약점과 오용 사고, 오용 유형을 파악해 완화\\n∙첨단 AI 시스템의 성능과 한계를 공개하고 적절하거나 부적절한 사용영역을 알리는 방법으로 투명성을 \\n보장하고 책임성을 강화'),\n",
       " Document(id='6f2793de-fc7a-4af3-8e7a-fa350553a213', metadata={'producer': 'Hancom PDF 1.3.0.542', 'creator': 'Hwp 2018 10.0.0.13462', 'creationdate': '2023-12-08T13:28:38+09:00', 'source': './data/spri.pdf', 'file_path': './data/spri.pdf', 'total_pages': 23, 'format': 'PDF 1.4', 'title': '', 'author': 'dj', 'subject': '', 'keywords': '', 'moddate': '2023-12-08T13:28:38+09:00', 'trapped': '', 'modDate': \"D:20231208132838+09'00'\", 'creationDate': \"D:20231208132838+09'00'\", 'page': 1}, page_content='2023년 12월호\\nⅠ. 인공지능 산업 동향 브리프\\n 1. 정책/법제 \\n   ▹ 미국, 안전하고 신뢰할 수 있는 AI 개발과 사용에 관한 행정명령 발표  ························· 1\\n   ▹ G7, 히로시마 AI 프로세스를 통해 AI 기업 대상 국제 행동강령에 합의··························· 2\\n   ▹ 영국 AI 안전성 정상회의에 참가한 28개국, AI 위험에 공동 대응 선언··························· 3\\n   ▹ 미국 법원, 예술가들이 생성 AI 기업에 제기한 저작권 소송 기각····································· 4\\n   ▹ 미국 연방거래위원회, 저작권청에 소비자 보호와 경쟁 측면의 AI 의견서 제출················· 5')]"
      ]
     },
     "execution_count": 26,
     "metadata": {},
     "output_type": "execute_result"
    }
   ],
   "source": [
    "# 3. 임베딩, 4. 벡터스토어 저장\n",
    "from langchain_openai import OpenAIEmbeddings\n",
    "from langchain_community.vectorstores import FAISS\n",
    "\n",
    "embedding = OpenAIEmbeddings()\n",
    "\n",
    "vectorstore = FAISS.from_documents(documents=split_docs, embedding=embedding)\n",
    "\n",
    "# Test\n",
    "vectorstore.similarity_search(\n",
    "    '미국 대통령과 관련된 문서들 가져와봐', k=4\n",
    ")"
   ]
  },
  {
   "cell_type": "markdown",
   "id": "8f90f8f2",
   "metadata": {},
   "source": [
    "## 검색 증강 단계\n",
    "1. 사용자 질문 (Query)\n",
    "2. 검색 (Retrieve)\n",
    "3. LLM \n",
    "4. 최종 답변"
   ]
  },
  {
   "cell_type": "code",
   "execution_count": 29,
   "id": "3b9476a8",
   "metadata": {},
   "outputs": [
    {
     "data": {
      "text/plain": [
       "'삼성전자는 자체 개발한 생성 AI ‘삼성 가우스’를 2023년 11월 공개했으며, 언어, 코드, 이미지 모델로 구성되어 온디바이스에서 작동 가능하게 설계되었습니다. 삼성 가우스는 사용자 정보 유출 위험이 없으며, 단계적으로 다양한 제품에 탑재될 예정입니다. 이 AI는 메일 작성, 문서 요약, 이미지 생성 등 여러 업무를 지원하며, 경쟁 제품과의 차별성을 갖추고 있습니다.'"
      ]
     },
     "execution_count": 29,
     "metadata": {},
     "output_type": "execute_result"
    }
   ],
   "source": [
    "from langchain_openai import ChatOpenAI\n",
    "from langchain_core.prompts import PromptTemplate\n",
    "from langchain_core.runnables import RunnablePassthrough\n",
    "from langchain_core.output_parsers import StrOutputParser\n",
    "\n",
    "from langchain import hub\n",
    "\n",
    "# Prompt 세팅 (랭체인 허브에서 가져오기)\n",
    "prompt = hub.pull('rlm/rag-prompt')\n",
    "\n",
    "# LLM 모델\n",
    "llm = ChatOpenAI(model='gpt-4.1-nano')\n",
    "\n",
    "# 검색기 생성(retriever 생성)\n",
    "retriever = vectorstore.as_retriever()\n",
    "\n",
    "chain = (\n",
    "    {'context': retriever, 'question': RunnablePassthrough()}\n",
    "    | prompt\n",
    "    | llm\n",
    "    | StrOutputParser()\n",
    ")\n",
    "\n",
    "chain.invoke('삼성전자 관련 소식 다 가져와')"
   ]
  },
  {
   "cell_type": "code",
   "execution_count": 39,
   "id": "c0cd0b3b",
   "metadata": {},
   "outputs": [],
   "source": [
    "# Agent + RAG\n",
    "from langchain.agents import create_openai_tools_agent, AgentExecutor\n",
    "from langchain_core.prompts import ChatPromptTemplate, MessagesPlaceholder\n",
    "from langchain.memory import ConversationBufferMemory\n",
    "from langchain_tavily import TavilySearch\n",
    "from datetime import datetime\n",
    "# RAG 관련\n",
    "from langchain_community.document_loaders import PyMuPDFLoader\n",
    "from langchain.text_splitter import RecursiveCharacterTextSplitter\n",
    "from langchain_openai import ChatOpenAI, OpenAIEmbeddings\n",
    "from langchain_community.vectorstores import FAISS\n",
    "from langchain.tools.retriever import create_retriever_tool\n",
    "\n",
    "today = datetime.today().strftime('%Y-%m-%d')\n",
    "\n",
    "llm = ChatOpenAI(model='gpt-4.1-nano')\n",
    "\n",
    "search_tool = TavilySearch(\n",
    "    max_results=5,\n",
    "    topic='general'\n",
    ")\n",
    "\n",
    "loader = PyMuPDFLoader('./data/spri.pdf')\n",
    "docs = loader.load()\n",
    "splitter = RecursiveCharacterTextSplitter(chunk_size=500, chunk_overlap=50)\n",
    "split_docs = splitter.split_documents(docs)\n",
    "embedding = OpenAIEmbeddings()\n",
    "vectorstore = FAISS.from_documents(split_docs, embedding=embedding)\n",
    "retriever = vectorstore.as_retriever()\n",
    "\n",
    "rag_tool = create_retriever_tool(\n",
    "    retriever,\n",
    "    name='pdf_search',\n",
    "    description='PDF 문서에서 질문과 관련된 내용을 검색합니다.'  # Agent가 언제 이 tool을 쓸지 알게됨\n",
    ")\n",
    "\n",
    "text = f\"\"\"\n",
    "너는 웹 검색이 가능하고, 2023년 12월 인공지능 산업 최신동향 정보를 담은 pdf 를 검색할 수 있는 어시스턴트야.\n",
    "\n",
    "- 사용자가 PDF 문서와 관련된 질문(ex. '이 pdf에서', '문서내용', '파일에서)을 하면 반드시 'pdf_search' 도구를 써야해\n",
    "- 사용자 질문이 팩트체크를 필요로 하고, 최신성이 필요하다 판단되면 web_search를 실행해야해\n",
    "- 사용자가 일반적인 질문을 하고, 최신성이나 팩트체크가 필요없으면 그냥 답변해\n",
    "- 뭔가 확실하지 않으면 pdf_search 와 web_search를 모두 실행해서 답변을 생성해\n",
    "\n",
    "오늘은 {today} 야.\n",
    "\"\"\"\n",
    "\n",
    "\n",
    "prompt = ChatPromptTemplate.from_messages([\n",
    "    ('system', text),\n",
    "    MessagesPlaceholder(variable_name='chat_history'),\n",
    "    ('human', '{input}'),\n",
    "    MessagesPlaceholder(variable_name='agent_scratchpad')  # 도구(검색) 호출때 필요함\n",
    "])\n",
    "\n",
    "memory = ConversationBufferMemory(\n",
    "    return_messages=True,\n",
    "    memory_key='chat_history'\n",
    ")\n",
    "\n",
    "agent = create_openai_tools_agent(\n",
    "    llm=llm,\n",
    "    tools=[search_tool, rag_tool],\n",
    "    prompt=prompt,\n",
    ")\n",
    "\n",
    "agent_executor = AgentExecutor(\n",
    "    agent=agent,\n",
    "    memory=memory, \n",
    "    tools=[search_tool, rag_tool],\n",
    "    verbose=True)"
   ]
  },
  {
   "cell_type": "code",
   "execution_count": 41,
   "id": "274a336a",
   "metadata": {},
   "outputs": [
    {
     "name": "stdout",
     "output_type": "stream",
     "text": [
      "\n",
      "\n",
      "\u001b[1m> Entering new AgentExecutor chain...\u001b[0m\n",
      "\u001b[32;1m\u001b[1;3m\n",
      "Invoking: `tavily_search` with `{'query': '삼성전자 AI 최신동향 2025년'}`\n",
      "\n",
      "\n",
      "\u001b[0m\u001b[36;1m\u001b[1;3m{'query': '삼성전자 AI 최신동향 2025년', 'follow_up_questions': None, 'answer': None, 'images': [], 'results': [{'url': 'https://blog.naver.com/kcc_press/223765970551?fromRss=true&trackingCode=rss', 'title': '2025년 2-1호(제53호) [이슈 트렌드] 온디바이스 AI의 부상과 ...', 'content': \"삼성전자는 최신 모바일 애플리케이션 프로세서(AP) '엑시노스(Exynos) 2400'을 통해 기존 대비 NPU 성능을 14.7배 향상시키며 AI 연산 성능을 대폭 강화\", 'score': 0.84918517, 'raw_content': None}, {'url': 'https://voiceinvest.tistory.com/161', 'title': '2025 삼성전자 분석: 혁신 기술과 시장 전략으로 선도하는 미래!', 'content': '삼성전자는 글로벌 전자산업의 선두주자로 자리잡으며, 지속 가능한 발전과 고객 중심의 혁신을 통해 미래를 이끌어가고 있습니다. 삼성전자는 아시아 시장에서의 성장을 통해 브랜드의 지배력을 더욱 확고히 하고 있습니다. 특히 반도체 산업과 인공지능(AI), 사물인터넷(IoT) 분야에서의 기술 발전은 삼성전자의 경쟁력을 더욱 강화하고 있습니다. 삼성전자는 반도체 기술 분야에서 지속적인 혁신을 통해 글로벌 시장에서 경쟁 우위를 확보하고 있습니다. 1.   **스마트 홈 기술**: 삼성전자는 IoT 기반의 스마트 홈 기술을 통해 사용자 경험을 혁신하고 있습니다. AI 및 IoT 분야에서의 성장은 만연한 추세이며, 삼성전자의 높은 R&D 투자와 기술 개발이 이러한 미래 기술을 선도하는 데 중요한 역할을 한다고 업계 전문가들은 분석하고 있습니다. 반도체 기술 혁신을 통해 시장 점유율을 높이고, AI와 IoT 기반의 솔루션을 통해 사용자 경험을 개선하고 있습니다. **메타 설명**: 삼성전자는 2025년을 목표로 반도체 기술 혁신과 AI, IoT 전략을 통해 세계 시장에서의 경쟁력을 강화하고 있습니다.', 'score': 0.8106142, 'raw_content': None}, {'url': 'https://www.koreapost.co.kr/news/articleView.html?idxno=73658', 'title': \"[2025년 신년사] 삼성전자 , 'AI 혁신의 해로 기록될 것'\", 'content': '이번 신년사는 삼성전자가 기술 혁신과 품질 강화를 통해 글로벌 시장에서의 리더십을 공고히 하겠다는 강한 의지를 나타내고 있다. AI 기술을 중심으로', 'score': 0.7413937, 'raw_content': None}, {'url': 'https://semiconductor.samsung.com/kr/news-events/tech-blog/samsung-electronics-presents-vision-for-ai-memory-and-storage-at-fms-2025/', 'title': '삼성전자, FMS 2025 참가해 AI 시대 메모리·스토리지 비전 ...', 'content': '*한국*) * Global / English * 한국 / 한국어; \"current language\") 특히, AI 진화에 따라 대역폭·용량 요구가 폭발적으로 증가하고, 더 낮은 지연과 높은 효율을 갖춘 차세대 솔루션이 필수적이라는 점을 짚었다. 또한, CXL(Compute Express Link) 기반 메모리 확장은 GPU 한계를 보완하고, 유연한 확장성과 비용 효율성을 제공하며, 차세대 데이터센터 운영 방식에 중요한 역할을 할 것임을 밝혔다. HBM4/4E 및 Custom HBM, CMM-D/DC, Z-NAND 중심의 새로운 스토리지 계층 등 차세대 기술 로드맵을 공유한 이번 발표는, AI 시대를 선도하려는 삼성전자의 의지와 리더십을 다시 한번 자리매김하는 자리였다. * OCP Global Summit: 차세대 메모리 솔루션으로 AI를 강화하다 * OCP Global Summit: 차세대 메모리 솔루션으로 AI를 강화하다 Contact us Contact us Enter your contact info and inquiry', 'score': 0.7180613, 'raw_content': None}, {'url': 'http://www.kcnews.org/news/articleView.html?idxno=11074', 'title': '삼성전자, 2025년형 TV 신제품 라인업 공개… 진정한 AI ...', 'content': '삼성전자가 2025년형 TV 신제품을 출시하며, 진정한 AI TV의 시작을 선언했다. 삼성전자는 7일 서울 서초구에 위치한 삼성 강남에서 신제품 출시 행사', 'score': 0.71040785, 'raw_content': None}], 'response_time': 1.14, 'request_id': 'f842f5d0-b166-4b60-929c-dce6873ad1c0'}\u001b[0m\u001b[32;1m\u001b[1;3m최근 삼성전자의 AI 동향은 2025년 기준으로 여러 혁신 기술과 전략이 진행되고 있음을 보여줍니다. 주요 내용은 다음과 같습니다:\n",
      "\n",
      "1. **AI 연산 성능 향상**: 최신 모바일 애플리케이션 프로세서인 '엑시노스 2400'은 NPU 성능을 기존보다 14.7배 향상시켜 AI 연산 능력을 크게 강화하고 있습니다.\n",
      "2. **반도체 및 메모리 기술 개발**: AI와 데이터 센터용 차세대 메모리 및 스토리지 기술, 예를 들어 CXL 기반 메모리 확장과 HBM4/4E, Z-NAND 등 기술 개발이 활발히 이루어지고 있으며, 이는 AI의 대역폭과 용량 요구를 충족시키기 위한 전략입니다.\n",
      "3. **스마트홈과 IoT 분야 강화**: AI와 IoT 기술을 활용한 스마트 홈 솔루션을 지속적으로 발전시키고 있으며, 이를 통해 사용자 경험 혁신을 추구하고 있습니다.\n",
      "4. **AI TV 및 기타 제품**: 2025년형 TV와 같은 가전제품에 AI 기술을 적용하여 진화된 사용자 인터페이스와 기능을 제공하는 등 AI 기반의 제품 혁신이 진행되고 있습니다.\n",
      "5. **글로벌 시장 전략**: 삼성전자는 기술 혁신과 품질 강화를 통해 글로벌 시장에서 지속적으로 리더십을 확장하고 있으며, AI를 중심으로 한 미래 전략을 추진하고 있습니다.\n",
      "\n",
      "이와 같은 발전은 삼성전자가 인공지능 기술을 다양한 제품과 분야에 통합하며, 시장 경쟁력을 더욱 강화하고 있음을 보여줍니다.\u001b[0m\n",
      "\n",
      "\u001b[1m> Finished chain.\u001b[0m\n"
     ]
    },
    {
     "data": {
      "text/plain": [
       "{'input': '방금 말한 내용들 2023년 기준인데, 요즘엔 어떻게 됐대?',\n",
       " 'chat_history': [HumanMessage(content='pdf 기준 삼성전자 소식들 요약해줘', additional_kwargs={}, response_metadata={}),\n",
       "  AIMessage(content='삼성전자는 최근 자체 개발한 생성형 AI인 ‘삼성 가우스’를 공개하였으며, 이 AI는 온디바이스에서 작동 가능하며 언어, 코드, 이미지 모델로 구성되어 있습니다. 삼성 가우스는 사용자 정보 유출 위험이 없고, 텍스트 생성, 코드 작성, 이미지 창작 등 다양한 작업을 지원합니다. 또한, 삼성전자는 여러 제품에 단계적으로 적용할 계획이며, AI 코딩 어시스턴트 ‘코드아이’를 포함한 여러 서비스를 제공할 예정입니다. \\n\\n이외에도 삼성전자는 다양한 기술 행사에 참가하며 AI 관련 최신 트렌드와 제품 개발을 지속하고 있습니다. 예를 들어, CES 2024와 AIMLA 2024 같은 글로벌 전시회와 컨퍼런스에 참가하여 AI, 5G, AR/VR 등 첨단 기술을 선보일 예정입니다.', additional_kwargs={}, response_metadata={}),\n",
       "  HumanMessage(content='방금 말한 내용들 2023년 기준인데, 요즘엔 어떻게 됐대?', additional_kwargs={}, response_metadata={}),\n",
       "  AIMessage(content=\"최근 삼성전자의 AI 동향은 2025년 기준으로 여러 혁신 기술과 전략이 진행되고 있음을 보여줍니다. 주요 내용은 다음과 같습니다:\\n\\n1. **AI 연산 성능 향상**: 최신 모바일 애플리케이션 프로세서인 '엑시노스 2400'은 NPU 성능을 기존보다 14.7배 향상시켜 AI 연산 능력을 크게 강화하고 있습니다.\\n2. **반도체 및 메모리 기술 개발**: AI와 데이터 센터용 차세대 메모리 및 스토리지 기술, 예를 들어 CXL 기반 메모리 확장과 HBM4/4E, Z-NAND 등 기술 개발이 활발히 이루어지고 있으며, 이는 AI의 대역폭과 용량 요구를 충족시키기 위한 전략입니다.\\n3. **스마트홈과 IoT 분야 강화**: AI와 IoT 기술을 활용한 스마트 홈 솔루션을 지속적으로 발전시키고 있으며, 이를 통해 사용자 경험 혁신을 추구하고 있습니다.\\n4. **AI TV 및 기타 제품**: 2025년형 TV와 같은 가전제품에 AI 기술을 적용하여 진화된 사용자 인터페이스와 기능을 제공하는 등 AI 기반의 제품 혁신이 진행되고 있습니다.\\n5. **글로벌 시장 전략**: 삼성전자는 기술 혁신과 품질 강화를 통해 글로벌 시장에서 지속적으로 리더십을 확장하고 있으며, AI를 중심으로 한 미래 전략을 추진하고 있습니다.\\n\\n이와 같은 발전은 삼성전자가 인공지능 기술을 다양한 제품과 분야에 통합하며, 시장 경쟁력을 더욱 강화하고 있음을 보여줍니다.\", additional_kwargs={}, response_metadata={})],\n",
       " 'output': \"최근 삼성전자의 AI 동향은 2025년 기준으로 여러 혁신 기술과 전략이 진행되고 있음을 보여줍니다. 주요 내용은 다음과 같습니다:\\n\\n1. **AI 연산 성능 향상**: 최신 모바일 애플리케이션 프로세서인 '엑시노스 2400'은 NPU 성능을 기존보다 14.7배 향상시켜 AI 연산 능력을 크게 강화하고 있습니다.\\n2. **반도체 및 메모리 기술 개발**: AI와 데이터 센터용 차세대 메모리 및 스토리지 기술, 예를 들어 CXL 기반 메모리 확장과 HBM4/4E, Z-NAND 등 기술 개발이 활발히 이루어지고 있으며, 이는 AI의 대역폭과 용량 요구를 충족시키기 위한 전략입니다.\\n3. **스마트홈과 IoT 분야 강화**: AI와 IoT 기술을 활용한 스마트 홈 솔루션을 지속적으로 발전시키고 있으며, 이를 통해 사용자 경험 혁신을 추구하고 있습니다.\\n4. **AI TV 및 기타 제품**: 2025년형 TV와 같은 가전제품에 AI 기술을 적용하여 진화된 사용자 인터페이스와 기능을 제공하는 등 AI 기반의 제품 혁신이 진행되고 있습니다.\\n5. **글로벌 시장 전략**: 삼성전자는 기술 혁신과 품질 강화를 통해 글로벌 시장에서 지속적으로 리더십을 확장하고 있으며, AI를 중심으로 한 미래 전략을 추진하고 있습니다.\\n\\n이와 같은 발전은 삼성전자가 인공지능 기술을 다양한 제품과 분야에 통합하며, 시장 경쟁력을 더욱 강화하고 있음을 보여줍니다.\"}"
      ]
     },
     "execution_count": 41,
     "metadata": {},
     "output_type": "execute_result"
    }
   ],
   "source": [
    "agent_executor.invoke({'input': '방금 말한 내용들 2023년 기준인데, 요즘엔 어떻게 됐대?'})"
   ]
  }
 ],
 "metadata": {
  "kernelspec": {
   "display_name": "Python 3",
   "language": "python",
   "name": "python3"
  },
  "language_info": {
   "codemirror_mode": {
    "name": "ipython",
    "version": 3
   },
   "file_extension": ".py",
   "mimetype": "text/x-python",
   "name": "python",
   "nbconvert_exporter": "python",
   "pygments_lexer": "ipython3",
   "version": "3.13.2"
  }
 },
 "nbformat": 4,
 "nbformat_minor": 5
}
