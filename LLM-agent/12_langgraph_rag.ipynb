{
 "cells": [
  {
   "cell_type": "markdown",
   "id": "48c4bb01",
   "metadata": {},
   "source": [
    "# RAG w/ Langgraph\n",
    "`12_langgraph_rag.ipynb`\n",
    "\n",
    "- https://python.langchain.com/docs/tutorials/rag/"
   ]
  },
  {
   "cell_type": "code",
   "execution_count": null,
   "id": "08c66afc",
   "metadata": {},
   "outputs": [],
   "source": [
    "from dotenv import load_dotenv\n",
    "\n",
    "load_dotenv()"
   ]
  },
  {
   "cell_type": "code",
   "execution_count": null,
   "id": "751b5d0a",
   "metadata": {},
   "outputs": [],
   "source": [
    "from pprint import pprint\n",
    "\n",
    "# 1. Loader (웹문서)\n",
    "from langchain_community.document_loaders import WebBaseLoader\n",
    "from bs4.filter import SoupStrainer  # pip install beautifulsoup4\n",
    "\n",
    "loader = WebBaseLoader(\n",
    "    # 문서 출처 URL\n",
    "    web_paths=('https://lilianweng.github.io/posts/2023-06-23-agent/', ),\n",
    "    # 웹페이지 안에서 필요한 정보만 선택\n",
    "    bs_kwargs={\n",
    "        'parse_only': SoupStrainer(class_=['post-content']) \n",
    "    }\n",
    "    # header_template={}\n",
    ")\n",
    "docs = loader.load()\n",
    "\n",
    "# 2. Splitter\n",
    "from langchain_text_splitters import RecursiveCharacterTextSplitter\n",
    "\n",
    "splitter = RecursiveCharacterTextSplitter(chunk_size=1000, chunk_overlap=200)\n",
    "splitted_docs = splitter.split_documents(docs)\n",
    "print(len(splitted_docs))\n",
    "\n",
    "# 3. Embedding Model\n",
    "from langchain_openai import OpenAIEmbeddings\n",
    "embedding = OpenAIEmbeddings(model='text-embedding-3-small')  # small <-> large\n",
    "\n",
    "# 4. Vectorstore (지금은 FAISS -> 클라우드-Pinecone)\n",
    "from langchain_community.vectorstores import FAISS\n",
    "\n",
    "vectorstore = FAISS.from_documents(splitted_docs, embedding=embedding)"
   ]
  },
  {
   "cell_type": "code",
   "execution_count": null,
   "id": "bd81a755",
   "metadata": {},
   "outputs": [],
   "source": [
    "from langchain import hub\n",
    "\n",
    "prompt = hub.pull('rlm/rag-prompt')\n",
    "\n",
    "for m in prompt.messages:\n",
    "    m.pretty_print()"
   ]
  },
  {
   "cell_type": "code",
   "execution_count": null,
   "id": "e25caa4d",
   "metadata": {},
   "outputs": [],
   "source": [
    "# LLM\n",
    "from langchain_openai import ChatOpenAI\n",
    "llm = ChatOpenAI(model='gpt-4.1', temperature=0)\n",
    "\n",
    "# State\n",
    "from langchain_core.documents import Document\n",
    "from typing_extensions import TypedDict, List\n",
    "\n",
    "class State(TypedDict):\n",
    "    question: str\n",
    "    context: List[Document]\n",
    "    answer: str\n",
    "\n",
    "\n",
    "# Node\n",
    "# 검색 노드\n",
    "def retrieve(state: State):\n",
    "    # [ Document * 4 ]\n",
    "    retrieved_docs = vectorstore.similarity_search(state['question'], k=4)\n",
    "\n",
    "    # 나머지 return 하지 않은 state 항목들은, 알아서 그대로 감 (question, answer 는 알아서 그대로 나감)\n",
    "    return { 'context': retrieved_docs, }\n",
    "\n",
    "\n",
    "# 답변 생성노드\n",
    "def generate(state: State):\n",
    "    # Document 객체의 필요없는 정보는 다 빼고, 내용에 해당하는 page_content 만 모아서 넘기면 토큰 절약 가능.\n",
    "    context_str = ''\n",
    "    for doc in state['context']:\n",
    "        context_str += doc.page_content + '\\n------------------------\\n'\n",
    "    \n",
    "    question_with_context = prompt.invoke({'question': state['question'], 'context': context_str})\n",
    "    response = llm.invoke(question_with_context)\n",
    "    return {'answer': response.content}\n",
    "\n",
    "# Graph\n",
    "from langgraph.graph import StateGraph, START, END\n",
    "builder = StateGraph(State)\n",
    "\n",
    "builder.add_node('retrieve', retrieve)\n",
    "builder.add_node('generate', generate)\n",
    "\n",
    "builder.add_edge(START, 'retrieve')\n",
    "builder.add_edge('retrieve', 'generate')\n",
    "builder.add_edge('generate', END)\n",
    "\n",
    "graph = builder.compile()\n",
    "\n",
    "# 출력\n",
    "# from IPython.display import Image, display\n",
    "\n",
    "# display(Image(graph.get_graph().draw_mermaid_png()))"
   ]
  },
  {
   "cell_type": "code",
   "execution_count": null,
   "id": "65d73867",
   "metadata": {},
   "outputs": [],
   "source": [
    "final_state = graph.invoke({'question': '에이전트 시스템에 대해 알려줘!'})\n",
    "\n",
    "final_state['answer']"
   ]
  },
  {
   "cell_type": "markdown",
   "id": "0d2978fa",
   "metadata": {},
   "source": [
    "*메세지 스트리밍*"
   ]
  },
  {
   "cell_type": "code",
   "execution_count": null,
   "id": "f1562413",
   "metadata": {},
   "outputs": [],
   "source": [
    "for message, metadata in graph.stream(\n",
    "    {\"question\": \"What is Task Decomposition? 한국어로 답해줘\"}, stream_mode=\"messages\"\n",
    "):\n",
    "    print(message.content, end=\"\")"
   ]
  },
  {
   "cell_type": "markdown",
   "id": "c4a93494",
   "metadata": {},
   "source": [
    "## RAG +a\n",
    "- Metadata 편집\n",
    "- Query 분석 - 보완"
   ]
  },
  {
   "cell_type": "code",
   "execution_count": 86,
   "id": "23c70e9b",
   "metadata": {},
   "outputs": [],
   "source": [
    "# 메타데이터 편집\n",
    "\n",
    "# 문서 63개중 1/3 지점\n",
    "third = len(splitted_docs) // 3\n",
    "\n",
    "# metadata 에 'section' 추가중\n",
    "for idx, doc in enumerate(splitted_docs):\n",
    "    if idx < third:\n",
    "        doc.metadata['section'] = 'beginning'\n",
    "    elif idx < third * 2:\n",
    "        doc.metadata['section'] = 'middle'\n",
    "    else:\n",
    "        doc.metadata['section'] = 'end'\n",
    "\n",
    "vectorstore = FAISS.from_documents(splitted_docs, embedding=embedding)"
   ]
  },
  {
   "cell_type": "code",
   "execution_count": 87,
   "id": "09ffabaa",
   "metadata": {},
   "outputs": [],
   "source": [
    "# State를 더 빡빡하게 정의하기 위해, 위에 따로 정의한 클래스 Search\n",
    "\n",
    "from typing import Literal  # 말그대로\n",
    "from typing_extensions import Annotated  # 할말이 좀 더 있다\n",
    "\n",
    "\n",
    "class Search(TypedDict):  # StructuredOutput 에서 사용하기 위함.\n",
    "    \"\"\"Vectorstore Search Query\"\"\"\n",
    "    # 1. 타입, 2. ... -> NOT NULL, 3. 설명\n",
    "    query: Annotated[str, ..., 'Search query to run']\n",
    "    section: Annotated[\n",
    "        Literal['beginning', 'middle', 'end'], \n",
    "        ..., \n",
    "        'Section to query'\n",
    "    ]\n",
    "\n",
    "\n",
    "class MyState(TypedDict):\n",
    "    question: str\n",
    "    query: Search  \n",
    "    context: List[Document]\n",
    "    answer: str"
   ]
  },
  {
   "cell_type": "code",
   "execution_count": null,
   "id": "ba1325b6",
   "metadata": {},
   "outputs": [],
   "source": [
    "# Node\n",
    "def analyze_query(state: MyState):\n",
    "    # Search 클래스에 맞춰 사용자 question 을 {query, section}로 바꿈\n",
    "    s_llm = llm.with_structured_output(Search)\n",
    "    query = s_llm.invoke(state['question'])\n",
    "    return {'query': query}\n",
    "\n",
    "def retrieve(state: MyState):\n",
    "    query = state['query']\n",
    "    docs = vectorstore.similarity_search(\n",
    "        query['query'],\n",
    "        # LLM이 판단한 section 과 실제 문서조각의 section이 맞을 경우에만 검색.\n",
    "        filter=lambda metadata: metadata.get('section') == query['section'],\n",
    "    )\n",
    "    return {'context': docs}\n",
    "\n",
    "def generate(state: MyState):\n",
    "    # Token 아끼기 위해, 내용만 추려서 문자열로 만들기\n",
    "    doc_str = ''\n",
    "    for doc in state['context']:\n",
    "        doc_str += doc.page_content + '\\n=====================\\n'\n",
    "    \n",
    "    question_with_context = prompt.invoke({'question': state['question'], 'context': doc_str})\n",
    "    res = llm.invoke(question_with_context)\n",
    "    return {'answer': res.content}\n",
    "\n",
    "\n",
    "builder = StateGraph(MyState)\n",
    "builder.add_node('analyze_query', analyze_query)\n",
    "builder.add_node('retrieve', retrieve)\n",
    "builder.add_node('generate', generate)\n",
    "\n",
    "builder.add_edge(START, 'analyze_query')\n",
    "builder.add_edge('analyze_query', 'retrieve')\n",
    "builder.add_edge('retrieve', 'generate')\n",
    "builder.add_edge('generate', END)\n",
    "\n",
    "graph = builder.compile()\n"
   ]
  },
  {
   "cell_type": "code",
   "execution_count": 89,
   "id": "e2de3a19",
   "metadata": {},
   "outputs": [
    {
     "data": {
      "text/plain": [
       "{'question': '작업분배 뭐냐',\n",
       " 'query': {'query': '작업분배란 무엇인가', 'section': 'beginning'},\n",
       " 'context': [Document(id='48f42ef4-76ca-4657-bb95-71328450422a', metadata={'source': 'https://lilianweng.github.io/posts/2023-06-23-agent/', 'section': 'beginning'}, page_content='Task decomposition can be done (1) by LLM with simple prompting like \"Steps for XYZ.\\\\n1.\", \"What are the subgoals for achieving XYZ?\", (2) by using task-specific instructions; e.g. \"Write a story outline.\" for writing a novel, or (3) with human inputs.\\nAnother quite distinct approach, LLM+P (Liu et al. 2023), involves relying on an external classical planner to do long-horizon planning. This approach utilizes the Planning Domain Definition Language (PDDL) as an intermediate interface to describe the planning problem. In this process, LLM (1) translates the problem into “Problem PDDL”, then (2) requests a classical planner to generate a PDDL plan based on an existing “Domain PDDL”, and finally (3) translates the PDDL plan back into natural language. Essentially, the planning step is outsourced to an external tool, assuming the availability of domain-specific PDDL and a suitable planner which is common in certain robotic setups but not in many other domains.\\nSelf-Reflection#'),\n",
       "  Document(id='649ebfa4-b28f-4ef2-afb1-2127ab9b2b90', metadata={'source': 'https://lilianweng.github.io/posts/2023-06-23-agent/', 'section': 'beginning'}, page_content='Component One: Planning#\\nA complicated task usually involves many steps. An agent needs to know what they are and plan ahead.\\nTask Decomposition#\\nChain of thought (CoT; Wei et al. 2022) has become a standard prompting technique for enhancing model performance on complex tasks. The model is instructed to “think step by step” to utilize more test-time computation to decompose hard tasks into smaller and simpler steps. CoT transforms big tasks into multiple manageable tasks and shed lights into an interpretation of the model’s thinking process.\\nTree of Thoughts (Yao et al. 2023) extends CoT by exploring multiple reasoning possibilities at each step. It first decomposes the problem into multiple thought steps and generates multiple thoughts per step, creating a tree structure. The search process can be BFS (breadth-first search) or DFS (depth-first search) with each state evaluated by a classifier (via a prompt) or majority vote.'),\n",
       "  Document(id='87aeb3d1-b10c-4cee-95b3-81c3cae98c7f', metadata={'source': 'https://lilianweng.github.io/posts/2023-06-23-agent/', 'section': 'beginning'}, page_content='Building agents with LLM (large language model) as its core controller is a cool concept. Several proof-of-concepts demos, such as AutoGPT, GPT-Engineer and BabyAGI, serve as inspiring examples. The potentiality of LLM extends beyond generating well-written copies, stories, essays and programs; it can be framed as a powerful general problem solver.\\nAgent System Overview#\\nIn a LLM-powered autonomous agent system, LLM functions as the agent’s brain, complemented by several key components:\\n\\nPlanning\\n\\nSubgoal and decomposition: The agent breaks down large tasks into smaller, manageable subgoals, enabling efficient handling of complex tasks.\\nReflection and refinement: The agent can do self-criticism and self-reflection over past actions, learn from mistakes and refine them for future steps, thereby improving the quality of final results.\\n\\n\\nMemory'),\n",
       "  Document(id='bfcb9b04-84eb-47db-9028-ed2a06a1c3e8', metadata={'source': 'https://lilianweng.github.io/posts/2023-06-23-agent/', 'section': 'beginning'}, page_content='To avoid overfitting, CoH adds a regularization term to maximize the log-likelihood of the pre-training dataset. To avoid shortcutting and copying (because there are many common words in feedback sequences), they randomly mask 0% - 5% of past tokens during training.\\nThe training dataset in their experiments is a combination of WebGPT comparisons, summarization from human feedback and human preference dataset.')],\n",
       " 'answer': '작업분배는 큰 작업을 여러 개의 작은 하위 작업(서브골)으로 나누어 효율적으로 처리하는 것을 의미합니다. 이렇게 하면 복잡한 문제도 단계별로 쉽게 해결할 수 있습니다. 예를 들어, LLM(대형 언어 모델)이나 사람, 또는 외부 플래너가 작업을 분해하고 각 부분을 담당할 수 있습니다.'}"
      ]
     },
     "execution_count": 89,
     "metadata": {},
     "output_type": "execute_result"
    }
   ],
   "source": [
    "graph.invoke({'question': '작업분배 뭐냐'})"
   ]
  },
  {
   "cell_type": "code",
   "execution_count": null,
   "id": "d187e8e9",
   "metadata": {},
   "outputs": [],
   "source": []
  }
 ],
 "metadata": {
  "kernelspec": {
   "display_name": "Python 3",
   "language": "python",
   "name": "python3"
  },
  "language_info": {
   "codemirror_mode": {
    "name": "ipython",
    "version": 3
   },
   "file_extension": ".py",
   "mimetype": "text/x-python",
   "name": "python",
   "nbconvert_exporter": "python",
   "pygments_lexer": "ipython3",
   "version": "3.13.2"
  }
 },
 "nbformat": 4,
 "nbformat_minor": 5
}
