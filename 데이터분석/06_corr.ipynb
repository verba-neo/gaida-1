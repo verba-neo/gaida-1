{
 "cells": [
  {
   "cell_type": "markdown",
   "id": "0cfbef6f",
   "metadata": {},
   "source": [
    "# Correlation (상관관계)\n",
    "`06_corr.ipynb`\n",
    "\n",
    "## 정의\n",
    "- 두 변수간에 서로 얼마나 함께 변하는지 정도를 나타내는 통계 개념\n",
    "- 값의 범위는 : -1 ~ +1\n",
    "    - +1: 완벽한 양의 상관관계 -> x가 증가하면 y도 비례해서 증가 : 키 - 몸무게\n",
    "    - 0: 상관 없음 : 키와 수학점수\n",
    "    - -1: 완벽한 음의 상관관계 -> x가 증가하면 y가 비례해서 감소 : 운동량 - 체지방률\n",
    "\n",
    "## 상관 계수 ($r$)\n",
    "두 변수간의 관계가 얼마나 강한지 측정하는 법 (대표)\n",
    "- 피어슨 (Pearson): 가장 많이 쓰임. 연속 변수 선형 관계 측정\n",
    "- 스피어맨 (Spearman): 순위(랭크) 기반, 비 선형 관계, 이상치에 강함\n",
    "- 켄달 (Kendall) : 순위 일관성 기반, 표본이 적을 때 안정적"
   ]
  },
  {
   "cell_type": "code",
   "execution_count": null,
   "id": "0bc9f03e",
   "metadata": {},
   "outputs": [],
   "source": [
    "%pip install -q kagglehub[pandas-datasets]"
   ]
  },
  {
   "cell_type": "code",
   "execution_count": null,
   "id": "9974b209",
   "metadata": {},
   "outputs": [],
   "source": [
    "import numpy as np\n",
    "import pandas as pd\n",
    "import matplotlib.pyplot as plt\n",
    "import seaborn as sns\n",
    "\n",
    "from IPython.display import display\n",
    "import warnings\n",
    "\n",
    "warnings.filterwarnings('ignore', category=UserWarning)\n",
    "plt.rcParams['font.family'] = 'Malgun Gothic'\n",
    "plt.rcParams['axes.unicode_minus'] = False\n",
    "\n",
    "\n",
    "df = pd.read_csv('./OnlineRetail.csv', encoding='ISO-8859-1')"
   ]
  },
  {
   "cell_type": "code",
   "execution_count": null,
   "id": "9ac94eb8",
   "metadata": {},
   "outputs": [],
   "source": [
    "from da_utils import profile, outliers, patterns\n",
    "\n",
    "# 데이터 프로파일링\n",
    "profile.get_data_profile(df)"
   ]
  },
  {
   "cell_type": "code",
   "execution_count": null,
   "id": "4729df46",
   "metadata": {},
   "outputs": [],
   "source": [
    "# 결측치 모니터링 함수 \n",
    "patterns.analyze_missing_patterns(df)"
   ]
  },
  {
   "cell_type": "code",
   "execution_count": null,
   "id": "02ea1fcd",
   "metadata": {},
   "outputs": [],
   "source": [
    "# 이상치 탐지 함수 (결측치 처리후 실행 필요)\n",
    "outliers.outlier_detection(df, 0.999, iso_cont='auto', final_threshold=2)"
   ]
  },
  {
   "cell_type": "code",
   "execution_count": null,
   "id": "39e8bfe0",
   "metadata": {},
   "outputs": [
    {
     "name": "stdout",
     "output_type": "stream",
     "text": [
      "전체 거래 541909\n",
      "고유 InvoiceNo 25900\n",
      "고유 고객수 4372\n"
     ]
    }
   ],
   "source": [
    "print('전체 거래', len(df))\n",
    "print('고유 InvoiceNo', df['InvoiceNo'].nunique())\n",
    "print('고유 고객수', df['CustomerID'].nunique())"
   ]
  },
  {
   "cell_type": "code",
   "execution_count": null,
   "id": "b8f28484",
   "metadata": {},
   "outputs": [
    {
     "name": "stdout",
     "output_type": "stream",
     "text": [
      "CustomerID 결측값 제거: 135080건\n",
      "취소거래 분리: 8905건\n",
      "정상 거래: 397924건\n"
     ]
    },
    {
     "data": {
      "text/html": [
       "<div>\n",
       "<style scoped>\n",
       "    .dataframe tbody tr th:only-of-type {\n",
       "        vertical-align: middle;\n",
       "    }\n",
       "\n",
       "    .dataframe tbody tr th {\n",
       "        vertical-align: top;\n",
       "    }\n",
       "\n",
       "    .dataframe thead th {\n",
       "        text-align: right;\n",
       "    }\n",
       "</style>\n",
       "<table border=\"1\" class=\"dataframe\">\n",
       "  <thead>\n",
       "    <tr style=\"text-align: right;\">\n",
       "      <th></th>\n",
       "      <th>InvoiceNo</th>\n",
       "      <th>StockCode</th>\n",
       "      <th>Description</th>\n",
       "      <th>Quantity</th>\n",
       "      <th>InvoiceDate</th>\n",
       "      <th>UnitPrice</th>\n",
       "      <th>CustomerID</th>\n",
       "      <th>Country</th>\n",
       "    </tr>\n",
       "  </thead>\n",
       "  <tbody>\n",
       "    <tr>\n",
       "      <th>0</th>\n",
       "      <td>536365</td>\n",
       "      <td>85123A</td>\n",
       "      <td>WHITE HANGING HEART T-LIGHT HOLDER</td>\n",
       "      <td>6</td>\n",
       "      <td>12/1/2010 8:26</td>\n",
       "      <td>2.55</td>\n",
       "      <td>17850.0</td>\n",
       "      <td>United Kingdom</td>\n",
       "    </tr>\n",
       "    <tr>\n",
       "      <th>1</th>\n",
       "      <td>536365</td>\n",
       "      <td>71053</td>\n",
       "      <td>WHITE METAL LANTERN</td>\n",
       "      <td>6</td>\n",
       "      <td>12/1/2010 8:26</td>\n",
       "      <td>3.39</td>\n",
       "      <td>17850.0</td>\n",
       "      <td>United Kingdom</td>\n",
       "    </tr>\n",
       "    <tr>\n",
       "      <th>2</th>\n",
       "      <td>536365</td>\n",
       "      <td>84406B</td>\n",
       "      <td>CREAM CUPID HEARTS COAT HANGER</td>\n",
       "      <td>8</td>\n",
       "      <td>12/1/2010 8:26</td>\n",
       "      <td>2.75</td>\n",
       "      <td>17850.0</td>\n",
       "      <td>United Kingdom</td>\n",
       "    </tr>\n",
       "    <tr>\n",
       "      <th>3</th>\n",
       "      <td>536365</td>\n",
       "      <td>84029G</td>\n",
       "      <td>KNITTED UNION FLAG HOT WATER BOTTLE</td>\n",
       "      <td>6</td>\n",
       "      <td>12/1/2010 8:26</td>\n",
       "      <td>3.39</td>\n",
       "      <td>17850.0</td>\n",
       "      <td>United Kingdom</td>\n",
       "    </tr>\n",
       "    <tr>\n",
       "      <th>4</th>\n",
       "      <td>536365</td>\n",
       "      <td>84029E</td>\n",
       "      <td>RED WOOLLY HOTTIE WHITE HEART.</td>\n",
       "      <td>6</td>\n",
       "      <td>12/1/2010 8:26</td>\n",
       "      <td>3.39</td>\n",
       "      <td>17850.0</td>\n",
       "      <td>United Kingdom</td>\n",
       "    </tr>\n",
       "  </tbody>\n",
       "</table>\n",
       "</div>"
      ],
      "text/plain": [
       "  InvoiceNo StockCode                          Description  Quantity  \\\n",
       "0    536365    85123A   WHITE HANGING HEART T-LIGHT HOLDER         6   \n",
       "1    536365     71053                  WHITE METAL LANTERN         6   \n",
       "2    536365    84406B       CREAM CUPID HEARTS COAT HANGER         8   \n",
       "3    536365    84029G  KNITTED UNION FLAG HOT WATER BOTTLE         6   \n",
       "4    536365    84029E       RED WOOLLY HOTTIE WHITE HEART.         6   \n",
       "\n",
       "      InvoiceDate  UnitPrice  CustomerID         Country  \n",
       "0  12/1/2010 8:26       2.55     17850.0  United Kingdom  \n",
       "1  12/1/2010 8:26       3.39     17850.0  United Kingdom  \n",
       "2  12/1/2010 8:26       2.75     17850.0  United Kingdom  \n",
       "3  12/1/2010 8:26       3.39     17850.0  United Kingdom  \n",
       "4  12/1/2010 8:26       3.39     17850.0  United Kingdom  "
      ]
     },
     "execution_count": 18,
     "metadata": {},
     "output_type": "execute_result"
    }
   ],
   "source": [
    "# 데이터 전처리\n",
    "df_clean = df.copy()\n",
    "\n",
    "# CustomerID 결측값 제거 (고객 단위 분석을 위해 필수)\n",
    "missing_customers = df_clean['CustomerID'].isnull().sum()\n",
    "print(f'CustomerID 결측값 제거: {missing_customers}건')\n",
    "df_clean = df_clean.dropna(subset=['CustomerID'])\n",
    "\n",
    "# 취소 거래 분리 (InvoiceNo 가 'C' 로 시작)\n",
    "cancel_mask = df_clean['InvoiceNo'].astype('str').str.startswith('C')\n",
    "# 취소거래, 정상거래 분리\n",
    "df_cancel = df_clean[cancel_mask]\n",
    "df_clean = df_clean[~cancel_mask]\n",
    "print(f'취소거래 분리: {len(df_cancel)}건')\n",
    "print(f'정상 거래: {len(df_clean)}건')\n",
    "\n",
    "# 파생 변수 생성 (상관 관계 분석)\n",
    "# TotalAmount, InvoiceDate(DateTime), Year, Month, DayOfWeek(숫자), Hour, DayName(글자), CustomerID(Str)\n",
    "df.head()"
   ]
  }
 ],
 "metadata": {
  "kernelspec": {
   "display_name": "Python 3",
   "language": "python",
   "name": "python3"
  },
  "language_info": {
   "codemirror_mode": {
    "name": "ipython",
    "version": 3
   },
   "file_extension": ".py",
   "mimetype": "text/x-python",
   "name": "python",
   "nbconvert_exporter": "python",
   "pygments_lexer": "ipython3",
   "version": "3.13.2"
  }
 },
 "nbformat": 4,
 "nbformat_minor": 5
}
