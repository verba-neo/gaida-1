{
 "cells": [
  {
   "cell_type": "markdown",
   "id": "c78d4b7b",
   "metadata": {},
   "source": [
    "# `titanic.ipynb`\n",
    "타이타닉 생존자 데이터 셋"
   ]
  },
  {
   "cell_type": "code",
   "execution_count": null,
   "id": "d0cf7448",
   "metadata": {},
   "outputs": [],
   "source": [
    "# -q (quiet) 옵션은 설치 로그를 안보여줌(조용히함)\n",
    "%pip install -q seaborn"
   ]
  },
  {
   "cell_type": "code",
   "execution_count": null,
   "id": "dfa60459",
   "metadata": {},
   "outputs": [],
   "source": [
    "# 타이타닉 데이터셋 불러오기\n",
    "# (pandas에 기본 내장된 예제 데이터셋)\n",
    "import seaborn as sns\n",
    "import pandas as pd\n",
    "\n",
    "# titanic 데이터 DataFrame\n",
    "titanic = sns.load_dataset('titanic')\n",
    "\n",
    "# 처음 5개 행 보기\n",
    "print(\"타이타닉 데이터 미리보기:\")\n",
    "print(titanic.head())\n",
    "\n",
    "# 데이터셋 정보 확인\n",
    "print(\"\\n데이터셋 정보:\")\n",
    "print(titanic.info())\n",
    "\n",
    "# 데이터 요약 통계\n",
    "print(\"\\n데이터 요약 통계:\")\n",
    "print(titanic.describe())"
   ]
  },
  {
   "cell_type": "code",
   "execution_count": null,
   "id": "4cd46741",
   "metadata": {},
   "outputs": [],
   "source": [
    "# Col별 결측치 함계\n",
    "titanic.isna().sum()\n",
    "# 승객 등급 등장 빈도 (1, 2, 3 등석)\n",
    "titanic['pclass'].value_counts()\n",
    "# 성별 빈도 (남/녀)\n",
    "titanic['sex'].value_counts()\n",
    "# 생존 여부 빈도 (생존자/사망자)\n",
    "titanic['survived'].value_counts()"
   ]
  },
  {
   "cell_type": "code",
   "execution_count": null,
   "id": "a2686c57",
   "metadata": {},
   "outputs": [],
   "source": [
    "# 성별에 따른 생존율\n",
    "titanic.groupby('sex')['survived'].mean()\n",
    "# 더 복잡한 통계 가능\n",
    "titanic.groupby('sex').agg({'survived': ['mean']})\n",
    "\n",
    "# 승객 등급에 따른 생존율\n",
    "titanic.groupby('pclass')['survived'].mean()"
   ]
  },
  {
   "cell_type": "code",
   "execution_count": null,
   "id": "50824d18",
   "metadata": {},
   "outputs": [],
   "source": [
    "# 성별 & 승객 등급에 따른 생존\n",
    "titanic.groupby(['sex', 'pclass'])['survived'].mean()\n",
    "# 피벗테이블\n",
    "titanic.pivot_table(\n",
    "    values='survived',\n",
    "    index='sex',\n",
    "    columns='pclass',\n",
    "    aggfunc='mean'\n",
    ")\n",
    "\n",
    "# 나이 그룹별 생존율\n",
    "titanic['age_group'] = pd.cut(\n",
    "    titanic['age'],\n",
    "    bins=[0, 12, 18, 35, 60, 100, 200],  # 초과 ~ 이하\n",
    "    labels=['아동', '청소년', '청년', '중장년', '노년', '불사']\n",
    ")\n",
    "\n",
    "titanic.head()\n",
    "\n",
    "#  obeserved 옵션 == 카테고리는 있는데, 해당되는 데이터가 없을 때 표시한다 / 안한다. \n",
    "titanic.groupby('age_group', observed=False)['survived'].mean()\n",
    "\n",
    "# 성별 + 나이그룹으로 생존율 확인\n",
    "titanic.groupby(['sex', 'age_group'])['survived'].mean()\n",
    "# 피벗테이블\n",
    "titanic.pivot_table(\n",
    "    values='survived',\n",
    "    index='sex',\n",
    "    columns='age_group',\n",
    "    aggfunc='mean'\n",
    ")"
   ]
  },
  {
   "cell_type": "code",
   "execution_count": null,
   "id": "661a3cd0",
   "metadata": {},
   "outputs": [],
   "source": [
    "titanic = sns.load_dataset('titanic')\n",
    "# 결측치 확인\n",
    "missing = titanic.isna().sum()\n",
    "# 결측 있는 항목만 확인\n",
    "missing[missing > 0]\n",
    "\n",
    "# 결측 비율\n",
    "missing_p = titanic.isna().mean() * 100\n",
    "missing_p[missing_p > 0]"
   ]
  },
  {
   "cell_type": "code",
   "execution_count": null,
   "id": "8bb5e83c",
   "metadata": {},
   "outputs": [],
   "source": [
    "# 결측치 채우기\n",
    "# age: 중요한 정보 : 평균/중앙값 대체\n",
    "# embarked: 가장 많은 사람들이 탄 곳으로 대체\n",
    "# deck: 추측 불가능(의믹 없음) -> 삭제\n",
    "\n",
    "# 필요하다면, 카피떠서 진행\n",
    "titanic_processed = titanic.copy()\n",
    "\n",
    "# 비어있던 행 마스킹\n",
    "age_mask = titanic['age'].isna()\n",
    "\n",
    "# 나이 결측치 채우기 (남녀상관없이 전체평균으로 채움)\n",
    "mean_age = titanic['age'].mean()\n",
    "titanic_processed['age'] = titanic['age'].fillna(mean_age)\n",
    "\n",
    "# 결측치 있는지 재확인\n",
    "titanic_processed.isna().sum()\n",
    "\n",
    "# 평균으로 채워진 값들만 확인\n",
    "titanic_processed.loc[age_mask]\n"
   ]
  },
  {
   "cell_type": "code",
   "execution_count": null,
   "id": "9f5c3418",
   "metadata": {},
   "outputs": [],
   "source": [
    "# 전체평균으로 대체하는게 옳을까..?\n",
    "# 성별/객실별로 평균을 추정하는건?\n",
    "\n",
    "# 모든 사람들을 성별/객실 그룹의 평균 나이로 바꾼 Series\n",
    "print(titanic.groupby(['sex', 'pclass'])['age'].mean())\n",
    "mean_ages = titanic.groupby(['sex', 'pclass'])['age'].transform('mean')\n",
    "\n",
    "# titanic 의 age col 중 빈 값만, mean_ages로 채움.\n",
    "titanic_processed['age'] = titanic['age'].fillna(mean_ages)\n",
    "\n",
    "# 원래 비어있던 애들만 확인 \n",
    "titanic_processed.loc[ titanic['age'].isna() ]"
   ]
  },
  {
   "cell_type": "code",
   "execution_count": null,
   "id": "9c22b873",
   "metadata": {},
   "outputs": [],
   "source": [
    "# embarked (탑승 도시) -> 최빈값(가장 많이 탄 곳)\n",
    "\n",
    "# 비어있는 항구 개수\n",
    "titanic['embarked'].isna().sum()\n",
    "\n",
    "# 최빈값 (Series - 벡터)\n",
    "mode_embarked = titanic['embarked'].mode()[0]  # Series 에서 1개 뽑기\n",
    "# 빈 값은 최빈값으로 교체\n",
    "titanic_processed['embarked'] = titanic['embarked'].fillna(mode_embarked)\n",
    "\n",
    "# 처리 완료 확인 (빈값 0개)\n",
    "titanic_processed['embarked'].isna().sum()"
   ]
  },
  {
   "cell_type": "code",
   "execution_count": null,
   "id": "76ed66f9",
   "metadata": {},
   "outputs": [],
   "source": [
    "# deck 은 77%가 비어있음 -> 삭제\n",
    "titanic['deck'].isna().mean() * 100  # 빈값 비율\n",
    "\n",
    "# 'deck' 컬럼은 삭제  - inplace 는 실행하면, 2번째 실행 불가능\n",
    "titanic_processed.drop('deck', axis=1, inplace=True)"
   ]
  },
  {
   "cell_type": "code",
   "execution_count": 100,
   "id": "d3115327",
   "metadata": {},
   "outputs": [
    {
     "name": "stdout",
     "output_type": "stream",
     "text": [
      "<class 'pandas.core.frame.DataFrame'>\n",
      "RangeIndex: 891 entries, 0 to 890\n",
      "Data columns (total 14 columns):\n",
      " #   Column       Non-Null Count  Dtype   \n",
      "---  ------       --------------  -----   \n",
      " 0   survived     891 non-null    int64   \n",
      " 1   pclass       891 non-null    int64   \n",
      " 2   sex          891 non-null    object  \n",
      " 3   age          891 non-null    float64 \n",
      " 4   sibsp        891 non-null    int64   \n",
      " 5   parch        891 non-null    int64   \n",
      " 6   fare         891 non-null    float64 \n",
      " 7   embarked     891 non-null    object  \n",
      " 8   class        891 non-null    category\n",
      " 9   who          891 non-null    object  \n",
      " 10  adult_male   891 non-null    bool    \n",
      " 11  embark_town  889 non-null    object  \n",
      " 12  alive        891 non-null    object  \n",
      " 13  alone        891 non-null    bool    \n",
      "dtypes: bool(2), category(1), float64(2), int64(4), object(5)\n",
      "memory usage: 79.4+ KB\n"
     ]
    }
   ],
   "source": [
    "titanic_processed.info()"
   ]
  }
 ],
 "metadata": {
  "kernelspec": {
   "display_name": "Python 3",
   "language": "python",
   "name": "python3"
  },
  "language_info": {
   "codemirror_mode": {
    "name": "ipython",
    "version": 3
   },
   "file_extension": ".py",
   "mimetype": "text/x-python",
   "name": "python",
   "nbconvert_exporter": "python",
   "pygments_lexer": "ipython3",
   "version": "3.13.2"
  }
 },
 "nbformat": 4,
 "nbformat_minor": 5
}
