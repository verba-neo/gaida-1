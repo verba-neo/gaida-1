{
 "cells": [
  {
   "cell_type": "code",
   "execution_count": null,
   "id": "d0cf7448",
   "metadata": {},
   "outputs": [],
   "source": [
    "# -q (quiet) 옵션은 설치 로그를 안보여줌(조용히함)\n",
    "%pip install -q seaborn"
   ]
  },
  {
   "cell_type": "code",
   "execution_count": null,
   "id": "dfa60459",
   "metadata": {},
   "outputs": [],
   "source": [
    "# 타이타닉 데이터셋 불러오기\n",
    "# (pandas에 기본 내장된 예제 데이터셋)\n",
    "import seaborn as sns\n",
    "\n",
    "# titanic 데이터 DataFrame\n",
    "titanic = sns.load_dataset('titanic')\n",
    "\n",
    "# 처음 5개 행 보기\n",
    "print(\"타이타닉 데이터 미리보기:\")\n",
    "print(titanic.head())\n",
    "\n",
    "# 데이터셋 정보 확인\n",
    "print(\"\\n데이터셋 정보:\")\n",
    "print(titanic.info())\n",
    "\n",
    "# 데이터 요약 통계\n",
    "print(\"\\n데이터 요약 통계:\")\n",
    "print(titanic.describe())"
   ]
  }
 ],
 "metadata": {
  "kernelspec": {
   "display_name": "Python 3",
   "language": "python",
   "name": "python3"
  },
  "language_info": {
   "codemirror_mode": {
    "name": "ipython",
    "version": 3
   },
   "file_extension": ".py",
   "mimetype": "text/x-python",
   "name": "python",
   "nbconvert_exporter": "python",
   "pygments_lexer": "ipython3",
   "version": "3.13.2"
  }
 },
 "nbformat": 4,
 "nbformat_minor": 5
}
