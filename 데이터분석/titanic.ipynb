{
 "cells": [
  {
   "cell_type": "markdown",
   "id": "c78d4b7b",
   "metadata": {},
   "source": [
    "# `titanic.ipynb`\n",
    "타이타닉 생존자 데이터 셋"
   ]
  },
  {
   "cell_type": "code",
   "execution_count": null,
   "id": "d0cf7448",
   "metadata": {},
   "outputs": [],
   "source": [
    "# -q (quiet) 옵션은 설치 로그를 안보여줌(조용히함)\n",
    "%pip install -q seaborn"
   ]
  },
  {
   "cell_type": "code",
   "execution_count": null,
   "id": "dfa60459",
   "metadata": {},
   "outputs": [],
   "source": [
    "# 타이타닉 데이터셋 불러오기\n",
    "# (seaborn 기본 내장된 예제 데이터셋)\n",
    "import seaborn as sns\n",
    "import pandas as pd\n",
    "\n",
    "# titanic 데이터 DataFrame\n",
    "titanic = sns.load_dataset('titanic')\n",
    "\n",
    "# 처음 5개 행 보기\n",
    "print(\"타이타닉 데이터 미리보기:\")\n",
    "print(titanic.head())\n",
    "\n",
    "# 데이터셋 정보 확인\n",
    "print(\"\\n데이터셋 정보:\")\n",
    "print(titanic.info())\n",
    "\n",
    "# 데이터 요약 통계\n",
    "print(\"\\n데이터 요약 통계:\")\n",
    "print(titanic.describe())"
   ]
  },
  {
   "cell_type": "code",
   "execution_count": null,
   "id": "4cd46741",
   "metadata": {},
   "outputs": [],
   "source": [
    "# Col별 결측치 함계\n",
    "titanic.isna().sum()\n",
    "# 승객 등급 등장 빈도 (1, 2, 3 등석)\n",
    "titanic['pclass'].value_counts()\n",
    "# 성별 빈도 (남/녀)\n",
    "titanic['sex'].value_counts()\n",
    "# 생존 여부 빈도 (생존자/사망자)\n",
    "titanic['survived'].value_counts()"
   ]
  },
  {
   "cell_type": "code",
   "execution_count": null,
   "id": "a2686c57",
   "metadata": {},
   "outputs": [],
   "source": [
    "# 성별에 따른 생존율\n",
    "titanic.groupby('sex')['survived'].mean()\n",
    "# 더 복잡한 통계 가능\n",
    "titanic.groupby('sex').agg({'survived': ['mean']})\n",
    "\n",
    "# 승객 등급에 따른 생존율\n",
    "titanic.groupby('pclass')['survived'].mean()"
   ]
  },
  {
   "cell_type": "code",
   "execution_count": null,
   "id": "50824d18",
   "metadata": {},
   "outputs": [],
   "source": [
    "# 성별 & 승객 등급에 따른 생존\n",
    "titanic.groupby(['sex', 'pclass'])['survived'].mean()\n",
    "# 피벗테이블\n",
    "titanic.pivot_table(\n",
    "    values='survived',\n",
    "    index='sex',\n",
    "    columns='pclass',\n",
    "    aggfunc='mean'\n",
    ")\n",
    "\n",
    "# 나이 그룹별 생존율\n",
    "titanic['age_group'] = pd.cut(\n",
    "    titanic['age'],\n",
    "    bins=[0, 12, 18, 35, 60, 100, 200],  # 초과 ~ 이하\n",
    "    labels=['아동', '청소년', '청년', '중장년', '노년', '불사']\n",
    ")\n",
    "\n",
    "titanic.head()\n",
    "\n",
    "#  obeserved 옵션 == 카테고리는 있는데, 해당되는 데이터가 없을 때 표시한다 / 안한다. \n",
    "titanic.groupby('age_group', observed=False)['survived'].mean()\n",
    "\n",
    "# 성별 + 나이그룹으로 생존율 확인\n",
    "titanic.groupby(['sex', 'age_group'])['survived'].mean()\n",
    "# 피벗테이블\n",
    "titanic.pivot_table(\n",
    "    values='survived',\n",
    "    index='sex',\n",
    "    columns='age_group',\n",
    "    aggfunc='mean'\n",
    ")"
   ]
  },
  {
   "cell_type": "code",
   "execution_count": null,
   "id": "661a3cd0",
   "metadata": {},
   "outputs": [],
   "source": [
    "titanic = sns.load_dataset('titanic')\n",
    "# 결측치 확인\n",
    "missing = titanic.isna().sum()\n",
    "# 결측 있는 항목만 확인\n",
    "missing[missing > 0]\n",
    "\n",
    "# 결측 비율\n",
    "missing_p = titanic.isna().mean() * 100\n",
    "missing_p[missing_p > 0]"
   ]
  },
  {
   "cell_type": "code",
   "execution_count": null,
   "id": "8bb5e83c",
   "metadata": {},
   "outputs": [],
   "source": [
    "# 결측치 채우기\n",
    "# age: 중요한 정보 : 평균/중앙값 대체\n",
    "# embarked: 가장 많은 사람들이 탄 곳으로 대체\n",
    "# deck: 추측 불가능(의믹 없음) -> 삭제\n",
    "\n",
    "# 필요하다면, 카피떠서 진행\n",
    "titanic_processed = titanic.copy()\n",
    "\n",
    "# 비어있던 행 마스킹\n",
    "age_mask = titanic['age'].isna()\n",
    "\n",
    "# 나이 결측치 채우기 (남녀상관없이 전체평균으로 채움)\n",
    "mean_age = titanic['age'].mean()\n",
    "titanic_processed['age'] = titanic['age'].fillna(mean_age)\n",
    "\n",
    "# 결측치 있는지 재확인\n",
    "titanic_processed.isna().sum()\n",
    "\n",
    "# 평균으로 채워진 값들만 확인\n",
    "titanic_processed.loc[age_mask]\n"
   ]
  },
  {
   "cell_type": "code",
   "execution_count": null,
   "id": "9f5c3418",
   "metadata": {},
   "outputs": [],
   "source": [
    "# 전체평균으로 대체하는게 옳을까..?\n",
    "# 성별/객실별로 평균을 추정하는건?\n",
    "\n",
    "# 모든 사람들을 성별/객실 그룹의 평균 나이로 바꾼 Series\n",
    "print(titanic.groupby(['sex', 'pclass'])['age'].mean())\n",
    "mean_ages = titanic.groupby(['sex', 'pclass'])['age'].transform('mean')\n",
    "\n",
    "# titanic 의 age col 중 빈 값만, mean_ages로 채움.\n",
    "titanic_processed['age'] = titanic['age'].fillna(mean_ages)\n",
    "\n",
    "# 원래 비어있던 애들만 확인 \n",
    "titanic_processed.loc[ titanic['age'].isna() ]"
   ]
  },
  {
   "cell_type": "code",
   "execution_count": null,
   "id": "9c22b873",
   "metadata": {},
   "outputs": [],
   "source": [
    "# embarked (탑승 도시) -> 최빈값(가장 많이 탄 곳)\n",
    "\n",
    "# 비어있는 항구 개수\n",
    "titanic['embarked'].isna().sum()\n",
    "\n",
    "# 최빈값 (Series - 벡터)\n",
    "mode_embarked = titanic['embarked'].mode()[0]  # Series 에서 1개 뽑기\n",
    "# 빈 값은 최빈값으로 교체\n",
    "titanic_processed['embarked'] = titanic['embarked'].fillna(mode_embarked)\n",
    "\n",
    "# 처리 완료 확인 (빈값 0개)\n",
    "titanic_processed['embarked'].isna().sum()"
   ]
  },
  {
   "cell_type": "code",
   "execution_count": null,
   "id": "76ed66f9",
   "metadata": {},
   "outputs": [],
   "source": [
    "# deck 은 77%가 비어있음 -> 삭제\n",
    "titanic['deck'].isna().mean() * 100  # 빈값 비율\n",
    "\n",
    "# 'deck' 컬럼은 삭제  - inplace 는 실행하면, 2번째 실행 불가능\n",
    "titanic_processed.drop('deck', axis=1, inplace=True)"
   ]
  },
  {
   "cell_type": "code",
   "execution_count": null,
   "id": "d3115327",
   "metadata": {},
   "outputs": [],
   "source": [
    "titanic_processed.info()"
   ]
  },
  {
   "cell_type": "markdown",
   "id": "1183957c",
   "metadata": {},
   "source": [
    "## 타이타닉 이상치 처리 (~15:35)"
   ]
  },
  {
   "cell_type": "code",
   "execution_count": null,
   "id": "501426d6",
   "metadata": {},
   "outputs": [],
   "source": [
    "# 타이타닉 데이터셋 불러오기\n",
    "# (seaborn 기본 내장된 예제 데이터셋)\n",
    "import seaborn as sns\n",
    "import numpy as np\n",
    "import pandas as pd\n",
    "import matplotlib.pyplot as plt\n",
    "import warnings\n",
    "\n",
    "warnings.filterwarnings('ignore', category=UserWarning)\n",
    "\n",
    "plt.rcParams['font.family'] = 'Malgun Gothic'\n",
    "plt.rcParams['axes.unicode_minus'] = False\n",
    "\n",
    "# titanic 데이터 DataFrame\n",
    "titanic = sns.load_dataset('titanic')\n",
    "\n",
    "# 수치 데이터에만 집중\n",
    "numeric_cols = ['age', 'fare']\n",
    "print(\"타이타닉 데이터셋 기본 정보:\")\n",
    "print(titanic[numeric_cols].describe())"
   ]
  },
  {
   "cell_type": "code",
   "execution_count": null,
   "id": "a53b1985",
   "metadata": {},
   "outputs": [],
   "source": [
    "# 결측치(Missing Value) 처리 (이전에 배운 내용 활용)\n",
    "# 모든 사람들을 성별/객실 그룹의 평균 나이로 바꾼 Series\n",
    "tp = titanic.copy()\n",
    "\n",
    "print(titanic.groupby(['sex', 'pclass'])['age'].mean())\n",
    "\n",
    "# 각 승객의 그룹에 맞춰서(성별 + 객실등급) 해당 그룹의 평균으로 일괄 변경\n",
    "mean_ages = titanic.groupby(['sex', 'pclass'])['age'].transform('mean')\n",
    "mean_ages\n",
    "# titanic 의 'age' col 중 빈 값만, mean_ages로 채움.\n",
    "tp['age'] = titanic['age'].fillna(mean_ages)\n"
   ]
  },
  {
   "cell_type": "code",
   "execution_count": null,
   "id": "85909c3f",
   "metadata": {},
   "outputs": [],
   "source": [
    "# 결측치 처리 안하면 제대로 시각화 제대로 안나옴\n",
    "\n",
    "# 1. 이상치 탐지 및 시각화\n",
    "plt.figure(figsize=(15, 10))\n",
    "\n",
    "# 나이 분포\n",
    "plt.subplot(2, 4, 1)\n",
    "plt.hist(tp['age'], bins=30, alpha=0.7)\n",
    "plt.title('나이 분포')\n",
    "plt.xlabel('나이')\n",
    "\n",
    "plt.subplot(2, 4, 2)\n",
    "plt.boxplot(tp['age'])\n",
    "plt.title('나이 박스플롯')\n",
    "\n",
    "# 요금 분포\n",
    "plt.subplot(2, 4, 3)\n",
    "plt.hist(tp['fare'], bins=50, alpha=0.7)\n",
    "plt.title('요금 분포')\n",
    "plt.xlabel('요금')\n",
    "\n",
    "plt.subplot(2, 4, 4)\n",
    "plt.boxplot(tp['fare'])\n",
    "plt.title('요금 박스플롯')\n",
    "\n",
    "# 산점도\n",
    "plt.subplot(2, 4, 5)\n",
    "plt.scatter(tp['age'], tp['fare'], alpha=0.6)\n",
    "plt.xlabel('나이')\n",
    "plt.ylabel('요금')\n",
    "plt.title('나이 vs 요금')\n",
    "\n",
    "# 객실 등급별 요금 분포\n",
    "plt.subplot(2, 4, 6)\n",
    "sns.boxplot(x='pclass', y='fare', data=tp)\n",
    "plt.title('객실 등급별 요금')\n",
    "\n",
    "# 생존자별 나이 분포\n",
    "plt.subplot(2, 4, 7)\n",
    "sns.boxplot(x='survived', y='age', data=tp)\n",
    "plt.title('생존자별 나이')\n",
    "\n",
    "# 생존자별 요금 분포\n",
    "plt.subplot(2, 4, 8)\n",
    "sns.boxplot(x='survived', y='fare', data=tp)\n",
    "plt.title('생존자별 요금')\n",
    "\n",
    "plt.tight_layout()\n",
    "plt.show()"
   ]
  },
  {
   "cell_type": "code",
   "execution_count": null,
   "id": "f3624263",
   "metadata": {},
   "outputs": [],
   "source": [
    "tp[numeric_cols].describe()"
   ]
  },
  {
   "cell_type": "code",
   "execution_count": null,
   "id": "0497e3da",
   "metadata": {},
   "outputs": [],
   "source": [
    "# 2. 요금 데이터의 이상치 분석\n",
    "# IQR 방법으로 이상치 탐지\n",
    "Q1 = tp['fare'].quantile(0.25)\n",
    "Q3 = tp['fare'].quantile(0.75)\n",
    "IQR = Q3 - Q1\n",
    "lower = Q1 - 1.5 * IQR\n",
    "upper = Q3 + 1.5 * IQR\n",
    "\n",
    "fare_outliers = (tp['fare'] < lower) | (tp['fare'] > upper)\n",
    "# 전체 IQR 기준 이상치 개수 / 전체 개수 (%)\n",
    "fare_outliers.sum() / fare_outliers.count() * 100"
   ]
  },
  {
   "cell_type": "code",
   "execution_count": null,
   "id": "316fe9b4",
   "metadata": {},
   "outputs": [],
   "source": [
    "# 이상치에 해당하는 승객들 특성 분석\n",
    "outliers_passengers = tp[fare_outliers]\n",
    "# 객실 등급 분포\n",
    "print(outliers_passengers['pclass'].value_counts())\n",
    "# 성별 분포\n",
    "print(outliers_passengers['sex'].value_counts())\n",
    "# 생존 여부\n",
    "print(outliers_passengers['survived'].value_counts())\n",
    "\n",
    "# 추가로 Grouping 해서 분석도 가능"
   ]
  },
  {
   "cell_type": "code",
   "execution_count": null,
   "id": "9a5ec50d",
   "metadata": {},
   "outputs": [],
   "source": [
    "# 3. 객실 등급을 고려한 이상치 분석\n",
    "# 객실 등급별로 요금 이상치 탐지 (전체 기준 이상치가 객실별로는 이상치 아닐 수 있음)\n",
    "\n",
    "def detect_outliers_by_group(data: pd.DataFrame, group_col: str, value_col: str):\n",
    "    \"\"\"그룹별 이상치 탐지\"\"\"\n",
    "    # 우선 전원 모두 이상치 아님(False)\n",
    "    outliers = pd.Series(False, data.index)\n",
    "    # 현재 group_col 기준 유니크한 데이터 (pclass -> 1, 2, 3)\n",
    "    for group in data[group_col].unique():\n",
    "        # df[df['pclass'] == 3]['fare'] /  df[df['pclass'] == 1]['fare'] / \n",
    "        group_data = data[data[group_col] == group][value_col]\n",
    "        Q1 = group_data.quantile(0.25)        \n",
    "        Q3 = group_data.quantile(0.75)\n",
    "        IQR = Q3 - Q1\n",
    "        lower = Q1 - 1.5 * IQR\n",
    "        upper = Q3 + 1.5 * IQR\n",
    "        group_outliers = (group_data < lower) | (group_data > upper)\n",
    "        outliers[group_data.index] = group_outliers\n",
    "\n",
    "    return outliers\n"
   ]
  },
  {
   "cell_type": "code",
   "execution_count": null,
   "id": "ca140f2f",
   "metadata": {},
   "outputs": [],
   "source": [
    "# 객실 등급별 이상한 사람들 (T/F mask series)\n",
    "fare_outliers_by_pclass = detect_outliers_by_group(tp, 'pclass', 'fare')\n",
    "# 각 등급별로 따로 선별한 이상치 개수\n",
    "fare_outliers_by_pclass.sum()"
   ]
  },
  {
   "cell_type": "code",
   "execution_count": null,
   "id": "e2cf5804",
   "metadata": {},
   "outputs": [],
   "source": [
    "# 4. 이상치 처리 방법 적용 및 비교\n",
    "# 방법 1: 제거\n",
    "titanic_removed = titanic[~fare_outliers_by_pclass].copy()"
   ]
  },
  {
   "cell_type": "code",
   "execution_count": null,
   "id": "6b84c6b0",
   "metadata": {},
   "outputs": [],
   "source": [
    "# 방법 2: 윈저화 (95% 백분위수로 제한) [전체]\n",
    "titanic_winsorized = titanic.copy()\n",
    "upper_limit = titanic['fare'].quantile(0.95)\n",
    "titanic_winsorized['fare'] = titanic_winsorized['fare'].clip(upper=upper_limit)"
   ]
  },
  {
   "cell_type": "code",
   "execution_count": null,
   "id": "2743b4bd",
   "metadata": {},
   "outputs": [],
   "source": [
    "# 방법 3: 객실 등급별 중앙값으로 대체\n",
    "titanic_replaced = titanic.copy()\n",
    "for pclass in titanic['pclass'].unique():\n",
    "    class_data = titanic[titanic['pclass'] == pclass]\n",
    "    class_median = class_data['fare'].median()\n",
    "    \n",
    "    # 해당 등급의 이상치를 중앙값으로 대체\n",
    "    class_outliers = fare_outliers_by_pclass & (titanic['pclass'] == pclass)\n",
    "    titanic_replaced.loc[class_outliers, 'fare'] = class_median"
   ]
  },
  {
   "cell_type": "code",
   "execution_count": null,
   "id": "c377c85a",
   "metadata": {},
   "outputs": [],
   "source": [
    "# 5. 처리 결과 비교\n",
    "print(\"\\n이상치 처리 결과 비교:\")\n",
    "print(\"=\" * 50)\n",
    "\n",
    "methods = {\n",
    "    '원본': titanic['fare'],\n",
    "    '제거': titanic_removed['fare'],\n",
    "    '윈저화': titanic_winsorized['fare'],\n",
    "    '대체': titanic_replaced['fare']\n",
    "}\n",
    "\n",
    "comparison_stats = pd.DataFrame()\n",
    "for method, data in methods.items():\n",
    "    stats_dict = {\n",
    "        '데이터수': len(data),\n",
    "        '평균': data.mean(),\n",
    "        '중앙값': data.median(),\n",
    "        '표준편차': data.std(),\n",
    "        '최대값': data.max()\n",
    "    }\n",
    "    comparison_stats[method] = stats_dict\n",
    "\n",
    "print(comparison_stats.round(2))"
   ]
  },
  {
   "cell_type": "code",
   "execution_count": null,
   "id": "a2095c0d",
   "metadata": {},
   "outputs": [],
   "source": [
    "# 6. 시각화: 처리 방법별 분포 비교\n",
    "plt.figure(figsize=(15, 10))\n",
    "\n",
    "plt.subplot(2, 3, 1)\n",
    "plt.hist(titanic['fare'], bins=50, alpha=0.7, color='blue')\n",
    "plt.title('원본 요금 분포')\n",
    "plt.xlabel('요금')\n",
    "\n",
    "plt.subplot(2, 3, 2)\n",
    "plt.hist(titanic_removed['fare'], bins=50, alpha=0.7, color='green')\n",
    "plt.title('이상치 제거 후')\n",
    "plt.xlabel('요금')\n",
    "\n",
    "plt.subplot(2, 3, 3)\n",
    "plt.hist(titanic_winsorized['fare'], bins=50, alpha=0.7, color='orange')\n",
    "plt.title('윈저화 후')\n",
    "plt.xlabel('요금')\n",
    "\n",
    "plt.subplot(2, 3, 5)\n",
    "plt.hist(titanic_replaced['fare'], bins=50, alpha=0.7, color='purple')\n",
    "plt.title('이상치 대체 후')\n",
    "plt.xlabel('요금')\n",
    "\n",
    "plt.subplot(2, 3, 6)\n",
    "# 박스플롯으로 비교\n",
    "box_data = [\n",
    "    titanic['fare'].values,\n",
    "    titanic_removed['fare'].values,\n",
    "    titanic_winsorized['fare'].values,\n",
    "    titanic_replaced['fare'].values\n",
    "]\n",
    "plt.boxplot(box_data, labels=['원본', '제거', '윈저화', '대체'])\n",
    "plt.title('처리 방법별 박스플롯 비교')\n",
    "plt.ylabel('요금')\n",
    "plt.xticks(rotation=45)\n",
    "\n",
    "plt.tight_layout()\n",
    "plt.show()"
   ]
  },
  {
   "cell_type": "code",
   "execution_count": null,
   "id": "e551b4ba",
   "metadata": {},
   "outputs": [],
   "source": [
    "# 7. 이상치 처리가 분석에 미치는 영향 확인\n",
    "correlation_comparison = pd.DataFrame({\n",
    "    '원본': [titanic['fare'].corr(titanic['survived'])],\n",
    "    '제거': [titanic_removed['fare'].corr(titanic_removed['survived'])],\n",
    "    '윈저화': [titanic_winsorized['fare'].corr(titanic_winsorized['survived'])],\n",
    "    '대체': [titanic_replaced['fare'].corr(titanic_replaced['survived'])]\n",
    "}, index=['요금-생존율 상관계수'])\n",
    "\n",
    "print(\"\\n이상치 처리가 상관관계에 미치는 영향:\")\n",
    "print(correlation_comparison.round(4))"
   ]
  },
  {
   "cell_type": "markdown",
   "id": "082c3e8e",
   "metadata": {},
   "source": [
    "## EDA 실습 w/ titanic"
   ]
  },
  {
   "cell_type": "code",
   "execution_count": null,
   "id": "cf4562dd",
   "metadata": {},
   "outputs": [],
   "source": [
    "# 타이타닉 데이터셋 불러오기\n",
    "# (seaborn 기본 내장된 예제 데이터셋)\n",
    "import seaborn as sns\n",
    "import pandas as pd\n",
    "\n",
    "import warnings\n",
    "warnings.filterwarnings('ignore')\n",
    "\n",
    "# 한글 폰트 설정 (선택사항)\n",
    "plt.rcParams['font.family'] = 'DejaVu Sans'\n",
    "plt.style.use('default')\n",
    "\n",
    "# titanic 데이터 DataFrame\n",
    "titanic = sns.load_dataset('titanic')"
   ]
  },
  {
   "cell_type": "markdown",
   "id": "0536f7ad",
   "metadata": {},
   "source": [
    "## 분석 목표\n",
    "- 타이타닉 승객의 생존에 영향을 준 주요 요인 파악\n",
    "- 생존율 개선을 위한 안전 정책 수립 근거 마련\n",
    "- 위험 그룹 식별 및 우선 구조 대상 결정\n",
    "\n",
    "### 핵심 질문\n",
    "1. 어떤 승객 특성이 생존에 가장 큰 영향을 미쳤는가?\n",
    "2. 사회 경제적 지위가 생존에 영향을 미쳤는가?\n",
    "3. 나이/성별에 따른 생존 패턴은 어떠한가?"
   ]
  },
  {
   "cell_type": "code",
   "execution_count": null,
   "id": "09759907",
   "metadata": {},
   "outputs": [],
   "source": [
    "# 1. 기본 정보 파악(데이터 개요)\n",
    "# 처음 5개 행 보기\n",
    "print(\"타이타닉 데이터 미리보기:\")\n",
    "print(titanic.head())\n",
    "\n",
    "# 데이터셋 정보 확인\n",
    "print(\"\\n데이터셋 정보:\")\n",
    "print(titanic.info())\n",
    "\n",
    "# 데이터 요약 통계\n",
    "print(\"\\n데이터 요약 통계:\")\n",
    "print(titanic.describe())\n",
    "\n",
    "# 메모링 사용량\n",
    "print('\\n메모리 사용량:')\n",
    "print(titanic.memory_usage(deep=True).sum() / 1024 , 'mb')"
   ]
  },
  {
   "cell_type": "code",
   "execution_count": null,
   "id": "c769f9bd",
   "metadata": {},
   "outputs": [
    {
     "name": "stdout",
     "output_type": "stream",
     "text": [
      "---생존률 기본 분석---\n",
      "전체 생존률: 38.4%\n",
      "생존자: 342, 사망자: 549\n"
     ]
    }
   ],
   "source": [
    "# 2. 생존률 기본 분석\n",
    "print('---생존률 기본 분석---')\n",
    "survival_rate = titanic['survived'].mean()\n",
    "print(f'전체 생존률: {survival_rate:.1%}')\n",
    "\n",
    "# 생존자/사망자 분포\n",
    "dead, survivor = titanic['survived'].value_counts()\n",
    "print(f'생존자: {survivor}, 사망자: {dead}')\n",
    "\n",
    "# "
   ]
  }
 ],
 "metadata": {
  "kernelspec": {
   "display_name": "Python 3",
   "language": "python",
   "name": "python3"
  },
  "language_info": {
   "codemirror_mode": {
    "name": "ipython",
    "version": 3
   },
   "file_extension": ".py",
   "mimetype": "text/x-python",
   "name": "python",
   "nbconvert_exporter": "python",
   "pygments_lexer": "ipython3",
   "version": "3.13.2"
  }
 },
 "nbformat": 4,
 "nbformat_minor": 5
}
