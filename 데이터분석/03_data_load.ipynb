{
 "cells": [
  {
   "cell_type": "markdown",
   "id": "80d6dc8a",
   "metadata": {},
   "source": [
    "# `03_data_load.ipynb`\n",
    "\n",
    "```\n",
    "데이터분석/\n",
    "    ㄴ namsan.csv\n",
    "    ㄴ 03_data_load.ipynb\n",
    "```"
   ]
  },
  {
   "cell_type": "markdown",
   "id": "9f9ff979",
   "metadata": {},
   "source": [
    "## CSV Load & Save"
   ]
  },
  {
   "cell_type": "code",
   "execution_count": null,
   "id": "dac81783",
   "metadata": {},
   "outputs": [],
   "source": [
    "# python 으로 파일 불러오기\n",
    "with open('./namsan.csv', encoding='EUC-KR') as f:\n",
    "    print(f.readline())"
   ]
  },
  {
   "cell_type": "code",
   "execution_count": null,
   "id": "7952ab59",
   "metadata": {},
   "outputs": [],
   "source": [
    "# pandas로 csv -> DataFrame으로 불러오기\n",
    "import pandas as pd\n",
    "\n",
    "# encoding은 파일 불러올때 매우 중요\n",
    "# df = pd.read_csv('./namsan.csv', encoding='EUC-KR', low_memory=False)\n",
    "df = pd.read_csv('./namsan.csv', encoding='EUC-KR', dtype={\n",
    "    'ISBN': str,\n",
    "    '세트 ISBN': str,\n",
    "    '주제분류번호': str,\n",
    "})"
   ]
  },
  {
   "cell_type": "code",
   "execution_count": null,
   "id": "d42a4fb6",
   "metadata": {},
   "outputs": [],
   "source": [
    "df.dtypes"
   ]
  },
  {
   "cell_type": "code",
   "execution_count": null,
   "id": "7d18ed17",
   "metadata": {},
   "outputs": [],
   "source": [
    "df.head(5)"
   ]
  },
  {
   "cell_type": "code",
   "execution_count": null,
   "id": "0cb67e52",
   "metadata": {},
   "outputs": [],
   "source": [
    "# 저장도 가능\n",
    "df.to_csv('./test.csv', encoding='utf-8', index=False)"
   ]
  },
  {
   "cell_type": "markdown",
   "id": "1629700a",
   "metadata": {},
   "source": [
    "## Web API Load"
   ]
  },
  {
   "cell_type": "code",
   "execution_count": null,
   "id": "27086d5f",
   "metadata": {},
   "outputs": [],
   "source": [
    "# Data Parsing (해석, 분석) [json -> dict]\n",
    "json_data = '{\"a\": 1, \"b\": 2}'\n",
    "\n",
    "# json_data 는 아직 dict 로 해석이 되지 않았다! => 파싱되지 않음\n",
    "# json_data['a']  # Error\n",
    "import json\n",
    "dict_data = json.loads(json_data)\n",
    "\n",
    "print(type(json_data), type(dict_data))"
   ]
  },
  {
   "cell_type": "code",
   "execution_count": null,
   "id": "005e7a41",
   "metadata": {},
   "outputs": [],
   "source": [
    "# Data Serializing (직렬화) [dict -> json]\n",
    "dict_data = {'a': 1, 'b': 2}\n",
    "\n",
    "import json\n",
    "json_data = json.dumps(dict_data)"
   ]
  },
  {
   "cell_type": "code",
   "execution_count": null,
   "id": "f84d92dc",
   "metadata": {},
   "outputs": [],
   "source": []
  }
 ],
 "metadata": {
  "kernelspec": {
   "display_name": "Python 3",
   "language": "python",
   "name": "python3"
  },
  "language_info": {
   "codemirror_mode": {
    "name": "ipython",
    "version": 3
   },
   "file_extension": ".py",
   "mimetype": "text/x-python",
   "name": "python",
   "nbconvert_exporter": "python",
   "pygments_lexer": "ipython3",
   "version": "3.13.2"
  }
 },
 "nbformat": 4,
 "nbformat_minor": 5
}
