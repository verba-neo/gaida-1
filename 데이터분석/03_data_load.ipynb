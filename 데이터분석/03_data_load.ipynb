{
 "cells": [
  {
   "cell_type": "markdown",
   "id": "80d6dc8a",
   "metadata": {},
   "source": [
    "# `03_data_load.ipynb`\n",
    "\n",
    "```\n",
    "데이터분석/\n",
    "    ㄴ namsan.csv\n",
    "    ㄴ 03_data_load.ipynb\n",
    "```"
   ]
  },
  {
   "cell_type": "markdown",
   "id": "9f9ff979",
   "metadata": {},
   "source": [
    "## CSV Load & Save"
   ]
  },
  {
   "cell_type": "code",
   "execution_count": 5,
   "id": "dac81783",
   "metadata": {},
   "outputs": [
    {
     "name": "stdout",
     "output_type": "stream",
     "text": [
      "번호,도서명,저자,출판사,발행년도,ISBN,세트 ISBN,부가기호,권,주제분류번호,도서권수,대출건수,등록일자,\n",
      "\n"
     ]
    }
   ],
   "source": [
    "# python 으로 파일 불러오기\n",
    "with open('./namsan.csv', encoding='EUC-KR') as f:\n",
    "    print(f.readline())"
   ]
  },
  {
   "cell_type": "code",
   "execution_count": null,
   "id": "7952ab59",
   "metadata": {},
   "outputs": [],
   "source": [
    "# pandas로 csv -> DataFrame으로 불러오기\n",
    "import pandas as pd\n",
    "\n",
    "# encoding은 파일 불러올때 매우 중요\n",
    "# df = pd.read_csv('./namsan.csv', encoding='EUC-KR', low_memory=False)\n",
    "df = pd.read_csv('./namsan.csv', encoding='EUC-KR', dtype={\n",
    "    'ISBN': str,\n",
    "    '세트 ISBN': str,\n",
    "    '주제분류번호': str,\n",
    "})"
   ]
  },
  {
   "cell_type": "code",
   "execution_count": 14,
   "id": "d42a4fb6",
   "metadata": {},
   "outputs": [
    {
     "data": {
      "text/plain": [
       "번호               int64\n",
       "도서명             object\n",
       "저자              object\n",
       "출판사             object\n",
       "발행년도            object\n",
       "ISBN            object\n",
       "세트 ISBN         object\n",
       "부가기호            object\n",
       "권               object\n",
       "주제분류번호          object\n",
       "도서권수             int64\n",
       "대출건수             int64\n",
       "등록일자            object\n",
       "Unnamed: 13    float64\n",
       "dtype: object"
      ]
     },
     "execution_count": 14,
     "metadata": {},
     "output_type": "execute_result"
    }
   ],
   "source": [
    "df.dtypes"
   ]
  },
  {
   "cell_type": "code",
   "execution_count": 15,
   "id": "7d18ed17",
   "metadata": {},
   "outputs": [
    {
     "data": {
      "text/html": [
       "<div>\n",
       "<style scoped>\n",
       "    .dataframe tbody tr th:only-of-type {\n",
       "        vertical-align: middle;\n",
       "    }\n",
       "\n",
       "    .dataframe tbody tr th {\n",
       "        vertical-align: top;\n",
       "    }\n",
       "\n",
       "    .dataframe thead th {\n",
       "        text-align: right;\n",
       "    }\n",
       "</style>\n",
       "<table border=\"1\" class=\"dataframe\">\n",
       "  <thead>\n",
       "    <tr style=\"text-align: right;\">\n",
       "      <th></th>\n",
       "      <th>번호</th>\n",
       "      <th>도서명</th>\n",
       "      <th>저자</th>\n",
       "      <th>출판사</th>\n",
       "      <th>발행년도</th>\n",
       "      <th>ISBN</th>\n",
       "      <th>세트 ISBN</th>\n",
       "      <th>부가기호</th>\n",
       "      <th>권</th>\n",
       "      <th>주제분류번호</th>\n",
       "      <th>도서권수</th>\n",
       "      <th>대출건수</th>\n",
       "      <th>등록일자</th>\n",
       "      <th>Unnamed: 13</th>\n",
       "    </tr>\n",
       "  </thead>\n",
       "  <tbody>\n",
       "    <tr>\n",
       "      <th>0</th>\n",
       "      <td>1</td>\n",
       "      <td>감정을 이해하는 그림책 큐레이션</td>\n",
       "      <td>그림책심리성장연구소,강혜진,김애이,김은경,박소영,장미혜,차연주 지음</td>\n",
       "      <td>사우</td>\n",
       "      <td>2025</td>\n",
       "      <td>9791194126027</td>\n",
       "      <td>NaN</td>\n",
       "      <td>0</td>\n",
       "      <td>NaN</td>\n",
       "      <td>181.7</td>\n",
       "      <td>1</td>\n",
       "      <td>0</td>\n",
       "      <td>2025-06-30</td>\n",
       "      <td>NaN</td>\n",
       "    </tr>\n",
       "    <tr>\n",
       "      <th>1</th>\n",
       "      <td>2</td>\n",
       "      <td>어른의 관계에는 마침표가 없다</td>\n",
       "      <td>김재식 지음</td>\n",
       "      <td>위즈덤하우스</td>\n",
       "      <td>2025</td>\n",
       "      <td>9791171714285</td>\n",
       "      <td>NaN</td>\n",
       "      <td>0</td>\n",
       "      <td>NaN</td>\n",
       "      <td>818</td>\n",
       "      <td>1</td>\n",
       "      <td>0</td>\n",
       "      <td>2025-06-30</td>\n",
       "      <td>NaN</td>\n",
       "    </tr>\n",
       "    <tr>\n",
       "      <th>2</th>\n",
       "      <td>3</td>\n",
       "      <td>아무리 놀려도 괜찮은 책(독서치료용)</td>\n",
       "      <td>박티팔</td>\n",
       "      <td>곰세마리</td>\n",
       "      <td>2024</td>\n",
       "      <td>9791193366103</td>\n",
       "      <td>NaN</td>\n",
       "      <td>NaN</td>\n",
       "      <td>NaN</td>\n",
       "      <td>NaN</td>\n",
       "      <td>1</td>\n",
       "      <td>0</td>\n",
       "      <td>2025-06-30</td>\n",
       "      <td>NaN</td>\n",
       "    </tr>\n",
       "    <tr>\n",
       "      <th>3</th>\n",
       "      <td>4</td>\n",
       "      <td>나는 빛나는 3학년이야(독서치료용)</td>\n",
       "      <td>곽유진, 최은옥, 김다노, 우미옥</td>\n",
       "      <td>위즈덤하우스</td>\n",
       "      <td>2025</td>\n",
       "      <td>9791192655956</td>\n",
       "      <td>NaN</td>\n",
       "      <td>NaN</td>\n",
       "      <td>NaN</td>\n",
       "      <td>NaN</td>\n",
       "      <td>1</td>\n",
       "      <td>0</td>\n",
       "      <td>2025-06-30</td>\n",
       "      <td>NaN</td>\n",
       "    </tr>\n",
       "    <tr>\n",
       "      <th>4</th>\n",
       "      <td>5</td>\n",
       "      <td>나는 왜 아무것도 하기 싫을까 :나도 모르게 방전된 몸과 마음을 회복하는 뇌과학 처방전</td>\n",
       "      <td>배종빈 지음</td>\n",
       "      <td>포레스트북스</td>\n",
       "      <td>2025</td>\n",
       "      <td>9791194530374</td>\n",
       "      <td>NaN</td>\n",
       "      <td>0</td>\n",
       "      <td>NaN</td>\n",
       "      <td>185.5</td>\n",
       "      <td>1</td>\n",
       "      <td>0</td>\n",
       "      <td>2025-06-30</td>\n",
       "      <td>NaN</td>\n",
       "    </tr>\n",
       "  </tbody>\n",
       "</table>\n",
       "</div>"
      ],
      "text/plain": [
       "   번호                                                도서명  \\\n",
       "0   1                                 감정을 이해하는 그림책 큐레이션    \n",
       "1   2                                  어른의 관계에는 마침표가 없다    \n",
       "2   3                               아무리 놀려도 괜찮은 책(독서치료용)   \n",
       "3   4                                나는 빛나는 3학년이야(독서치료용)   \n",
       "4   5  나는 왜 아무것도 하기 싫을까 :나도 모르게 방전된 몸과 마음을 회복하는 뇌과학 처방전    \n",
       "\n",
       "                                      저자     출판사  발행년도           ISBN 세트 ISBN  \\\n",
       "0  그림책심리성장연구소,강혜진,김애이,김은경,박소영,장미혜,차연주 지음      사우  2025  9791194126027     NaN   \n",
       "1                                 김재식 지음  위즈덤하우스  2025  9791171714285     NaN   \n",
       "2                                    박티팔    곰세마리  2024  9791193366103     NaN   \n",
       "3                     곽유진, 최은옥, 김다노, 우미옥  위즈덤하우스  2025  9791192655956     NaN   \n",
       "4                                 배종빈 지음  포레스트북스  2025  9791194530374     NaN   \n",
       "\n",
       "  부가기호    권 주제분류번호  도서권수  대출건수        등록일자  Unnamed: 13  \n",
       "0    0  NaN  181.7     1     0  2025-06-30          NaN  \n",
       "1    0  NaN    818     1     0  2025-06-30          NaN  \n",
       "2  NaN  NaN    NaN     1     0  2025-06-30          NaN  \n",
       "3  NaN  NaN    NaN     1     0  2025-06-30          NaN  \n",
       "4    0  NaN  185.5     1     0  2025-06-30          NaN  "
      ]
     },
     "execution_count": 15,
     "metadata": {},
     "output_type": "execute_result"
    }
   ],
   "source": [
    "df.head(5)"
   ]
  },
  {
   "cell_type": "code",
   "execution_count": null,
   "id": "0cb67e52",
   "metadata": {},
   "outputs": [],
   "source": [
    "# 저장도 가능\n",
    "df.to_csv('./test.csv', encoding='utf-8', index=False)"
   ]
  },
  {
   "cell_type": "markdown",
   "id": "1629700a",
   "metadata": {},
   "source": [
    "## Web API Load"
   ]
  },
  {
   "cell_type": "code",
   "execution_count": null,
   "id": "27086d5f",
   "metadata": {},
   "outputs": [
    {
     "name": "stdout",
     "output_type": "stream",
     "text": [
      "<class 'str'> <class 'dict'>\n"
     ]
    }
   ],
   "source": [
    "# Data Parsing (해석, 분석) [json -> dict]\n",
    "json_data = '{\"a\": 1, \"b\": 2}'\n",
    "\n",
    "# json_data 는 아직 dict 로 해석이 되지 않았다! => 파싱되지 않음\n",
    "# json_data['a']  # Error\n",
    "import json\n",
    "dict_data = json.loads(json_data)\n",
    "\n",
    "print(type(json_data), type(dict_data))"
   ]
  },
  {
   "cell_type": "code",
   "execution_count": 29,
   "id": "005e7a41",
   "metadata": {},
   "outputs": [],
   "source": [
    "# Data Serializing (직렬화) [dict -> json]\n",
    "dict_data = {'a': 1, 'b': 2}\n",
    "\n",
    "import json\n",
    "json_data = json.dumps(dict_data)"
   ]
  },
  {
   "cell_type": "code",
   "execution_count": null,
   "id": "f84d92dc",
   "metadata": {},
   "outputs": [],
   "source": []
  }
 ],
 "metadata": {
  "kernelspec": {
   "display_name": "Python 3",
   "language": "python",
   "name": "python3"
  },
  "language_info": {
   "codemirror_mode": {
    "name": "ipython",
    "version": 3
   },
   "file_extension": ".py",
   "mimetype": "text/x-python",
   "name": "python",
   "nbconvert_exporter": "python",
   "pygments_lexer": "ipython3",
   "version": "3.13.2"
  }
 },
 "nbformat": 4,
 "nbformat_minor": 5
}
