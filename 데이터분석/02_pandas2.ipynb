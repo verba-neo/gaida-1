{
 "cells": [
  {
   "cell_type": "markdown",
   "id": "dd01da18",
   "metadata": {},
   "source": [
    "`02_pandas2.ipynb`"
   ]
  },
  {
   "cell_type": "markdown",
   "id": "21b1ff5f",
   "metadata": {},
   "source": [
    "## Grouping"
   ]
  },
  {
   "cell_type": "code",
   "execution_count": null,
   "id": "7b0a32d8",
   "metadata": {},
   "outputs": [],
   "source": [
    "import pandas as pd\n",
    "import numpy as np\n",
    "\n",
    "# 샘플 데이터: 온라인 쇼핑몰 주문 데이터\n",
    "data = {\n",
    "    '주문번호': [1001, 1002, 1003, 1004, 1005, 1006, 1007, 1008, 1009, 1010],\n",
    "    '고객ID': ['A', 'B', 'A', 'C', 'B', 'A', 'D', 'C', 'B', 'D'],\n",
    "    '상품카테고리': ['전자제품', '의류', '가구', '전자제품', '의류', '식품', '가구', '식품', '전자제품', '의류'],\n",
    "    '구매액': [150000, 75000, 220000, 95000, 82000, 45000, 180000, 35000, 120000, 62000],\n",
    "    '배송지역': ['서울', '부산', '서울', '인천', '서울', '부산', '인천', '서울', '부산', '인천'],\n",
    "    '할인률': [0.05, 0.1, 0, 0.2, 0.1, 0, 0.05, 0.15, 0.2, 0]\n",
    "}\n",
    "\n",
    "df = pd.DataFrame(data)"
   ]
  },
  {
   "cell_type": "code",
   "execution_count": null,
   "id": "dbbb0023",
   "metadata": {},
   "outputs": [
    {
     "data": {
      "text/html": [
       "<div>\n",
       "<style scoped>\n",
       "    .dataframe tbody tr th:only-of-type {\n",
       "        vertical-align: middle;\n",
       "    }\n",
       "\n",
       "    .dataframe tbody tr th {\n",
       "        vertical-align: top;\n",
       "    }\n",
       "\n",
       "    .dataframe thead th {\n",
       "        text-align: right;\n",
       "    }\n",
       "</style>\n",
       "<table border=\"1\" class=\"dataframe\">\n",
       "  <thead>\n",
       "    <tr style=\"text-align: right;\">\n",
       "      <th></th>\n",
       "      <th>총구매액</th>\n",
       "      <th>평균구매액</th>\n",
       "      <th>할인총액</th>\n",
       "    </tr>\n",
       "    <tr>\n",
       "      <th>고객ID</th>\n",
       "      <th></th>\n",
       "      <th></th>\n",
       "      <th></th>\n",
       "    </tr>\n",
       "  </thead>\n",
       "  <tbody>\n",
       "    <tr>\n",
       "      <th>A</th>\n",
       "      <td>415000</td>\n",
       "      <td>138333.333333</td>\n",
       "      <td>7500.0</td>\n",
       "    </tr>\n",
       "    <tr>\n",
       "      <th>B</th>\n",
       "      <td>277000</td>\n",
       "      <td>92333.333333</td>\n",
       "      <td>39700.0</td>\n",
       "    </tr>\n",
       "    <tr>\n",
       "      <th>C</th>\n",
       "      <td>130000</td>\n",
       "      <td>65000.000000</td>\n",
       "      <td>24250.0</td>\n",
       "    </tr>\n",
       "    <tr>\n",
       "      <th>D</th>\n",
       "      <td>242000</td>\n",
       "      <td>121000.000000</td>\n",
       "      <td>9000.0</td>\n",
       "    </tr>\n",
       "  </tbody>\n",
       "</table>\n",
       "</div>"
      ],
      "text/plain": [
       "        총구매액          평균구매액     할인총액\n",
       "고객ID                                \n",
       "A     415000  138333.333333   7500.0\n",
       "B     277000   92333.333333  39700.0\n",
       "C     130000   65000.000000  24250.0\n",
       "D     242000  121000.000000   9000.0"
      ]
     },
     "execution_count": 21,
     "metadata": {},
     "output_type": "execute_result"
    }
   ],
   "source": [
    "# 기본 그룹 - 고객별 구매액 총합\n",
    "df.groupby('고객ID')['구매액'].sum()\n",
    "\n",
    "# 그룹 객체\n",
    "id_group = df.groupby('고객ID')\n",
    "\n",
    "# 그룹확인 (고객 ID들 그룹)\n",
    "id_group.groups.keys()\n",
    "\n",
    "# 특정 그룹 데이터 확인\n",
    "id_group.get_group('A')\n",
    "\n",
    "# 여러 Col으로 그루핑 (Series)\n",
    "multi_group = df.groupby(['고객ID', '상품카테고리'])['구매액'].sum()\n",
    "# DF 변환\n",
    "multi_group.to_frame()\n",
    "\n",
    "# 1개 col(구매액)에 집계함수 여러개 적용\n",
    "df.groupby('고객ID')['구매액'].agg(['sum', 'mean', 'count', 'min', 'max'])\n",
    "\n",
    "# n개 col에 m개 집계함수\n",
    "df.groupby('고객ID').agg({\n",
    "    '구매액': ['sum', 'mean', 'count'],\n",
    "    '할인률': ['mean', 'max']\n",
    "})\n",
    "\n",
    "\n",
    "# 사용자 정의 집계 함수\n",
    "def discount_amount(price):\n",
    "    return (price * df.loc[price.index, '할인률']).sum()\n",
    "\n",
    "df.groupby('고객ID')['구매액'].agg([\n",
    "    # AS, function\n",
    "    ('총구매액', 'sum'),\n",
    "    ('평균구매액', 'mean'),\n",
    "    ('할인총액', discount_amount),\n",
    "])"
   ]
  }
 ],
 "metadata": {
  "kernelspec": {
   "display_name": "Python 3",
   "language": "python",
   "name": "python3"
  },
  "language_info": {
   "codemirror_mode": {
    "name": "ipython",
    "version": 3
   },
   "file_extension": ".py",
   "mimetype": "text/x-python",
   "name": "python",
   "nbconvert_exporter": "python",
   "pygments_lexer": "ipython3",
   "version": "3.13.2"
  }
 },
 "nbformat": 4,
 "nbformat_minor": 5
}
