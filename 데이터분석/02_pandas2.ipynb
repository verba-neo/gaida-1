{
 "cells": [
  {
   "cell_type": "markdown",
   "id": "dd01da18",
   "metadata": {},
   "source": [
    "`02_pandas2.ipynb`"
   ]
  },
  {
   "cell_type": "markdown",
   "id": "21b1ff5f",
   "metadata": {},
   "source": [
    "## Grouping"
   ]
  },
  {
   "cell_type": "code",
   "execution_count": null,
   "id": "7b0a32d8",
   "metadata": {},
   "outputs": [],
   "source": [
    "import pandas as pd\n",
    "import numpy as np\n",
    "\n",
    "# 샘플 데이터: 온라인 쇼핑몰 주문 데이터\n",
    "data = {\n",
    "    '주문번호': [1001, 1002, 1003, 1004, 1005, 1006, 1007, 1008, 1009, 1010],\n",
    "    '고객ID': ['A', 'B', 'A', 'C', 'B', 'A', 'D', 'C', 'B', 'D'],\n",
    "    '상품카테고리': ['전자제품', '의류', '가구', '전자제품', '의류', '식품', '가구', '식품', '전자제품', '의류'],\n",
    "    '구매액': [150000, 75000, 220000, 95000, 82000, 45000, 180000, 35000, 120000, 62000],\n",
    "    '배송지역': ['서울', '부산', '서울', '인천', '서울', '부산', '인천', '서울', '부산', '인천'],\n",
    "    '할인률': [0.05, 0.1, 0, 0.2, 0.1, 0, 0.05, 0.15, 0.2, 0]\n",
    "}\n",
    "\n",
    "df = pd.DataFrame(data)"
   ]
  },
  {
   "cell_type": "code",
   "execution_count": null,
   "id": "dbbb0023",
   "metadata": {},
   "outputs": [],
   "source": [
    "# 기본 그룹 - 고객별 구매액 총합\n",
    "df.groupby('고객ID')['구매액'].sum()\n",
    "\n",
    "# 그룹 객체\n",
    "id_group = df.groupby('고객ID')\n",
    "\n",
    "# 그룹확인 (고객 ID들 그룹)\n",
    "id_group.groups.keys()\n",
    "\n",
    "# 특정 그룹 데이터 확인\n",
    "id_group.get_group('A')\n",
    "\n",
    "# 여러 Col으로 그루핑 (Series)\n",
    "multi_group = df.groupby(['고객ID', '상품카테고리'])['구매액'].sum()\n",
    "# DF 변환\n",
    "multi_group.to_frame()\n",
    "\n",
    "# 1개 col(구매액)에 집계함수 여러개 적용\n",
    "df.groupby('고객ID')['구매액'].agg(['sum', 'mean', 'count', 'min', 'max'])\n",
    "\n",
    "# n개 col에 m개 집계함수\n",
    "df.groupby('고객ID').agg({\n",
    "    '구매액': ['sum', 'mean', 'count'],\n",
    "    '할인률': ['mean', 'max']\n",
    "})\n",
    "\n",
    "\n",
    "# 사용자 정의 집계 함수\n",
    "def discount_amount(price):\n",
    "    return (price * df.loc[price.index, '할인률']).sum()\n",
    "\n",
    "df.groupby('고객ID')['구매액'].agg([\n",
    "    # AS, function\n",
    "    ('총구매액', 'sum'),\n",
    "    ('평균구매액', 'mean'),\n",
    "    ('할인총액', discount_amount),\n",
    "])"
   ]
  },
  {
   "cell_type": "code",
   "execution_count": null,
   "id": "2815b321",
   "metadata": {},
   "outputs": [],
   "source": [
    "# 집계 함수 응용\n",
    "import pandas as pd\n",
    "import numpy as np\n",
    "\n",
    "# 샘플 데이터\n",
    "df = pd.DataFrame({\n",
    "    '상품ID': ['A001', 'A002', 'A001', 'A003', 'A002', 'A004', 'A003', 'A001', 'A002', 'A004'],\n",
    "    '판매일자': pd.date_range('2023-01-01', periods=10),\n",
    "    '판매수량': [5, 3, 7, 2, 4, 6, 3, 8, 5, 4],\n",
    "    '판매금액': [50000, 30000, 70000, 25000, 40000, 65000, 30000, 80000, 50000, 45000],\n",
    "    '반품수량': [0, 1, 0, 0, 0, 2, 1, 0, 0, 1],\n",
    "    '고객평점': [4.5, 3.8, 4.2, 5.0, 4.0, 3.5, 4.2, 4.8, 3.9, 4.1]\n",
    "})"
   ]
  },
  {
   "cell_type": "code",
   "execution_count": null,
   "id": "cf8584ca",
   "metadata": {},
   "outputs": [],
   "source": [
    "# 기본 집계\n",
    "df.groupby('상품ID').agg({\n",
    "    '판매수량': ['sum', 'mean', 'count'],\n",
    "    '판매금액': ['sum', 'mean'],\n",
    "    '반품수량': ['sum'],\n",
    "    '고객평점': ['mean']\n",
    "})\n",
    "\n",
    "df"
   ]
  },
  {
   "cell_type": "code",
   "execution_count": null,
   "id": "b855c9ea",
   "metadata": {},
   "outputs": [],
   "source": [
    "# 커스텀 함수\n",
    "# 총 판매수량 대비 반품수량 비율\n",
    "def return_rate(x):\n",
    "    # print(x, type(x))\n",
    "    total_sold = df.loc[x.index, '판매수량'].sum()\n",
    "    total_returned = df.loc[x.index, '반품수량'].sum()\n",
    "    return total_returned / total_sold if total_sold > 0 else 0\n",
    "\n",
    "df.groupby('상품ID').agg({\n",
    "    '판매수량': ['sum', 'count'],\n",
    "    '반품수량': ['sum', return_rate],\n",
    "})"
   ]
  },
  {
   "cell_type": "code",
   "execution_count": null,
   "id": "00f8ac2a",
   "metadata": {},
   "outputs": [],
   "source": [
    "# 그룹별 순위 및 누적 계산\n",
    "import pandas as pd\n",
    "import numpy as np\n",
    "\n",
    "# 샘플 데이터: 부서별 직원 실적\n",
    "data = {\n",
    "    '직원ID': [101, 102, 103, 104, 105, 106, 107, 108, 109, 110, 111, 112],\n",
    "    '이름': ['김철수', '이영희', '박민수', '정지영', '최동민', '강준호', '윤서연', '임태혁', '한미래', '송지원', '오민지', '홍길동'],\n",
    "    '부서': ['영업', '개발', '영업', '인사', '개발', '영업', '개발', '인사', '영업', '개발', '영업', '인사'],\n",
    "    '월별실적': [120, 85, 95, 110, 75, 135, 95, 110, 115, 90, 125, 100],\n",
    "    '고객평가': [4.5, 3.8, 4.2, 4.7, 3.9, 4.8, 4.1, 4.3, 4.5, 4.0, 4.6, 4.2]\n",
    "}\n",
    "\n",
    "df = pd.DataFrame(data)\n",
    "print(\"부서별 직원 실적 데이터:\")\n",
    "df"
   ]
  },
  {
   "cell_type": "code",
   "execution_count": null,
   "id": "1368e741",
   "metadata": {},
   "outputs": [],
   "source": [
    "# 그룹 내 순위 계산\n",
    "dept_group = df.groupby('부서')\n",
    "\n",
    "# 부서별 월별 실적 랭킹(높은사람부터)\n",
    "df['부서순위_실적'] = dept_group['월별실적'].rank(method='dense', ascending=False)\n",
    "\n",
    "# 동일 순위가 있을 경우의 처리 방식\n",
    "# rank_methods = ['average', 'min', 'max', 'dense', 'first']\n",
    "# for method in rank_methods:\n",
    "#     col_name = f'순위_{method}'\n",
    "#     df[col_name] = df.groupby('부서')['월별실적'].rank(method=method, ascending=False)\n",
    "\n",
    "# df\n",
    "\n",
    "df"
   ]
  },
  {
   "cell_type": "code",
   "execution_count": null,
   "id": "6c3acd04",
   "metadata": {},
   "outputs": [],
   "source": [
    "1 == 1.0"
   ]
  },
  {
   "cell_type": "code",
   "execution_count": null,
   "id": "78c80938",
   "metadata": {},
   "outputs": [],
   "source": [
    "# 누적 합계 및 누적 통계\n",
    "# 부서별 누적 실적 합계  -> acummulate cummulate\n",
    "\n",
    "df['부서별누적합계'] = df.groupby('부서')['월별실적'].cumsum()\n",
    "df['부서별누적최대'] = df.groupby('부서')['월별실적'].cummax()\n",
    "\n",
    "# 그룹별 비율계산\n",
    "# 부서별 총 실적 대비 개인 실적 비율\n",
    "df['부서총실적'] = dept_group['월별실적'].transform('sum')\n",
    "df['부서기여도'] = df['월별실적'] / df['부서총실적']\n",
    "\n",
    "# 복합응용\n",
    "# 성과점수는 = 0.7 실적 + 0.3 (평가*20)\n",
    "df['성과점수'] = df['월별실적'] * 0.7 + df['고객평가'] * 0.3 * 20\n",
    "# 성과점수 별 랭킹\n",
    "df['부서순위_성과'] = dept_group['성과점수'].rank(method='dense', ascending=False)\n",
    "\n",
    "def cal_bonus(row):\n",
    "    # 10% 기본보너스\n",
    "    base_bonus = row['월별실적'] * 0.1\n",
    "    rank = row['부서순위_성과'] \n",
    "    if rank == 1:\n",
    "        return base_bonus * 1.5\n",
    "    elif rank == 2:\n",
    "        return base_bonus * 1.3\n",
    "    elif rank == 3:\n",
    "        return base_bonus * 1.1\n",
    "    else:\n",
    "        return base_bonus\n",
    "\n",
    "# 랭킹별 보너스 지급 함수\n",
    "df['성과급'] = df.apply(cal_bonus, axis=1)\n",
    "df"
   ]
  },
  {
   "cell_type": "markdown",
   "id": "8c22ff9f",
   "metadata": {},
   "source": [
    "## 실습: 매출 데이터 그룹별 분석"
   ]
  },
  {
   "cell_type": "code",
   "execution_count": null,
   "id": "e8cf80f9",
   "metadata": {},
   "outputs": [],
   "source": [
    "# 실습: 매출 데이터 그룹별 분석\n",
    "import pandas as pd\n",
    "import numpy as np\n",
    "import matplotlib.pyplot as plt\n",
    "import seaborn as sns\n",
    "\n",
    "# 매출 데이터 생성\n",
    "np.random.seed(42)\n",
    "\n",
    "# 날짜 생성 (2023년 전체)\n",
    "dates = pd.date_range('2023-01-01', '2023-12-31')\n",
    "n_records = 500\n",
    "\n",
    "data = {\n",
    "    '주문ID': np.arange(1001, 1001 + n_records),\n",
    "    '주문일자': np.random.choice(dates, n_records),\n",
    "    '고객ID': np.random.choice([f'CUST{i:03d}' for i in range(1, 101)], n_records),\n",
    "    '상품ID': np.random.choice([f'PROD{i:03d}' for i in range(1, 51)], n_records),\n",
    "    '카테고리': np.random.choice(['전자제품', '의류', '가구', '식품', '화장품', '도서', '스포츠'], n_records),\n",
    "    '매출액': np.random.randint(10000, 500000, n_records),\n",
    "    '수량': np.random.randint(1, 10, n_records),\n",
    "    '지역': np.random.choice(['서울', '부산', '인천', '대구', '광주', '대전', '울산', '경기', '강원'], n_records),\n",
    "    '결제방법': np.random.choice(['신용카드', '현금', '체크카드', '휴대폰', '계좌이체'], n_records),\n",
    "    '고객등급': np.random.choice(['일반', '실버', '골드', 'VIP'], n_records)\n",
    "}\n",
    "\n",
    "df = pd.DataFrame(data)"
   ]
  },
  {
   "cell_type": "code",
   "execution_count": null,
   "id": "6262383e",
   "metadata": {},
   "outputs": [],
   "source": [
    "df.head(3)"
   ]
  },
  {
   "cell_type": "code",
   "execution_count": null,
   "id": "b857ff5f",
   "metadata": {},
   "outputs": [],
   "source": [
    "# 검색후 하기\n",
    "# 날짜 정보 추출 -> 컬럼 추가 ['주문년월', '요일', '주'(1년중 몇번째 주)]\n",
    "df['주문년월'] = df['주문일자'].dt.strftime('%Y-%m')\n",
    "df['요일'] = df['주문일자'].dt.day_name()\n",
    "df['주'] = df['주문일자'].dt.isocalendar().week\n",
    "\n",
    "# 1/1 인 행들만 확인\n",
    "df[ df['주문일자'] == '2023-01-01' ]"
   ]
  },
  {
   "cell_type": "code",
   "execution_count": null,
   "id": "bf242061",
   "metadata": {},
   "outputs": [],
   "source": [
    "# 단가 계산 \n",
    "# 단가 컬럼 추가 (매출액/수량)\n",
    "df['단가'] = df['매출액'] / df['수량']"
   ]
  },
  {
   "cell_type": "code",
   "execution_count": null,
   "id": "f20ef19f",
   "metadata": {},
   "outputs": [],
   "source": [
    "# 카테고리별 매출 분석 \n",
    "# 매출액 sum, mean, count / 수량 sum\n",
    "df.groupby('카테고리').agg({\n",
    "    '매출액': ['sum', 'mean', 'count'],\n",
    "    '수량': ['sum']\n",
    "})"
   ]
  },
  {
   "cell_type": "code",
   "execution_count": null,
   "id": "ceb12663",
   "metadata": {},
   "outputs": [],
   "source": [
    "import warnings\n",
    "warnings.filterwarnings('ignore', category=UserWarning)\n",
    "\n",
    "import matplotlib.pyplot as plt\n",
    "plt.rcParams['font.family'] = 'Malgun Gothic'\n",
    "plt.rcParams['axes.unicode_minus'] = False\n",
    "\n",
    "# 카테고리별 매출 비중 시각화\n",
    "plt.figure(figsize=(12, 5))\n",
    "\n",
    "plt.subplot(1, 2, 1)\n",
    "category_sum = df.groupby('카테고리')['매출액'].sum().sort_values(ascending=False)\n",
    "category_sum.plot(kind='bar')\n",
    "plt.title('카테고리별 총매출')\n",
    "plt.ylabel('총 매출')\n",
    "plt.xticks(rotation=45)\n",
    "\n",
    "plt.subplot(1, 2, 2)\n",
    "category_sum.plot(kind='pie', autopct='%1.1f%%')\n",
    "plt.title('카테고리별 매출 비중')\n",
    "plt.ylabel('')\n",
    "plt.tight_layout()\n",
    "plt.show()"
   ]
  },
  {
   "cell_type": "code",
   "execution_count": null,
   "id": "243ed8e8",
   "metadata": {},
   "outputs": [],
   "source": [
    "# 월별 매출 트렌드\n",
    "# '주문년월' 컬럼으로 매출액 sum, 주문ID count, 단가 mean\n",
    "monthly_sales = df.groupby('주문년월').agg({\n",
    "    '매출액': 'sum',\n",
    "    '주문ID': ['count'],\n",
    "    '단가': 'mean'\n",
    "}).rename(columns={'주문ID': '주문건수'})\n",
    "\n",
    "monthly_sales"
   ]
  },
  {
   "cell_type": "code",
   "execution_count": null,
   "id": "027cf298",
   "metadata": {},
   "outputs": [],
   "source": [
    "plt.figure(figsize=(14, 6))\n",
    "\n",
    "# 매출액 추이\n",
    "ax1 = plt.subplot(111)\n",
    "monthly_sales['매출액'].plot(kind='line', marker='o', ax=ax1, color='blue')\n",
    "ax1.set_title('월별 매출액 및 주문건수 추이')\n",
    "ax1.set_ylabel('매출액', color='blue')\n",
    "ax1.tick_params(axis='y', labelcolor='blue')\n",
    "\n",
    "# 주문건수 추이 (보조 축)\n",
    "ax2 = ax1.twinx()\n",
    "monthly_sales['주문건수'].plot(kind='line', marker='s', ax=ax2, color='red')\n",
    "ax2.set_ylabel('주문건수', color='red')\n",
    "ax2.tick_params(axis='y', labelcolor='red')\n",
    "\n",
    "plt.tight_layout()\n",
    "plt.show()\n"
   ]
  },
  {
   "cell_type": "code",
   "execution_count": null,
   "id": "da40904b",
   "metadata": {},
   "outputs": [],
   "source": [
    "# 지역 & 카테고리별 매출 분석\n",
    "\n",
    "# uunstack -> 다중인덱스 구조를 가로(열)로 펼쳐서 재구조화 함 : Index -> Col\n",
    "regional_df = df.groupby(['지역', '카테고리'])['매출액'].sum().unstack()\n",
    "regional_df"
   ]
  },
  {
   "cell_type": "code",
   "execution_count": null,
   "id": "5692ad4b",
   "metadata": {},
   "outputs": [],
   "source": [
    "# 히트맵 시각화\n",
    "plt.figure(figsize=(12, 8))\n",
    "sns.heatmap(regional_df, cmap='YlGnBu', annot=True, fmt='.0f')\n",
    "plt.title('지역별, 카테고리별 매출액 히트맵')\n",
    "plt.tight_layout()\n",
    "plt.show()"
   ]
  },
  {
   "cell_type": "code",
   "execution_count": null,
   "id": "ec7401de",
   "metadata": {},
   "outputs": [],
   "source": [
    "# 요일별 고객 등급별 매출 패턴\n",
    "\n",
    "# 요일의 순서 지정\n",
    "day_order = ['Monday', 'Tuesday', 'Wednesday', 'Thursday', 'Friday', 'Saturday', 'Sunday']\n",
    "df['요일'] = pd.Categorical(df['요일'], categories=day_order, ordered=True)\n",
    "\n",
    "day_grade_sales = df.groupby(['요일', '고객등급'])['매출액'].sum().unstack()\n",
    "\n",
    "# 시각화\n",
    "plt.figure(figsize=(14, 7))\n",
    "day_grade_sales.plot(kind='bar', stacked=True)\n",
    "plt.title('요일별, 고객등급별 매출 구성')\n",
    "plt.ylabel('매출액')\n",
    "plt.legend(title='고객등급')\n",
    "plt.tight_layout()\n",
    "plt.show()"
   ]
  },
  {
   "cell_type": "code",
   "execution_count": null,
   "id": "db046768",
   "metadata": {},
   "outputs": [],
   "source": [
    "# 결제방법별 분석 및 고객 행동 (매출액-sum mean count, 단가-mean)\n",
    "\n",
    "total_sales = df['매출액'].sum()\n",
    "\n",
    "def ratio(x):\n",
    "    return x.sum() / total_sales * 100\n",
    "\n",
    "payment_stats = df.groupby('결제방법').agg({\n",
    "    '매출액': ['sum', 'mean', 'count', ratio],\n",
    "    '단가': ['mean']\n",
    "})\n",
    "\n",
    "payment_stats"
   ]
  },
  {
   "cell_type": "code",
   "execution_count": null,
   "id": "b393538b",
   "metadata": {},
   "outputs": [],
   "source": [
    "# .nunique -> Series에서 고유한 값 개수 / DF 는 모든 컬럼에 고유한 값 개수"
   ]
  },
  {
   "cell_type": "code",
   "execution_count": null,
   "id": "c74a03a2",
   "metadata": {},
   "outputs": [],
   "source": [
    "# 고객id 별 구매 패턴 (매출액 sum mean count, 구매한 고유 상품 수, 구매한 고유 카테고리 수)\n",
    "\n",
    "def get_uniq_count(x):\n",
    "    return x.nunique()\n",
    "\n",
    "df.groupby('고객ID').agg({\n",
    "    '매출액': ['sum', 'mean', 'count'],\n",
    "    '상품ID': 'nunique',  # 위아래는 같다\n",
    "    '카테고리': get_uniq_count,\n",
    "}).sort_values([('매출액', 'sum'), ('상품ID', 'nunique')], ascending=False).head(3)\n",
    "\n",
    "# sort_values(['a', 'b'])  => ORDER BY a, b => 단일 인덱스 컬럼\n",
    "# sort_values([('a', 'sum'), ('b')])  => Col 'a', Agg 'sum' 값을 기준으로 정렬"
   ]
  },
  {
   "cell_type": "code",
   "execution_count": null,
   "id": "8ee1099b",
   "metadata": {},
   "outputs": [],
   "source": [
    "# 주별 매출 추이\n",
    "weekly_sales = df.groupby('주')['매출액'].sum()\n",
    "\n",
    "plt.figure(figsize=(14, 6))\n",
    "weekly_sales.plot(kind='line', marker='o')\n",
    "plt.title('2023년 주별 매출 추이')\n",
    "plt.xlabel('주차')\n",
    "plt.ylabel('매출액')\n",
    "plt.grid(True)\n",
    "plt.tight_layout()\n",
    "plt.show()"
   ]
  },
  {
   "cell_type": "code",
   "execution_count": null,
   "id": "d08c27f3",
   "metadata": {},
   "outputs": [],
   "source": [
    "\n",
    "weekly_sales = df.groupby(['주문년월', '주'])['매출액'].sum().reset_index()\n",
    "weekly_sales = weekly_sales.sort_values(['주문년월', '주'])\n",
    "\n",
    "# .pct_change()는 바로 이전 행과의 비율 차이를 계산\n",
    "# fillna(0)으로 첫 주의 결측치는 0으로 처리 (전주 없으니까 0으로)\n",
    "weekly_sales['매출증감률'] = weekly_sales['매출액'].pct_change().fillna(0)\n",
    "\n",
    "weekly_sales"
   ]
  },
  {
   "cell_type": "code",
   "execution_count": null,
   "id": "0c8f6dd0",
   "metadata": {},
   "outputs": [],
   "source": [
    "# 매출 TOP 10 상품"
   ]
  },
  {
   "cell_type": "code",
   "execution_count": null,
   "id": "1b7a2905",
   "metadata": {},
   "outputs": [],
   "source": [
    "# 정렬 -> 위 10개\n",
    "df.groupby('상품ID')['매출액'].sum().sort_values(ascending=False).head(10)\n",
    "\n",
    "# 애초에 상위 10개만 가져와\n",
    "top_products = df.groupby('상품ID')['매출액'].sum().nlargest(10)\n",
    "\n",
    "plt.figure(figsize=(12, 6))\n",
    "top_products.sort_values().plot(kind='barh')\n",
    "plt.title('매출 기준 TOP 10 상품')\n",
    "plt.xlabel('매출액')\n",
    "plt.tight_layout()\n",
    "plt.show()"
   ]
  },
  {
   "cell_type": "markdown",
   "id": "54dee2b5",
   "metadata": {},
   "source": [
    "## 데이터 결합\n",
    "1. 데이터 단순 결합(행 결합)\n",
    "2. 데이터 병합\n",
    "3. Index 기준 Join"
   ]
  },
  {
   "cell_type": "code",
   "execution_count": null,
   "id": "766592b1",
   "metadata": {},
   "outputs": [],
   "source": [
    "# 데이터 결합 기초 (concat) - 행결합 (Col 똑같아야 함)\n",
    "\n",
    "# 샘플 데이터 생성\n",
    "# 첫 번째 데이터프레임: 1월 판매 데이터\n",
    "df1 = pd.DataFrame({\n",
    "    '상품ID': ['A001', 'A002', 'A003', 'A004', 'A005'],\n",
    "    '상품명': ['노트북', '스마트폰', '태블릿', '헤드폰', '스피커'],\n",
    "    '판매량_1월': [10, 20, 15, 30, 25]\n",
    "})\n",
    "\n",
    "# 두 번째 데이터프레임: 2월 판매 데이터\n",
    "df2 = pd.DataFrame({\n",
    "    '상품ID': ['A001', 'A003', 'A005', 'A006', 'A007'],\n",
    "    '상품명': ['노트북', '태블릿', '스피커', '마우스', '키보드'],\n",
    "    '판매량_2월': [12, 18, 23, 15, 19]\n",
    "})\n",
    "\n",
    "# 기본 concat - 행 결합 -> 안맞는 컬럼은 NaN\n",
    "pd.concat([df1, df2])\n",
    "\n",
    "# 인덱스 초기화 (겹치는 인덱스 없이 처음부터 다시)\n",
    "pd.concat([df1, df2], ignore_index=True)\n",
    "\n",
    "# 열 방향 결합\n",
    "pd.concat([df1, df2], axis=1)\n",
    "\n",
    "# join inner (공통 열만 유지)\n",
    "pd.concat([df1, df2], join='inner')"
   ]
  },
  {
   "cell_type": "code",
   "execution_count": null,
   "id": "ab043cd2",
   "metadata": {},
   "outputs": [],
   "source": [
    "# 데이터 병합 (merge)\n",
    "\n",
    "products = pd.DataFrame({\n",
    "    '상품ID': ['P001', 'P002', 'P003', 'P004', 'P005'],\n",
    "    '상품명': ['노트북', '스마트폰', '태블릿', '헤드폰', '스피커'],\n",
    "    '가격': [1200000, 850000, 500000, 150000, 75000],\n",
    "    '카테고리': ['컴퓨터', '모바일', '모바일', '음향기기', '음향기기']\n",
    "})\n",
    "\n",
    "orders = pd.DataFrame({\n",
    "    '주문번호': [1001, 1002, 1003, 1004, 1005, 1006],\n",
    "    '고객ID': ['C001', 'C002', 'C003', 'C001', 'C004', 'C002'],\n",
    "    '상품ID': ['P001', 'P002', 'P003', 'P002', 'P005', 'P006'],\n",
    "    '수량': [1, 2, 1, 1, 3, 2],\n",
    "    '주문일자': ['2023-01-05', '2023-01-10', '2023-01-15', '2023-01-20', '2023-01-25', '2023-01-30']\n",
    "})\n",
    "\n",
    "\n",
    "print(products)\n",
    "print(orders)\n",
    "# 기본 병합 (Inner Join)\n",
    "pd.merge(orders, products, on='상품ID')\n",
    "\n",
    "# Outer Join\n",
    "pd.merge(orders, products, on='상품ID', how='outer')\n",
    "\n",
    "# Left Join\n",
    "pd.merge(orders, products, on='상품ID', how='left')\n",
    "\n",
    "# Right Join\n",
    "pd.merge(orders, products, on='상품ID', how='right')"
   ]
  },
  {
   "cell_type": "code",
   "execution_count": null,
   "id": "2af072be",
   "metadata": {},
   "outputs": [],
   "source": [
    "customers = pd.DataFrame({\n",
    "    'ID': ['C001', 'C002', 'C003', 'C004', 'C005'],\n",
    "    '이름': ['김철수', '이영희', '박민수', '정지영', '최동민'],\n",
    "    '등급': ['VIP', '골드', '실버', '골드', '브론즈']\n",
    "})\n",
    "\n",
    "# 열 이름이 다르면?\n",
    "pd.merge(\n",
    "    orders, \n",
    "    customers, \n",
    "    left_on='고객ID',  # orders 데이터프레임의 열 이름\n",
    "    right_on='ID',    # customers 데이터프레임의 열 이름\n",
    "    how='inner'\n",
    ")"
   ]
  },
  {
   "cell_type": "code",
   "execution_count": null,
   "id": "c90bee5b",
   "metadata": {},
   "outputs": [],
   "source": [
    "import pandas as pd\n",
    "import numpy as np\n",
    "\n",
    "# 샘플 데이터셋 생성\n",
    "# 1. 고객 정보 데이터\n",
    "customers = pd.DataFrame({\n",
    "    '고객ID': [f'CUST{i:03d}' for i in range(1, 11)],\n",
    "    '이름': ['김철수', '이영희', '박민수', '정지영', '최동민', '강준호', '윤서연', '임태혁', '한미래', '송지원'],\n",
    "    '성별': ['남', '여', '남', '여', '남', '남', '여', '남', '여', '여'],\n",
    "    '연령대': ['30대', '20대', '40대', '30대', '50대', '20대', '40대', '30대', '20대', '50대'],\n",
    "    '가입일자': pd.date_range('2023-01-01', periods=10, freq='3D'),\n",
    "    '지역': ['서울', '부산', '서울', '인천', '대구', '서울', '부산', '인천', '서울', '대구']\n",
    "})\n",
    "\n",
    "# 2. 주문 정보 데이터\n",
    "np.random.seed(42)\n",
    "n_orders = 50\n",
    "\n",
    "orders = pd.DataFrame({\n",
    "    '주문번호': [f'ORD{i:04d}' for i in range(1, n_orders+1)],\n",
    "    '고객ID': np.random.choice(customers['고객ID'], n_orders),\n",
    "    '주문일자': pd.date_range('2023-01-05', periods=n_orders, freq='2D'),\n",
    "    '결제방법': np.random.choice(['신용카드', '체크카드', '계좌이체', '간편결제'], n_orders),\n",
    "    '배송상태': np.random.choice(['배송완료', '배송중', '주문확인', '배송지연'], n_orders, p=[0.7, 0.15, 0.1, 0.05])\n",
    "})\n",
    "\n",
    "# 3. 주문 상세 정보 데이터\n",
    "n_details = 80\n",
    "products = ['노트북', '스마트폰', '태블릿', '헤드폰', '스피커', '키보드', '마우스', '모니터']\n",
    "categories = ['전자제품', '컴퓨터', '주변기기', '음향기기']\n",
    "\n",
    "order_details = pd.DataFrame({\n",
    "    '상세번호': [f'ITEM{i:04d}' for i in range(1, n_details+1)],\n",
    "    '주문번호': np.random.choice(orders['주문번호'], n_details),\n",
    "    '상품명': np.random.choice(products, n_details),\n",
    "    '카테고리': np.random.choice(categories, n_details),\n",
    "    '수량': np.random.randint(1, 5, n_details),\n",
    "    '가격': np.random.choice([50000, 100000, 150000, 800000, 1200000, 1500000], n_details),\n",
    "    '할인율': np.random.choice([0, 0.1, 0.2, 0.3], n_details)\n",
    "})\n",
    "\n",
    "# 4. 배송 정보 데이터\n",
    "shipping = pd.DataFrame({\n",
    "    '주문번호': orders['주문번호'].unique(),\n",
    "    '배송사': np.random.choice(['A택배', 'B물류', 'C익스프레스'], len(orders['주문번호'].unique())),\n",
    "    '배송비': np.random.choice([0, 2500, 5000], len(orders['주문번호'].unique())),\n",
    "    '출고일자': pd.date_range('2023-01-06', periods=len(orders['주문번호'].unique()), freq='2D')\n",
    "})\n",
    "\n",
    "# 5. 고객 만족도 데이터 (일부 주문에 대해서만)\n",
    "satisfaction_orders = np.random.choice(orders['주문번호'], size=30, replace=False)\n",
    "satisfaction = pd.DataFrame({\n",
    "    '주문번호': satisfaction_orders,\n",
    "    '만족도': np.random.randint(1, 6, 30),\n",
    "    '리뷰': np.random.choice(['긍정', '중립', '부정'], 30, p=[0.6, 0.3, 0.1]),\n",
    "    '리뷰일자': pd.date_range('2023-01-15', periods=30, freq='3D')\n",
    "})\n"
   ]
  },
  {
   "cell_type": "code",
   "execution_count": null,
   "id": "187826e7",
   "metadata": {},
   "outputs": [],
   "source": [
    "customers.head()"
   ]
  },
  {
   "cell_type": "code",
   "execution_count": null,
   "id": "095a44f1",
   "metadata": {},
   "outputs": [],
   "source": [
    "orders.head()"
   ]
  },
  {
   "cell_type": "code",
   "execution_count": null,
   "id": "b7c4e20e",
   "metadata": {},
   "outputs": [],
   "source": [
    "order_details.head()"
   ]
  },
  {
   "cell_type": "code",
   "execution_count": null,
   "id": "acd46cc7",
   "metadata": {},
   "outputs": [],
   "source": [
    "shipping.head()"
   ]
  },
  {
   "cell_type": "code",
   "execution_count": null,
   "id": "bd2b59ed",
   "metadata": {},
   "outputs": [],
   "source": [
    "satisfaction.head()"
   ]
  },
  {
   "cell_type": "code",
   "execution_count": null,
   "id": "93ad216f",
   "metadata": {},
   "outputs": [],
   "source": [
    "# 주문 - 주문상세  (합친다 - 테이블A, 테이블B)\n",
    "pd.merge(orders, order_details, on='주문번호', how='inner').head()"
   ]
  },
  {
   "cell_type": "code",
   "execution_count": null,
   "id": "c5c281fd",
   "metadata": {},
   "outputs": [],
   "source": [
    "# 테이블A에 합친다 - 테이블B\n",
    "orders.merge(order_details, on='주문번호', how='inner').head()"
   ]
  },
  {
   "cell_type": "code",
   "execution_count": null,
   "id": "91a0f299",
   "metadata": {},
   "outputs": [],
   "source": [
    "# order_details 에서 총금액 -> group -> orders 에 총 주문금액 추가\n",
    "\n",
    "# 1. 총 주문금액 계산 - 수량 * 가격 * (1-할인율)\n",
    "total_series = order_details['수량'] * order_details['가격'] * (1 - order_details['할인율'])\n",
    "order_details['총금액'] = total_series\n",
    "\n",
    "# 2. 주문별 합계 계산 -> order_totals DF 생성\n",
    "order_totals = order_details.groupby('주문번호')['총금액'].sum().reset_index()\n",
    "order_totals\n",
    "\n",
    "# 3. orders 와 order_totals 결합 -> 원래 없던 컬럼 추가\n",
    "order_with_totals = orders.merge(order_totals, on='주문번호', how='left')\n",
    "\n",
    "order_with_totals.head()"
   ]
  },
  {
   "cell_type": "code",
   "execution_count": null,
   "id": "cd5a9100",
   "metadata": {},
   "outputs": [],
   "source": [
    "# 중복된 데이터들 모아서 보기\n",
    "order_details[order_details.duplicated(subset=['주문번호'], keep=False)].sort_values('주문번호')"
   ]
  },
  {
   "cell_type": "code",
   "execution_count": null,
   "id": "d9e7a9fc",
   "metadata": {},
   "outputs": [],
   "source": [
    "# 주문 데이터에 사용자 병합\n",
    "orders_customers = order_with_totals.merge(customers, on='고객ID')\n",
    "orders_customers.head()"
   ]
  },
  {
   "cell_type": "code",
   "execution_count": null,
   "id": "61266b56",
   "metadata": {},
   "outputs": [],
   "source": [
    "# 배송정보 추가\n",
    "full_orders = orders_customers.merge(shipping, on='주문번호')\n",
    "full_orders.head()\n",
    "\n",
    "# 배송 소요일 추가  (timedelta -> int)\n",
    "full_orders['배송소요일'] = (full_orders['출고일자'] - full_orders['주문일자']).dt.days\n",
    "\n",
    "full_orders"
   ]
  },
  {
   "cell_type": "code",
   "execution_count": null,
   "id": "b92b8c9d",
   "metadata": {},
   "outputs": [],
   "source": [
    "# 만족도 정보 결합\n",
    "with_satisfaction = full_orders.merge(satisfaction, on='주문번호', how='left')\n",
    "with_satisfaction.head()"
   ]
  },
  {
   "cell_type": "code",
   "execution_count": null,
   "id": "040c40c7",
   "metadata": {},
   "outputs": [],
   "source": [
    "# 분석: 연령대별, 성별 총 주문 금액\n",
    "spending_stat = with_satisfaction.groupby(['연령대', '성별'])['총금액'].agg(\n",
    "    ['sum', 'mean', 'count']\n",
    ").reset_index()\n",
    "\n",
    "spending_stat"
   ]
  },
  {
   "cell_type": "code",
   "execution_count": null,
   "id": "66088b65",
   "metadata": {},
   "outputs": [],
   "source": [
    "import matplotlib.pyplot as plt\n",
    "import seaborn as sns\n",
    "import warnings\n",
    "\n",
    "warnings.filterwarnings('ignore', category=UserWarning)\n",
    "\n",
    "plt.rcParams['font.family'] = 'Malgun Gothic'\n",
    "plt.rcParams['axes.unicode_minus'] = False\n",
    "\n",
    "plt.figure(figsize=(12, 6))\n",
    "sns.barplot(x='연령대', y='sum', hue='성별', data=spending_stat)\n",
    "plt.title('연령대별, 성별 총 주문 금액')\n",
    "plt.ylabel('총 주문 금액')\n",
    "plt.tight_layout()\n",
    "plt.show()\n"
   ]
  },
  {
   "cell_type": "code",
   "execution_count": null,
   "id": "5dda900e",
   "metadata": {},
   "outputs": [],
   "source": [
    "# 분석: 결제방법별 평균 주문금액 및 건수\n",
    "payment_analysis = with_satisfaction.groupby('결제방법').agg({\n",
    "    '총금액': ['mean', 'sum', 'count']\n",
    "}).reset_index()\n",
    "\n",
    "payment_analysis"
   ]
  },
  {
   "cell_type": "code",
   "execution_count": null,
   "id": "3eb763f7",
   "metadata": {},
   "outputs": [],
   "source": [
    "# 만족도와 총 주문 금액 관계\n",
    "\n",
    "# 결측치 제거\n",
    "order_sati = with_satisfaction.dropna(subset=['만족도'])\n",
    "\n",
    "# 만족도별 평균 주문 금액\n",
    "sati_spend = order_sati.groupby('만족도')['총금액'].mean().reset_index()\n",
    "sati_spend"
   ]
  },
  {
   "cell_type": "code",
   "execution_count": null,
   "id": "65c39edd",
   "metadata": {},
   "outputs": [],
   "source": [
    "# 지역별 배송사 선호\n",
    "# with_satisfaction.groupby(['지역', '배송사'])['주문번호'].count()  # 아래랑 결과 같음\n",
    "region_shipping = with_satisfaction.groupby(['지역', '배송사']).size().unstack().fillna(0)\n",
    "region_shipping"
   ]
  },
  {
   "cell_type": "code",
   "execution_count": null,
   "id": "92a5814a",
   "metadata": {},
   "outputs": [],
   "source": [
    "plt.figure(figsize=(12, 6))\n",
    "region_shipping.plot(kind='bar', stacked=True)\n",
    "plt.title('지역별 배송사 이용 현황')\n",
    "plt.ylabel('주문 건수')\n",
    "plt.legend(title='배송사')\n",
    "plt.tight_layout()\n",
    "plt.show()"
   ]
  },
  {
   "cell_type": "markdown",
   "id": "d0a34ac0",
   "metadata": {
    "vscode": {
     "languageId": "bat"
    }
   },
   "source": [
    "## 이상치(Outlier) 처리\n",
    "이상치의 정의\n",
    "- Z-score\n",
    "- IQR(4분위수)"
   ]
  },
  {
   "cell_type": "code",
   "execution_count": 253,
   "id": "9e30a4ff",
   "metadata": {},
   "outputs": [
    {
     "data": {
      "text/html": [
       "<div>\n",
       "<style scoped>\n",
       "    .dataframe tbody tr th:only-of-type {\n",
       "        vertical-align: middle;\n",
       "    }\n",
       "\n",
       "    .dataframe tbody tr th {\n",
       "        vertical-align: top;\n",
       "    }\n",
       "\n",
       "    .dataframe thead th {\n",
       "        text-align: right;\n",
       "    }\n",
       "</style>\n",
       "<table border=\"1\" class=\"dataframe\">\n",
       "  <thead>\n",
       "    <tr style=\"text-align: right;\">\n",
       "      <th></th>\n",
       "      <th>주문번호</th>\n",
       "      <th>가격</th>\n",
       "      <th>수량</th>\n",
       "      <th>카테고리</th>\n",
       "      <th>지역</th>\n",
       "      <th>총금액</th>\n",
       "    </tr>\n",
       "  </thead>\n",
       "  <tbody>\n",
       "    <tr>\n",
       "      <th>0</th>\n",
       "      <td>ORD0001</td>\n",
       "      <td>57451</td>\n",
       "      <td>5</td>\n",
       "      <td>가구</td>\n",
       "      <td>부산</td>\n",
       "      <td>287255</td>\n",
       "    </tr>\n",
       "    <tr>\n",
       "      <th>1</th>\n",
       "      <td>ORD0002</td>\n",
       "      <td>47926</td>\n",
       "      <td>5</td>\n",
       "      <td>식품</td>\n",
       "      <td>서울</td>\n",
       "      <td>239630</td>\n",
       "    </tr>\n",
       "    <tr>\n",
       "      <th>2</th>\n",
       "      <td>ORD0003</td>\n",
       "      <td>59715</td>\n",
       "      <td>4</td>\n",
       "      <td>식품</td>\n",
       "      <td>부산</td>\n",
       "      <td>238860</td>\n",
       "    </tr>\n",
       "    <tr>\n",
       "      <th>3</th>\n",
       "      <td>ORD0004</td>\n",
       "      <td>72845</td>\n",
       "      <td>7</td>\n",
       "      <td>도서</td>\n",
       "      <td>부산</td>\n",
       "      <td>509915</td>\n",
       "    </tr>\n",
       "    <tr>\n",
       "      <th>4</th>\n",
       "      <td>ORD0005</td>\n",
       "      <td>46488</td>\n",
       "      <td>3</td>\n",
       "      <td>식품</td>\n",
       "      <td>광주</td>\n",
       "      <td>139464</td>\n",
       "    </tr>\n",
       "  </tbody>\n",
       "</table>\n",
       "</div>"
      ],
      "text/plain": [
       "      주문번호     가격  수량 카테고리  지역     총금액\n",
       "0  ORD0001  57451   5   가구  부산  287255\n",
       "1  ORD0002  47926   5   식품  서울  239630\n",
       "2  ORD0003  59715   4   식품  부산  238860\n",
       "3  ORD0004  72845   7   도서  부산  509915\n",
       "4  ORD0005  46488   3   식품  광주  139464"
      ]
     },
     "execution_count": 253,
     "metadata": {},
     "output_type": "execute_result"
    }
   ],
   "source": [
    "# 샘플 데이터 생성: 온라인 쇼핑몰 주문 데이터\n",
    "np.random.seed(42)\n",
    "n = 1000\n",
    "\n",
    "# 정상적인 데이터 생성\n",
    "normal_prices = np.random.normal(50000, 15000, 900)  # 정상 가격대\n",
    "normal_prices = np.round(normal_prices).astype(int)  # 정수 가격\n",
    "\n",
    "normal_quantities = np.random.poisson(3, 900) + 1   # 정상 수량\n",
    "normal_quantities = normal_quantities.astype(int)    # 정수 수량\n",
    "\n",
    "# 이상치 데이터 추가\n",
    "outlier_prices = np.random.uniform(200000, 500000, 100)  # 이상 고가 상품\n",
    "outlier_prices = np.round(outlier_prices).astype(int)\n",
    "\n",
    "outlier_quantities = np.random.uniform(50, 100, 100)      # 이상 대량 주문\n",
    "outlier_quantities = np.round(outlier_quantities).astype(int)\n",
    "\n",
    "# 전체 데이터 결합\n",
    "prices = np.concatenate([normal_prices, outlier_prices])\n",
    "quantities = np.concatenate([normal_quantities, outlier_quantities])\n",
    "\n",
    "# DataFrame 생성\n",
    "data = {\n",
    "    '주문번호': [f'ORD{i:04d}' for i in range(1, n+1)],\n",
    "    '가격': prices,\n",
    "    '수량': quantities,\n",
    "    '카테고리': np.random.choice(['전자제품', '의류', '가구', '식품', '도서'], n),\n",
    "    '지역': np.random.choice(['서울', '부산', '인천', '대구', '광주'], n)\n",
    "}\n",
    "\n",
    "df = pd.DataFrame(data)\n",
    "df['총금액'] = df['가격'] * df['수량']\n",
    "\n",
    "df.head()"
   ]
  },
  {
   "cell_type": "code",
   "execution_count": null,
   "id": "13265b3d",
   "metadata": {},
   "outputs": [],
   "source": [
    "%pip install -q scipy"
   ]
  },
  {
   "cell_type": "code",
   "execution_count": 229,
   "id": "809a7e88",
   "metadata": {},
   "outputs": [],
   "source": [
    "# 1. Z-score(표준점수)\n",
    "\n",
    "# 가격 기준 이상치 탐지\n",
    "price_series = df['가격']\n",
    "# Z-score 직접 계산\n",
    "(price_series - price_series.mean()) / price_series.std()\n",
    "\n",
    "\n",
    "def detect_outlier_zscore(data_series, threshold=3.0):\n",
    "    from scipy import stats  # scipy 사용\n",
    "    \n",
    "    z_scores = stats.zscore(data_series)\n",
    "    return np.abs(z_scores) > threshold  # [T, F, T, T] -> 이상한 데이터 True\n",
    "\n",
    "\n",
    "# 이상치 데이터만 보기\n",
    "price_outlier_z = detect_outlier_zscore(df['가격'], 3.0)"
   ]
  },
  {
   "cell_type": "code",
   "execution_count": null,
   "id": "2b5f18df",
   "metadata": {},
   "outputs": [],
   "source": [
    "# 2. IQR(InterQuartile Range - 4분위) 방법\n",
    "# price_series.describe()\n",
    "\n",
    "def detect_outlier_iqr(data_series):\n",
    "    Q1 = data_series.quantile(0.25)\n",
    "    Q3 = data_series.quantile(0.75)\n",
    "    IQR = Q3 - Q1\n",
    "\n",
    "    lower_bound = Q1 - (1.5 * IQR)\n",
    "    upper_bound = Q3 + (1.5 * IQR)\n",
    "\n",
    "    return (data_series < lower_bound) | (data_series > upper_bound)\n",
    "\n",
    "\n",
    "df[ detect_outlier_iqr(df['가격']) ]"
   ]
  },
  {
   "cell_type": "code",
   "execution_count": null,
   "id": "231a7e4f",
   "metadata": {},
   "outputs": [
    {
     "data": {
      "text/plain": [
       "주문번호    40\n",
       "가격      40\n",
       "수량      40\n",
       "카테고리    40\n",
       "지역      40\n",
       "총금액     40\n",
       "dtype: int64"
      ]
     },
     "execution_count": 225,
     "metadata": {},
     "output_type": "execute_result"
    }
   ],
   "source": [
    "# 3. 백분위수 방법 (IQR과 달리 위/아래 이상치 직접 조정 가능)\n",
    "\n",
    "def detect_outlier_perc(data_series, lower=1, upper=99):\n",
    "    lower_bound = data_series.quantile(lower / 100)  # 하위 1%\n",
    "    upper_bound = data_series.quantile(upper / 100)  # 상위 1%\n",
    "\n",
    "    return (data_series < lower_bound) | (data_series > upper_bound)\n",
    "\n",
    "\n",
    "odf = df[detect_outlier_perc(df['가격'], lower=1, upper=97)]\n",
    "odf.count()"
   ]
  },
  {
   "cell_type": "code",
   "execution_count": 228,
   "id": "1e358510",
   "metadata": {},
   "outputs": [
    {
     "data": {
      "text/plain": [
       "Text(0.5, 1.0, '수량 vs 가격')"
      ]
     },
     "execution_count": 228,
     "metadata": {},
     "output_type": "execute_result"
    },
    {
     "data": {
      "image/png": "[encoded data removed]",
      "text/plain": [
       "<Figure size 1500x1000 with 3 Axes>"
      ]
     },
     "metadata": {},
     "output_type": "display_data"
    }
   ],
   "source": [
    "price_outliers_pct = detect_outlier_perc(df['가격'])\n",
    "# 4. 다양한 방법 비교 시각화\n",
    "plt.figure(figsize=(15, 10))\n",
    "\n",
    "# 히스토그램\n",
    "plt.subplot(2, 3, 1)\n",
    "plt.hist(df['가격'], bins=50, alpha=0.7)\n",
    "plt.title('가격 분포')\n",
    "plt.xlabel('가격')\n",
    "plt.ylabel('빈도')\n",
    "\n",
    "# 박스플롯\n",
    "plt.subplot(2, 3, 2)\n",
    "plt.boxplot(df['가격'])\n",
    "plt.title('가격 박스플롯')\n",
    "plt.ylabel('가격')\n",
    "\n",
    "# 산점도\n",
    "plt.subplot(2, 3, 3)\n",
    "plt.scatter(df['수량'], df['가격'], alpha=0.6)\n",
    "plt.xlabel('수량')\n",
    "plt.ylabel('가격')\n",
    "plt.title('수량 vs 가격')"
   ]
  },
  {
   "cell_type": "code",
   "execution_count": 230,
   "id": "741c2649",
   "metadata": {},
   "outputs": [
    {
     "data": {
      "text/plain": [
       "Text(0.5, 1.0, 'Z-score 이상치 (빨간색)')"
      ]
     },
     "execution_count": 230,
     "metadata": {},
     "output_type": "execute_result"
    },
    {
     "data": {
      "image/png": "[encoded data removed]",
      "text/plain": [
       "<Figure size 640x480 with 1 Axes>"
      ]
     },
     "metadata": {},
     "output_type": "display_data"
    }
   ],
   "source": [
    "plt.subplot(2, 3, 4)\n",
    "colors = ['red' if outlier else 'blue' for outlier in price_outlier_z]\n",
    "plt.scatter(df['수량'], df['가격'], c=colors, alpha=0.6)\n",
    "plt.xlabel('수량')\n",
    "plt.ylabel('가격')\n",
    "plt.title('Z-score 이상치 (빨간색)')"
   ]
  },
  {
   "cell_type": "markdown",
   "id": "cfed3ad0",
   "metadata": {},
   "source": [
    "### 이상치 처리"
   ]
  },
  {
   "cell_type": "code",
   "execution_count": 232,
   "id": "def0ac33",
   "metadata": {},
   "outputs": [
    {
     "data": {
      "text/html": [
       "<div>\n",
       "<style scoped>\n",
       "    .dataframe tbody tr th:only-of-type {\n",
       "        vertical-align: middle;\n",
       "    }\n",
       "\n",
       "    .dataframe tbody tr th {\n",
       "        vertical-align: top;\n",
       "    }\n",
       "\n",
       "    .dataframe thead th {\n",
       "        text-align: right;\n",
       "    }\n",
       "</style>\n",
       "<table border=\"1\" class=\"dataframe\">\n",
       "  <thead>\n",
       "    <tr style=\"text-align: right;\">\n",
       "      <th></th>\n",
       "      <th>주문번호</th>\n",
       "      <th>가격</th>\n",
       "      <th>수량</th>\n",
       "      <th>카테고리</th>\n",
       "      <th>지역</th>\n",
       "      <th>총금액</th>\n",
       "    </tr>\n",
       "  </thead>\n",
       "  <tbody>\n",
       "    <tr>\n",
       "      <th>0</th>\n",
       "      <td>ORD0001</td>\n",
       "      <td>57451</td>\n",
       "      <td>5</td>\n",
       "      <td>가구</td>\n",
       "      <td>부산</td>\n",
       "      <td>287255</td>\n",
       "    </tr>\n",
       "    <tr>\n",
       "      <th>1</th>\n",
       "      <td>ORD0002</td>\n",
       "      <td>47926</td>\n",
       "      <td>5</td>\n",
       "      <td>식품</td>\n",
       "      <td>서울</td>\n",
       "      <td>239630</td>\n",
       "    </tr>\n",
       "    <tr>\n",
       "      <th>2</th>\n",
       "      <td>ORD0003</td>\n",
       "      <td>59715</td>\n",
       "      <td>4</td>\n",
       "      <td>식품</td>\n",
       "      <td>부산</td>\n",
       "      <td>238860</td>\n",
       "    </tr>\n",
       "    <tr>\n",
       "      <th>3</th>\n",
       "      <td>ORD0004</td>\n",
       "      <td>72845</td>\n",
       "      <td>7</td>\n",
       "      <td>도서</td>\n",
       "      <td>부산</td>\n",
       "      <td>509915</td>\n",
       "    </tr>\n",
       "    <tr>\n",
       "      <th>4</th>\n",
       "      <td>ORD0005</td>\n",
       "      <td>46488</td>\n",
       "      <td>3</td>\n",
       "      <td>식품</td>\n",
       "      <td>광주</td>\n",
       "      <td>139464</td>\n",
       "    </tr>\n",
       "  </tbody>\n",
       "</table>\n",
       "</div>"
      ],
      "text/plain": [
       "      주문번호     가격  수량 카테고리  지역     총금액\n",
       "0  ORD0001  57451   5   가구  부산  287255\n",
       "1  ORD0002  47926   5   식품  서울  239630\n",
       "2  ORD0003  59715   4   식품  부산  238860\n",
       "3  ORD0004  72845   7   도서  부산  509915\n",
       "4  ORD0005  46488   3   식품  광주  139464"
      ]
     },
     "execution_count": 232,
     "metadata": {},
     "output_type": "execute_result"
    }
   ],
   "source": [
    "df.head()"
   ]
  },
  {
   "cell_type": "code",
   "execution_count": 281,
   "id": "01d83aa0",
   "metadata": {},
   "outputs": [
    {
     "name": "stdout",
     "output_type": "stream",
     "text": [
      "1000 898\n"
     ]
    }
   ],
   "source": [
    "# data 에서 col 에 IQR기준 이상치를 삭제하는 함수\n",
    "def remove_outliers_iqr(data: pd.DataFrame, col: str) -> pd.DataFrame:\n",
    "    Q1 = data[col].quantile(0.25)\n",
    "    Q3 = data[col].quantile(0.75)\n",
    "    IQR = Q3 - Q1\n",
    "    lower_bound = Q1 - (1.5 * IQR)\n",
    "    upper_bound = Q3 + (1.5 * IQR)\n",
    "    mask = (data[col] >= lower_bound) & (data[col] <= upper_bound)\n",
    "    return data[mask]\n",
    "\n",
    "\n",
    "df_removed = remove_outliers_iqr(df, '가격')\n",
    "# 원본 길이, 정제 길이\n",
    "print(len(df), len(df_removed))"
   ]
  },
  {
   "cell_type": "code",
   "execution_count": 275,
   "id": "110f7e6c",
   "metadata": {},
   "outputs": [],
   "source": [
    "# 이상치 변환(Transform) 하기\n",
    "# Winsorization (윈저화)  -> 이상치를 근처 값으로 바꾸기\n",
    "\n",
    "def winsorize_outliers(data: pd.DataFrame, col, lower=5, upper=95):\n",
    "    \"\"\"윈저화: 극값을 특정 백분위 값으로 대체\"\"\"\n",
    "    lower_bound = data[col].quantile(lower / 100)\n",
    "    upper_bound = data[col].quantile(upper / 100)\n",
    "\n",
    "    data_winsorized = data.copy()\n",
    "    # clip: lower보다 작은 수를 다 인자로 바꾸고, upper보다 큰수도 모두 인자로 바꾼다.\n",
    "    data_winsorized[col] = data_winsorized[col].clip(lower=lower_bound, upper=upper_bound)\n",
    "    return data_winsorized"
   ]
  },
  {
   "cell_type": "code",
   "execution_count": 286,
   "id": "b6d72aef",
   "metadata": {},
   "outputs": [],
   "source": [
    "df_winsorized = winsorize_outliers(df, '가격', lower=10, upper=90)"
   ]
  },
  {
   "cell_type": "code",
   "execution_count": 279,
   "id": "9ab1a90b",
   "metadata": {},
   "outputs": [
    {
     "data": {
      "text/html": [
       "<div>\n",
       "<style scoped>\n",
       "    .dataframe tbody tr th:only-of-type {\n",
       "        vertical-align: middle;\n",
       "    }\n",
       "\n",
       "    .dataframe tbody tr th {\n",
       "        vertical-align: top;\n",
       "    }\n",
       "\n",
       "    .dataframe thead th {\n",
       "        text-align: right;\n",
       "    }\n",
       "</style>\n",
       "<table border=\"1\" class=\"dataframe\">\n",
       "  <thead>\n",
       "    <tr style=\"text-align: right;\">\n",
       "      <th></th>\n",
       "      <th>주문번호</th>\n",
       "      <th>가격</th>\n",
       "      <th>수량</th>\n",
       "      <th>카테고리</th>\n",
       "      <th>지역</th>\n",
       "      <th>총금액</th>\n",
       "    </tr>\n",
       "  </thead>\n",
       "  <tbody>\n",
       "    <tr>\n",
       "      <th>995</th>\n",
       "      <td>ORD0996</td>\n",
       "      <td>52255</td>\n",
       "      <td>88</td>\n",
       "      <td>식품</td>\n",
       "      <td>부산</td>\n",
       "      <td>4598440</td>\n",
       "    </tr>\n",
       "    <tr>\n",
       "      <th>996</th>\n",
       "      <td>ORD0997</td>\n",
       "      <td>52255</td>\n",
       "      <td>91</td>\n",
       "      <td>식품</td>\n",
       "      <td>서울</td>\n",
       "      <td>4755205</td>\n",
       "    </tr>\n",
       "    <tr>\n",
       "      <th>997</th>\n",
       "      <td>ORD0998</td>\n",
       "      <td>52255</td>\n",
       "      <td>67</td>\n",
       "      <td>식품</td>\n",
       "      <td>인천</td>\n",
       "      <td>3501085</td>\n",
       "    </tr>\n",
       "    <tr>\n",
       "      <th>998</th>\n",
       "      <td>ORD0999</td>\n",
       "      <td>52255</td>\n",
       "      <td>72</td>\n",
       "      <td>도서</td>\n",
       "      <td>광주</td>\n",
       "      <td>3762360</td>\n",
       "    </tr>\n",
       "    <tr>\n",
       "      <th>999</th>\n",
       "      <td>ORD1000</td>\n",
       "      <td>52255</td>\n",
       "      <td>92</td>\n",
       "      <td>의류</td>\n",
       "      <td>부산</td>\n",
       "      <td>4807460</td>\n",
       "    </tr>\n",
       "  </tbody>\n",
       "</table>\n",
       "</div>"
      ],
      "text/plain": [
       "        주문번호     가격  수량 카테고리  지역      총금액\n",
       "995  ORD0996  52255  88   식품  부산  4598440\n",
       "996  ORD0997  52255  91   식품  서울  4755205\n",
       "997  ORD0998  52255  67   식품  인천  3501085\n",
       "998  ORD0999  52255  72   도서  광주  3762360\n",
       "999  ORD1000  52255  92   의류  부산  4807460"
      ]
     },
     "execution_count": 279,
     "metadata": {},
     "output_type": "execute_result"
    }
   ],
   "source": [
    "# 이상치 대체(Imputation) 하기\n",
    "\n",
    "# 중앙값 대체\n",
    "def replace_outliers_with_median(data: pd.DataFrame, col: str) -> pd.DataFrame:\n",
    "    \"\"\"IQR 이상치를 중앙값으로 대체\"\"\"\n",
    "    data_replaced = data.copy()\n",
    "    # IQR 이상처 탐지\n",
    "    Q1 = data[col].quantile(0.25)\n",
    "    Q3 = data[col].quantile(0.75)\n",
    "    IQR = Q3 - Q1\n",
    "    lower_bound = Q1 - (1.5 * IQR)\n",
    "    upper_bound = Q3 + (1.5 * IQR)\n",
    "    # 중앙값\n",
    "    med_val = data[col].median()\n",
    "    outlier_mask = (data[col] < lower_bound) | (data[col] > upper_bound)\n",
    "    data_replaced.loc[outlier_mask, col] = int(med_val)\n",
    "\n",
    "    return data_replaced\n",
    "\n",
    "df_replaced = replace_outliers_with_median(df, '가격')\n",
    "df_replaced['총금액'] = df_replaced['가격'] * df_replaced['수량']\n",
    "df_replaced.tail()"
   ]
  },
  {
   "cell_type": "code",
   "execution_count": 284,
   "id": "62d310df",
   "metadata": {},
   "outputs": [
    {
     "data": {
      "text/plain": [
       "Text(0.5, 1.0, '원본 데이터')"
      ]
     },
     "execution_count": 284,
     "metadata": {},
     "output_type": "execute_result"
    },
    {
     "data": {
      "image/png": "[encoded data removed]",
      "text/plain": [
       "<Figure size 1600x1200 with 3 Axes>"
      ]
     },
     "metadata": {},
     "output_type": "display_data"
    }
   ],
   "source": [
    "# 5. 처리 방법별 비교 시각화\n",
    "plt.figure(figsize=(16, 12))\n",
    "\n",
    "# 원본 데이터\n",
    "plt.subplot(3, 3, 1)\n",
    "plt.hist(df['가격'], bins=50, alpha=0.7, color='blue')\n",
    "plt.title('원본 가격 분포')\n",
    "plt.xlabel('가격')\n",
    "\n",
    "plt.subplot(3, 3, 2)\n",
    "plt.boxplot(df['가격'])\n",
    "plt.title('원본 가격 박스플롯')\n",
    "\n",
    "plt.subplot(3, 3, 3)\n",
    "plt.scatter(df['수량'], df['가격'], alpha=0.6, color='blue')\n",
    "plt.xlabel('수량')\n",
    "plt.ylabel('가격')\n",
    "plt.title('원본 데이터')"
   ]
  },
  {
   "cell_type": "code",
   "execution_count": 283,
   "id": "f377f96b",
   "metadata": {},
   "outputs": [
    {
     "data": {
      "text/plain": [
       "Text(0.5, 1.0, '제거 후')"
      ]
     },
     "execution_count": 283,
     "metadata": {},
     "output_type": "execute_result"
    },
    {
     "data": {
      "image/png": "[encoded data removed]",
      "text/plain": [
       "<Figure size 1600x1200 with 3 Axes>"
      ]
     },
     "metadata": {},
     "output_type": "display_data"
    }
   ],
   "source": [
    "# 제거 후\n",
    "plt.figure(figsize=(16, 12))\n",
    "\n",
    "plt.subplot(3, 3, 4)\n",
    "plt.hist(df_removed['가격'], bins=50, alpha=0.7, color='green')\n",
    "plt.title('이상치 제거 후')\n",
    "plt.xlabel('가격')\n",
    "\n",
    "plt.subplot(3, 3, 5)\n",
    "plt.boxplot(df_removed['가격'])\n",
    "plt.title('제거 후 박스플롯')\n",
    "\n",
    "plt.subplot(3, 3, 6)\n",
    "plt.scatter(df_removed['수량'], df_removed['가격'], alpha=0.6, color='green')\n",
    "plt.xlabel('수량')\n",
    "plt.ylabel('가격')\n",
    "plt.title('제거 후')"
   ]
  },
  {
   "cell_type": "code",
   "execution_count": 287,
   "id": "c0a66560",
   "metadata": {},
   "outputs": [
    {
     "data": {
      "image/png": "[encoded data removed]",
      "text/plain": [
       "<Figure size 1600x1200 with 3 Axes>"
      ]
     },
     "metadata": {},
     "output_type": "display_data"
    }
   ],
   "source": [
    "# Winsor 화\n",
    "plt.figure(figsize=(16, 12))\n",
    "plt.subplot(3, 3, 7)\n",
    "plt.hist(df_winsorized['가격'], bins=50, alpha=0.7, color='orange')\n",
    "plt.title('윈저화 후')\n",
    "plt.xlabel('가격')\n",
    "\n",
    "plt.subplot(3, 3, 8)\n",
    "plt.boxplot(df_winsorized['가격'])\n",
    "plt.title('윈저화 후 박스플롯')\n",
    "\n",
    "plt.subplot(3, 3, 9)\n",
    "plt.scatter(df_winsorized['수량'], df_winsorized['가격'], alpha=0.6, color='orange')\n",
    "plt.xlabel('수량')\n",
    "plt.ylabel('가격')\n",
    "plt.title('윈저화 후')\n",
    "\n",
    "plt.tight_layout()\n",
    "plt.show()"
   ]
  },
  {
   "cell_type": "code",
   "execution_count": 289,
   "id": "db8eb674",
   "metadata": {},
   "outputs": [
    {
     "data": {
      "image/png": "[encoded data removed]",
      "text/plain": [
       "<Figure size 1600x1200 with 3 Axes>"
      ]
     },
     "metadata": {},
     "output_type": "display_data"
    }
   ],
   "source": [
    "# Median 교체\n",
    "plt.figure(figsize=(16, 12))\n",
    "plt.subplot(3, 3, 7)\n",
    "plt.hist(df_replaced['가격'], bins=50, alpha=0.7, color='orange')\n",
    "plt.title('중앙값교체 후')\n",
    "plt.xlabel('가격')\n",
    "\n",
    "plt.subplot(3, 3, 8)\n",
    "plt.boxplot(df_replaced['가격'])\n",
    "plt.title('중앙값교체 후 박스플롯')\n",
    "\n",
    "plt.subplot(3, 3, 9)\n",
    "plt.scatter(df_replaced['수량'], df_replaced['가격'], alpha=0.6, color='orange')\n",
    "plt.xlabel('수량')\n",
    "plt.ylabel('가격')\n",
    "plt.title('중앙값교체 후')\n",
    "\n",
    "plt.tight_layout()\n",
    "plt.show()"
   ]
  }
 ],
 "metadata": {
  "kernelspec": {
   "display_name": "Python 3",
   "language": "python",
   "name": "python3"
  },
  "language_info": {
   "codemirror_mode": {
    "name": "ipython",
    "version": 3
   },
   "file_extension": ".py",
   "mimetype": "text/x-python",
   "name": "python",
   "nbconvert_exporter": "python",
   "pygments_lexer": "ipython3",
   "version": "3.13.2"
  }
 },
 "nbformat": 4,
 "nbformat_minor": 5
}
