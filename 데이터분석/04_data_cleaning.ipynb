{
 "cells": [
  {
   "cell_type": "markdown",
   "id": "6790a9dc",
   "metadata": {},
   "source": [
    "# `04_data_cleaning.ipynb`\n",
    "데이터 정제\n",
    "- 불필요한 삭제\n",
    "- 잘못된 데이터 수정"
   ]
  },
  {
   "cell_type": "code",
   "execution_count": null,
   "id": "bc6e64a7",
   "metadata": {},
   "outputs": [],
   "source": [
    "import pandas as pd\n",
    "\n",
    "df = pd.read_csv('./namsan.csv', encoding='EUC-KR', low_memory=False)"
   ]
  },
  {
   "cell_type": "markdown",
   "id": "cd1ec722",
   "metadata": {},
   "source": [
    "## 데이터 삭제"
   ]
  },
  {
   "cell_type": "code",
   "execution_count": null,
   "id": "3769d51d",
   "metadata": {},
   "outputs": [],
   "source": [
    "df.head(3)"
   ]
  },
  {
   "cell_type": "code",
   "execution_count": null,
   "id": "4f980b95",
   "metadata": {},
   "outputs": [],
   "source": [
    "# 슬라이싱으로 가능은 함.\n",
    "df.loc[:, '번호':'등록일자'].head()"
   ]
  },
  {
   "cell_type": "code",
   "execution_count": null,
   "id": "ac4fc13e",
   "metadata": {},
   "outputs": [],
   "source": [
    "# 컬럼들\n",
    "print(df.columns)\n",
    "# 마스킹 생성\n",
    "mask = df.columns != 'Unnamed: 13'\n",
    "print(mask)\n",
    "# 슬라이싱\n",
    "ns_df = df.loc[:, mask]\n",
    "ns_df.head(3)"
   ]
  },
  {
   "cell_type": "code",
   "execution_count": null,
   "id": "3cc465d0",
   "metadata": {},
   "outputs": [],
   "source": [
    "# 진짜로 컬럼 삭제한 df 리턴\n",
    "df.drop(['부가기호', 'Unnamed: 13'], axis=1)\n",
    "\n",
    "# 리턴말고 원본에서 삭제하기 (inplace)\n",
    "df.drop(['부가기호', 'Unnamed: 13', '주제분류번호'], axis=1, inplace=True)"
   ]
  },
  {
   "cell_type": "code",
   "execution_count": null,
   "id": "7f4a0e9c",
   "metadata": {},
   "outputs": [],
   "source": [
    "df.head(3)"
   ]
  },
  {
   "cell_type": "code",
   "execution_count": 33,
   "id": "2dc52772",
   "metadata": {},
   "outputs": [
    {
     "data": {
      "text/html": [
       "<div>\n",
       "<style scoped>\n",
       "    .dataframe tbody tr th:only-of-type {\n",
       "        vertical-align: middle;\n",
       "    }\n",
       "\n",
       "    .dataframe tbody tr th {\n",
       "        vertical-align: top;\n",
       "    }\n",
       "\n",
       "    .dataframe thead th {\n",
       "        text-align: right;\n",
       "    }\n",
       "</style>\n",
       "<table border=\"1\" class=\"dataframe\">\n",
       "  <thead>\n",
       "    <tr style=\"text-align: right;\">\n",
       "      <th></th>\n",
       "      <th>번호</th>\n",
       "      <th>도서명</th>\n",
       "      <th>저자</th>\n",
       "      <th>출판사</th>\n",
       "      <th>발행년도</th>\n",
       "      <th>ISBN</th>\n",
       "      <th>세트 ISBN</th>\n",
       "      <th>권</th>\n",
       "      <th>도서권수</th>\n",
       "      <th>대출건수</th>\n",
       "      <th>등록일자</th>\n",
       "    </tr>\n",
       "  </thead>\n",
       "  <tbody>\n",
       "    <tr>\n",
       "      <th>0</th>\n",
       "      <td>1</td>\n",
       "      <td>감정을 이해하는 그림책 큐레이션</td>\n",
       "      <td>그림책심리성장연구소,강혜진,김애이,김은경,박소영,장미혜,차연주 지음</td>\n",
       "      <td>사우</td>\n",
       "      <td>2025</td>\n",
       "      <td>9791194126027</td>\n",
       "      <td>NaN</td>\n",
       "      <td>NaN</td>\n",
       "      <td>1</td>\n",
       "      <td>0</td>\n",
       "      <td>2025-06-30</td>\n",
       "    </tr>\n",
       "    <tr>\n",
       "      <th>1</th>\n",
       "      <td>2</td>\n",
       "      <td>어른의 관계에는 마침표가 없다</td>\n",
       "      <td>김재식 지음</td>\n",
       "      <td>위즈덤하우스</td>\n",
       "      <td>2025</td>\n",
       "      <td>9791171714285</td>\n",
       "      <td>NaN</td>\n",
       "      <td>NaN</td>\n",
       "      <td>1</td>\n",
       "      <td>0</td>\n",
       "      <td>2025-06-30</td>\n",
       "    </tr>\n",
       "    <tr>\n",
       "      <th>2</th>\n",
       "      <td>3</td>\n",
       "      <td>아무리 놀려도 괜찮은 책(독서치료용)</td>\n",
       "      <td>박티팔</td>\n",
       "      <td>곰세마리</td>\n",
       "      <td>2024</td>\n",
       "      <td>9791193366103</td>\n",
       "      <td>NaN</td>\n",
       "      <td>NaN</td>\n",
       "      <td>1</td>\n",
       "      <td>0</td>\n",
       "      <td>2025-06-30</td>\n",
       "    </tr>\n",
       "  </tbody>\n",
       "</table>\n",
       "</div>"
      ],
      "text/plain": [
       "   번호                   도서명                                     저자     출판사  \\\n",
       "0   1    감정을 이해하는 그림책 큐레이션   그림책심리성장연구소,강혜진,김애이,김은경,박소영,장미혜,차연주 지음      사우   \n",
       "1   2     어른의 관계에는 마침표가 없다                                  김재식 지음  위즈덤하우스   \n",
       "2   3  아무리 놀려도 괜찮은 책(독서치료용)                                    박티팔    곰세마리   \n",
       "\n",
       "   발행년도           ISBN  세트 ISBN    권  도서권수  대출건수        등록일자  \n",
       "0  2025  9791194126027      NaN  NaN     1     0  2025-06-30  \n",
       "1  2025  9791171714285      NaN  NaN     1     0  2025-06-30  \n",
       "2  2024  9791193366103      NaN  NaN     1     0  2025-06-30  "
      ]
     },
     "execution_count": 33,
     "metadata": {},
     "output_type": "execute_result"
    }
   ],
   "source": [
    "# Col중에 하나라도 NaN(비어있음) 이면 해당 col 삭제\n",
    "book_df = df.dropna(axis=1)\n",
    "book_df.head(3)\n",
    "# col의 모든 데이터가 NaN이면 해당 col 삭제\n",
    "book_df = df.dropna(axis=1, how='all')\n",
    "book_df.head(3)"
   ]
  },
  {
   "cell_type": "code",
   "execution_count": 35,
   "id": "78338524",
   "metadata": {},
   "outputs": [
    {
     "name": "stdout",
     "output_type": "stream",
     "text": [
      "<class 'pandas.core.frame.DataFrame'>\n",
      "RangeIndex: 455556 entries, 0 to 455555\n",
      "Data columns (total 11 columns):\n",
      " #   Column   Non-Null Count   Dtype  \n",
      "---  ------   --------------   -----  \n",
      " 0   번호       455556 non-null  int64  \n",
      " 1   도서명      455156 non-null  object \n",
      " 2   저자       455346 non-null  object \n",
      " 3   출판사      449810 non-null  object \n",
      " 4   발행년도     455512 non-null  object \n",
      " 5   ISBN     455556 non-null  object \n",
      " 6   세트 ISBN  27281 non-null   float64\n",
      " 7   권        71473 non-null   object \n",
      " 8   도서권수     455556 non-null  int64  \n",
      " 9   대출건수     455556 non-null  int64  \n",
      " 10  등록일자     455556 non-null  object \n",
      "dtypes: float64(1), int64(3), object(7)\n",
      "memory usage: 38.2+ MB\n"
     ]
    }
   ],
   "source": [
    "df.info()"
   ]
  }
 ],
 "metadata": {
  "kernelspec": {
   "display_name": "Python 3",
   "language": "python",
   "name": "python3"
  },
  "language_info": {
   "codemirror_mode": {
    "name": "ipython",
    "version": 3
   },
   "file_extension": ".py",
   "mimetype": "text/x-python",
   "name": "python",
   "nbconvert_exporter": "python",
   "pygments_lexer": "ipython3",
   "version": "3.13.2"
  }
 },
 "nbformat": 4,
 "nbformat_minor": 5
}
