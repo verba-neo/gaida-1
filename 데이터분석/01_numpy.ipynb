{
 "cells": [
  {
   "cell_type": "markdown",
   "id": "5dc318dc",
   "metadata": {},
   "source": [
    "# `01_numpy.ipynb`\n",
    "\n",
    "- 통계 vs 데이터분석 vs 머신러닝\n",
    "    - 데이터분석: **문제를 정의하고 인사이트 도출** (고객 구매 패턴 분석)\n",
    "    - 통계: 데이터를 **요약, 해석하는 수학** (평균, 분산)\n",
    "    - 머신러닝: 데이터를 학습하여 **예측** (스팸함 분류, 추천)\n",
    "- 데이터분석 : 데이터를 분석하여 의사결정에 도움을 준다.\n",
    "    - 의사결정 데이터 기반의 근거\n",
    "    - 패턴 발견, 예측 (머신 러닝)\n",
    "\n",
    "- DA Flow (흐름)\n",
    "    1. 문제 정의\n",
    "    1. **데이터 수집**\n",
    "    1. **데이터 정제(결측치, 이상치 처리)**\n",
    "    1. **탐색 - 시각화 - 통계분석 및 해석**\n",
    "    1. 결론 도출\n",
    "\n",
    "- 시트 vs DB vs Python\n",
    "    - 시트는 편함.\n",
    "    - DB는 대용량 CRUD (억단위)\n",
    "    - 파이썬 시각화, 분석, 머신러닝\n",
    "\n",
    "- 라이브러리\n",
    "    - `numpy`: 빠름(배열 연산) `파이썬 리스트 vs Numpy 배열 차이점`\n",
    "    - `pandas`: 표(DataFrame) -> `numpy` 기반으로 만들어 짐\n",
    "    - `matplotlib` : 시각화 기본(그래프)\n",
    "    - `seaborn` : 시각화 심화\n",
    "    - `scipy` : 고급 통계, 수학 연산\n",
    "    - `scikit-learn` : 머신러닝"
   ]
  },
  {
   "cell_type": "code",
   "execution_count": null,
   "id": "708badb4",
   "metadata": {},
   "outputs": [],
   "source": [
    "%pip install numpy"
   ]
  },
  {
   "cell_type": "code",
   "execution_count": null,
   "id": "2ce4fea9",
   "metadata": {},
   "outputs": [],
   "source": [
    "python_list = [1, 2, 3, 4, 5]\n",
    "# [2, 4, 6, 8, 10]\n",
    "result = [x*2 for x in python_list]\n",
    "print(result)"
   ]
  },
  {
   "cell_type": "code",
   "execution_count": null,
   "id": "7e393cbf",
   "metadata": {},
   "outputs": [],
   "source": [
    "import numpy as np\n",
    "\n",
    "array = np.array([1, 2, 3, 4, 5])\n",
    "result = array * 2\n",
    "print(result)"
   ]
  },
  {
   "cell_type": "code",
   "execution_count": null,
   "id": "40898781",
   "metadata": {},
   "outputs": [],
   "source": [
    "arr = np.array([1, 2, 3, 4, 5])\n",
    "print(arr, type(arr))\n",
    "print('차원', arr.ndim)\n",
    "print('형태', arr.shape)\n",
    "print('크기', arr.size)"
   ]
  },
  {
   "cell_type": "code",
   "execution_count": null,
   "id": "4f98a863",
   "metadata": {},
   "outputs": [],
   "source": [
    "arr1d = np.array([1, 2, 3, 4, 5])\n",
    "arr1d"
   ]
  },
  {
   "cell_type": "code",
   "execution_count": null,
   "id": "339e6a16",
   "metadata": {},
   "outputs": [],
   "source": [
    "l2d = [\n",
    "    [1, 2, 3],\n",
    "    [4, 5, 6],\n",
    "]\n",
    "arr2d = np.array(l2d)\n",
    "\n",
    "arr2d.ndim, arr2d.shape, arr2d.size, arr2d.dtype"
   ]
  },
  {
   "cell_type": "code",
   "execution_count": null,
   "id": "cc455548",
   "metadata": {},
   "outputs": [],
   "source": [
    "# 실수형 arr\n",
    "np.array([1, 2, 3], dtype=float)"
   ]
  },
  {
   "cell_type": "code",
   "execution_count": null,
   "id": "59070e9f",
   "metadata": {},
   "outputs": [],
   "source": [
    "# 0으로 채워짐\n",
    "z1d = np.zeros(5)\n",
    "z2d = np.zeros((2, 3))\n",
    "print(z1d)\n",
    "print(z2d)\n",
    "\n",
    "# 1로 채워짐\n",
    "o1d = np.ones(5)\n",
    "o2d = np.ones((2, 3))\n",
    "print(o1d)\n",
    "print(o2d)\n",
    "\n",
    "# n으로 채움 -> 5칸, 7로 채움\n",
    "n1d = np.full(5, 7)\n",
    "n2d = np.full((2, 3), 7)\n",
    "print(n1d)\n",
    "print(n2d)\n",
    "\n",
    "# 빈칸이지만 먼저 만듬\n",
    "empty = np.empty(3)\n",
    "print(empty)"
   ]
  },
  {
   "cell_type": "code",
   "execution_count": null,
   "id": "978b983c",
   "metadata": {},
   "outputs": [],
   "source": [
    "# 시퀀스 데이터\n",
    "\n",
    "# range\n",
    "range_arr = np.arange(0, 10, 2)\n",
    "print(range_arr)\n",
    "\n",
    "# 등간격 실수 배열\n",
    "lin_space = np.linspace(0, 1, 5)\n",
    "print(lin_space)\n",
    "\n",
    "# *로그스케일\n",
    "log_space = np.logspace(0, 2, 5)  # 10^0 ~ 10^2 5개 요소\n",
    "print(log_space)"
   ]
  },
  {
   "cell_type": "code",
   "execution_count": null,
   "id": "33addd5a",
   "metadata": {},
   "outputs": [],
   "source": [
    "# 난수 배열\n",
    "\n",
    "# 균등 분포 난수 (0~1) 사이를 균등활률 분포\n",
    "random = np.random.rand(3, 3)  # 0 ~ 1 실수\n",
    "print(random)\n",
    "\n",
    "# *정규 분포 난수\n",
    "normal = np.random.randn(3, 3)\n",
    "print(normal)\n",
    "\n",
    "# 정수 난수 (0 ~ 9, 3*3)\n",
    "int_random = np.random.randint(0, 10, (3, 3))\n",
    "print(int_random)\n",
    "\n",
    "# 시드 설정(랜덤 재현 가능)\n",
    "np.random.seed(42)  # 랜덤 상황 42 고정\n",
    "np.random.rand(3)"
   ]
  },
  {
   "cell_type": "code",
   "execution_count": null,
   "id": "051656f3",
   "metadata": {},
   "outputs": [],
   "source": [
    "# 배열의 데이터 타입\n",
    "# 데이터 타입 확인\n",
    "arr = np.array([1, 2, 3])\n",
    "print(arr.dtype)\n",
    "\n",
    "# 데이터 타입 지정 생성\n",
    "f_arr = np.array([1, 2, 3], dtype=np.float64)\n",
    "print(f_arr.dtype)\n",
    "\n",
    "# 데이터 타입 변경 (int -> float)\n",
    "converted = arr.astype(np.float32)\n",
    "print(converted.dtype)\n",
    "\n",
    "# 문자열 -> 숫자\n",
    "str_arr = np.array(['1.2', '2.3', '3.4'])\n",
    "num_arr = str_arr.astype(float)  # np.floatXX 라고 지정 안하고 float 쓰면 -> float64\n",
    "print(num_arr, num_arr.dtype)"
   ]
  },
  {
   "cell_type": "code",
   "execution_count": null,
   "id": "107b27a1",
   "metadata": {},
   "outputs": [],
   "source": [
    "# 1칸의 메모리 사용량\n",
    "print(arr.itemsize)  # int64 -> 8byte\n",
    "print(converted.itemsize)  # float32 -> 4byte\n",
    "\n",
    "# 총 메모리 사용량\n",
    "print(arr.nbytes)  # 8byte * 3칸\n",
    "print(converted.nbytes)"
   ]
  },
  {
   "cell_type": "code",
   "execution_count": null,
   "id": "102e7a17",
   "metadata": {},
   "outputs": [],
   "source": [
    "# 배열 재구성\n",
    "arr = np.arange(12)\n",
    "print(arr)\n",
    "\n",
    "reshaped2d = arr.reshape(3, 4)  # 3row * 4col\n",
    "print(reshaped2d)\n",
    "\n",
    "reshaped3d = arr.reshape(2, 2, 3)  # 2페이지, 2row * 3col\n",
    "print(reshaped3d)\n",
    "\n",
    "# 자동계산\n",
    "auto1 = arr.reshape(3, -1)  # row 3개, col 알아서\n",
    "auto2 = arr.reshape(-1, 6)  # row 알아서, col 6개\n",
    "\n",
    "print(auto1)\n",
    "print(auto2)"
   ]
  },
  {
   "cell_type": "code",
   "execution_count": null,
   "id": "7faf5c77",
   "metadata": {},
   "outputs": [],
   "source": [
    "# 1차원 -> N차원\n",
    "# reshape -> 원본 그대로, 새로운 배열 만드\n",
    "# resize  -> 원본을 바꿈\n",
    "\n",
    "arr = np.arange(12)\n",
    "reshaped = arr.reshape(3, 4)  # 새로운 배열 리턴\n",
    "print(reshaped)\n",
    "print(arr)\n",
    "\n",
    "arr.resize(3, 4)  # arr 이 바뀜\n",
    "print(arr)"
   ]
  },
  {
   "cell_type": "code",
   "execution_count": null,
   "id": "adad03c7",
   "metadata": {},
   "outputs": [],
   "source": [
    "# N차원 -> 1차원\n",
    "arr = np.array([[1, 2, 3], [4, 5, 6]])\n",
    "\n",
    "r = arr.ravel()    # 뷰(원본 연결) -> 빨리 펼쳐서 보기\n",
    "f = arr.flatten()  # 복사본       -> 안전하게 새로 만들어서 활용\n",
    "\n",
    "r[0] = 100\n",
    "f[0] = -100\n",
    "\n",
    "print(arr)\n",
    "print(r, f)"
   ]
  },
  {
   "cell_type": "code",
   "execution_count": null,
   "id": "4d4d721e",
   "metadata": {},
   "outputs": [],
   "source": [
    "# 전치 -> 행과 열을 교환\n",
    "arr_2d = np.array([[1, 2, 3], [4, 5, 6]])\n",
    "print(arr_2d)\n",
    "\n",
    "arr_2d.transpose(), arr_2d.T"
   ]
  },
  {
   "cell_type": "code",
   "execution_count": null,
   "id": "b729be4f",
   "metadata": {},
   "outputs": [],
   "source": [
    "# 1 ~ 15 정수 배열 ( arange vs array(range) )\n",
    "print(np.arange(1, 16), np.array(range(1, 16)))\n",
    "\n",
    "# 0 ~ 9까지 홀수\n",
    "print(np.arange(1, 10, 2))\n",
    "\n",
    "# 0 ~ 3까지 균등 6등분(5구간) 배열\n",
    "print(np.linspace(0, 3, 6))"
   ]
  },
  {
   "cell_type": "code",
   "execution_count": null,
   "id": "952898dc",
   "metadata": {},
   "outputs": [],
   "source": [
    "# 4 * 4 단위 행렬(identity matrix) -> 대각선1, 나머지0\n",
    "print(np.eye(4))\n",
    "\n",
    "# 3 * 4 사이즈의 1로 가득찬 int 배열\n",
    "print(np.ones((3, 4), dtype=int))\n",
    "\n",
    "# 2 * 3 * 4 사이즈 0~1 난수 배열  \n",
    "np.random.rand(2, 3, 4)      # 인자로 차원 지정 -> 오래된 버전에서 주로 씀\n",
    "np.random.random((2, 3, 4))  # 튜플로 차원 지정 -> 최신 버전에서 주로 씀"
   ]
  },
  {
   "cell_type": "markdown",
   "id": "2fd02f2c",
   "metadata": {},
   "source": [
    "## 배열의 인덱싱/슬라이싱"
   ]
  },
  {
   "cell_type": "code",
   "execution_count": null,
   "id": "cf41400b",
   "metadata": {},
   "outputs": [],
   "source": [
    "arr = np.array([10, 20, 30, 40, 50])\n",
    "# 접근\n",
    "print(arr[0], arr[2], arr[-1], arr[-2])\n",
    "\n",
    "# 변경\n",
    "arr[0] = 100\n",
    "print(arr)"
   ]
  },
  {
   "cell_type": "code",
   "execution_count": null,
   "id": "ce37f18f",
   "metadata": {},
   "outputs": [],
   "source": [
    "# arr_2d = np.array(range(1, 10)).reshape(3, 3)\n",
    "arr_2d = np.array(\n",
    "    [\n",
    "        [1, 2, 3],\n",
    "        [4, 5, 6],\n",
    "        [7, 8, 9]\n",
    "    ]\n",
    ")\n",
    "# Numpy 에서만 지원\n",
    "arr_2d[0, 0]  # arr_2d[0][0] -> r 0, c 0\n",
    "arr_2d[1, 1]\n",
    "\n",
    "arr_2d[1]  # 행 접근\n",
    "\n",
    "# 변경\n",
    "arr_2d[0, 0] = 100\n",
    "arr_2d\n"
   ]
  },
  {
   "cell_type": "code",
   "execution_count": null,
   "id": "c2b58735",
   "metadata": {},
   "outputs": [],
   "source": [
    "# 슬라이싱\n",
    "arr = np.arange(10)\n",
    "print(\n",
    "    arr[2:5],\n",
    "    arr[:5],\n",
    "    arr[5:]\n",
    ")\n",
    "\n",
    "print(\n",
    "    arr[1:8:2],\n",
    "    arr[::2]\n",
    ")\n",
    "\n",
    "print(\n",
    "    arr[::-1],\n",
    "    arr[7:2:-1]\n",
    ")\n",
    "\n",
    "# 슬라이싱으로 일괄 변경 (Python X)\n",
    "arr[3:6] = 100\n",
    "print(arr)"
   ]
  },
  {
   "cell_type": "code",
   "execution_count": null,
   "id": "9d06f06d",
   "metadata": {},
   "outputs": [],
   "source": [
    "# 다차원 배열 슬라이싱\n",
    "arr_2d = np.arange(1, 13).reshape(3, -1)\n",
    "print(arr_2d)\n",
    "\n",
    "# row(행) 슬라이싱 -> 0, 1 idx 행\n",
    "print(arr_2d[0:2])\n",
    "\n",
    "# col(열) 슬라이싱 -> 모든 행의 idx 1, 2 열\n",
    "print(arr_2d[:, 1:3])\n",
    "\n",
    "# row / col 동시 슬라이싱 -> 1, 2 행 / 0, 1 열 \n",
    "print(arr_2d[1:3, 0:2])\n",
    "\n",
    "# 간격지정  -> 행/열 모두 2간격\n",
    "print(arr_2d[::2, ::2])  "
   ]
  },
  {
   "cell_type": "code",
   "execution_count": null,
   "id": "68670cb8",
   "metadata": {},
   "outputs": [],
   "source": [
    "# 다차원 배열 슬라이싱으로 변경\n",
    "print(arr_2d)\n",
    "\n",
    "# 부분 배열 일괄 변경\n",
    "arr_2d[0:2, 0:2] = 0\n",
    "print(arr_2d)\n",
    "\n",
    "# 열 교체 (모든행, idx 3열) -> 벡터 ->  교체 -> 원본 matrix 의 열이 바뀜\n",
    "arr_2d[:, 3] = [100, 200, 300]\n",
    "\n",
    "print(arr_2d)\n"
   ]
  },
  {
   "cell_type": "code",
   "execution_count": null,
   "id": "80d788fc",
   "metadata": {},
   "outputs": [],
   "source": [
    "# boolean 인덱싱\n",
    "# 조건에 따라 배열 요소 선택\n",
    "\n",
    "arr = np.arange(1, 6)  # [1, 2, 3, 4, 5]\n",
    "\n",
    "# 마스킹 -> T/F 로 바꿈\n",
    "mask = arr > 3\n",
    "print(mask, arr)\n",
    "\n",
    "# 마스킹 배열로 필터링\n",
    "print(arr[mask])\n",
    "\n",
    "# 직접 조건\n",
    "print(arr[arr > 3])\n",
    "\n",
    "# 다중조건\n",
    "print(arr[ (arr > 2) & (arr < 5) ])  # and\n",
    "print(arr[ (arr == 1) | (arr > 3) ])  # or"
   ]
  },
  {
   "cell_type": "code",
   "execution_count": null,
   "id": "b12bfa98",
   "metadata": {},
   "outputs": [],
   "source": [
    "# 2차원 배열 불리언 인덱싱\n",
    "arr_2d = np.arange(1, 10).reshape(3, 3)\n",
    "\n",
    "mask = arr_2d > 5\n",
    "\n",
    "# 원본 matrix 형태 없음. True 로 필터된 애들만 Vector로 나옴\n",
    "print(arr_2d[mask])  \n",
    "print(arr_2d[arr_2d < 6])\n",
    "\n",
    "# 조건에 맞는 행만 선택\n",
    "row_mask = np.array([True, False, True])\n",
    "print(arr_2d)\n",
    "print(arr_2d[row_mask])  # row T, F, T -> 0, 2 row 만 뽑음\n"
   ]
  },
  {
   "cell_type": "code",
   "execution_count": null,
   "id": "05e716aa",
   "metadata": {},
   "outputs": [],
   "source": [
    "# Fancy 인덱싱\n",
    "arr = np.arange(10, 60, 10)\n",
    "print(arr)\n",
    "# arr[1, 2]  -> arr[1][2]\n",
    "print(arr[ [1, 2] ])  # -> arr[1], arr[2] 를 뽑아라\n",
    "print(arr[ [0, 2, 3] ])  # -> arr[0], arr[2], arr[3] 만 가져와라\n",
    "\n",
    "print(arr[[0, 0, 1, 1, 2, 3, 4, 2, 1]])\n",
    "print(arr[[4, 2, 3, 1, 0]])\n"
   ]
  },
  {
   "cell_type": "code",
   "execution_count": null,
   "id": "e7732472",
   "metadata": {},
   "outputs": [],
   "source": [
    "arr_2d = np.arange(1, 10).reshape(3, 3)\n",
    "print(arr_2d)\n",
    "\n",
    "print(arr_2d[0])  # row 0\n",
    "\n",
    "# 특정 행만 선택\n",
    "print(arr_2d[ [0, 2] ])  # row 0, 2\n",
    "\n",
    "print()\n",
    "\n",
    "# 행과, 열 동시에 선택\n",
    "print(\n",
    "    arr_2d[  # (0, 0), (1, 2), (2, 1) 순서로 벡터 만듬\n",
    "        [0, 1, 2],\n",
    "        [0, 2, 1]\n",
    "    ]\n",
    ")\n",
    "\n",
    "# 행렬의 열을 순서 바꾸기\n",
    "print(\n",
    "    arr_2d[\n",
    "        :,         # 모든 행\n",
    "        [2, 0, 1]  # 열 idx를 이렇게 바꿔라\n",
    "    ]\n",
    ")"
   ]
  },
  {
   "cell_type": "code",
   "execution_count": null,
   "id": "fcbdde25",
   "metadata": {},
   "outputs": [],
   "source": [
    "# 10부터 20까지의 정수 배열 생성\n",
    "arr = np.arange(10, 21)\n",
    "print('원본', arr)\n",
    "\n",
    "# 문제1: 배열의 첫 번째, 세 번째, 마지막 요소 출력\n",
    "print(\n",
    "    arr[0],\n",
    "    arr[2],\n",
    "    arr[-1]\n",
    ")\n",
    "\n",
    "# 문제2: 인덱스 2부터 5까지 요소 출력\n",
    "print(arr[2:6])\n",
    "\n",
    "# 문제3: 처음부터 5번째 요소까지 모든 짝수 인덱스 요소 출력\n",
    "print(arr[0:6:2])\n",
    "\n",
    "# 문제4: 배열의 요소를 역순으로 출력\n",
    "print(arr[::-1])\n"
   ]
  },
  {
   "cell_type": "code",
   "execution_count": null,
   "id": "12031a1f",
   "metadata": {},
   "outputs": [],
   "source": [
    "# 3 * 4 matrix\n",
    "matrix = np.arange(12).reshape(3, 4)\n",
    "print('원본', matrix)\n",
    "\n",
    "# 문제1: (1,2) 위치의 요소 출력\n",
    "print(matrix[1, 2])  # matrix[1][2]\n",
    "\n",
    "# 문제2: 두 번째 행 전체 출력\n",
    "matrix[1]\n",
    "\n",
    "# 문제3: 마지막 열 전체 출력\n",
    "matrix[:, -1] \n",
    "\n",
    "# 문제4: 첫 번째와 세 번째 행의 두 번째와 네 번째 열 요소만 추출\n",
    "matrix[[0, 2], :][:, [1, 3]]  # matrix[np.ix_([0, 2], [1, 3])]"
   ]
  },
  {
   "cell_type": "code",
   "execution_count": null,
   "id": "c52d3491",
   "metadata": {},
   "outputs": [],
   "source": [
    "arr = np.arange(1, 21)\n",
    "print('원본', arr)\n",
    "\n",
    "# 문제1: 5의 배수만 선택하여 출력\n",
    "print(arr[arr % 5 == 0])\n",
    "# 문제2: 3보다 크고 15보다 작은 요소 선택\n",
    "print(arr[(arr>3) & (arr < 15)])\n",
    "# 문제3: 7의 배수이거나 홀수인 요소 선택\n",
    "print(arr[(arr%7==0) | (arr%2==1)])"
   ]
  },
  {
   "cell_type": "code",
   "execution_count": null,
   "id": "854aff28",
   "metadata": {},
   "outputs": [],
   "source": [
    "matrix = np.arange(1, 21).reshape(5, 4)\n",
    "print('원본', matrix)\n",
    "\n",
    "# 문제4: 10보다 큰 요소만 100으로 변경 (슬라이싱/불리언인덱싱 -> 뷰 생성 (원본데이터 연결))\n",
    "print(matrix[matrix>10])\n",
    "matrix[matrix>10] = 100\n",
    "print(matrix)"
   ]
  },
  {
   "cell_type": "markdown",
   "id": "119cbb90",
   "metadata": {},
   "source": [
    "## 선형대수 연산\n",
    "\n",
    "### 배열 <-> 배열 연산"
   ]
  },
  {
   "cell_type": "code",
   "execution_count": null,
   "id": "70810cb1",
   "metadata": {},
   "outputs": [],
   "source": [
    "a = np.array([1, 2, 3, 4])\n",
    "b = np.array([5, 6, 7, 8])\n",
    "\n",
    "print(a + b)\n",
    "print(a - b)\n",
    "print(a * b)\n",
    "print(a / b)\n",
    "\n",
    "print(a ** 2)\n",
    "print(a ** b)"
   ]
  },
  {
   "cell_type": "code",
   "execution_count": null,
   "id": "9d585dc4",
   "metadata": {},
   "outputs": [],
   "source": [
    "a = np.array([True, False, True, False])\n",
    "b = np.array([False, True, True, False])\n",
    "\n",
    "# 논리연산\n",
    "# AND\n",
    "print(a & b)\n",
    "# OR\n",
    "print(a | b)\n",
    "# NOT\n",
    "print(~a)"
   ]
  },
  {
   "cell_type": "markdown",
   "id": "21f8e116",
   "metadata": {},
   "source": [
    "### 벡터(1줄) <-> 스칼라(단일값) 연산\n",
    "> Broadcasting (스칼라가 배열 크기에 맞게 확장)"
   ]
  },
  {
   "cell_type": "code",
   "execution_count": null,
   "id": "83142ec0",
   "metadata": {},
   "outputs": [],
   "source": [
    "# 배열 생성\n",
    "arr = np.array([1, 2, 3, 4, 5])\n",
    "\n",
    "# 스칼라 덧셈\n",
    "print(arr + 10)     # [11 12 13 14 15]\n",
    "\n",
    "# 스칼라 뺄셈\n",
    "print(arr - 1)      # [0 1 2 3 4]\n",
    "\n",
    "# 스칼라 곱셈\n",
    "print(arr * 2)      # [2 4 6 8 10]\n",
    "\n",
    "# 스칼라 나눗셈\n",
    "print(arr / 2)      # [0.5 1.  1.5 2.  2.5]\n",
    "\n",
    "# 스칼라 거듭제곱\n",
    "print(arr ** 2)     # [ 1  4  9 16 25]\n",
    "\n",
    "# 스칼라 비교 (불리언 배열)\n",
    "print(arr > 3)      # [False False False  True  True]\n",
    "print(arr == 2)     # [False  True False False False]"
   ]
  },
  {
   "cell_type": "markdown",
   "id": "dd067f50",
   "metadata": {},
   "source": [
    "### 매트릭스(행렬) <-> 스칼라(단일값) 연산"
   ]
  },
  {
   "cell_type": "code",
   "execution_count": null,
   "id": "186ccc36",
   "metadata": {},
   "outputs": [],
   "source": [
    "# 2차원 배열\n",
    "arr_2d = np.array([[1, 2, 3], [4, 5, 6]])\n",
    "\n",
    "# 스칼라 연산\n",
    "print(arr_2d + 10)\n",
    "\n",
    "print(arr_2d * 3)"
   ]
  },
  {
   "cell_type": "markdown",
   "id": "b0232f7d",
   "metadata": {},
   "source": [
    "### 매트릭스(행렬) <-> 벡터(1줄) 연산"
   ]
  },
  {
   "cell_type": "code",
   "execution_count": null,
   "id": "4f1b2bcf",
   "metadata": {},
   "outputs": [],
   "source": [
    "matrix = np.array([[1, 2, 3], [4, 5, 6]])\n",
    "vector = np.array([10, 20, 30])\n",
    "\n",
    "# 행렬 + 행 벡터\n",
    "print(matrix + vector)\n",
    "\n",
    "# 열 벡터 브로드캐스팅\n",
    "col_vec = np.array(\n",
    "    [\n",
    "        [100],\n",
    "        [200]\n",
    "    ]\n",
    ")\n",
    "print(matrix + col_vec)"
   ]
  },
  {
   "cell_type": "code",
   "execution_count": null,
   "id": "3eb12c02",
   "metadata": {},
   "outputs": [],
   "source": [
    "matrix = np.array([[1, 2, 3], [4, 5, 6]])\n",
    "vector = np.array([10, 20, 30])\n",
    "\n",
    "print('Matrix shape', matrix.shape)\n",
    "print('Vector shape', vector.shape)\n",
    "# 1. Vector(3,  ) 가 앞에 1이 추가됨. -> Matrix (1, 3) 으로 변함.\n",
    "# 2. 더해야하는 matrix(2, 3)이랑 줄수가 같을때 까지 row 복사함.\n",
    "print('Matrix + Vector')\n",
    "print(matrix + vector)"
   ]
  },
  {
   "cell_type": "code",
   "execution_count": null,
   "id": "621b6aa5",
   "metadata": {},
   "outputs": [],
   "source": [
    "# 브로드 캐스팅 가능한 경우 (Shape 확인을 하자!)\n",
    "\n",
    "A = np.ones((3, 2))       # 3x2 배열\n",
    "B = np.ones((2,))         # 길이 2인 1차원 배열 (1x2로 해석) (행벡터)\n",
    "C = np.ones((3, 1))       # 3x1 배열 (사실상 열벡터)\n",
    "\n",
    "print(\"A + B 형태:\", (A + B).shape)  # (3, 2) - B는 각 행에 브로드캐스팅\n",
    "print(A + B)\n",
    "\n",
    "\n",
    "print(\"A + C 형태:\", (A + C).shape)  # (3, 2) - C는 각 열에 브로드캐스팅\n",
    "print(A + C)"
   ]
  },
  {
   "cell_type": "code",
   "execution_count": null,
   "id": "36ef4db3",
   "metadata": {},
   "outputs": [],
   "source": [
    "# 뷰(원본 데이터와 링크) 와 복사본(완전 별도) 차이\n",
    "arr = np.arange(1, 6)\n",
    "print(arr)\n",
    "\n",
    "# 슬라이싱 -> 뷰 생성\n",
    "view = arr[1:4]\n",
    "print(view)\n",
    "\n",
    "view[0] = 20\n",
    "print(arr)\n",
    "\n",
    "# 복사본..?\n",
    "copy = arr.copy()\n",
    "copy[0] = 100\n",
    "print(arr, copy)"
   ]
  },
  {
   "cell_type": "code",
   "execution_count": null,
   "id": "06df45f4",
   "metadata": {},
   "outputs": [],
   "source": [
    "# 연산중 데이터 자동 변환\n",
    "int_arr = np.array([1, 2, 3])\n",
    "float_arr = np.array([1.5, 2.5, 3.5])\n",
    "\n",
    "# int + float = float\n",
    "print(int_arr + float_arr)\n",
    "\n",
    "# int / int = float\n",
    "print(int_arr / 2)\n",
    "\n",
    "# int // int = int\n",
    "print(int_arr // 2)"
   ]
  },
  {
   "cell_type": "code",
   "execution_count": null,
   "id": "e9d92803",
   "metadata": {},
   "outputs": [],
   "source": [
    "arr1 = np.array([8, 12, 6, 10])\n",
    "arr2 = np.array([3, 4,  1, 20])\n",
    "\n",
    "print(arr1 ** 2)\n",
    "print(arr1 ** 0.5, np.sqrt(arr1))  # 루트. 같은 결과\n",
    "\n",
    "# 각 자리마다 최대값만 모음\n",
    "print(np.maximum(arr1, arr2))\n",
    "\n",
    "# arr1 + arr2 의 모든 자리수를 더한 총합\n",
    "print(np.sum(arr1 + arr2))"
   ]
  },
  {
   "cell_type": "code",
   "execution_count": null,
   "id": "6d38d151",
   "metadata": {},
   "outputs": [],
   "source": [
    "1e-1"
   ]
  },
  {
   "cell_type": "code",
   "execution_count": null,
   "id": "f4f56d95",
   "metadata": {},
   "outputs": [],
   "source": [
    "# 테스트 배열\n",
    "x = np.array([0, np.pi/4, np.pi/2, np.pi])\n",
    "y = np.array([1, 2, 3, 4])\n",
    "\n",
    "# 삼각함수\n",
    "print(\"sin(x) =\", np.sin(x))  # [0., 0.70710678, 1., 0.]\n",
    "print(\"cos(x) =\", np.cos(x))  # [1., 0.70710678, 0., -1.]\n",
    "print(\"tan(x) =\", np.tan(x))  # [0., 1., 16331239353195370., 0.]\n",
    "\n",
    "# 역삼각함수\n",
    "print(\"arcsin(sin(x)) =\", np.arcsin(np.sin(x)))\n",
    "\n",
    "# 지수와 로그 \n",
    "\n",
    "# 자연상수 e^x -> e^1, e^2, e^3, e^4\n",
    "print(\"exp(y) =\", np.exp(y))  # [2.71828183, 7.3890561, 20.08553692, 54.59815003]\n",
    "# 자연상수 log e\n",
    "print(\"log(y) =\", np.log(y))  # [0., 0.69314718, 1.09861229, 1.38629436]\n",
    "print(\"log10(y) =\", np.log10(y))  # [0., 0.30103, 0.47712125, 0.60205999]\n",
    "print(\"log2(y) =\", np.log2(y))  # [0., 1., 1.58496250, 2.]\n",
    "\n",
    "# 제곱근과 거듭제곱\n",
    "print(\"sqrt(y) =\", np.sqrt(y))  # [1., 1.41421356, 1.73205081, 2.]\n",
    "print(\"power(y, 2) =\", np.power(y, 2))  # [1, 4, 9, 16]\n",
    "print(\"power(y, 3) =\", np.power(y, 3))  # [1, 8, 27, 64]\n",
    "\n",
    "# 절대값과 부호\n",
    "z = np.array([-2, -1, 0, 1, 2])\n",
    "print(\"abs(z) =\", np.abs(z))  # [2 1 0 1 2]\n",
    "print(\"sign(z) =\", np.sign(z))  # [-1 -1  0  1  1]\n",
    "\n",
    "# 소수점 처리\n",
    "w = np.array([1.2, 2.7, 3.5, 4.9])\n",
    "print(\"floor(w) =\", np.floor(w))  # [1. 2. 3. 4.] (내림)\n",
    "print(\"ceil(w) =\", np.ceil(w))   # [2. 3. 4. 5.] (올림)\n",
    "print(\"round(w) =\", np.round(w))  # [1. 3. 4. 5.] (반올림)\n",
    "print(\"trunc(w) =\", np.trunc(w))  # [1. 2. 3. 4.] (소수점 버림)"
   ]
  },
  {
   "cell_type": "code",
   "execution_count": null,
   "id": "b4d97f08",
   "metadata": {},
   "outputs": [],
   "source": [
    "arr = np.array([\n",
    "    [1, 2, 3], \n",
    "    [4, 5, 6], \n",
    "    [7, 8, 9]\n",
    "])\n",
    "\n",
    "# 기본 집계\n",
    "print(\"합계:\", np.sum(arr))          # 45\n",
    "print(\"평균:\", np.mean(arr))         # 5.0\n",
    "print(\"최소값:\", np.min(arr))        # 1\n",
    "print(\"최대값:\", np.max(arr))        # 9\n",
    "print(\"표준편차:\", np.std(arr))      # 2.581988897471611\n",
    "print(\"분산:\", np.var(arr))          # 6.666666666666667\n",
    "\n",
    "# 축을 따라 집계\n",
    "print(\"행별 합계:\", np.sum(arr, axis=1))  # [ 6 15 24]\n",
    "print(\"열별 합계:\", np.sum(arr, axis=0))  # [12 15 18]\n",
    "print(\"행별 평균:\", np.mean(arr, axis=1))  # [2. 5. 8.]\n",
    "print(\"열별 평균:\", np.mean(arr, axis=0))  # [4. 5. 6.]\n",
    "print(\"행별 최소값:\", np.min(arr, axis=1))  # [1 4 7]\n",
    "print(\"열별 최소값:\", np.min(arr, axis=0))  # [1 2 3]"
   ]
  },
  {
   "cell_type": "code",
   "execution_count": null,
   "id": "e84c46f6",
   "metadata": {},
   "outputs": [],
   "source": [
    "arr = np.array([\n",
    "    [1, 2, 3], \n",
    "    [4, 5, 6], \n",
    "    [7, 8, 9]\n",
    "])\n",
    "\n",
    "# 누적 합계 (cumulative sum)\n",
    "print(\"누적 합계:\", np.cumsum(arr))  # [ 1  3  6 10 15 21 28 36 45]\n",
    "print(\"행별 누적 합계:\")\n",
    "print(np.cumsum(arr, axis=1))\n",
    "# [[ 1  3  6]\n",
    "#  [ 4  9 15]\n",
    "#  [ 7 15 24]]\n",
    "\n",
    "# 누적 곱 (cumulative product)\n",
    "print(\"누적 곱:\", np.cumprod(arr))  # [1 2 6 24 120 720 5040 40320 362880]\n",
    "\n",
    "# 중앙값 (median)\n",
    "print(\"중앙값:\", np.median(arr))        # 5.0\n",
    "print(\"행별 중앙값:\", np.median(arr, axis=1))  # [2. 5. 8.]\n",
    "print(\"열별 중앙값:\", np.median(arr, axis=0))  # [4. 5. 6.]\n",
    "\n",
    "# 백분위수 (percentile)\n",
    "print(\"25% 백분위수:\", np.percentile(arr, 25))  # 3.0\n",
    "print(\"50% 백분위수:\", np.percentile(arr, 50))  # 5.0 (중앙값과 동일)\n",
    "print(\"75% 백분위수:\", np.percentile(arr, 75))  # 7.0\n",
    "\n",
    "# 가중 평균 (weighted average)\n",
    "weights = np.array([0.1, 0.3, 0.6])  # 가중치\n",
    "data = np.array([2, 5, 8])\n",
    "print(\"가중 평균:\", np.average(data, weights=weights))  # 6.5 "
   ]
  },
  {
   "cell_type": "code",
   "execution_count": null,
   "id": "40f113f4",
   "metadata": {},
   "outputs": [],
   "source": [
    "# 배열 분할\n",
    "# 샘플 배열\n",
    "arr = np.arange(12)  # [ 0  1  2  3  4  5  6  7  8  9 10 11]\n",
    "\n",
    "# 균등 분할\n",
    "print(\"3개로 균등 분할:\")\n",
    "print(np.split(arr, 3))  # [array([0, 1, 2, 3]), array([4, 5, 6, 7]), array([ 8,  9, 10, 11])]\n",
    "\n",
    "# 위치 지정 분할\n",
    "print(\"위치 지정 분할 (인덱스 3, 8 기준):\")\n",
    "print(np.split(arr, [3, 8]))  # [array([0, 1, 2]), array([3, 4, 5, 6, 7]), array([ 8,  9, 10, 11])]\n",
    "\n",
    "# 2차원 배열 분할\n",
    "arr_2d = np.arange(16).reshape(4, 4)\n",
    "print(\"2차원 배열:\")\n",
    "print(arr_2d)\n",
    "\n",
    "# 행 방향 분할\n",
    "print(\"행 방향 분할:\")\n",
    "print(np.split(arr_2d, 2, axis=0))  # 2개 배열로 (각 2x4)\n",
    "print(np.vsplit(arr_2d, 2))  # 동일한 결과\n",
    "\n",
    "# 열 방향 분할\n",
    "print(\"열 방향 분할:\")\n",
    "print(np.split(arr_2d, 2, axis=1))  # 2개 배열로 (각 4x2)\n",
    "print(np.hsplit(arr_2d, 2))  # 동일한 결과"
   ]
  },
  {
   "cell_type": "code",
   "execution_count": null,
   "id": "85a71a54",
   "metadata": {},
   "outputs": [],
   "source": [
    "# 벡터를 차원 확장 (행이냐 열이냐)\n",
    "arr = np.array([1, 2, 3, 4])\n",
    "print(arr)\n",
    "\n",
    "# row vector -> [ [1 2 3 4] ]\n",
    "row_vector = np.expand_dims(arr, axis=0)\n",
    "print(row_vector)\n",
    "row_vector2 = arr[np.newaxis, :]\n",
    "print(row_vector2)\n",
    "\n",
    "# col vector -> [ [1] [2] [3] [4] ]\n",
    "col_vector = np.expand_dims(arr, axis=1)\n",
    "print(col_vector)\n",
    "col_vector2 = arr[:, np.newaxis]\n",
    "print(col_vector2)"
   ]
  },
  {
   "cell_type": "code",
   "execution_count": null,
   "id": "05961f45",
   "metadata": {},
   "outputs": [
    {
     "name": "stdout",
     "output_type": "stream",
     "text": [
      "[[[1]\n",
      "  [2]\n",
      "  [3]]] (1, 3, 1)\n",
      "[1 2 3]\n",
      "[[[1 2 3]]] (1, 1, 3)\n",
      "[[1 2 3]]\n"
     ]
    }
   ],
   "source": [
    "# 차원 축소\n",
    "arr = np.array([ [ [1], [2], [3] ] ])\n",
    "print(arr, arr.shape)\n",
    "\n",
    "# 모든 단일차원(shape에서 1 나온 것들) 제거\n",
    "print(np.squeeze(arr))  #  [1 2 3]\n",
    "\n",
    "# 특정 축만 제거\n",
    "arr2 = np.array([ [ [ 1, 2, 3 ] ] ])\n",
    "print(arr2, arr2.shape)  # 1 1 3\n",
    "\n",
    "print(np.squeeze(arr2, axis=1))  # 1 3 "
   ]
  }
 ],
 "metadata": {
  "kernelspec": {
   "display_name": "Python 3",
   "language": "python",
   "name": "python3"
  },
  "language_info": {
   "codemirror_mode": {
    "name": "ipython",
    "version": 3
   },
   "file_extension": ".py",
   "mimetype": "text/x-python",
   "name": "python",
   "nbconvert_exporter": "python",
   "pygments_lexer": "ipython3",
   "version": "3.13.2"
  }
 },
 "nbformat": 4,
 "nbformat_minor": 5
}
