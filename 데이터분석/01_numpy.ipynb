{
 "cells": [
  {
   "cell_type": "markdown",
   "id": "5dc318dc",
   "metadata": {},
   "source": [
    "# `01_numpy.ipynb`\n",
    "\n",
    "- 통계 vs 데이터분석 vs 머신러닝\n",
    "    - 데이터분석: **문제를 정의하고 인사이트 도출** (고객 구매 패턴 분석)\n",
    "    - 통계: 데이터를 **요약, 해석하는 수학** (평균, 분산)\n",
    "    - 머신러닝: 데이터를 학습하여 **예측** (스팸함 분류, 추천)\n",
    "- 데이터분석 : 데이터를 분석하여 의사결정에 도움을 준다.\n",
    "    - 의사결정 데이터 기반의 근거\n",
    "    - 패턴 발견, 예측 (머신 러닝)\n",
    "\n",
    "- DA Flow (흐름)\n",
    "    1. 문제 정의\n",
    "    1. **데이터 수집**\n",
    "    1. **데이터 정제(결측치, 이상치 처리)**\n",
    "    1. **탐색 - 시각화 - 통계분석 및 해석**\n",
    "    1. 결론 도출\n",
    "\n",
    "- 시트 vs DB vs Python\n",
    "    - 시트는 편함.\n",
    "    - DB는 대용량 CRUD (억단위)\n",
    "    - 파이썬 시각화, 분석, 머신러닝\n",
    "\n",
    "- 라이브러리\n",
    "    - `numpy`: 빠름(배열 연산) `파이썬 리스트 vs Numpy 배열 차이점`\n",
    "    - `pandas`: 표(DataFrame) -> `numpy` 기반으로 만들어 짐\n",
    "    - `matplotlib` : 시각화 기본(그래프)\n",
    "    - `seaborn` : 시각화 심화\n",
    "    - `scipy` : 고급 통계, 수학 연산\n",
    "    - `scikit-learn` : 머신러닝"
   ]
  },
  {
   "cell_type": "code",
   "execution_count": null,
   "id": "708badb4",
   "metadata": {},
   "outputs": [],
   "source": [
    "%pip install numpy"
   ]
  },
  {
   "cell_type": "code",
   "execution_count": null,
   "id": "2ce4fea9",
   "metadata": {},
   "outputs": [],
   "source": [
    "python_list = [1, 2, 3, 4, 5]\n",
    "# [2, 4, 6, 8, 10]\n",
    "result = [x*2 for x in python_list]\n",
    "print(result)"
   ]
  },
  {
   "cell_type": "code",
   "execution_count": null,
   "id": "7e393cbf",
   "metadata": {},
   "outputs": [],
   "source": [
    "import numpy as np\n",
    "\n",
    "array = np.array([1, 2, 3, 4, 5])\n",
    "result = array * 2\n",
    "print(result)"
   ]
  },
  {
   "cell_type": "code",
   "execution_count": null,
   "id": "40898781",
   "metadata": {},
   "outputs": [],
   "source": [
    "arr = np.array([1, 2, 3, 4, 5])\n",
    "print(arr, type(arr))\n",
    "print('차원', arr.ndim)\n",
    "print('형태', arr.shape)\n",
    "print('크기', arr.size)"
   ]
  },
  {
   "cell_type": "code",
   "execution_count": null,
   "id": "4f98a863",
   "metadata": {},
   "outputs": [],
   "source": [
    "arr1d = np.array([1, 2, 3, 4, 5])\n",
    "arr1d"
   ]
  },
  {
   "cell_type": "code",
   "execution_count": null,
   "id": "339e6a16",
   "metadata": {},
   "outputs": [],
   "source": [
    "l2d = [\n",
    "    [1, 2, 3],\n",
    "    [4, 5, 6],\n",
    "]\n",
    "arr2d = np.array(l2d)\n",
    "\n",
    "arr2d.ndim, arr2d.shape, arr2d.size, arr2d.dtype"
   ]
  },
  {
   "cell_type": "code",
   "execution_count": null,
   "id": "cc455548",
   "metadata": {},
   "outputs": [],
   "source": [
    "# 실수형 arr\n",
    "np.array([1, 2, 3], dtype=float)"
   ]
  },
  {
   "cell_type": "code",
   "execution_count": null,
   "id": "59070e9f",
   "metadata": {},
   "outputs": [],
   "source": [
    "# 0으로 채워짐\n",
    "z1d = np.zeros(5)\n",
    "z2d = np.zeros((2, 3))\n",
    "print(z1d)\n",
    "print(z2d)\n",
    "\n",
    "# 1로 채워짐\n",
    "o1d = np.ones(5)\n",
    "o2d = np.ones((2, 3))\n",
    "print(o1d)\n",
    "print(o2d)\n",
    "\n",
    "# n으로 채움 -> 5칸, 7로 채움\n",
    "n1d = np.full(5, 7)\n",
    "n2d = np.full((2, 3), 7)\n",
    "print(n1d)\n",
    "print(n2d)\n",
    "\n",
    "# 빈칸이지만 먼저 만듬\n",
    "empty = np.empty(3)\n",
    "print(empty)"
   ]
  },
  {
   "cell_type": "code",
   "execution_count": null,
   "id": "978b983c",
   "metadata": {},
   "outputs": [],
   "source": [
    "# 시퀀스 데이터\n",
    "\n",
    "# range\n",
    "range_arr = np.arange(0, 10, 2)\n",
    "print(range_arr)\n",
    "\n",
    "# 등간격 실수 배열\n",
    "lin_space = np.linspace(0, 1, 5)\n",
    "print(lin_space)\n",
    "\n",
    "# *로그스케일\n",
    "log_space = np.logspace(0, 2, 5)  # 10^0 ~ 10^2 5개 요소\n",
    "print(log_space)"
   ]
  },
  {
   "cell_type": "code",
   "execution_count": null,
   "id": "33addd5a",
   "metadata": {},
   "outputs": [],
   "source": [
    "# 난수 배열\n",
    "\n",
    "# 균등 분포 난수 (0~1) 사이를 균등활률 분포\n",
    "random = np.random.rand(3, 3)  # 0 ~ 1 실수\n",
    "print(random)\n",
    "\n",
    "# *정규 분포 난수\n",
    "normal = np.random.randn(3, 3)\n",
    "print(normal)\n",
    "\n",
    "# 정수 난수 (0 ~ 9, 3*3)\n",
    "int_random = np.random.randint(0, 10, (3, 3))\n",
    "print(int_random)\n",
    "\n",
    "# 시드 설정(랜덤 재현 가능)\n",
    "np.random.seed(42)  # 랜덤 상황 42 고정\n",
    "np.random.rand(3)"
   ]
  },
  {
   "cell_type": "code",
   "execution_count": null,
   "id": "051656f3",
   "metadata": {},
   "outputs": [],
   "source": [
    "# 배열의 데이터 타입\n",
    "# 데이터 타입 확인\n",
    "arr = np.array([1, 2, 3])\n",
    "print(arr.dtype)\n",
    "\n",
    "# 데이터 타입 지정 생성\n",
    "f_arr = np.array([1, 2, 3], dtype=np.float64)\n",
    "print(f_arr.dtype)\n",
    "\n",
    "# 데이터 타입 변경 (int -> float)\n",
    "converted = arr.astype(np.float32)\n",
    "print(converted.dtype)\n",
    "\n",
    "# 문자열 -> 숫자\n",
    "str_arr = np.array(['1.2', '2.3', '3.4'])\n",
    "num_arr = str_arr.astype(float)  # np.floatXX 라고 지정 안하고 float 쓰면 -> float64\n",
    "print(num_arr, num_arr.dtype)"
   ]
  },
  {
   "cell_type": "code",
   "execution_count": null,
   "id": "107b27a1",
   "metadata": {},
   "outputs": [],
   "source": [
    "# 1칸의 메모리 사용량\n",
    "print(arr.itemsize)  # int64 -> 8byte\n",
    "print(converted.itemsize)  # float32 -> 4byte\n",
    "\n",
    "# 총 메모리 사용량\n",
    "print(arr.nbytes)  # 8byte * 3칸\n",
    "print(converted.nbytes)"
   ]
  },
  {
   "cell_type": "code",
   "execution_count": null,
   "id": "102e7a17",
   "metadata": {},
   "outputs": [],
   "source": [
    "# 배열 재구성\n",
    "arr = np.arange(12)\n",
    "print(arr)\n",
    "\n",
    "reshaped2d = arr.reshape(3, 4)  # 3row * 4col\n",
    "print(reshaped2d)\n",
    "\n",
    "reshaped3d = arr.reshape(2, 2, 3)  # 2페이지, 2row * 3col\n",
    "print(reshaped3d)\n",
    "\n",
    "# 자동계산\n",
    "auto1 = arr.reshape(3, -1)  # row 3개, col 알아서\n",
    "auto2 = arr.reshape(-1, 6)  # row 알아서, col 6개\n",
    "\n",
    "print(auto1)\n",
    "print(auto2)"
   ]
  },
  {
   "cell_type": "code",
   "execution_count": null,
   "id": "7faf5c77",
   "metadata": {},
   "outputs": [],
   "source": [
    "# 1차원 -> N차원\n",
    "# reshape -> 원본 그대로, 새로운 배열 만드\n",
    "# resize  -> 원본을 바꿈\n",
    "\n",
    "arr = np.arange(12)\n",
    "reshaped = arr.reshape(3, 4)  # 새로운 배열 리턴\n",
    "print(reshaped)\n",
    "print(arr)\n",
    "\n",
    "arr.resize(3, 4)  # arr 이 바뀜\n",
    "print(arr)"
   ]
  },
  {
   "cell_type": "code",
   "execution_count": null,
   "id": "adad03c7",
   "metadata": {},
   "outputs": [],
   "source": [
    "# N차원 -> 1차원\n",
    "arr = np.array([[1, 2, 3], [4, 5, 6]])\n",
    "\n",
    "r = arr.ravel()    # 뷰(원본 연결) -> 빨리 펼쳐서 보기\n",
    "f = arr.flatten()  # 복사본       -> 안전하게 새로 만들어서 활용\n",
    "\n",
    "r[0] = 100\n",
    "f[0] = -100\n",
    "\n",
    "print(arr)\n",
    "print(r, f)\n"
   ]
  },
  {
   "cell_type": "code",
   "execution_count": null,
   "id": "b729be4f",
   "metadata": {},
   "outputs": [],
   "source": [
    "# 1 ~ 15 정수 배열 ( arange vs array(range) )\n",
    "print(np.arange(1, 16), np.array(range(1, 16)))\n",
    "\n",
    "# 0 ~ 9까지 홀수\n",
    "print(np.arange(1, 10, 2))\n",
    "\n",
    "# 0 ~ 3까지 균등 6등분(5구간) 배열\n",
    "print(np.linspace(0, 3, 6))"
   ]
  },
  {
   "cell_type": "code",
   "execution_count": null,
   "id": "952898dc",
   "metadata": {},
   "outputs": [],
   "source": [
    "# 4 * 4 단위 행렬(identity matrix) -> 대각선1, 나머지0\n",
    "print(np.eye(4))\n",
    "\n",
    "# 3 * 4 사이즈의 1로 가득찬 int 배열\n",
    "print(np.ones((3, 4), dtype=int))\n",
    "\n",
    "# 2 * 3 * 4 사이즈 0~1 난수 배열  \n",
    "np.random.rand(2, 3, 4)      # 인자로 차원 지정 -> 오래된 버전에서 주로 씀\n",
    "np.random.random((2, 3, 4))  # 튜플로 차원 지정 -> 최신 버전에서 주로 씀"
   ]
  },
  {
   "cell_type": "markdown",
   "id": "2fd02f2c",
   "metadata": {},
   "source": [
    "## 배열의 인덱싱/슬라이싱"
   ]
  },
  {
   "cell_type": "code",
   "execution_count": null,
   "id": "cf41400b",
   "metadata": {},
   "outputs": [],
   "source": [
    "arr = np.array([10, 20, 30, 40, 50])\n",
    "# 접근\n",
    "print(arr[0], arr[2], arr[-1], arr[-2])\n",
    "\n",
    "# 변경\n",
    "arr[0] = 100\n",
    "print(arr)"
   ]
  },
  {
   "cell_type": "code",
   "execution_count": null,
   "id": "ce37f18f",
   "metadata": {},
   "outputs": [],
   "source": [
    "# arr_2d = np.array(range(1, 10)).reshape(3, 3)\n",
    "arr_2d = np.array(\n",
    "    [\n",
    "        [1, 2, 3],\n",
    "        [4, 5, 6],\n",
    "        [7, 8, 9]\n",
    "    ]\n",
    ")\n",
    "# Numpy 에서만 지원\n",
    "arr_2d[0, 0]  # arr_2d[0][0] -> r 0, c 0\n",
    "arr_2d[1, 1]\n",
    "\n",
    "arr_2d[1]  # 행 접근\n",
    "\n",
    "# 변경\n",
    "arr_2d[0, 0] = 100\n",
    "arr_2d\n"
   ]
  },
  {
   "cell_type": "code",
   "execution_count": null,
   "id": "c2b58735",
   "metadata": {},
   "outputs": [],
   "source": [
    "# 슬라이싱\n",
    "arr = np.arange(10)\n",
    "print(\n",
    "    arr[2:5],\n",
    "    arr[:5],\n",
    "    arr[5:]\n",
    ")\n",
    "\n",
    "print(\n",
    "    arr[1:8:2],\n",
    "    arr[::2]\n",
    ")\n",
    "\n",
    "print(\n",
    "    arr[::-1],\n",
    "    arr[7:2:-1]\n",
    ")\n",
    "\n",
    "# 슬라이싱으로 일괄 변경 (Python X)\n",
    "arr[3:6] = 100\n",
    "print(arr)"
   ]
  },
  {
   "cell_type": "code",
   "execution_count": null,
   "id": "9d06f06d",
   "metadata": {},
   "outputs": [],
   "source": [
    "# 다차원 배열 슬라이싱\n",
    "arr_2d = np.arange(1, 13).reshape(3, -1)\n",
    "print(arr_2d)\n",
    "\n",
    "# row(행) 슬라이싱 -> 0, 1 idx 행\n",
    "print(arr_2d[0:2])\n",
    "\n",
    "# col(열) 슬라이싱 -> 모든 행의 idx 1, 2 열\n",
    "print(arr_2d[:, 1:3])\n",
    "\n",
    "# row / col 동시 슬라이싱 -> 1, 2 행 / 0, 1 열 \n",
    "print(arr_2d[1:3, 0:2])\n",
    "\n",
    "# 간격지정  -> 행/열 모두 2간격\n",
    "print(arr_2d[::2, ::2])  "
   ]
  },
  {
   "cell_type": "code",
   "execution_count": null,
   "id": "68670cb8",
   "metadata": {},
   "outputs": [],
   "source": [
    "# 다차원 배열 슬라이싱으로 변경\n",
    "print(arr_2d)\n",
    "\n",
    "# 부분 배열 일괄 변경\n",
    "arr_2d[0:2, 0:2] = 0\n",
    "print(arr_2d)\n",
    "\n",
    "# 열 교체 (모든행, idx 3열) -> 벡터 ->  교체 -> 원본 matrix 의 열이 바뀜\n",
    "arr_2d[:, 3] = [100, 200, 300]\n",
    "\n",
    "print(arr_2d)\n"
   ]
  },
  {
   "cell_type": "code",
   "execution_count": null,
   "id": "80d788fc",
   "metadata": {},
   "outputs": [],
   "source": [
    "# boolean 인덱싱\n",
    "# 조건에 따라 배열 요소 선택\n",
    "\n",
    "arr = np.arange(1, 6)  # [1, 2, 3, 4, 5]\n",
    "\n",
    "# 마스킹 -> T/F 로 바꿈\n",
    "mask = arr > 3\n",
    "print(mask, arr)\n",
    "\n",
    "# 마스킹 배열로 필터링\n",
    "print(arr[mask])\n",
    "\n",
    "# 직접 조건\n",
    "print(arr[arr > 3])\n",
    "\n",
    "# 다중조건\n",
    "print(arr[ (arr > 2) & (arr < 5) ])  # and\n",
    "print(arr[ (arr == 1) | (arr > 3) ])  # or"
   ]
  },
  {
   "cell_type": "code",
   "execution_count": null,
   "id": "b12bfa98",
   "metadata": {},
   "outputs": [],
   "source": [
    "# 2차원 배열 불리언 인덱싱\n",
    "arr_2d = np.arange(1, 10).reshape(3, 3)\n",
    "\n",
    "mask = arr_2d > 5\n",
    "\n",
    "# 원본 matrix 형태 없음. True 로 필터된 애들만 Vector로 나옴\n",
    "print(arr_2d[mask])  \n",
    "print(arr_2d[arr_2d < 6])\n",
    "\n",
    "# 조건에 맞는 행만 선택\n",
    "row_mask = np.array([True, False, True])\n",
    "print(arr_2d)\n",
    "print(arr_2d[row_mask])  # row T, F, T -> 0, 2 row 만 뽑음\n"
   ]
  },
  {
   "cell_type": "code",
   "execution_count": 193,
   "id": "05e716aa",
   "metadata": {},
   "outputs": [
    {
     "name": "stdout",
     "output_type": "stream",
     "text": [
      "[10 20 30 40 50]\n",
      "[20 30]\n",
      "[10 30 40]\n",
      "[10 10 20 20 30 40 50 30 20]\n",
      "[50 30 40 20 10]\n"
     ]
    }
   ],
   "source": [
    "# Fancy 인덱싱\n",
    "arr = np.arange(10, 60, 10)\n",
    "print(arr)\n",
    "# arr[1, 2]  -> arr[1][2]\n",
    "print(arr[ [1, 2] ])  # -> arr[1], arr[2] 를 뽑아라\n",
    "print(arr[ [0, 2, 3] ])  # -> arr[0], arr[2], arr[3] 만 가져와라\n",
    "\n",
    "print(arr[[0, 0, 1, 1, 2, 3, 4, 2, 1]])\n",
    "print(arr[[4, 2, 3, 1, 0]])\n"
   ]
  },
  {
   "cell_type": "code",
   "execution_count": null,
   "id": "e7732472",
   "metadata": {},
   "outputs": [
    {
     "name": "stdout",
     "output_type": "stream",
     "text": [
      "[[1 2 3]\n",
      " [4 5 6]\n",
      " [7 8 9]]\n",
      "[1 2 3]\n",
      "[[1 2 3]\n",
      " [7 8 9]]\n",
      "\n",
      "[1 6 8]\n",
      "[[3 1 2]\n",
      " [6 4 5]\n",
      " [9 7 8]]\n"
     ]
    }
   ],
   "source": [
    "arr_2d = np.arange(1, 10).reshape(3, 3)\n",
    "print(arr_2d)\n",
    "\n",
    "print(arr_2d[0])  # row 0\n",
    "\n",
    "# 특정 행만 선택\n",
    "print(arr_2d[ [0, 2] ])  # row 0, 2\n",
    "\n",
    "print()\n",
    "\n",
    "# 행과, 열 동시에 선택\n",
    "print(\n",
    "    arr_2d[  # (0, 0), (1, 2), (2, 1) 순서로 벡터 만듬\n",
    "        [0, 1, 2],\n",
    "        [0, 2, 1]\n",
    "    ]\n",
    ")\n",
    "\n",
    "# 행렬의 열을 순서 바꾸기\n",
    "print(\n",
    "    arr_2d[\n",
    "        :,         # 모든 행\n",
    "        [2, 0, 1]  # 열 idx를 이렇게 바꿔라\n",
    "    ]\n",
    ")"
   ]
  },
  {
   "cell_type": "code",
   "execution_count": null,
   "id": "fcbdde25",
   "metadata": {},
   "outputs": [],
   "source": [
    "# 10부터 20까지의 정수 배열 생성\n",
    "arr = np.arange(10, 21)\n",
    "print('원본', arr)\n",
    "\n",
    "# 문제1: 배열의 첫 번째, 세 번째, 마지막 요소 출력\n",
    "\n",
    "# 문제2: 인덱스 2부터 5까지 요소 출력\n",
    "\n",
    "# 문제3: 처음부터 5번째 요소까지 모든 짝수 인덱스 요소 출력\n",
    "\n",
    "# 문제4: 배열의 요소를 역순으로 출력\n"
   ]
  },
  {
   "cell_type": "code",
   "execution_count": null,
   "id": "12031a1f",
   "metadata": {},
   "outputs": [],
   "source": [
    "# 3 * 4 matrix\n",
    "matrix = np.arange(12).reshape(3, 4)\n",
    "print('원본', matrix)\n",
    "\n",
    "# 문제1: (1,2) 위치의 요소 출력\n",
    "\n",
    "# 문제2: 두 번째 행 전체 출력\n",
    "\n",
    "# 문제3: 마지막 열 전체 출력\n",
    "\n",
    "# 문제4: 첫 번째와 세 번째 행의 두 번째와 네 번째 열 요소만 추출\n"
   ]
  },
  {
   "cell_type": "code",
   "execution_count": null,
   "id": "c52d3491",
   "metadata": {},
   "outputs": [],
   "source": [
    "arr = np.arange(1, 21)\n",
    "print('원본', arr)\n",
    "\n",
    "# 문제1: 5의 배수만 선택하여 출력\n",
    "\n",
    "# 문제2: 3보다 크고 15보다 작은 요소 선택\n",
    "\n",
    "# 문제3: 7의 배수이거나 홀수인 요소 선택"
   ]
  },
  {
   "cell_type": "code",
   "execution_count": null,
   "id": "854aff28",
   "metadata": {},
   "outputs": [],
   "source": [
    "matrix = np.arange(1, 21).reshape(5, 4)\n",
    "print('원본', matrix)\n",
    "\n",
    "# 문제4: 10보다 큰 요소만 100으로 변경"
   ]
  }
 ],
 "metadata": {
  "kernelspec": {
   "display_name": "Python 3",
   "language": "python",
   "name": "python3"
  },
  "language_info": {
   "codemirror_mode": {
    "name": "ipython",
    "version": 3
   },
   "file_extension": ".py",
   "mimetype": "text/x-python",
   "name": "python",
   "nbconvert_exporter": "python",
   "pygments_lexer": "ipython3",
   "version": "3.13.2"
  }
 },
 "nbformat": 4,
 "nbformat_minor": 5
}
