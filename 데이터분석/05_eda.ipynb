{
 "cells": [
  {
   "cell_type": "markdown",
   "id": "02976d13",
   "metadata": {},
   "source": [
    "`05_eda.ipynb`\n",
    "\n",
    "# EDA - Exploratory Data Analysis (탐색적 데이터 분석)\n",
    "> 분석 초기 단계에서 데이터를 다양한 관점에서 관찰, 이해하는 과정\n",
    "\n",
    "## 주요 내용\n",
    "0. 가설 수립\n",
    "1. 데이터 이해\n",
    "2. 데이터 품질 검사\n",
    "3. 데이터 시각화\n",
    "4. 변수 간 관계 분석\n",
    "5. 가설 검정\n",
    "\n",
    "## EDA 전략 프레임워크\n",
    "### 문제 정의와 목적 설정\n",
    "- 목적) 우리가 해결하려는 비즈니스 문제는 무엇인가\n",
    "- 의사결정) 이 분석을 통해 누가, 무엇을 결정하는가\n",
    "- 성공기준) 분석의 P/F 기준은 무엇인가\n",
    "\n",
    "### 데이터 이해 단계적 접근\n",
    "- 데이터 개요 파악\n",
    "- 변수 분류와 우선순위 설정\n",
    "- 가설 기반 탐색 전략 (xx라면 oo일 것이다)\n",
    "    - 관찰 - X 변수의 분포는 어떤 특성이 있을것\n",
    "    - 관계 - X - Y사이의 특정 관계가 있을것\n",
    "    - 그룹 - A - B 은 특정 변수에서 차이가 있을것\n",
    "\n",
    "\n",
    "## 데이터 품질의 6가지 차원\n",
    "완전성 (Completeness): 결측값이 얼마나 적은가?\n",
    "정확성 (Accuracy): 실제 값과 얼마나 일치하는가?\n",
    "일관성 (Consistency): 데이터가 모순되지 않는가?\n",
    "유효성 (Validity): 정의된 규칙에 맞는가?\n",
    "적시성 (Timeliness): 데이터가 최신인가?\n",
    "유일성 (Uniqueness): 중복이 없는가?\n"
   ]
  },
  {
   "cell_type": "code",
   "execution_count": null,
   "id": "2dd7a760",
   "metadata": {},
   "outputs": [],
   "source": [
    "import pandas as pd\n",
    "import numpy as np\n",
    "import matplotlib.pyplot as plt\n",
    "import seaborn as sns\n",
    "import warnings\n",
    "warnings.filterwarnings('ignore')\n",
    "\n",
    "# 한글 폰트 설정 (선택사항)\n",
    "plt.rcParams['font.family'] = 'DejaVu Sans'\n",
    "plt.style.use('default')\n"
   ]
  }
 ],
 "metadata": {
  "kernelspec": {
   "display_name": "Python 3",
   "language": "python",
   "name": "python3"
  },
  "language_info": {
   "codemirror_mode": {
    "name": "ipython",
    "version": 3
   },
   "file_extension": ".py",
   "mimetype": "text/x-python",
   "name": "python",
   "nbconvert_exporter": "python",
   "pygments_lexer": "ipython3",
   "version": "3.13.2"
  }
 },
 "nbformat": 4,
 "nbformat_minor": 5
}
