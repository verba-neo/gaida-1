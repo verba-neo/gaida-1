{
 "cells": [
  {
   "cell_type": "markdown",
   "id": "289d0ff5",
   "metadata": {},
   "source": [
    "# Pandas \n",
    "`02_pandas.ipynb`\n",
    "\n",
    "## 특징\n",
    "- 표(테이블) 데이터를 다루는데 특화\n",
    "- 다양한 외부 소스에서 데이터 가져오기 (csv, excel, SQL db)\n",
    "- 데이터 정제, 변환, 분석에 필요한 기능 다수\n",
    "- 결측치 처리, 그룹화, 병합 작업에 효율"
   ]
  },
  {
   "cell_type": "code",
   "execution_count": null,
   "id": "4a976081",
   "metadata": {},
   "outputs": [],
   "source": [
    "%pip install pandas"
   ]
  },
  {
   "cell_type": "code",
   "execution_count": null,
   "id": "3c111ebb",
   "metadata": {},
   "outputs": [],
   "source": [
    "import numpy as np\n",
    "import pandas as pd\n",
    "\n",
    "# Numpy 배열\n",
    "np_array = np.arange(1, 10).reshape(3, 3)\n",
    "print(np_array)\n",
    "\n",
    "# Pandas 데이터프레임\n",
    "df = pd.DataFrame(np_array, columns=['A', 'B', 'C'])\n",
    "print(df)"
   ]
  },
  {
   "cell_type": "markdown",
   "id": "bbe27f8a",
   "metadata": {},
   "source": [
    "## Series\n",
    "1차원 배열(벡터) with 레이블"
   ]
  },
  {
   "cell_type": "code",
   "execution_count": null,
   "id": "8ee7af19",
   "metadata": {},
   "outputs": [],
   "source": [
    "import pandas as pd\n",
    "\n",
    "# 기본 Seires 생성 (별말 없으면 숫자 index)\n",
    "s1 = pd.Series([1, 3, 5, 7, 9])\n",
    "print(s1)\n",
    "\n",
    "# 인덱스 지정\n",
    "s2 = pd.Series([1, 3, 5, 7, 9], index=['a', 'b', 'c', 'd', 'e'])\n",
    "print(s2)\n",
    "\n",
    "# dict로 생성\n",
    "d = {'a': 1, 'b': 2, 'c': 3}\n",
    "s3 = pd.Series(d)\n",
    "print(s3)\n",
    "\n",
    "# 단일값(스칼라)으로 Series 생성\n",
    "s4 = pd.Series(5, index=['a', 'b', 'c'])\n",
    "print(s4)\n"
   ]
  },
  {
   "cell_type": "code",
   "execution_count": null,
   "id": "627feee9",
   "metadata": {},
   "outputs": [],
   "source": [
    "print(s2)\n",
    "# 값\n",
    "print(s2.values)\n",
    "# 인덱스\n",
    "print(s2.index)\n",
    "# 데이터타입\n",
    "print(s2.dtype)\n",
    "# 차원\n",
    "print(s2.ndim)\n",
    "# 크기\n",
    "print(s2.size)\n",
    "# 모양\n",
    "print(s2.shape)\n",
    "\n",
    "# 앞에 2개\n",
    "print(s2.head(2))\n",
    "# 뒤에 3개\n",
    "print(s2.tail(3))\n",
    "# 통계 요약\n",
    "print(s2.describe())"
   ]
  },
  {
   "cell_type": "markdown",
   "id": "61a280e9",
   "metadata": {},
   "source": [
    "## Dataframe\n",
    "- 2차원(매트릭스) with Label.\n",
    "- 행(row)과 열(col) 모두에 Label 설정."
   ]
  },
  {
   "cell_type": "code",
   "execution_count": null,
   "id": "bb93350a",
   "metadata": {},
   "outputs": [],
   "source": [
    "# 딕셔너리로부터 DataFrame 생성\n",
    "data = {\n",
    "    '이름': ['김철수', '이영희', '박민수', '정지영'],\n",
    "    '나이': [25, 28, 22, 30],\n",
    "    '성별': ['남', '여', '남', '여'],\n",
    "    '점수': [85, 92, 78, 90]\n",
    "}\n",
    "df1 = pd.DataFrame(data)\n",
    "print(\"딕셔너리로부터 DataFrame 생성:\")\n",
    "print(df1)\n",
    "\n",
    "# 리스트의 리스트로부터 DataFrame 생성\n",
    "data_list = [\n",
    "    ['김철수', 25, '남', 85],\n",
    "    ['이영희', 28, '여', 92],\n",
    "    ['박민수', 22, '남', 78],\n",
    "    ['정지영', 30, '여', 90]\n",
    "]\n",
    "df2 = pd.DataFrame(data_list, columns=['이름', '나이', '성별', '점수'])\n",
    "print(\"\\n리스트로부터 DataFrame 생성:\")\n",
    "print(df2)"
   ]
  },
  {
   "cell_type": "code",
   "execution_count": null,
   "id": "f087f56f",
   "metadata": {},
   "outputs": [],
   "source": [
    "# Column 정보\n",
    "print(df1.columns)\n",
    "# 인덱스(Row 정보)\n",
    "print(df1.index)\n",
    "# 값\n",
    "print(df1.values)\n",
    "# 데이터 타입\n",
    "print(df1.dtypes)\n",
    "# 크기\n",
    "print(df1.size)\n",
    "# 모양\n",
    "print(df1.shape)"
   ]
  },
  {
   "cell_type": "code",
   "execution_count": null,
   "id": "484284fc",
   "metadata": {},
   "outputs": [],
   "source": [
    "print(df1.head(2))\n",
    "\n",
    "print(df1.tail(2))\n",
    "\n",
    "print(df1.describe())\n",
    "\n",
    "print(df1['점수'].describe())"
   ]
  },
  {
   "cell_type": "code",
   "execution_count": null,
   "id": "d8bf5dfb",
   "metadata": {},
   "outputs": [],
   "source": [
    "# Index(데이터 레코드 별 PK)는 Pandas 의 핵심 기능\n",
    "\n",
    "# 인덱스 재설정 (0 ~ N으로 인덱스 설정)\n",
    "df_reset = df1.reset_index()\n",
    "print(df_reset)\n",
    "\n",
    "# 인덱스 설정\n",
    "df_set = df1.set_index('이름')\n",
    "print(df_set)\n",
    "\n",
    "# 다중 인덱스 설정\n",
    "df_multi = df1.set_index(['성별', '이름'])\n",
    "print(df_multi)\n",
    "\n",
    "# 인덱스 이름 변경\n",
    "df_renamed = df_set.rename_axis('학생명')\n",
    "print(df_renamed)"
   ]
  },
  {
   "cell_type": "markdown",
   "id": "e610cafb",
   "metadata": {},
   "source": [
    "## 데이터 접근 및 선택\n",
    "\n",
    "### 열 선택과 인덱스 접근"
   ]
  },
  {
   "cell_type": "code",
   "execution_count": null,
   "id": "a856c3ac",
   "metadata": {},
   "outputs": [],
   "source": [
    "# DF 에서 단일 열(col) 선택\n",
    "\n",
    "name_col = df1['이름']\n",
    "print(name_col)  # Series 가 나온다.\n",
    "\n",
    "# 다중 열 선택\n",
    "subset = df1[ ['이름', '점수'] ]\n",
    "print(subset)  # DataFrame 이 나온다.\n",
    "\n",
    "# key 접근이 아니라 속성(주어.속성) 방식 접근 - 공백/특수문자 없을경우\n",
    "print(df1.나이)\n",
    "\n",
    "# 행 선택 (인덱스 기준)\n",
    "print(df1[:2])  # 맨 앞 레코드 2개\n"
   ]
  },
  {
   "cell_type": "markdown",
   "id": "dcfd47c6",
   "metadata": {},
   "source": [
    "## `loc` 와 `iloc`\n",
    "- `loc` : 레이블 기반 인덱싱(인덱스 이름 사용)\n",
    "- `iloc` : 위치 기반 인덱싱(정수 위치 사용)"
   ]
  },
  {
   "cell_type": "code",
   "execution_count": null,
   "id": "54435667",
   "metadata": {},
   "outputs": [],
   "source": [
    "# loc 예제\n",
    "\n",
    "df3 = df1.set_index('이름')\n",
    "\n",
    "# 단일 행 선택\n",
    "row = df3.loc['김철수']\n",
    "print(row)\n",
    "\n",
    "# 여러 행 선택\n",
    "rows = df3.loc[ ['김철수', '이영희'] ]\n",
    "print(rows)\n",
    "\n",
    "# row + col 조합으로 선택\n",
    "data = df3.loc[ ['김철수', '이영희'], ['나이', '점수'] ]\n",
    "print(data)"
   ]
  },
  {
   "cell_type": "code",
   "execution_count": null,
   "id": "f1ac5716",
   "metadata": {},
   "outputs": [],
   "source": [
    "# iloc 예제\n",
    "\n",
    "print(df1)  # index 설정 없음\n",
    "\n",
    "# 단일 행 -> 이거 아님 df1[0]\n",
    "first_row = df1.iloc[0]\n",
    "print(first_row)\n",
    "\n",
    "# 다중 행\n",
    "rows = df1.iloc[1:3]  # df1[1:3] 와 같으나, iloc 사용\n",
    "print(rows)\n",
    "\n",
    "# 행 + 열 선택 (숫자 idx)\n",
    "data = df1.iloc[ [0, 2], [1, 3] ]  # 0, 2는 row 번호 / 1, 3은 col 번호\n",
    "\n",
    "print(data)"
   ]
  },
  {
   "cell_type": "markdown",
   "id": "4cec625a",
   "metadata": {},
   "source": [
    "### 불리언 인덱싱"
   ]
  },
  {
   "cell_type": "code",
   "execution_count": null,
   "id": "3601367c",
   "metadata": {},
   "outputs": [],
   "source": [
    "print(df1)\n",
    "print()\n",
    "# 나이 25 초과 마스킹\n",
    "mask = df1['나이'] > 25  # T, F로 이루어진 Series\n",
    "print(mask)\n",
    "print()\n",
    "# 필터링\n",
    "filtered = df1[mask]\n",
    "print(filtered)\n",
    "print()\n",
    "\n",
    "# 점수 80이상, 성별 '여'\n",
    "mask = (df1['점수'] >= 80) & (df1['성별'] == '여')\n",
    "print(df1[mask])\n",
    "print()\n",
    "\n",
    "# 남성이거나, 점수 90점 이상\n",
    "mask = (df1['점수'] >= 92) | (df1['성별'] == '남')\n",
    "print(df1[mask])\n",
    "\n",
    "\n",
    "# query메서드로 필터링\n",
    "print('query')\n",
    "print(df1.query('나이 >= 25 and 점수 >= 85'))\n",
    "\n",
    "# isin 메서드로 필터링\n",
    "names = ['김철수', '정지영']\n",
    "mask = df1['이름'].isin(names)\n",
    "print(df1[mask])"
   ]
  },
  {
   "cell_type": "markdown",
   "id": "3a09ac86",
   "metadata": {},
   "source": [
    "### 기술 통계"
   ]
  },
  {
   "cell_type": "code",
   "execution_count": null,
   "id": "73297dc4",
   "metadata": {},
   "outputs": [],
   "source": [
    "# 눈으로 확인하는 용도\n",
    "print(df1.describe())\n",
    "print(df1['점수'].describe())\n",
    "\n",
    "# 개별 통계 함수\n",
    "print(df1['점수'].mean())  # 평균\n",
    "print(df1['점수'].median())  # 중앙\n",
    "print(df1['점수'].std())  # 표준편차\n",
    "print(df1['점수'].min())  # 최소값\n",
    "print(df1['점수'].max())  # 최대값\n",
    "print(df1['점수'].sum())  # 총합\n",
    "\n",
    "# 범주형 col 빈도 계산\n",
    "print(df1['성별'].value_counts())"
   ]
  },
  {
   "cell_type": "markdown",
   "id": "86c0a34a",
   "metadata": {},
   "source": [
    "### 데이터 요약 및 그룹화"
   ]
  },
  {
   "cell_type": "code",
   "execution_count": null,
   "id": "07b40633",
   "metadata": {},
   "outputs": [
    {
     "name": "stdout",
     "output_type": "stream",
     "text": [
      "성별\n",
      "남    81.5\n",
      "여    91.0\n",
      "Name: 점수, dtype: float64\n"
     ]
    },
    {
     "data": {
      "text/html": [
       "<div>\n",
       "<style scoped>\n",
       "    .dataframe tbody tr th:only-of-type {\n",
       "        vertical-align: middle;\n",
       "    }\n",
       "\n",
       "    .dataframe tbody tr th {\n",
       "        vertical-align: top;\n",
       "    }\n",
       "\n",
       "    .dataframe thead tr th {\n",
       "        text-align: left;\n",
       "    }\n",
       "\n",
       "    .dataframe thead tr:last-of-type th {\n",
       "        text-align: right;\n",
       "    }\n",
       "</style>\n",
       "<table border=\"1\" class=\"dataframe\">\n",
       "  <thead>\n",
       "    <tr>\n",
       "      <th></th>\n",
       "      <th colspan=\"3\" halign=\"left\">나이</th>\n",
       "      <th colspan=\"4\" halign=\"left\">점수</th>\n",
       "    </tr>\n",
       "    <tr>\n",
       "      <th></th>\n",
       "      <th>mean</th>\n",
       "      <th>min</th>\n",
       "      <th>max</th>\n",
       "      <th>mean</th>\n",
       "      <th>min</th>\n",
       "      <th>max</th>\n",
       "      <th>std</th>\n",
       "    </tr>\n",
       "    <tr>\n",
       "      <th>성별</th>\n",
       "      <th></th>\n",
       "      <th></th>\n",
       "      <th></th>\n",
       "      <th></th>\n",
       "      <th></th>\n",
       "      <th></th>\n",
       "      <th></th>\n",
       "    </tr>\n",
       "  </thead>\n",
       "  <tbody>\n",
       "    <tr>\n",
       "      <th>남</th>\n",
       "      <td>23.5</td>\n",
       "      <td>22</td>\n",
       "      <td>25</td>\n",
       "      <td>81.5</td>\n",
       "      <td>78</td>\n",
       "      <td>85</td>\n",
       "      <td>4.949747</td>\n",
       "    </tr>\n",
       "    <tr>\n",
       "      <th>여</th>\n",
       "      <td>29.0</td>\n",
       "      <td>28</td>\n",
       "      <td>30</td>\n",
       "      <td>91.0</td>\n",
       "      <td>90</td>\n",
       "      <td>92</td>\n",
       "      <td>1.414214</td>\n",
       "    </tr>\n",
       "  </tbody>\n",
       "</table>\n",
       "</div>"
      ],
      "text/plain": [
       "      나이            점수                  \n",
       "    mean min max  mean min max       std\n",
       "성별                                      \n",
       "남   23.5  22  25  81.5  78  85  4.949747\n",
       "여   29.0  28  30  91.0  90  92  1.414214"
      ]
     },
     "execution_count": 111,
     "metadata": {},
     "output_type": "execute_result"
    }
   ],
   "source": [
    "# df1 표에서 성별로 그루핑하고, 점수의 평균 집계 (단순)\n",
    "gender_score = df1.groupby('성별')['점수'].mean()\n",
    "print(gender_score)\n",
    "\n",
    "# 성별에 따른 여러 통계량 (복잡)\n",
    "stat = df1.groupby('성별').agg({\n",
    "    # 컬럼: [정해진 키워드(함수이름)]\n",
    "    '나이': ['mean', 'min', 'max'],\n",
    "    '점수': ['mean', 'min', 'max', 'std']\n",
    "})\n",
    "\n",
    "stat"
   ]
  },
  {
   "cell_type": "code",
   "execution_count": null,
   "id": "4d49547c",
   "metadata": {},
   "outputs": [],
   "source": [
    "%pip install matplotlib"
   ]
  },
  {
   "cell_type": "code",
   "execution_count": 116,
   "id": "b8bd4d3e",
   "metadata": {},
   "outputs": [],
   "source": [
    "import warnings\n",
    "warnings.filterwarnings('ignore', category=UserWarning)"
   ]
  },
  {
   "cell_type": "code",
   "execution_count": 124,
   "id": "e3de4660",
   "metadata": {},
   "outputs": [],
   "source": [
    "import matplotlib.pyplot as plt\n",
    "plt.rcParams['font.family'] = 'Malgun Gothic'\n",
    "plt.rcParams['axes.unicode_minus'] = False"
   ]
  },
  {
   "cell_type": "code",
   "execution_count": 135,
   "id": "e66f4395",
   "metadata": {},
   "outputs": [
    {
     "data": {
      "image/png": "[encoded data removed]",
      "text/plain": [
       "<Figure size 640x480 with 1 Axes>"
      ]
     },
     "metadata": {},
     "output_type": "display_data"
    }
   ],
   "source": [
    "# 막대그래프\n",
    "\n",
    "# (막대) 그래프 그리기\n",
    "df1.plot(kind='bar', x='이름', y='점수')\n",
    "# 그래프 설정하기\n",
    "plt.title('학생별 점수')\n",
    "plt.xlabel('학생')\n",
    "plt.ylabel('점수')\n",
    "plt.show()"
   ]
  },
  {
   "cell_type": "code",
   "execution_count": 138,
   "id": "d3a55964",
   "metadata": {},
   "outputs": [
    {
     "data": {
      "image/png": "[encoded data removed]",
      "text/plain": [
       "<Figure size 640x480 with 1 Axes>"
      ]
     },
     "metadata": {},
     "output_type": "display_data"
    }
   ],
   "source": [
    "gender_score.plot(kind='bar')\n",
    "plt.title('성별 평균 점수')\n",
    "plt.xlabel('성별')\n",
    "plt.ylabel('평균 점수')\n",
    "plt.show()"
   ]
  },
  {
   "cell_type": "code",
   "execution_count": null,
   "id": "496e7f0a",
   "metadata": {},
   "outputs": [
    {
     "name": "stdout",
     "output_type": "stream",
     "text": [
      "온라인 쇼핑몰 고객 데이터:\n",
      "   고객ID   이름  나이 성별   구매금액  구매횟수  회원등급\n",
      "0  1001  김민수  25  남  50000     3    실버\n",
      "1  1002  이지영  32  여  75000     5    골드\n",
      "2  1003  박철호  28  남  32000     2   브론즈\n",
      "3  1004  정수민  35  여  98000     7  플래티넘\n",
      "4  1005  최영희  29  여  67000     4    골드\n",
      "5  1006  강도현  31  남  84000     6    골드\n",
      "6  1007  윤서연  26  여  41000     2    실버\n",
      "7  1008  임태혁  33  남  72000     5    골드\n",
      "8  1009  송지원  27  여  58000     3    실버\n",
      "9  1010  한미래  30  여  89000     6  플래티넘\n"
     ]
    }
   ],
   "source": [
    "import pandas as pd\n",
    "import numpy as np\n",
    "import matplotlib.pyplot as plt\n",
    "\n",
    "# 온라인 쇼핑몰 고객 데이터 (가상)\n",
    "customer_data = {\n",
    "    '고객ID': [1001, 1002, 1003, 1004, 1005, 1006, 1007, 1008, 1009, 1010],\n",
    "    '이름': ['김민수', '이지영', '박철호', '정수민', '최영희', '강도현', '윤서연', '임태혁', '송지원', '한미래'],\n",
    "    '나이': [25, 32, 28, 35, 29, 31, 26, 33, 27, 30],\n",
    "    '성별': ['남', '여', '남', '여', '여', '남', '여', '남', '여', '여'],\n",
    "    '구매금액': [50000, 75000, 32000, 98000, 67000, 84000, 41000, 72000, 58000, 89000],\n",
    "    '구매횟수': [3, 5, 2, 7, 4, 6, 2, 5, 3, 6],\n",
    "    '회원등급': ['실버', '골드', '브론즈', '플래티넘', '골드', '골드', '실버', '골드', '실버', '플래티넘']\n",
    "}\n",
    "\n",
    "df = pd.DataFrame(customer_data)\n",
    "print(\"온라인 쇼핑몰 고객 데이터:\")\n",
    "print(df)"
   ]
  },
  {
   "cell_type": "code",
   "execution_count": 159,
   "id": "5f000f7d",
   "metadata": {},
   "outputs": [
    {
     "name": "stdout",
     "output_type": "stream",
     "text": [
      "10 7\n",
      "['고객ID', '이름', '나이', '성별', '구매금액', '구매횟수', '회원등급']\n",
      "고객ID     int64\n",
      "이름      object\n",
      "나이       int64\n",
      "성별      object\n",
      "구매금액     int64\n",
      "구매횟수     int64\n",
      "회원등급    object\n",
      "dtype: object\n",
      "              나이          구매금액       구매횟수\n",
      "count  10.000000     10.000000  10.000000\n",
      "mean   29.600000  66600.000000   4.300000\n",
      "std     3.204164  21323.956272   1.766981\n",
      "min    25.000000  32000.000000   2.000000\n",
      "25%    27.250000  52000.000000   3.000000\n",
      "50%    29.500000  69500.000000   4.500000\n",
      "75%    31.750000  81750.000000   5.750000\n",
      "max    35.000000  98000.000000   7.000000\n",
      "성별\n",
      "여    6\n",
      "남    4\n",
      "Name: count, dtype: int64\n",
      "회원등급\n",
      "골드      4\n",
      "실버      3\n",
      "플래티넘    2\n",
      "브론즈     1\n",
      "Name: count, dtype: int64\n"
     ]
    }
   ],
   "source": [
    "# 데이터 정보 확인 (행 개수, 열 개수, 컬럼명)\n",
    "row_count, col_count = df.shape\n",
    "print(row_count, col_count)\n",
    "print(list(df.columns))\n",
    "# 데이터 타입 확인\n",
    "print(df.dtypes)\n",
    "# 기술 통계 요약\n",
    "print(df[ ['나이', '구매금액', '구매횟수'] ].describe())\n",
    "# 범주형 데이터 빈도 (성별 카운트, 등급 카운트)\n",
    "print(df['성별'].value_counts())\n",
    "print(df['회원등급'].value_counts())"
   ]
  },
  {
   "cell_type": "code",
   "execution_count": 173,
   "id": "6c216c19",
   "metadata": {},
   "outputs": [
    {
     "name": "stdout",
     "output_type": "stream",
     "text": [
      "1. 이름과 구매금액만 선택:\n",
      "    이름   구매금액\n",
      "0  김민수  50000\n",
      "1  이지영  75000\n",
      "2  박철호  32000\n",
      "3  정수민  98000\n",
      "4  최영희  67000\n",
      "5  강도현  84000\n",
      "6  윤서연  41000\n",
      "7  임태혁  72000\n",
      "8  송지원  58000\n",
      "9  한미래  89000\n",
      "\n",
      "2. 구매금액이 70000원 이상인 고객:\n",
      "   고객ID   이름  나이 성별   구매금액  구매횟수  회원등급\n",
      "1  1002  이지영  32  여  75000     5    골드\n",
      "3  1004  정수민  35  여  98000     7  플래티넘\n",
      "5  1006  강도현  31  남  84000     6    골드\n",
      "7  1008  임태혁  33  남  72000     5    골드\n",
      "9  1010  한미래  30  여  89000     6  플래티넘\n",
      "\n",
      "3. 여성이면서 구매횟수가 4회 이상인 고객:\n",
      "   고객ID   이름  나이 성별   구매금액  구매횟수  회원등급\n",
      "1  1002  이지영  32  여  75000     5    골드\n",
      "3  1004  정수민  35  여  98000     7  플래티넘\n",
      "4  1005  최영희  29  여  67000     4    골드\n",
      "9  1010  한미래  30  여  89000     6  플래티넘\n",
      "\n",
      "4. 골드 또는 플래티넘 회원:\n",
      "   고객ID   이름  나이 성별   구매금액  구매횟수  회원등급\n",
      "1  1002  이지영  32  여  75000     5    골드\n",
      "3  1004  정수민  35  여  98000     7  플래티넘\n",
      "4  1005  최영희  29  여  67000     4    골드\n",
      "5  1006  강도현  31  남  84000     6    골드\n",
      "7  1008  임태혁  33  남  72000     5    골드\n",
      "9  1010  한미래  30  여  89000     6  플래티넘\n"
     ]
    }
   ],
   "source": [
    "# 1. 특정 열 선택\n",
    "print(\"1. 이름과 구매금액만 선택:\")\n",
    "print(df[ ['이름', '구매금액'] ])\n",
    "\n",
    "# 2. 조건부 필터링\n",
    "print(\"\\n2. 구매금액이 70000원 이상인 고객:\")\n",
    "mask = df['구매금액'] >= 70_000\n",
    "print(df[mask])\n",
    "\n",
    "# 3. 다중 조건 필터링\n",
    "print(\"\\n3. 여성이면서 구매횟수가 4회 이상인 고객:\")\n",
    "mask = (df['성별'] == '여') & (df['구매횟수'] > 3)\n",
    "print(df[mask])\n",
    "\n",
    "# 4. 특정 값들로 필터링\n",
    "print(\"\\n4. 골드 또는 플래티넘 회원:\")\n",
    "mask = df.회원등급.isin(['골드', '플래티넘'])\n",
    "print(df[mask])"
   ]
  },
  {
   "cell_type": "code",
   "execution_count": 191,
   "id": "7779c5f5",
   "metadata": {},
   "outputs": [
    {
     "name": "stdout",
     "output_type": "stream",
     "text": [
      "구매금액 기준 내림차순 정렬:\n",
      "3    98000\n",
      "9    89000\n",
      "5    84000\n",
      "1    75000\n",
      "7    72000\n",
      "4    67000\n",
      "8    58000\n",
      "0    50000\n",
      "6    41000\n",
      "2    32000\n",
      "Name: 구매금액, dtype: int64\n",
      "\n",
      "회원등급별, 구매금액별 정렬:\n",
      "   고객ID   이름  나이 성별   구매금액  구매횟수  회원등급\n",
      "5  1006  강도현  31  남  84000     6    골드\n",
      "1  1002  이지영  32  여  75000     5    골드\n",
      "7  1008  임태혁  33  남  72000     5    골드\n",
      "4  1005  최영희  29  여  67000     4    골드\n",
      "2  1003  박철호  28  남  32000     2   브론즈\n",
      "8  1009  송지원  27  여  58000     3    실버\n",
      "0  1001  김민수  25  남  50000     3    실버\n",
      "6  1007  윤서연  26  여  41000     2    실버\n",
      "3  1004  정수민  35  여  98000     7  플래티넘\n",
      "9  1010  한미래  30  여  89000     6  플래티넘\n"
     ]
    }
   ],
   "source": [
    "# [안배웠지만 검색해서 적용해보기]\n",
    "\n",
    "# 구매금액 기준 정렬\n",
    "print(\"구매금액 기준 내림차순 정렬:\")\n",
    "# SELECT 구매금액 FROM df ORDER BY 구매금액 DESC\n",
    "print(df.sort_values('구매금액', ascending=False)['구매금액'])\n",
    "\n",
    "# 여러 기준으로 정렬 ()\n",
    "print(\"\\n회원등급별, 구매금액별 정렬:\")\n",
    "# SELECT * FROM df ORDER BY 회원등급, 구매금액\n",
    "print(df.sort_values(['회원등급', '구매금액'], ascending=[True, False]))"
   ]
  },
  {
   "cell_type": "code",
   "execution_count": 195,
   "id": "8b3c87f5",
   "metadata": {},
   "outputs": [
    {
     "name": "stdout",
     "output_type": "stream",
     "text": [
      "구매금액 통계:\n",
      "66600.0\n",
      "69500.0\n",
      "32000\n",
      "98000\n",
      "21323.95627249107\n",
      "\n",
      "구매횟수 통계:\n",
      "4.3\n",
      "4.5\n",
      "2\n",
      "7\n",
      "1.766981104093143\n",
      "   고객ID   이름  나이 성별   구매금액  구매횟수  회원등급\n",
      "3  1004  정수민  35  여  98000     7  플래티넘\n",
      "9  1010  한미래  30  여  89000     6  플래티넘\n",
      "5  1006  강도현  31  남  84000     6    골드\n",
      "   고객ID   이름  나이 성별   구매금액  구매횟수 회원등급\n",
      "2  1003  박철호  28  남  32000     2  브론즈\n",
      "6  1007  윤서연  26  여  41000     2   실버\n",
      "0  1001  김민수  25  남  50000     3   실버\n"
     ]
    }
   ],
   "source": [
    "# 금액 계산 (평균, 중앙, 최소, 최대, 표준편차)\n",
    "print(\"구매금액 통계:\")\n",
    "print(df['구매금액'].mean())\n",
    "print(df['구매금액'].median())\n",
    "print(df['구매금액'].min())\n",
    "print(df['구매금액'].max())\n",
    "print(df['구매금액'].std())\n",
    "# 횟수 계산 (평균, 중앙, 최소, 최대, 표준편차)\n",
    "print(\"\\n구매횟수 통계:\")\n",
    "print(df['구매횟수'].mean())\n",
    "print(df['구매횟수'].median())\n",
    "print(df['구매횟수'].min())\n",
    "print(df['구매횟수'].max())\n",
    "print(df['구매횟수'].std())\n",
    "\n",
    "# 상위/하위 (숫자, 컬럼)\n",
    "print(df.nlargest(3, '구매금액'))\n",
    "print(df.nsmallest(3, '구매금액'))"
   ]
  },
  {
   "cell_type": "code",
   "execution_count": null,
   "id": "131dd88c",
   "metadata": {},
   "outputs": [
    {
     "name": "stdout",
     "output_type": "stream",
     "text": [
      "성별별 분석:\n",
      "\n",
      "고객 수, 평균 구매 금액:\n",
      "    고객 수        평균구매금액\n",
      "성별                    \n",
      "남      4  59500.000000\n",
      "여      6  71333.333333\n",
      "\n",
      "평균 구매 횟수\n",
      "성별\n",
      "남    4.0\n",
      "여    4.5\n",
      "Name: 평균구매횟수, dtype: float64\n",
      "회원등급\n",
      "골드      74500.000000\n",
      "브론즈     32000.000000\n",
      "실버      49666.666667\n",
      "플래티넘    93500.000000\n",
      "Name: 구매금액, dtype: float64\n"
     ]
    }
   ],
   "source": [
    "# 성별별(Group) 기본 분석  \n",
    "print(\"성별별 분석:\")\n",
    "\n",
    "print('\\n고객 수, 평균 구매 금액:')\n",
    "gender_group = df.groupby('성별')\n",
    "result = gender_group['구매금액'].agg(['count', 'mean'])\n",
    "\n",
    "# AS 로 컬럼명 바꾸기 == .rename()\n",
    "print(result.rename(columns={'count': '고객 수', 'mean': '평균구매금액'}))\n",
    "\n",
    "print('\\n평균 구매 횟수')\n",
    "print(gender_group['구매횟수'].agg('mean').rename('평균구매횟수'))"
   ]
  },
  {
   "cell_type": "code",
   "execution_count": 213,
   "id": "4402600d",
   "metadata": {},
   "outputs": [
    {
     "name": "stdout",
     "output_type": "stream",
     "text": [
      "회원 등급별 평균 구매 금액 분석\n",
      "회원등급\n",
      "골드      74500.000000\n",
      "브론즈     32000.000000\n",
      "실버      49666.666667\n",
      "플래티넘    93500.000000\n",
      "Name: 구매금액, dtype: float64\n"
     ]
    }
   ],
   "source": [
    "# 등급별(Group) 기본분석\n",
    "print('회원 등급별 평균 구매 금액 분석')\n",
    "grade_group = df.groupby('회원등급')\n",
    "print(grade_group['구매금액'].agg('mean'))"
   ]
  },
  {
   "cell_type": "code",
   "execution_count": 214,
   "id": "0756d710",
   "metadata": {},
   "outputs": [
    {
     "data": {
      "image/png": "[encoded data removed]",
      "text/plain": [
       "<Figure size 1000x600 with 1 Axes>"
      ]
     },
     "metadata": {},
     "output_type": "display_data"
    },
    {
     "data": {
      "image/png": "[encoded data removed]",
      "text/plain": [
       "<Figure size 800x600 with 1 Axes>"
      ]
     },
     "metadata": {},
     "output_type": "display_data"
    },
    {
     "data": {
      "image/png": "[encoded data removed]",
      "text/plain": [
       "<Figure size 1200x600 with 1 Axes>"
      ]
     },
     "metadata": {},
     "output_type": "display_data"
    }
   ],
   "source": [
    "# 구매금액 히스토그램\n",
    "plt.figure(figsize=(10, 6))\n",
    "plt.hist(df['구매금액'], bins=5, edgecolor='black')\n",
    "plt.title('고객 구매금액 분포')\n",
    "plt.xlabel('구매금액 (원)')\n",
    "plt.ylabel('고객 수')\n",
    "plt.show()\n",
    "\n",
    "# 회원등급별 고객 수 막대그래프\n",
    "grade_counts = df['회원등급'].value_counts()\n",
    "plt.figure(figsize=(8, 6))\n",
    "plt.bar(grade_counts.index, grade_counts.values)\n",
    "plt.title('회원등급별 고객 수')\n",
    "plt.xlabel('회원등급')\n",
    "plt.ylabel('고객 수')\n",
    "plt.show()\n",
    "\n",
    "# 고객별 구매금액 막대그래프\n",
    "plt.figure(figsize=(12, 6))\n",
    "plt.bar(df['이름'], df['구매금액'])\n",
    "plt.title('고객별 구매금액')\n",
    "plt.xlabel('고객명')\n",
    "plt.ylabel('구매금액 (원)')\n",
    "plt.xticks(rotation=45)\n",
    "plt.tight_layout()\n",
    "plt.show()"
   ]
  }
 ],
 "metadata": {
  "kernelspec": {
   "display_name": "Python 3",
   "language": "python",
   "name": "python3"
  },
  "language_info": {
   "codemirror_mode": {
    "name": "ipython",
    "version": 3
   },
   "file_extension": ".py",
   "mimetype": "text/x-python",
   "name": "python",
   "nbconvert_exporter": "python",
   "pygments_lexer": "ipython3",
   "version": "3.13.2"
  }
 },
 "nbformat": 4,
 "nbformat_minor": 5
}
