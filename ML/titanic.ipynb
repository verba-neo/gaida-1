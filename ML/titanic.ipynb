{
 "cells": [
  {
   "cell_type": "markdown",
   "id": "1132f7f1",
   "metadata": {},
   "source": [
    "# Taitanic 생존 예측\n",
    "`titanic.ipynb`"
   ]
  },
  {
   "cell_type": "code",
   "execution_count": null,
   "id": "ae027e86",
   "metadata": {},
   "outputs": [],
   "source": [
    "import numpy as np\n",
    "import pandas as pd\n",
    "\n",
    "from sklearn.tree import DecisionTreeClassifier, plot_tree\n",
    "from sklearn.neighbors import KNeighborsClassifier\n",
    "from sklearn.linear_model import LogisticRegression\n",
    "\n",
    "from sklearn.model_selection import train_test_split\n",
    "\n",
    "import matplotlib.pyplot as plt\n",
    "import seaborn as sns\n",
    "\n",
    "import warnings\n",
    "warnings.filterwarnings('ignore')\n",
    "\n",
    "titanic = sns.load_dataset('titanic')"
   ]
  },
  {
   "cell_type": "markdown",
   "id": "eea12c6e",
   "metadata": {},
   "source": [
    "## KNN 분류\n"
   ]
  },
  {
   "cell_type": "code",
   "execution_count": null,
   "id": "0d9c82ef",
   "metadata": {},
   "outputs": [],
   "source": []
  },
  {
   "cell_type": "markdown",
   "id": "ef83657c",
   "metadata": {},
   "source": [
    "## Logistic회귀 분류\n"
   ]
  },
  {
   "cell_type": "code",
   "execution_count": null,
   "id": "6a89c545",
   "metadata": {},
   "outputs": [],
   "source": []
  },
  {
   "cell_type": "markdown",
   "id": "d50ab4f1",
   "metadata": {},
   "source": [
    "## 결정트리 분류\n"
   ]
  },
  {
   "cell_type": "code",
   "execution_count": null,
   "id": "0a55a87c",
   "metadata": {},
   "outputs": [],
   "source": []
  }
 ],
 "metadata": {
  "kernelspec": {
   "display_name": "Python 3",
   "language": "python",
   "name": "python3"
  },
  "language_info": {
   "codemirror_mode": {
    "name": "ipython",
    "version": 3
   },
   "file_extension": ".py",
   "mimetype": "text/x-python",
   "name": "python",
   "nbconvert_exporter": "python",
   "pygments_lexer": "ipython3",
   "version": "3.13.2"
  }
 },
 "nbformat": 4,
 "nbformat_minor": 5
}
