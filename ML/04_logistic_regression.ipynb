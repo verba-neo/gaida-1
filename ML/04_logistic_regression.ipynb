{
 "cells": [
  {
   "cell_type": "markdown",
   "id": "6deb1d8e",
   "metadata": {},
   "source": [
    "# 로지스틱 회귀 (Logistic Regression )\n",
    "`04_logistic_regression.ipynb`"
   ]
  },
  {
   "cell_type": "code",
   "execution_count": 2,
   "id": "35e6b630",
   "metadata": {},
   "outputs": [],
   "source": [
    "import pandas as pd\n",
    "import numpy as np\n",
    "import warnings\n",
    "\n",
    "warnings.filterwarnings('ignore')"
   ]
  },
  {
   "cell_type": "code",
   "execution_count": 7,
   "id": "ee9e0928",
   "metadata": {},
   "outputs": [
    {
     "data": {
      "text/html": [
       "<div>\n",
       "<style scoped>\n",
       "    .dataframe tbody tr th:only-of-type {\n",
       "        vertical-align: middle;\n",
       "    }\n",
       "\n",
       "    .dataframe tbody tr th {\n",
       "        vertical-align: top;\n",
       "    }\n",
       "\n",
       "    .dataframe thead th {\n",
       "        text-align: right;\n",
       "    }\n",
       "</style>\n",
       "<table border=\"1\" class=\"dataframe\">\n",
       "  <thead>\n",
       "    <tr style=\"text-align: right;\">\n",
       "      <th></th>\n",
       "      <th>Species</th>\n",
       "      <th>Weight</th>\n",
       "      <th>Length</th>\n",
       "      <th>Diagonal</th>\n",
       "      <th>Height</th>\n",
       "      <th>Width</th>\n",
       "    </tr>\n",
       "  </thead>\n",
       "  <tbody>\n",
       "    <tr>\n",
       "      <th>0</th>\n",
       "      <td>Bream</td>\n",
       "      <td>242.0</td>\n",
       "      <td>25.4</td>\n",
       "      <td>30.0</td>\n",
       "      <td>11.5200</td>\n",
       "      <td>4.0200</td>\n",
       "    </tr>\n",
       "    <tr>\n",
       "      <th>1</th>\n",
       "      <td>Bream</td>\n",
       "      <td>290.0</td>\n",
       "      <td>26.3</td>\n",
       "      <td>31.2</td>\n",
       "      <td>12.4800</td>\n",
       "      <td>4.3056</td>\n",
       "    </tr>\n",
       "    <tr>\n",
       "      <th>2</th>\n",
       "      <td>Bream</td>\n",
       "      <td>340.0</td>\n",
       "      <td>26.5</td>\n",
       "      <td>31.1</td>\n",
       "      <td>12.3778</td>\n",
       "      <td>4.6961</td>\n",
       "    </tr>\n",
       "    <tr>\n",
       "      <th>3</th>\n",
       "      <td>Bream</td>\n",
       "      <td>363.0</td>\n",
       "      <td>29.0</td>\n",
       "      <td>33.5</td>\n",
       "      <td>12.7300</td>\n",
       "      <td>4.4555</td>\n",
       "    </tr>\n",
       "    <tr>\n",
       "      <th>4</th>\n",
       "      <td>Bream</td>\n",
       "      <td>430.0</td>\n",
       "      <td>29.0</td>\n",
       "      <td>34.0</td>\n",
       "      <td>12.4440</td>\n",
       "      <td>5.1340</td>\n",
       "    </tr>\n",
       "  </tbody>\n",
       "</table>\n",
       "</div>"
      ],
      "text/plain": [
       "  Species  Weight  Length  Diagonal   Height   Width\n",
       "0   Bream   242.0    25.4      30.0  11.5200  4.0200\n",
       "1   Bream   290.0    26.3      31.2  12.4800  4.3056\n",
       "2   Bream   340.0    26.5      31.1  12.3778  4.6961\n",
       "3   Bream   363.0    29.0      33.5  12.7300  4.4555\n",
       "4   Bream   430.0    29.0      34.0  12.4440  5.1340"
      ]
     },
     "execution_count": 7,
     "metadata": {},
     "output_type": "execute_result"
    }
   ],
   "source": [
    "fish_df = pd.read_csv('./fish_data.csv')\n",
    "fish_df.head()"
   ]
  },
  {
   "cell_type": "code",
   "execution_count": 15,
   "id": "d7d33af1",
   "metadata": {},
   "outputs": [
    {
     "data": {
      "text/plain": [
       "119"
      ]
     },
     "execution_count": 15,
     "metadata": {},
     "output_type": "execute_result"
    }
   ],
   "source": [
    "# 데이터셋 분리\n",
    "X = fish_df[['Weight', 'Length', 'Diagonal', 'Height', 'Width']].to_numpy()\n",
    "y = fish_df['Species'].to_numpy()\n",
    "\n",
    "from sklearn.model_selection import train_test_split\n",
    "\n",
    "X_train, X_test, y_train, y_test = train_test_split(X, y, random_state=42)\n",
    "len(X_train)\n"
   ]
  },
  {
   "cell_type": "code",
   "execution_count": 16,
   "id": "401e0a36",
   "metadata": {},
   "outputs": [],
   "source": [
    "# 스케일링 (훈련 셋에서 사용한 기준으로 테스트셋을 스케일링 해야함!)\n",
    "from sklearn.preprocessing import StandardScaler\n",
    "\n",
    "ss = StandardScaler()\n",
    "ss.fit(X_train)\n",
    "X_train = ss.transform(X_train)\n",
    "X_test = ss.transform(X_test)"
   ]
  },
  {
   "cell_type": "code",
   "execution_count": 38,
   "id": "d3761bc8",
   "metadata": {},
   "outputs": [
    {
     "data": {
      "text/plain": [
       "(0.8907563025210085, 0.85)"
      ]
     },
     "execution_count": 38,
     "metadata": {},
     "output_type": "execute_result"
    }
   ],
   "source": [
    "from sklearn.neighbors import KNeighborsClassifier\n",
    "\n",
    "# 주변 3개의 생선을 보고 확률을 계산\n",
    "kn = KNeighborsClassifier(n_neighbors=3)\n",
    "kn.fit(X_train, y_train)\n",
    "\n",
    "kn.score(X_train, y_train), kn.score(X_test, y_test)"
   ]
  },
  {
   "cell_type": "code",
   "execution_count": 39,
   "id": "8aef7037",
   "metadata": {},
   "outputs": [
    {
     "name": "stdout",
     "output_type": "stream",
     "text": [
      "['Bream' 'Parkki' 'Perch' 'Pike' 'Roach' 'Smelt' 'Whitefish']\n",
      "['Perch' 'Smelt' 'Pike' 'Perch' 'Perch']\n"
     ]
    }
   ],
   "source": [
    "# KN분류기가 분류해내는 클래스 목록\n",
    "print(kn.classes_)\n",
    "# 테스트셋에서 앞 5개 데이터를 예측해라\n",
    "print(kn.predict(X_test[:5]))"
   ]
  },
  {
   "cell_type": "code",
   "execution_count": 59,
   "id": "dcc5e013",
   "metadata": {},
   "outputs": [
    {
     "data": {
      "text/plain": [
       "array([[0., 0., 0., 1., 0., 0., 0.],\n",
       "       [0., 0., 0., 1., 0., 0., 0.],\n",
       "       [0., 0., 0., 1., 0., 0., 0.],\n",
       "       [0., 0., 0., 1., 0., 0., 0.],\n",
       "       [0., 0., 0., 1., 0., 0., 0.]])"
      ]
     },
     "execution_count": 59,
     "metadata": {},
     "output_type": "execute_result"
    }
   ],
   "source": [
    "# 테스트 데이터 5개가 특정 생선일 확률\n",
    "kn.predict_proba(X_test[:5])"
   ]
  },
  {
   "cell_type": "markdown",
   "id": "79242928",
   "metadata": {},
   "source": [
    "## 로지스틱 회귀\n",
    "확률을 구할 때 시그모이드 함수를 사용해서 0~1로 변환"
   ]
  },
  {
   "cell_type": "markdown",
   "id": "0a937bf2",
   "metadata": {},
   "source": [
    "### 로지스틱 회귀로 이진분류 (빙어, 도미)"
   ]
  },
  {
   "cell_type": "code",
   "execution_count": null,
   "id": "0d20bb18",
   "metadata": {},
   "outputs": [
    {
     "data": {
      "image/png": "[encoded data removed]",
      "text/plain": [
       "<Figure size 640x480 with 1 Axes>"
      ]
     },
     "metadata": {},
     "output_type": "display_data"
    }
   ],
   "source": [
    "import matplotlib.pyplot as plt\n",
    "\n",
    "# 시그모이드 함수(모든 x를 0 ~ 1 사이 값으로 변환)\n",
    "z = np.arange(-5, 5, 0.1)\n",
    "phi = 1 / (1 + np.exp(-z))\n",
    "plt.plot(z, phi)\n",
    "plt.show()"
   ]
  },
  {
   "cell_type": "code",
   "execution_count": null,
   "id": "b6ab9378",
   "metadata": {},
   "outputs": [
    {
     "name": "stdout",
     "output_type": "stream",
     "text": [
      "['Bream' 'Smelt' 'Bream' 'Bream' 'Bream' 'Smelt' 'Bream' 'Bream' 'Bream'\n",
      " 'Bream' 'Bream' 'Bream' 'Bream' 'Smelt' 'Bream' 'Smelt' 'Smelt' 'Bream'\n",
      " 'Bream' 'Bream' 'Bream' 'Bream' 'Bream' 'Bream' 'Bream' 'Smelt' 'Bream'\n",
      " 'Smelt' 'Smelt' 'Bream' 'Smelt' 'Bream' 'Bream']\n"
     ]
    }
   ],
   "source": [
    "X_train, X_test, y_train, y_test = train_test_split(X, y, random_state=42)\n",
    "\n",
    "ss = StandardScaler()\n",
    "ss.fit(X_train)\n",
    "X_train_s = ss.transform(X_train)\n",
    "X_test_s = ss.transform(X_test)\n",
    "\n",
    "\n",
    "index = (y_train == 'Bream') | (y_train == 'Smelt')\n",
    "\n",
    "X_bream_smelt_train = X_train_s[index]\n",
    "y_bream_smelt_train = y_train[index]"
   ]
  },
  {
   "cell_type": "code",
   "execution_count": 80,
   "id": "f0ac9e5f",
   "metadata": {},
   "outputs": [
    {
     "name": "stdout",
     "output_type": "stream",
     "text": [
      "=== 방정식 기울기, 절편 결과 : [[-0.40451732 -0.57582787 -0.66248158 -1.01329614 -0.73123131]] / [-2.16172774]\n",
      "\n",
      " 분류해낼 클래스 두개 (abc순) -> ['Bream' 'Smelt']\n",
      "['Bream' 'Smelt' 'Bream' 'Bream' 'Bream']\n",
      "1.0\n",
      "\n",
      "=== 실제z값 ===\n",
      "[-6.02991358  3.57043428 -5.26630496 -4.24382314 -6.06135688]\n",
      "\n",
      "=== 시그모이드 함수 통과 후 값 (직접확인) ===\n",
      "[0.00239993 0.97262675 0.00513614 0.01414953 0.00232581]\n",
      "\n",
      "=== lr 이 바로 계산해준 값 ===\n",
      "[[0.99760007 0.00239993]\n",
      " [0.02737325 0.97262675]\n",
      " [0.99486386 0.00513614]\n",
      " [0.98585047 0.01414953]\n",
      " [0.99767419 0.00232581]]\n"
     ]
    }
   ],
   "source": [
    "from sklearn.linear_model import LogisticRegression\n",
    "\n",
    "lr = LogisticRegression()\n",
    "# 로지스틱회귀 학습 -> 방정식 만들기 -> 두개중 하나로 분류해야 함 -> abc순 뒤에걸로 분류할 점수를 계산하는 식\n",
    "lr.fit(X_bream_smelt_train, y_bream_smelt_train)\n",
    "print(f'=== 방정식 기울기, 절편 결과 : {lr.coef_} / {lr.intercept_}')\n",
    "# 분류하는 클래스 명\n",
    "print(f'\\n 분류해낼 클래스 두개 (abc순) -> {lr.classes_}')\n",
    "\n",
    "# 도미/빙어 예측 결과\n",
    "print(lr.predict(X_bream_smelt_train[:5]))\n",
    "print(lr.score(X_bream_smelt_train, y_bream_smelt_train))\n",
    "\n",
    "# 실제 z값\n",
    "descions = lr.decision_function(X_bream_smelt_train[:5])\n",
    "print(f'\\n=== 실제z값 ===')\n",
    "print(descions)\n",
    "\n",
    "# 직접 시그모이드 통과시키기\n",
    "from scipy.special import expit\n",
    "print('\\n=== 시그모이드 함수 통과 후 값 (직접확인) ===')\n",
    "print(expit(descions))\n",
    "\n",
    "# 바로 계산된 결과\n",
    "print('\\n=== lr 이 바로 계산해준 값 ===')\n",
    "print(lr.predict_proba(X_bream_smelt_train[:5]))\n",
    "\n"
   ]
  },
  {
   "cell_type": "markdown",
   "id": "89482d6b",
   "metadata": {},
   "source": [
    "### 로지스틱 회귀로 다중분류 (생선 7종)"
   ]
  },
  {
   "cell_type": "code",
   "execution_count": null,
   "id": "fcf8ebd7",
   "metadata": {},
   "outputs": [],
   "source": [
    "# 소프트맥스 함수"
   ]
  },
  {
   "cell_type": "code",
   "execution_count": 82,
   "id": "ce21088a",
   "metadata": {},
   "outputs": [
    {
     "name": "stdout",
     "output_type": "stream",
     "text": [
      "0.9327731092436975\n",
      "0.925\n"
     ]
    }
   ],
   "source": [
    "# 2진분류 vs 다중분류 에 따라 내부 동작이 다름\n",
    "\n",
    "# C=규제, max_iter=반복횟수의 제한\n",
    "lr = LogisticRegression(C=20, max_iter=1000)\n",
    "\n",
    "lr.fit(X_train_s, y_train)\n",
    "# 훈련, 테스트 점수\n",
    "print(lr.score(X_train_s, y_train))\n",
    "print(lr.score(X_test_s, y_test))"
   ]
  },
  {
   "cell_type": "code",
   "execution_count": 86,
   "id": "0cf8cd75",
   "metadata": {},
   "outputs": [
    {
     "name": "stdout",
     "output_type": "stream",
     "text": [
      "['Perch' 'Smelt' 'Pike' 'Roach' 'Perch']\n",
      "['Bream' 'Parkki' 'Perch' 'Pike' 'Roach' 'Smelt' 'Whitefish']\n",
      "[[0.    0.014 0.842 0.    0.135 0.007 0.003]\n",
      " [0.    0.003 0.044 0.    0.007 0.946 0.   ]\n",
      " [0.    0.    0.034 0.934 0.015 0.016 0.   ]\n",
      " [0.011 0.034 0.305 0.006 0.567 0.    0.076]\n",
      " [0.    0.    0.904 0.002 0.089 0.002 0.001]]\n"
     ]
    }
   ],
   "source": [
    "print(lr.predict(X_test_s[:5]))\n",
    "\n",
    "# 분류의 근거 (확률)\n",
    "print(lr.classes_)\n",
    "print(np.round(lr.predict_proba(X_test_s[:5]), decimals=3))"
   ]
  },
  {
   "cell_type": "code",
   "execution_count": null,
   "id": "af1a5db5",
   "metadata": {},
   "outputs": [
    {
     "data": {
      "text/plain": [
       "array([[-1.50605455, -1.03747913,  2.60919713,  7.69422739, -1.18603342],\n",
       "       [ 0.19200047, -1.99988812, -3.79617725,  6.50312639, -2.00022754],\n",
       "       [ 3.55793539,  6.36988929, -8.52233732, -5.75397233,  3.79233438],\n",
       "       [-0.11453308,  3.61060121,  3.94464503, -3.62243904, -1.7598168 ],\n",
       "       [-1.40843717, -6.09242191,  5.28629633, -0.86696569,  1.84518455],\n",
       "       [-1.33419952,  1.48153392,  1.38217547, -5.6602348 , -4.39228963],\n",
       "       [ 0.61328846, -2.33223527, -0.90379939,  1.70625807,  3.70084846]])"
      ]
     },
     "execution_count": 89,
     "metadata": {},
     "output_type": "execute_result"
    }
   ],
   "source": [
    "# 각 생선별 z값 구하는 함수의 계수 확인\n",
    "lr.coef_"
   ]
  },
  {
   "cell_type": "code",
   "execution_count": 92,
   "id": "d16f0f1b",
   "metadata": {},
   "outputs": [
    {
     "data": {
      "text/plain": [
       "array([[ -6.51,   1.04,   5.17,  -2.76,   3.34,   0.35,  -0.63],\n",
       "       [-10.88,   1.94,   4.78,  -2.42,   2.99,   7.84,  -4.25],\n",
       "       [ -4.34,  -6.24,   3.17,   6.48,   2.36,   2.43,  -3.87],\n",
       "       [ -0.69,   0.45,   2.64,  -1.21,   3.26,  -5.7 ,   1.26],\n",
       "       [ -6.4 ,  -1.99,   5.82,  -0.13,   3.5 ,  -0.09,  -0.7 ]])"
      ]
     },
     "execution_count": 92,
     "metadata": {},
     "output_type": "execute_result"
    }
   ],
   "source": [
    "decisions = lr.decision_function(X_test_s[:5])\n",
    "np.round(decisions, decimals=2)"
   ]
  }
 ],
 "metadata": {
  "kernelspec": {
   "display_name": "Python 3",
   "language": "python",
   "name": "python3"
  },
  "language_info": {
   "codemirror_mode": {
    "name": "ipython",
    "version": 3
   },
   "file_extension": ".py",
   "mimetype": "text/x-python",
   "name": "python",
   "nbconvert_exporter": "python",
   "pygments_lexer": "ipython3",
   "version": "3.13.2"
  }
 },
 "nbformat": 4,
 "nbformat_minor": 5
}
