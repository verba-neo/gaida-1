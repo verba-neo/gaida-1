{
 "cells": [
  {
   "cell_type": "markdown",
   "id": "ecf9af94",
   "metadata": {},
   "source": [
    "# Descision Tree\n",
    "`05_descision_tree.ipynb`"
   ]
  },
  {
   "cell_type": "code",
   "execution_count": null,
   "id": "ce27fff6",
   "metadata": {},
   "outputs": [],
   "source": [
    "import pandas as pd\n",
    "import numpy as np\n",
    "import matplotlib.pyplot as plt\n",
    "import warnings\n",
    "\n",
    "warnings.filterwarnings('ignore')\n",
    "\n",
    "wine = pd.read_csv('./wine.csv')\n",
    "wine.head()\n",
    "wine.info()\n",
    "wine.describe()"
   ]
  },
  {
   "cell_type": "code",
   "execution_count": null,
   "id": "6825d1e9",
   "metadata": {},
   "outputs": [],
   "source": [
    "from sklearn.model_selection import train_test_split\n",
    "\n",
    "# 데이터 분리\n",
    "X = wine[['alcohol', 'sugar', 'pH']].to_numpy()\n",
    "y = wine['class'].to_numpy()\n",
    "\n",
    "# 훈련:테스트 = 8:2\n",
    "X_train, X_test, y_train, y_test = train_test_split(X, y, test_size=0.2, random_state=42)\n",
    "\n",
    "X_train.shape, X_test.shape"
   ]
  },
  {
   "cell_type": "code",
   "execution_count": null,
   "id": "b63c2e48",
   "metadata": {},
   "outputs": [],
   "source": [
    "from sklearn.preprocessing import StandardScaler\n",
    "\n",
    "ss = StandardScaler()\n",
    "X_train_scaled = ss.fit_transform(X_train)\n",
    "X_test_scaled = ss.transform(X_test)"
   ]
  },
  {
   "cell_type": "code",
   "execution_count": null,
   "id": "c1b12dba",
   "metadata": {},
   "outputs": [],
   "source": [
    "from sklearn.linear_model import LogisticRegression\n",
    "\n",
    "lr = LogisticRegression()\n",
    "lr.fit(X_train_scaled, y_train)\n",
    "\n",
    "print('훈련점수: ', lr.score(X_train_scaled, y_train))\n",
    "print('테스트점수: ', lr.score(X_test_scaled, y_test))\n",
    "\n",
    "print(lr.classes_)\n",
    "lr.predict_proba(X_test_scaled[:5])\n",
    "\n",
    "print(lr.coef_, lr.intercept_)"
   ]
  },
  {
   "cell_type": "code",
   "execution_count": null,
   "id": "d83d0245",
   "metadata": {},
   "outputs": [],
   "source": [
    "from sklearn.tree import DecisionTreeClassifier, DecisionTreeRegressor\n",
    "\n",
    "dt = DecisionTreeClassifier(random_state=42)\n",
    "dt.fit(X_train_scaled, y_train)\n",
    "\n",
    "print('훈련점수: ', dt.score(X_train_scaled, y_train))\n",
    "print('테스트점수: ', dt.score(X_test_scaled, y_test))"
   ]
  },
  {
   "cell_type": "code",
   "execution_count": null,
   "id": "a09f3b2a",
   "metadata": {},
   "outputs": [],
   "source": [
    "from sklearn.tree import plot_tree\n",
    "\n",
    "# 지니불순도 1 - (음성클래스비율^2 + 양성클래스비율^2)\n",
    "gini = 1 - ( (1258/5197)**2 + (3939/5197)**2)\n",
    "print(gini)\n",
    "\n",
    "plt.figure(figsize=(12,10))\n",
    "plot_tree(dt, max_depth=2, filled=True, feature_names=['alcohol', 'sugar', 'pH'])\n",
    "plt.show()"
   ]
  },
  {
   "cell_type": "code",
   "execution_count": null,
   "id": "96d0a496",
   "metadata": {},
   "outputs": [],
   "source": [
    "dt = DecisionTreeClassifier(max_depth=3, random_state=42)\n",
    "dt.fit(X_train, y_train)\n",
    "print(dt.feature_importances_)\n",
    "print('훈련점수: ', dt.score(X_train, y_train))\n",
    "print('테스트점수: ', dt.score(X_test, y_test))\n",
    "\n",
    "\n",
    "plt.figure(figsize=(20, 15))\n",
    "plot_tree(dt, filled=True, feature_names=['alcohol', 'sugar', 'pH'])\n",
    "plt.show()"
   ]
  },
  {
   "cell_type": "markdown",
   "id": "d9bbf9b1",
   "metadata": {},
   "source": [
    "## 교차 검증 (Cross Validation)\n",
    "\n",
    "테스트 셋은 모델 검증 마지막 단계에서 1번만 확인."
   ]
  },
  {
   "cell_type": "code",
   "execution_count": null,
   "id": "1c851861",
   "metadata": {},
   "outputs": [],
   "source": [
    "# 훈련셋 (sub) | 검증셋 (val) | 테스트셋 (test)\n",
    "# 80%                 20%\n",
    "# 60%     20%         20%"
   ]
  },
  {
   "cell_type": "code",
   "execution_count": null,
   "id": "907c73ae",
   "metadata": {},
   "outputs": [],
   "source": [
    "wine = pd.read_csv('./wine.csv')\n",
    "X = wine[['alcohol', 'sugar', 'pH']]\n",
    "y = wine['class']"
   ]
  },
  {
   "cell_type": "code",
   "execution_count": null,
   "id": "32575396",
   "metadata": {},
   "outputs": [],
   "source": [
    "X_train, X_test, y_train, y_test = train_test_split(X, y, test_size=0.2, random_state=42)"
   ]
  },
  {
   "cell_type": "code",
   "execution_count": null,
   "id": "d63b8f71",
   "metadata": {},
   "outputs": [],
   "source": [
    "# 이 부분은 뒤에 나올 cross_validate 를 수동으로 해본것! 실제로 우리가 실행하진 않을것\n",
    "X_sub, X_val, y_sub, y_val = train_test_split(X_train, y_train, test_size=0.25, random_state=42)"
   ]
  },
  {
   "cell_type": "code",
   "execution_count": null,
   "id": "af6ccf8c",
   "metadata": {},
   "outputs": [],
   "source": [
    "dt = DecisionTreeClassifier(random_state=42)\n",
    "dt.fit(X_sub, y_sub)\n",
    "print('훈련: ', dt.score(X_sub, y_sub))\n",
    "print('검증: ', dt.score(X_val, y_val))"
   ]
  },
  {
   "cell_type": "code",
   "execution_count": null,
   "id": "6b196376",
   "metadata": {},
   "outputs": [],
   "source": [
    "# K-Fold Cross Validation (데이터를 쪼개서 훈련-검증 데이터를 바꿔가며 검증 진행 -> 점수 평균)\n",
    "from sklearn.model_selection import cross_validate\n",
    "\n",
    "scores = cross_validate(dt, X_train, y_train)\n",
    "display(scores)\n",
    "print(np.mean(scores['test_score']))"
   ]
  },
  {
   "cell_type": "code",
   "execution_count": null,
   "id": "a4c27d0e",
   "metadata": {},
   "outputs": [],
   "source": [
    "# 폴드 기본값 5가 아닌 다른 값을 쓰고 싶을 경우\n",
    "from sklearn.model_selection import StratifiedKFold\n",
    "#                                       접기 전에 최초 1회 셔플링    \n",
    "splitter = StratifiedKFold(n_splits=10, shuffle=True, random_state=42)\n",
    "scores = cross_validate(dt, X_train, y_train, cv=splitter)\n",
    "print(np.mean(scores['test_score']))"
   ]
  },
  {
   "cell_type": "markdown",
   "id": "cdc1afdd",
   "metadata": {},
   "source": [
    "## 하이퍼 파라미터 튜닝\n",
    "1. GridSearch 을 진행할 하이퍼 파라미터 선택\n",
    "2. 그리드 서치 수행(fit)\n",
    "3. 최적 조합을 찾고, `gs` 객체에 저장됨.\n",
    "4. 그리드 서치는 최상의 매개변수에서, 전체 훈련 세트를 사용해 최종 모델을 훈련"
   ]
  },
  {
   "cell_type": "code",
   "execution_count": null,
   "id": "1219dfe4",
   "metadata": {},
   "outputs": [],
   "source": [
    "from sklearn.model_selection import GridSearchCV\n",
    "\n",
    "params = {\n",
    "    'min_impurity_decrease': [0.0001, 0.0002, 0.0003, 0.0004, 0.0005, 0.0006],\n",
    "}\n",
    "                  \n",
    "gs = GridSearchCV(\n",
    "    DecisionTreeClassifier(random_state=42),  # 모델\n",
    "    param_grid=params,  # 확인할 하이퍼파라미터의 이름: 값들\n",
    "    n_jobs=-1,  # CPU 최대 코어\n",
    ")\n",
    "\n",
    "gs.fit(X_train, y_train)\n",
    "\n",
    "# Grid Search 결과 가장 좋은 파라미터 조합으로 모델 만들기\n",
    "print(gs.best_params_, gs.cv_results_['mean_test_score'])\n",
    "\n",
    "dt = gs.best_estimator_\n",
    "dt.score(X_train, y_train)"
   ]
  },
  {
   "cell_type": "code",
   "execution_count": null,
   "id": "f7731d2d",
   "metadata": {},
   "outputs": [],
   "source": [
    "params = {\n",
    "    # 노드 분할을 위한 최소 불순도\n",
    "    'min_impurity_decrease': np.arange(0.0001, 0.001, 0.0001),\n",
    "    # 트리 깊이\n",
    "    'max_depth': range(5, 20, 1),\n",
    "    # 노드를 나누기 위한 최소 샘플 수\n",
    "    'min_samples_split': range(2, 100, 10),\n",
    "}\n",
    "\n",
    "gs = GridSearchCV(DecisionTreeClassifier(random_state=42), params, n_jobs=-1)\n",
    "gs.fit(X_train, y_train)\n",
    "\n",
    "print(gs.best_params_)\n",
    "print(gs.best_score_)"
   ]
  },
  {
   "cell_type": "code",
   "execution_count": null,
   "id": "08b50c8c",
   "metadata": {},
   "outputs": [],
   "source": [
    "# 내부 교차검증 결과 가장 높은 평균 점수\n",
    "print(np.max(gs.cv_results_['mean_test_score']))\n",
    "print(gs.best_score_)\n",
    "# 모든 하이퍼파라미터 교차검증 끝에 찾은 학습이 끝난 최고의 모델\n",
    "dt_best = gs.best_estimator_\n",
    "# 로 아껴놨던 테스트 진행 -> 점수\n",
    "dt_best.score(X_test, y_test)\n"
   ]
  },
  {
   "cell_type": "code",
   "execution_count": null,
   "id": "9e1abf1d",
   "metadata": {},
   "outputs": [],
   "source": [
    "from scipy.stats import uniform, randint\n",
    "\n",
    "# 주어진 범위에서 고르게 값을 뽑는다.(randint->정수, uniform->실수)\n",
    "rgen = randint(0, 10)\n",
    "print(rgen.rvs(10))\n",
    "\n",
    "print(np.unique(rgen.rvs(1000), return_counts=True))\n",
    "\n",
    "ugen = uniform(0, 1)\n",
    "print(ugen.rvs(10))"
   ]
  },
  {
   "cell_type": "code",
   "execution_count": null,
   "id": "0dac5f83",
   "metadata": {},
   "outputs": [],
   "source": [
    "params = {\n",
    "    # 노드 분할을 위한 최소 불순도\n",
    "    'min_impurity_decrease': uniform(0.0001, 0.001),\n",
    "    # 트리 깊이\n",
    "    'max_depth': randint(10, 50),\n",
    "    # 노드를 나누기 위한 최소 샘플 수\n",
    "    'min_samples_split': randint(2, 25),\n",
    "    # 리프 노드 개수 최소값\n",
    "    'min_samples_leaf': randint(1, 25),\n",
    "}"
   ]
  },
  {
   "cell_type": "code",
   "execution_count": null,
   "id": "4f97fd9b",
   "metadata": {},
   "outputs": [],
   "source": [
    "from sklearn.model_selection import RandomizedSearchCV\n",
    "\n",
    "gs = RandomizedSearchCV(\n",
    "    DecisionTreeClassifier(random_state=42),\n",
    "    params,\n",
    "    n_iter=1000,\n",
    "    n_jobs=-1,\n",
    "    random_state=42\n",
    ")\n",
    "\n",
    "gs.fit(X_train, y_train)\n",
    "print(gs.best_params_)"
   ]
  },
  {
   "cell_type": "code",
   "execution_count": null,
   "id": "e58bdbe4",
   "metadata": {},
   "outputs": [],
   "source": [
    "gs.best_score_\n",
    "# 결정트리 모델 인스턴스\n",
    "dt = gs.best_estimator_\n",
    "\n",
    "print('최종 테스트 결과: ', dt.score(X_test, y_test))"
   ]
  }
 ],
 "metadata": {
  "kernelspec": {
   "display_name": "Python 3",
   "language": "python",
   "name": "python3"
  },
  "language_info": {
   "codemirror_mode": {
    "name": "ipython",
    "version": 3
   },
   "file_extension": ".py",
   "mimetype": "text/x-python",
   "name": "python",
   "nbconvert_exporter": "python",
   "pygments_lexer": "ipython3",
   "version": "3.13.2"
  }
 },
 "nbformat": 4,
 "nbformat_minor": 5
}
