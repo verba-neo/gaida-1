{
 "cells": [
  {
   "cell_type": "markdown",
   "id": "05fba010",
   "metadata": {},
   "source": [
    "# 특성 공학 (Featrue Engineering)\n"
   ]
  },
  {
   "cell_type": "code",
   "execution_count": 2,
   "id": "420b37e9",
   "metadata": {},
   "outputs": [],
   "source": [
    "import numpy as np\n",
    "import pandas as pd\n",
    "\n",
    "df = pd.read_csv('./perch.csv')\n",
    "perch_data = df.to_numpy()\n",
    "\n",
    "perch_weight = np.array([5.9, 32.0, 40.0, 51.5, 70.0, 100.0, 78.0, 80.0, 85.0, 85.0, 110.0,\n",
    "       115.0, 125.0, 130.0, 120.0, 120.0, 130.0, 135.0, 110.0, 130.0,\n",
    "       150.0, 145.0, 150.0, 170.0, 225.0, 145.0, 188.0, 180.0, 197.0,\n",
    "       218.0, 300.0, 260.0, 265.0, 250.0, 250.0, 300.0, 320.0, 514.0,\n",
    "       556.0, 840.0, 685.0, 700.0, 700.0, 690.0, 900.0, 650.0, 820.0,\n",
    "       850.0, 900.0, 1015.0, 820.0, 1100.0, 1000.0, 1100.0, 1000.0,\n",
    "       1000.0])"
   ]
  },
  {
   "cell_type": "code",
   "execution_count": 3,
   "id": "b0e05876",
   "metadata": {},
   "outputs": [],
   "source": [
    "from sklearn.model_selection import train_test_split\n",
    "\n",
    "X_train, X_test, y_train, y_test = train_test_split(perch_data, perch_weight, random_state=42)"
   ]
  },
  {
   "cell_type": "code",
   "execution_count": 15,
   "id": "c5a01275",
   "metadata": {},
   "outputs": [
    {
     "name": "stdout",
     "output_type": "stream",
     "text": [
      "[ 9.07538153 69.46401443 38.00385678] -599.1708082981097\n",
      "0.9559326821885706\n",
      "0.8796419177546367\n"
     ]
    }
   ],
   "source": [
    "from sklearn.linear_model import LinearRegression\n",
    "\n",
    "lr = LinearRegression()\n",
    "lr.fit(X_train, y_train)\n",
    "print(lr.coef_, lr.intercept_)\n",
    "print(lr.score(X_train, y_train))\n",
    "print(lr.score(X_test, y_test))"
   ]
  },
  {
   "cell_type": "code",
   "execution_count": null,
   "id": "9c46e3a5",
   "metadata": {},
   "outputs": [
    {
     "data": {
      "text/plain": [
       "array([[ 2.,  3.,  5.,  4.,  6., 10.,  9., 15., 25.]])"
      ]
     },
     "execution_count": 10,
     "metadata": {},
     "output_type": "execute_result"
    }
   ],
   "source": [
    "from sklearn.preprocessing import PolynomialFeatures\n",
    "\n",
    "poly = PolynomialFeatures(include_bias=False)\n",
    "poly.fit([[2, 3, 5]])\n",
    "poly.transform([[2, 3, 5]])"
   ]
  },
  {
   "cell_type": "code",
   "execution_count": 17,
   "id": "e9797af6",
   "metadata": {},
   "outputs": [
    {
     "data": {
      "text/plain": [
       "((42, 9),\n",
       " array(['x0', 'x1', 'x2', 'x0^2', 'x0 x1', 'x0 x2', 'x1^2', 'x1 x2',\n",
       "        'x2^2'], dtype=object))"
      ]
     },
     "execution_count": 17,
     "metadata": {},
     "output_type": "execute_result"
    }
   ],
   "source": [
    "poly = PolynomialFeatures(include_bias=False)\n",
    "X_train_poly = poly.fit_transform(X_train)\n",
    "X_test_poly = poly.fit_transform(X_test)\n",
    "\n",
    "X_train_poly.shape, poly.get_feature_names_out()\n"
   ]
  },
  {
   "cell_type": "code",
   "execution_count": 18,
   "id": "c75f29d7",
   "metadata": {},
   "outputs": [
    {
     "name": "stdout",
     "output_type": "stream",
     "text": [
      "0.9903183436982126\n",
      "0.9714559911594125\n"
     ]
    },
    {
     "data": {
      "text/plain": [
       "(array([  34.80604039,  -88.68430232, -184.11606694,   -2.2696004 ,\n",
       "           8.74890226,    9.41670602,   27.76120631, -119.89306061,\n",
       "          93.68198334]),\n",
       " np.float64(124.06521772229536))"
      ]
     },
     "execution_count": 18,
     "metadata": {},
     "output_type": "execute_result"
    }
   ],
   "source": [
    "lr_p = LinearRegression()\n",
    "lr.fit(X_train_poly, y_train)\n",
    "\n",
    "print(lr.score(X_train_poly, y_train))\n",
    "print(lr.score(X_test_poly, y_test))\n",
    "\n",
    "lr.coef_, lr.intercept_"
   ]
  },
  {
   "cell_type": "code",
   "execution_count": null,
   "id": "e0d2bded",
   "metadata": {},
   "outputs": [
    {
     "data": {
      "text/plain": [
       "-144.40564483377855"
      ]
     },
     "execution_count": 22,
     "metadata": {},
     "output_type": "execute_result"
    }
   ],
   "source": [
    "poly = PolynomialFeatures(degree=5, include_bias=False)\n",
    "X_train_p5 = poly.fit_transform(X_train)\n",
    "X_test_p5 = poly.fit_transform(X_test)\n",
    "X_train_p5.shape\n",
    "# 초 과대 적합(Overfitting) -> 훈련셋에는 완벽한데, 테스트는 망한\n",
    "lr.fit(X_train_p5, y_train)\n",
    "lr.score(X_train_p5, y_train)\n",
    "lr.score(X_test_p5, y_test)"
   ]
  }
 ],
 "metadata": {
  "kernelspec": {
   "display_name": "Python 3",
   "language": "python",
   "name": "python3"
  },
  "language_info": {
   "codemirror_mode": {
    "name": "ipython",
    "version": 3
   },
   "file_extension": ".py",
   "mimetype": "text/x-python",
   "name": "python",
   "nbconvert_exporter": "python",
   "pygments_lexer": "ipython3",
   "version": "3.13.2"
  }
 },
 "nbformat": 4,
 "nbformat_minor": 5
}
